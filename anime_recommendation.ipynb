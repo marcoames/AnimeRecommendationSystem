{
 "cells": [
  {
   "cell_type": "markdown",
   "metadata": {},
   "source": [
    "# Anime Recommendation System\n",
    "## A Jupyter Notebook designed to provide personalized anime recommendations based on user preferences using data from MyAnimelist."
   ]
  },
  {
   "cell_type": "code",
   "execution_count": 105,
   "metadata": {},
   "outputs": [],
   "source": [
    "from sklearn.preprocessing import OneHotEncoder\n",
    "from sklearn.neighbors import NearestNeighbors\n",
    "import pandas as pd\n",
    "import numpy as np\n",
    "from itertools import product\n",
    "from ast import literal_eval\n",
    "from IPython.display import display, HTML\n",
    "import xml.etree.ElementTree as ET\n",
    "from collections import Counter"
   ]
  },
  {
   "cell_type": "code",
   "execution_count": 106,
   "metadata": {},
   "outputs": [
    {
     "data": {
      "text/html": [
       "<div>\n",
       "<style scoped>\n",
       "    .dataframe tbody tr th:only-of-type {\n",
       "        vertical-align: middle;\n",
       "    }\n",
       "\n",
       "    .dataframe tbody tr th {\n",
       "        vertical-align: top;\n",
       "    }\n",
       "\n",
       "    .dataframe thead th {\n",
       "        text-align: right;\n",
       "    }\n",
       "</style>\n",
       "<table border=\"1\" class=\"dataframe\">\n",
       "  <thead>\n",
       "    <tr style=\"text-align: right;\">\n",
       "      <th></th>\n",
       "      <th>mal_id</th>\n",
       "      <th>url</th>\n",
       "      <th>image</th>\n",
       "      <th>trailer</th>\n",
       "      <th>title</th>\n",
       "      <th>title_en</th>\n",
       "      <th>title_jp</th>\n",
       "      <th>title_synonyms</th>\n",
       "      <th>type</th>\n",
       "      <th>source</th>\n",
       "      <th>...</th>\n",
       "      <th>members</th>\n",
       "      <th>favorites</th>\n",
       "      <th>synopsis</th>\n",
       "      <th>season</th>\n",
       "      <th>year</th>\n",
       "      <th>genres</th>\n",
       "      <th>explicit_genres</th>\n",
       "      <th>themes</th>\n",
       "      <th>demographic</th>\n",
       "      <th>studios</th>\n",
       "    </tr>\n",
       "  </thead>\n",
       "  <tbody>\n",
       "    <tr>\n",
       "      <th>0</th>\n",
       "      <td>52991</td>\n",
       "      <td>https://myanimelist.net/anime/52991/Sousou_no_...</td>\n",
       "      <td>https://cdn.myanimelist.net/images/anime/1015/...</td>\n",
       "      <td>https://www.youtube.com/watch?v=ZEkwCGJ3o7M</td>\n",
       "      <td>Sousou no Frieren</td>\n",
       "      <td>Frieren: Beyond Journey's End</td>\n",
       "      <td>葬送のフリーレン</td>\n",
       "      <td>['Frieren at the Funeral']</td>\n",
       "      <td>TV</td>\n",
       "      <td>Manga</td>\n",
       "      <td>...</td>\n",
       "      <td>907857</td>\n",
       "      <td>53529</td>\n",
       "      <td>During their decade-long quest to defeat the D...</td>\n",
       "      <td>fall</td>\n",
       "      <td>2023</td>\n",
       "      <td>['Adventure', 'Drama', 'Fantasy']</td>\n",
       "      <td>[]</td>\n",
       "      <td>[]</td>\n",
       "      <td>['Shounen']</td>\n",
       "      <td>['Madhouse']</td>\n",
       "    </tr>\n",
       "    <tr>\n",
       "      <th>1</th>\n",
       "      <td>5114</td>\n",
       "      <td>https://myanimelist.net/anime/5114/Fullmetal_A...</td>\n",
       "      <td>https://cdn.myanimelist.net/images/anime/1208/...</td>\n",
       "      <td>https://www.youtube.com/watch?v=--IcmZkvL0Q</td>\n",
       "      <td>Fullmetal Alchemist: Brotherhood</td>\n",
       "      <td>Fullmetal Alchemist: Brotherhood</td>\n",
       "      <td>鋼の錬金術師 FULLMETAL ALCHEMIST</td>\n",
       "      <td>['Hagane no Renkinjutsushi: Fullmetal Alchemis...</td>\n",
       "      <td>TV</td>\n",
       "      <td>Manga</td>\n",
       "      <td>...</td>\n",
       "      <td>3420908</td>\n",
       "      <td>228575</td>\n",
       "      <td>After a horrific alchemy experiment goes wrong...</td>\n",
       "      <td>spring</td>\n",
       "      <td>2009</td>\n",
       "      <td>['Action', 'Adventure', 'Drama', 'Fantasy']</td>\n",
       "      <td>[]</td>\n",
       "      <td>['Military']</td>\n",
       "      <td>['Shounen']</td>\n",
       "      <td>['Bones']</td>\n",
       "    </tr>\n",
       "    <tr>\n",
       "      <th>2</th>\n",
       "      <td>9253</td>\n",
       "      <td>https://myanimelist.net/anime/9253/Steins_Gate</td>\n",
       "      <td>https://cdn.myanimelist.net/images/anime/1935/...</td>\n",
       "      <td>https://www.youtube.com/watch?v=27OZc-ku6is</td>\n",
       "      <td>Steins;Gate</td>\n",
       "      <td>Steins;Gate</td>\n",
       "      <td>STEINS;GATE</td>\n",
       "      <td>[]</td>\n",
       "      <td>TV</td>\n",
       "      <td>Visual novel</td>\n",
       "      <td>...</td>\n",
       "      <td>2621367</td>\n",
       "      <td>191530</td>\n",
       "      <td>Eccentric scientist Rintarou Okabe has a never...</td>\n",
       "      <td>spring</td>\n",
       "      <td>2011</td>\n",
       "      <td>['Drama', 'Sci-Fi', 'Suspense']</td>\n",
       "      <td>[]</td>\n",
       "      <td>['Psychological', 'Time Travel']</td>\n",
       "      <td>NaN</td>\n",
       "      <td>['White Fox']</td>\n",
       "    </tr>\n",
       "    <tr>\n",
       "      <th>3</th>\n",
       "      <td>28977</td>\n",
       "      <td>https://myanimelist.net/anime/28977/Gintama°</td>\n",
       "      <td>https://cdn.myanimelist.net/images/anime/3/720...</td>\n",
       "      <td>NaN</td>\n",
       "      <td>Gintama°</td>\n",
       "      <td>Gintama Season 4</td>\n",
       "      <td>銀魂°</td>\n",
       "      <td>[\"Gintama' (2015)\"]</td>\n",
       "      <td>TV</td>\n",
       "      <td>Manga</td>\n",
       "      <td>...</td>\n",
       "      <td>645869</td>\n",
       "      <td>16826</td>\n",
       "      <td>Gintoki, Shinpachi, and Kagura return as the f...</td>\n",
       "      <td>spring</td>\n",
       "      <td>2015</td>\n",
       "      <td>['Action', 'Comedy', 'Sci-Fi']</td>\n",
       "      <td>[]</td>\n",
       "      <td>['Gag Humor', 'Historical', 'Parody', 'Samurai']</td>\n",
       "      <td>['Shounen']</td>\n",
       "      <td>['Bandai Namco Pictures']</td>\n",
       "    </tr>\n",
       "    <tr>\n",
       "      <th>4</th>\n",
       "      <td>38524</td>\n",
       "      <td>https://myanimelist.net/anime/38524/Shingeki_n...</td>\n",
       "      <td>https://cdn.myanimelist.net/images/anime/1517/...</td>\n",
       "      <td>https://www.youtube.com/watch?v=hKHepjfj5Tw</td>\n",
       "      <td>Shingeki no Kyojin Season 3 Part 2</td>\n",
       "      <td>Attack on Titan Season 3 Part 2</td>\n",
       "      <td>進撃の巨人 Season3 Part.2</td>\n",
       "      <td>[]</td>\n",
       "      <td>TV</td>\n",
       "      <td>Manga</td>\n",
       "      <td>...</td>\n",
       "      <td>2349899</td>\n",
       "      <td>59580</td>\n",
       "      <td>Seeking to restore humanity's diminishing hope...</td>\n",
       "      <td>spring</td>\n",
       "      <td>2019</td>\n",
       "      <td>['Action', 'Drama', 'Suspense']</td>\n",
       "      <td>[]</td>\n",
       "      <td>['Gore', 'Military', 'Survival']</td>\n",
       "      <td>['Shounen']</td>\n",
       "      <td>['Wit Studio']</td>\n",
       "    </tr>\n",
       "  </tbody>\n",
       "</table>\n",
       "<p>5 rows × 29 columns</p>\n",
       "</div>"
      ],
      "text/plain": [
       "   mal_id                                                url  \\\n",
       "0   52991  https://myanimelist.net/anime/52991/Sousou_no_...   \n",
       "1    5114  https://myanimelist.net/anime/5114/Fullmetal_A...   \n",
       "2    9253     https://myanimelist.net/anime/9253/Steins_Gate   \n",
       "3   28977       https://myanimelist.net/anime/28977/Gintama°   \n",
       "4   38524  https://myanimelist.net/anime/38524/Shingeki_n...   \n",
       "\n",
       "                                               image  \\\n",
       "0  https://cdn.myanimelist.net/images/anime/1015/...   \n",
       "1  https://cdn.myanimelist.net/images/anime/1208/...   \n",
       "2  https://cdn.myanimelist.net/images/anime/1935/...   \n",
       "3  https://cdn.myanimelist.net/images/anime/3/720...   \n",
       "4  https://cdn.myanimelist.net/images/anime/1517/...   \n",
       "\n",
       "                                       trailer  \\\n",
       "0  https://www.youtube.com/watch?v=ZEkwCGJ3o7M   \n",
       "1  https://www.youtube.com/watch?v=--IcmZkvL0Q   \n",
       "2  https://www.youtube.com/watch?v=27OZc-ku6is   \n",
       "3                                          NaN   \n",
       "4  https://www.youtube.com/watch?v=hKHepjfj5Tw   \n",
       "\n",
       "                                title                          title_en  \\\n",
       "0                   Sousou no Frieren     Frieren: Beyond Journey's End   \n",
       "1    Fullmetal Alchemist: Brotherhood  Fullmetal Alchemist: Brotherhood   \n",
       "2                         Steins;Gate                       Steins;Gate   \n",
       "3                            Gintama°                  Gintama Season 4   \n",
       "4  Shingeki no Kyojin Season 3 Part 2   Attack on Titan Season 3 Part 2   \n",
       "\n",
       "                     title_jp  \\\n",
       "0                    葬送のフリーレン   \n",
       "1  鋼の錬金術師 FULLMETAL ALCHEMIST   \n",
       "2                 STEINS;GATE   \n",
       "3                         銀魂°   \n",
       "4        進撃の巨人 Season3 Part.2   \n",
       "\n",
       "                                      title_synonyms type        source  ...  \\\n",
       "0                         ['Frieren at the Funeral']   TV         Manga  ...   \n",
       "1  ['Hagane no Renkinjutsushi: Fullmetal Alchemis...   TV         Manga  ...   \n",
       "2                                                 []   TV  Visual novel  ...   \n",
       "3                                [\"Gintama' (2015)\"]   TV         Manga  ...   \n",
       "4                                                 []   TV         Manga  ...   \n",
       "\n",
       "   members favorites                                           synopsis  \\\n",
       "0   907857     53529  During their decade-long quest to defeat the D...   \n",
       "1  3420908    228575  After a horrific alchemy experiment goes wrong...   \n",
       "2  2621367    191530  Eccentric scientist Rintarou Okabe has a never...   \n",
       "3   645869     16826  Gintoki, Shinpachi, and Kagura return as the f...   \n",
       "4  2349899     59580  Seeking to restore humanity's diminishing hope...   \n",
       "\n",
       "   season  year                                       genres  explicit_genres  \\\n",
       "0    fall  2023            ['Adventure', 'Drama', 'Fantasy']               []   \n",
       "1  spring  2009  ['Action', 'Adventure', 'Drama', 'Fantasy']               []   \n",
       "2  spring  2011              ['Drama', 'Sci-Fi', 'Suspense']               []   \n",
       "3  spring  2015               ['Action', 'Comedy', 'Sci-Fi']               []   \n",
       "4  spring  2019              ['Action', 'Drama', 'Suspense']               []   \n",
       "\n",
       "                                             themes  demographic  \\\n",
       "0                                                []  ['Shounen']   \n",
       "1                                      ['Military']  ['Shounen']   \n",
       "2                  ['Psychological', 'Time Travel']          NaN   \n",
       "3  ['Gag Humor', 'Historical', 'Parody', 'Samurai']  ['Shounen']   \n",
       "4                  ['Gore', 'Military', 'Survival']  ['Shounen']   \n",
       "\n",
       "                     studios  \n",
       "0               ['Madhouse']  \n",
       "1                  ['Bones']  \n",
       "2              ['White Fox']  \n",
       "3  ['Bandai Namco Pictures']  \n",
       "4             ['Wit Studio']  \n",
       "\n",
       "[5 rows x 29 columns]"
      ]
     },
     "execution_count": 106,
     "metadata": {},
     "output_type": "execute_result"
    }
   ],
   "source": [
    "# Load the dataset\n",
    "anime_data = pd.read_csv('../datasets/anime/anime_data.csv')\n",
    "anime_data.head()"
   ]
  },
  {
   "cell_type": "code",
   "execution_count": 107,
   "metadata": {},
   "outputs": [],
   "source": [
    "# One-hot encode the columns\n",
    "encoder = OneHotEncoder(sparse_output=False)\n",
    "\n",
    "# Encode 'genres' column by combining all genres into one string per row, then applying one-hot encoding\n",
    "genres_encoded = encoder.fit_transform(anime_data[\"genres\"].apply(lambda x: [', '.join(eval(x))]).to_list())\n",
    "\n",
    "# Similarly, encode 'studios' column\n",
    "studios_encoded = encoder.fit_transform(anime_data[\"studios\"].apply(lambda x: [', '.join(eval(x))]).to_list())\n",
    "\n",
    "# Themes \n",
    "themes_encoded = encoder.fit_transform(anime_data[\"themes\"].apply(lambda x: [', '.join(eval(x))]).to_list())\n",
    "\n",
    "# Reshape the demographic data into a 2D array before passing it to the encoder\n",
    "demographic_encoded = encoder.fit_transform(\n",
    "    anime_data[\"demographic\"].apply(lambda x: x if x != 'Unknown' else '').values.reshape(-1, 1)\n",
    ")\n"
   ]
  },
  {
   "cell_type": "code",
   "execution_count": 108,
   "metadata": {},
   "outputs": [],
   "source": [
    "weights = {'genres': 1, \n",
    "           'themes': 1, \n",
    "           'demographic': 0.1,\n",
    "           'studios': 0.1,\n",
    "           'score': 0.05,\n",
    "           'popularity': 0.01}"
   ]
  },
  {
   "cell_type": "code",
   "execution_count": 109,
   "metadata": {},
   "outputs": [],
   "source": [
    "# Combine the encoded genres, studios, and demographic with the numerical columns like 'score' and 'popularity' using the best weights\n",
    "features = pd.concat([\n",
    "    pd.DataFrame(genres_encoded) * weights['genres'], \n",
    "    pd.DataFrame(themes_encoded) * weights['themes'],\n",
    "    pd.DataFrame(demographic_encoded) * weights['demographic'], \n",
    "    pd.DataFrame(studios_encoded) * weights['studios'], \n",
    "    anime_data[\"score\"] * weights['score'], \n",
    "    anime_data[\"popularity\"] * weights['popularity']\n",
    "], axis=1)\n",
    "\n",
    "# Ensure all column names are strings\n",
    "features.columns = features.columns.astype(str)\n"
   ]
  },
  {
   "cell_type": "code",
   "execution_count": 110,
   "metadata": {},
   "outputs": [
    {
     "data": {
      "text/html": [
       "<style>#sk-container-id-6 {\n",
       "  /* Definition of color scheme common for light and dark mode */\n",
       "  --sklearn-color-text: black;\n",
       "  --sklearn-color-line: gray;\n",
       "  /* Definition of color scheme for unfitted estimators */\n",
       "  --sklearn-color-unfitted-level-0: #fff5e6;\n",
       "  --sklearn-color-unfitted-level-1: #f6e4d2;\n",
       "  --sklearn-color-unfitted-level-2: #ffe0b3;\n",
       "  --sklearn-color-unfitted-level-3: chocolate;\n",
       "  /* Definition of color scheme for fitted estimators */\n",
       "  --sklearn-color-fitted-level-0: #f0f8ff;\n",
       "  --sklearn-color-fitted-level-1: #d4ebff;\n",
       "  --sklearn-color-fitted-level-2: #b3dbfd;\n",
       "  --sklearn-color-fitted-level-3: cornflowerblue;\n",
       "\n",
       "  /* Specific color for light theme */\n",
       "  --sklearn-color-text-on-default-background: var(--sg-text-color, var(--theme-code-foreground, var(--jp-content-font-color1, black)));\n",
       "  --sklearn-color-background: var(--sg-background-color, var(--theme-background, var(--jp-layout-color0, white)));\n",
       "  --sklearn-color-border-box: var(--sg-text-color, var(--theme-code-foreground, var(--jp-content-font-color1, black)));\n",
       "  --sklearn-color-icon: #696969;\n",
       "\n",
       "  @media (prefers-color-scheme: dark) {\n",
       "    /* Redefinition of color scheme for dark theme */\n",
       "    --sklearn-color-text-on-default-background: var(--sg-text-color, var(--theme-code-foreground, var(--jp-content-font-color1, white)));\n",
       "    --sklearn-color-background: var(--sg-background-color, var(--theme-background, var(--jp-layout-color0, #111)));\n",
       "    --sklearn-color-border-box: var(--sg-text-color, var(--theme-code-foreground, var(--jp-content-font-color1, white)));\n",
       "    --sklearn-color-icon: #878787;\n",
       "  }\n",
       "}\n",
       "\n",
       "#sk-container-id-6 {\n",
       "  color: var(--sklearn-color-text);\n",
       "}\n",
       "\n",
       "#sk-container-id-6 pre {\n",
       "  padding: 0;\n",
       "}\n",
       "\n",
       "#sk-container-id-6 input.sk-hidden--visually {\n",
       "  border: 0;\n",
       "  clip: rect(1px 1px 1px 1px);\n",
       "  clip: rect(1px, 1px, 1px, 1px);\n",
       "  height: 1px;\n",
       "  margin: -1px;\n",
       "  overflow: hidden;\n",
       "  padding: 0;\n",
       "  position: absolute;\n",
       "  width: 1px;\n",
       "}\n",
       "\n",
       "#sk-container-id-6 div.sk-dashed-wrapped {\n",
       "  border: 1px dashed var(--sklearn-color-line);\n",
       "  margin: 0 0.4em 0.5em 0.4em;\n",
       "  box-sizing: border-box;\n",
       "  padding-bottom: 0.4em;\n",
       "  background-color: var(--sklearn-color-background);\n",
       "}\n",
       "\n",
       "#sk-container-id-6 div.sk-container {\n",
       "  /* jupyter's `normalize.less` sets `[hidden] { display: none; }`\n",
       "     but bootstrap.min.css set `[hidden] { display: none !important; }`\n",
       "     so we also need the `!important` here to be able to override the\n",
       "     default hidden behavior on the sphinx rendered scikit-learn.org.\n",
       "     See: https://github.com/scikit-learn/scikit-learn/issues/21755 */\n",
       "  display: inline-block !important;\n",
       "  position: relative;\n",
       "}\n",
       "\n",
       "#sk-container-id-6 div.sk-text-repr-fallback {\n",
       "  display: none;\n",
       "}\n",
       "\n",
       "div.sk-parallel-item,\n",
       "div.sk-serial,\n",
       "div.sk-item {\n",
       "  /* draw centered vertical line to link estimators */\n",
       "  background-image: linear-gradient(var(--sklearn-color-text-on-default-background), var(--sklearn-color-text-on-default-background));\n",
       "  background-size: 2px 100%;\n",
       "  background-repeat: no-repeat;\n",
       "  background-position: center center;\n",
       "}\n",
       "\n",
       "/* Parallel-specific style estimator block */\n",
       "\n",
       "#sk-container-id-6 div.sk-parallel-item::after {\n",
       "  content: \"\";\n",
       "  width: 100%;\n",
       "  border-bottom: 2px solid var(--sklearn-color-text-on-default-background);\n",
       "  flex-grow: 1;\n",
       "}\n",
       "\n",
       "#sk-container-id-6 div.sk-parallel {\n",
       "  display: flex;\n",
       "  align-items: stretch;\n",
       "  justify-content: center;\n",
       "  background-color: var(--sklearn-color-background);\n",
       "  position: relative;\n",
       "}\n",
       "\n",
       "#sk-container-id-6 div.sk-parallel-item {\n",
       "  display: flex;\n",
       "  flex-direction: column;\n",
       "}\n",
       "\n",
       "#sk-container-id-6 div.sk-parallel-item:first-child::after {\n",
       "  align-self: flex-end;\n",
       "  width: 50%;\n",
       "}\n",
       "\n",
       "#sk-container-id-6 div.sk-parallel-item:last-child::after {\n",
       "  align-self: flex-start;\n",
       "  width: 50%;\n",
       "}\n",
       "\n",
       "#sk-container-id-6 div.sk-parallel-item:only-child::after {\n",
       "  width: 0;\n",
       "}\n",
       "\n",
       "/* Serial-specific style estimator block */\n",
       "\n",
       "#sk-container-id-6 div.sk-serial {\n",
       "  display: flex;\n",
       "  flex-direction: column;\n",
       "  align-items: center;\n",
       "  background-color: var(--sklearn-color-background);\n",
       "  padding-right: 1em;\n",
       "  padding-left: 1em;\n",
       "}\n",
       "\n",
       "\n",
       "/* Toggleable style: style used for estimator/Pipeline/ColumnTransformer box that is\n",
       "clickable and can be expanded/collapsed.\n",
       "- Pipeline and ColumnTransformer use this feature and define the default style\n",
       "- Estimators will overwrite some part of the style using the `sk-estimator` class\n",
       "*/\n",
       "\n",
       "/* Pipeline and ColumnTransformer style (default) */\n",
       "\n",
       "#sk-container-id-6 div.sk-toggleable {\n",
       "  /* Default theme specific background. It is overwritten whether we have a\n",
       "  specific estimator or a Pipeline/ColumnTransformer */\n",
       "  background-color: var(--sklearn-color-background);\n",
       "}\n",
       "\n",
       "/* Toggleable label */\n",
       "#sk-container-id-6 label.sk-toggleable__label {\n",
       "  cursor: pointer;\n",
       "  display: block;\n",
       "  width: 100%;\n",
       "  margin-bottom: 0;\n",
       "  padding: 0.5em;\n",
       "  box-sizing: border-box;\n",
       "  text-align: center;\n",
       "}\n",
       "\n",
       "#sk-container-id-6 label.sk-toggleable__label-arrow:before {\n",
       "  /* Arrow on the left of the label */\n",
       "  content: \"▸\";\n",
       "  float: left;\n",
       "  margin-right: 0.25em;\n",
       "  color: var(--sklearn-color-icon);\n",
       "}\n",
       "\n",
       "#sk-container-id-6 label.sk-toggleable__label-arrow:hover:before {\n",
       "  color: var(--sklearn-color-text);\n",
       "}\n",
       "\n",
       "/* Toggleable content - dropdown */\n",
       "\n",
       "#sk-container-id-6 div.sk-toggleable__content {\n",
       "  max-height: 0;\n",
       "  max-width: 0;\n",
       "  overflow: hidden;\n",
       "  text-align: left;\n",
       "  /* unfitted */\n",
       "  background-color: var(--sklearn-color-unfitted-level-0);\n",
       "}\n",
       "\n",
       "#sk-container-id-6 div.sk-toggleable__content.fitted {\n",
       "  /* fitted */\n",
       "  background-color: var(--sklearn-color-fitted-level-0);\n",
       "}\n",
       "\n",
       "#sk-container-id-6 div.sk-toggleable__content pre {\n",
       "  margin: 0.2em;\n",
       "  border-radius: 0.25em;\n",
       "  color: var(--sklearn-color-text);\n",
       "  /* unfitted */\n",
       "  background-color: var(--sklearn-color-unfitted-level-0);\n",
       "}\n",
       "\n",
       "#sk-container-id-6 div.sk-toggleable__content.fitted pre {\n",
       "  /* unfitted */\n",
       "  background-color: var(--sklearn-color-fitted-level-0);\n",
       "}\n",
       "\n",
       "#sk-container-id-6 input.sk-toggleable__control:checked~div.sk-toggleable__content {\n",
       "  /* Expand drop-down */\n",
       "  max-height: 200px;\n",
       "  max-width: 100%;\n",
       "  overflow: auto;\n",
       "}\n",
       "\n",
       "#sk-container-id-6 input.sk-toggleable__control:checked~label.sk-toggleable__label-arrow:before {\n",
       "  content: \"▾\";\n",
       "}\n",
       "\n",
       "/* Pipeline/ColumnTransformer-specific style */\n",
       "\n",
       "#sk-container-id-6 div.sk-label input.sk-toggleable__control:checked~label.sk-toggleable__label {\n",
       "  color: var(--sklearn-color-text);\n",
       "  background-color: var(--sklearn-color-unfitted-level-2);\n",
       "}\n",
       "\n",
       "#sk-container-id-6 div.sk-label.fitted input.sk-toggleable__control:checked~label.sk-toggleable__label {\n",
       "  background-color: var(--sklearn-color-fitted-level-2);\n",
       "}\n",
       "\n",
       "/* Estimator-specific style */\n",
       "\n",
       "/* Colorize estimator box */\n",
       "#sk-container-id-6 div.sk-estimator input.sk-toggleable__control:checked~label.sk-toggleable__label {\n",
       "  /* unfitted */\n",
       "  background-color: var(--sklearn-color-unfitted-level-2);\n",
       "}\n",
       "\n",
       "#sk-container-id-6 div.sk-estimator.fitted input.sk-toggleable__control:checked~label.sk-toggleable__label {\n",
       "  /* fitted */\n",
       "  background-color: var(--sklearn-color-fitted-level-2);\n",
       "}\n",
       "\n",
       "#sk-container-id-6 div.sk-label label.sk-toggleable__label,\n",
       "#sk-container-id-6 div.sk-label label {\n",
       "  /* The background is the default theme color */\n",
       "  color: var(--sklearn-color-text-on-default-background);\n",
       "}\n",
       "\n",
       "/* On hover, darken the color of the background */\n",
       "#sk-container-id-6 div.sk-label:hover label.sk-toggleable__label {\n",
       "  color: var(--sklearn-color-text);\n",
       "  background-color: var(--sklearn-color-unfitted-level-2);\n",
       "}\n",
       "\n",
       "/* Label box, darken color on hover, fitted */\n",
       "#sk-container-id-6 div.sk-label.fitted:hover label.sk-toggleable__label.fitted {\n",
       "  color: var(--sklearn-color-text);\n",
       "  background-color: var(--sklearn-color-fitted-level-2);\n",
       "}\n",
       "\n",
       "/* Estimator label */\n",
       "\n",
       "#sk-container-id-6 div.sk-label label {\n",
       "  font-family: monospace;\n",
       "  font-weight: bold;\n",
       "  display: inline-block;\n",
       "  line-height: 1.2em;\n",
       "}\n",
       "\n",
       "#sk-container-id-6 div.sk-label-container {\n",
       "  text-align: center;\n",
       "}\n",
       "\n",
       "/* Estimator-specific */\n",
       "#sk-container-id-6 div.sk-estimator {\n",
       "  font-family: monospace;\n",
       "  border: 1px dotted var(--sklearn-color-border-box);\n",
       "  border-radius: 0.25em;\n",
       "  box-sizing: border-box;\n",
       "  margin-bottom: 0.5em;\n",
       "  /* unfitted */\n",
       "  background-color: var(--sklearn-color-unfitted-level-0);\n",
       "}\n",
       "\n",
       "#sk-container-id-6 div.sk-estimator.fitted {\n",
       "  /* fitted */\n",
       "  background-color: var(--sklearn-color-fitted-level-0);\n",
       "}\n",
       "\n",
       "/* on hover */\n",
       "#sk-container-id-6 div.sk-estimator:hover {\n",
       "  /* unfitted */\n",
       "  background-color: var(--sklearn-color-unfitted-level-2);\n",
       "}\n",
       "\n",
       "#sk-container-id-6 div.sk-estimator.fitted:hover {\n",
       "  /* fitted */\n",
       "  background-color: var(--sklearn-color-fitted-level-2);\n",
       "}\n",
       "\n",
       "/* Specification for estimator info (e.g. \"i\" and \"?\") */\n",
       "\n",
       "/* Common style for \"i\" and \"?\" */\n",
       "\n",
       ".sk-estimator-doc-link,\n",
       "a:link.sk-estimator-doc-link,\n",
       "a:visited.sk-estimator-doc-link {\n",
       "  float: right;\n",
       "  font-size: smaller;\n",
       "  line-height: 1em;\n",
       "  font-family: monospace;\n",
       "  background-color: var(--sklearn-color-background);\n",
       "  border-radius: 1em;\n",
       "  height: 1em;\n",
       "  width: 1em;\n",
       "  text-decoration: none !important;\n",
       "  margin-left: 1ex;\n",
       "  /* unfitted */\n",
       "  border: var(--sklearn-color-unfitted-level-1) 1pt solid;\n",
       "  color: var(--sklearn-color-unfitted-level-1);\n",
       "}\n",
       "\n",
       ".sk-estimator-doc-link.fitted,\n",
       "a:link.sk-estimator-doc-link.fitted,\n",
       "a:visited.sk-estimator-doc-link.fitted {\n",
       "  /* fitted */\n",
       "  border: var(--sklearn-color-fitted-level-1) 1pt solid;\n",
       "  color: var(--sklearn-color-fitted-level-1);\n",
       "}\n",
       "\n",
       "/* On hover */\n",
       "div.sk-estimator:hover .sk-estimator-doc-link:hover,\n",
       ".sk-estimator-doc-link:hover,\n",
       "div.sk-label-container:hover .sk-estimator-doc-link:hover,\n",
       ".sk-estimator-doc-link:hover {\n",
       "  /* unfitted */\n",
       "  background-color: var(--sklearn-color-unfitted-level-3);\n",
       "  color: var(--sklearn-color-background);\n",
       "  text-decoration: none;\n",
       "}\n",
       "\n",
       "div.sk-estimator.fitted:hover .sk-estimator-doc-link.fitted:hover,\n",
       ".sk-estimator-doc-link.fitted:hover,\n",
       "div.sk-label-container:hover .sk-estimator-doc-link.fitted:hover,\n",
       ".sk-estimator-doc-link.fitted:hover {\n",
       "  /* fitted */\n",
       "  background-color: var(--sklearn-color-fitted-level-3);\n",
       "  color: var(--sklearn-color-background);\n",
       "  text-decoration: none;\n",
       "}\n",
       "\n",
       "/* Span, style for the box shown on hovering the info icon */\n",
       ".sk-estimator-doc-link span {\n",
       "  display: none;\n",
       "  z-index: 9999;\n",
       "  position: relative;\n",
       "  font-weight: normal;\n",
       "  right: .2ex;\n",
       "  padding: .5ex;\n",
       "  margin: .5ex;\n",
       "  width: min-content;\n",
       "  min-width: 20ex;\n",
       "  max-width: 50ex;\n",
       "  color: var(--sklearn-color-text);\n",
       "  box-shadow: 2pt 2pt 4pt #999;\n",
       "  /* unfitted */\n",
       "  background: var(--sklearn-color-unfitted-level-0);\n",
       "  border: .5pt solid var(--sklearn-color-unfitted-level-3);\n",
       "}\n",
       "\n",
       ".sk-estimator-doc-link.fitted span {\n",
       "  /* fitted */\n",
       "  background: var(--sklearn-color-fitted-level-0);\n",
       "  border: var(--sklearn-color-fitted-level-3);\n",
       "}\n",
       "\n",
       ".sk-estimator-doc-link:hover span {\n",
       "  display: block;\n",
       "}\n",
       "\n",
       "/* \"?\"-specific style due to the `<a>` HTML tag */\n",
       "\n",
       "#sk-container-id-6 a.estimator_doc_link {\n",
       "  float: right;\n",
       "  font-size: 1rem;\n",
       "  line-height: 1em;\n",
       "  font-family: monospace;\n",
       "  background-color: var(--sklearn-color-background);\n",
       "  border-radius: 1rem;\n",
       "  height: 1rem;\n",
       "  width: 1rem;\n",
       "  text-decoration: none;\n",
       "  /* unfitted */\n",
       "  color: var(--sklearn-color-unfitted-level-1);\n",
       "  border: var(--sklearn-color-unfitted-level-1) 1pt solid;\n",
       "}\n",
       "\n",
       "#sk-container-id-6 a.estimator_doc_link.fitted {\n",
       "  /* fitted */\n",
       "  border: var(--sklearn-color-fitted-level-1) 1pt solid;\n",
       "  color: var(--sklearn-color-fitted-level-1);\n",
       "}\n",
       "\n",
       "/* On hover */\n",
       "#sk-container-id-6 a.estimator_doc_link:hover {\n",
       "  /* unfitted */\n",
       "  background-color: var(--sklearn-color-unfitted-level-3);\n",
       "  color: var(--sklearn-color-background);\n",
       "  text-decoration: none;\n",
       "}\n",
       "\n",
       "#sk-container-id-6 a.estimator_doc_link.fitted:hover {\n",
       "  /* fitted */\n",
       "  background-color: var(--sklearn-color-fitted-level-3);\n",
       "}\n",
       "</style><div id=\"sk-container-id-6\" class=\"sk-top-container\"><div class=\"sk-text-repr-fallback\"><pre>NearestNeighbors(metric=&#x27;cosine&#x27;)</pre><b>In a Jupyter environment, please rerun this cell to show the HTML representation or trust the notebook. <br />On GitHub, the HTML representation is unable to render, please try loading this page with nbviewer.org.</b></div><div class=\"sk-container\" hidden><div class=\"sk-item\"><div class=\"sk-estimator fitted sk-toggleable\"><input class=\"sk-toggleable__control sk-hidden--visually\" id=\"sk-estimator-id-6\" type=\"checkbox\" checked><label for=\"sk-estimator-id-6\" class=\"sk-toggleable__label fitted sk-toggleable__label-arrow fitted\">&nbsp;&nbsp;NearestNeighbors<a class=\"sk-estimator-doc-link fitted\" rel=\"noreferrer\" target=\"_blank\" href=\"https://scikit-learn.org/1.5/modules/generated/sklearn.neighbors.NearestNeighbors.html\">?<span>Documentation for NearestNeighbors</span></a><span class=\"sk-estimator-doc-link fitted\">i<span>Fitted</span></span></label><div class=\"sk-toggleable__content fitted\"><pre>NearestNeighbors(metric=&#x27;cosine&#x27;)</pre></div> </div></div></div></div>"
      ],
      "text/plain": [
       "NearestNeighbors(metric='cosine')"
      ]
     },
     "execution_count": 110,
     "metadata": {},
     "output_type": "execute_result"
    }
   ],
   "source": [
    "# Define the k-NN model\n",
    "knn = NearestNeighbors(n_neighbors=5, metric='cosine')\n",
    "# Train the model\n",
    "knn.fit(features)"
   ]
  },
  {
   "cell_type": "code",
   "execution_count": 111,
   "metadata": {},
   "outputs": [],
   "source": [
    "def display_anime_details(anime_title, sources):\n",
    "    # Filter anime based on the title or synonyms\n",
    "    anime_details = anime_data[\n",
    "        (anime_data[\"title\"] == anime_title) | \n",
    "        (anime_data[\"title_en\"] == anime_title) | \n",
    "        (anime_data[\"title_jp\"] == anime_title) |\n",
    "        anime_data[\"title_synonyms\"].apply(lambda synonyms: anime_title in literal_eval(synonyms) if pd.notna(synonyms) else False)\n",
    "    ]\n",
    "\n",
    "    # Ensure the anime exists in the dataset\n",
    "    if not anime_details.empty:\n",
    "        # Extract required details\n",
    "        title = anime_details[\"title\"].values[0]\n",
    "        title_jp = anime_details[\"title_jp\"].values[0]\n",
    "        synopsis = anime_details[\"synopsis\"].values[0]\n",
    "        score = anime_details[\"score\"].values[0]\n",
    "        series_type = anime_details[\"type\"].values[0]\n",
    "        episodes = anime_details[\"episodes\"].values[0]\n",
    "        genres = ', '.join(literal_eval(anime_details[\"genres\"].values[0]))\n",
    "        themes = ', '.join(literal_eval(anime_details[\"themes\"].values[0]))\n",
    "        \n",
    "        demographic_raw = anime_details[\"demographic\"].values[0]\n",
    "\n",
    "        # Check if demographic_raw is not None and is not NaN or an empty string\n",
    "        if pd.notna(demographic_raw) and demographic_raw != '':\n",
    "            try:\n",
    "                demographic = ', '.join(literal_eval(demographic_raw))  # Use literal_eval if you are sure about the format\n",
    "            except (ValueError, SyntaxError):  # Handle potential errors\n",
    "                demographic = demographic_raw  # Fallback to raw value if literal_eval fails\n",
    "        else:\n",
    "            demographic = None\n",
    "\n",
    "        season_raw = anime_details[\"season\"].values[0]\n",
    "\n",
    "        # Check if season_raw is None or not a string before capitalizing\n",
    "        if season_raw is not None and isinstance(season_raw, str):\n",
    "            season = season_raw.capitalize()\n",
    "        else:\n",
    "            # If season is None, fall back to aired information without \"Unknown\"\n",
    "            aired_info = anime_details[\"aired\"].values[0] if pd.notna(anime_details[\"aired\"].values[0]) else None\n",
    "            season = aired_info.split(',')[0].strip() if aired_info else None\n",
    "\n",
    "\n",
    "        year = anime_details[\"year\"].values[0]\n",
    "        image_url = anime_details[\"image\"].values[0]  # Image URL for the anime\n",
    "        mal_url = anime_details[\"url\"].values[0]  # MAL URL for the anime\n",
    "        trailer_url = anime_details[\"trailer\"].values[0]  # Trailer URL if available\n",
    "\n",
    "        # Header and basic details (Markdown style for formatting)\n",
    "        display(HTML(f\"\"\"\n",
    "        <h1 style=\"font-family:Arial;\">{title}</h1>\n",
    "        <h3 style=\"font-family:Arial;\">Because you watched: {sources}</h3>\n",
    "        <img src=\"{image_url}\" alt=\"{title}\" style=\"width:225px;height:auto;float:left;margin-right:15px;\">\n",
    "        <p><b>Synopsis:</b> {synopsis}</p>\n",
    "        <p><b>Score:</b> {score}</p>\n",
    "        <p><b>Type:</b> {series_type}</p>\n",
    "        <p><b>Episodes:</b> {episodes}</p>\n",
    "        <p><b>Genres:</b> {genres}</p>\n",
    "        {\"<p><b>Themes:</b> \" + themes + \"</p>\" if themes else \"\"}\n",
    "        {\"<p><b>Demographic:</b> \" + demographic + \"</p>\" if demographic else \"\"}\n",
    "        <p><b>Season:</b> {season} {year}</p>\n",
    "        <p><b>MAL Page:</b> <a href=\"{mal_url}\" target=\"_blank\">Link to MyAnimeList</a></p>\n",
    "        \"\"\"))\n",
    "\n",
    "        # Display trailer if available\n",
    "        if trailer_url:\n",
    "            display(HTML(f'<p><b>Trailer:</b> <a href=\"{trailer_url}\" target=\"_blank\">Watch Trailer</a></p>'))\n",
    "        else:\n",
    "            display(HTML(f'<p><b>Trailer:</b> No trailer available.</p>'))\n",
    "\n",
    "        display(HTML('<hr>'))  # Horizontal line separator\n",
    "\n",
    "    else:\n",
    "        print(f\"Anime titled '{anime_title}' not found in the dataset.\")\n",
    "\n"
   ]
  },
  {
   "cell_type": "code",
   "execution_count": 112,
   "metadata": {},
   "outputs": [],
   "source": [
    "def get_anime_recommendations(anime_title, k=5):\n",
    "    # Check if the anime exists in the dataset (across all possible title columns)\n",
    "    if not (\n",
    "        anime_title in anime_data[\"title\"].values or \n",
    "        anime_title in anime_data[\"title_jp\"].values or \n",
    "        anime_title in anime_data[\"title_en\"].values or \n",
    "        anime_data['title_synonyms'].apply(lambda x: anime_title in x).any()\n",
    "    ):\n",
    "        print(f\"Anime '{anime_title}' not found in the dataset.\")\n",
    "        return []\n",
    "\n",
    "    # Fetch the anime details\n",
    "    anime_details = anime_data[\n",
    "        (anime_data[\"title\"] == anime_title) | \n",
    "        (anime_data[\"title_en\"] == anime_title) | \n",
    "        (anime_data[\"title_jp\"] == anime_title)\n",
    "    ]\n",
    "\n",
    "    if anime_details.empty:\n",
    "        print(f\"Anime '{anime_title}' not found in the dataset.\")\n",
    "        return []\n",
    "\n",
    "    # Extract the first matching anime details\n",
    "    anime_idx = anime_details.index[0]\n",
    "    \n",
    "    # Display the details of the selected anime (optional)\n",
    "    title = anime_details[\"title\"].values[0]\n",
    "    # display_anime_details(title)\n",
    "\n",
    "    # Use k-NN to find similar anime based on the features\n",
    "    query_features = features.iloc[anime_idx].to_frame().T  # Get the features of the selected anime\n",
    "    \n",
    "    # Get k+1 neighbors (including the original anime itself)\n",
    "    distances, indices = knn.kneighbors(query_features, n_neighbors=k+1)\n",
    "\n",
    "    # Remove the original anime from the recommendations\n",
    "    recommended_indices = indices.flatten()[1:]  # Remove the first one (itself)\n",
    "\n",
    "    # Get the titles of the recommended anime based on the indices\n",
    "    recommended_titles = anime_data.iloc[recommended_indices][\"title\"].values.tolist()\n",
    "\n",
    "    return recommended_titles  # Return the list of recommended titles\n"
   ]
  },
  {
   "cell_type": "code",
   "execution_count": 113,
   "metadata": {},
   "outputs": [],
   "source": [
    "# Load the anime profile data from an XML file\n",
    "\n",
    "tree = ET.parse(\"../datasets/anime/animelist.xml\")\n",
    "root = tree.getroot()\n",
    "\n",
    "anime_list = root.findall('anime')"
   ]
  },
  {
   "cell_type": "code",
   "execution_count": 114,
   "metadata": {},
   "outputs": [
    {
     "name": "stdout",
     "output_type": "stream",
     "text": [
      "245\n",
      "Chainsaw Man - Score: 10\n",
      "Kanojo, Okarishimasu - Score: 10\n",
      "Kanojo, Okarishimasu 2nd Season - Score: 10\n",
      "Kimi no Na wa. - Score: 10\n",
      "Kimi no Suizou wo Tabetai - Score: 10\n",
      "Made in Abyss: Retsujitsu no Ougonkyou - Score: 10\n",
      "Mushoku Tensei II: Isekai Ittara Honki Dasu - Score: 10\n",
      "Mushoku Tensei II: Isekai Ittara Honki Dasu Part 2 - Score: 10\n",
      "Mushoku Tensei: Isekai Ittara Honki Dasu - Score: 10\n",
      "Mushoku Tensei: Isekai Ittara Honki Dasu Part 2 - Score: 10\n",
      "Sousou no Frieren - Score: 10\n",
      "Vinland Saga - Score: 10\n",
      "Vinland Saga Season 2 - Score: 10\n",
      "Violet Evergarden - Score: 10\n",
      "Violet Evergarden Movie - Score: 10\n",
      "Bocchi the Rock! - Score: 9\n",
      "Fullmetal Alchemist: Brotherhood - Score: 9\n",
      "Fumetsu no Anata e - Score: 9\n",
      "Gabriel DropOut - Score: 9\n",
      "Gintama - Score: 9\n",
      "Gintama' - Score: 9\n",
      "Gintama': Enchousen - Score: 9\n",
      "Grand Blue - Score: 9\n",
      "Horimiya - Score: 9\n",
      "JoJo no Kimyou na Bouken (TV) - Score: 9\n",
      "JoJo no Kimyou na Bouken Part 3: Stardust Crusaders - Score: 9\n",
      "JoJo no Kimyou na Bouken Part 3: Stardust Crusaders 2nd Season - Score: 9\n",
      "JoJo no Kimyou na Bouken Part 4: Diamond wa Kudakenai - Score: 9\n",
      "JoJo no Kimyou na Bouken Part 5: Ougon no Kaze - Score: 9\n",
      "JoJo no Kimyou na Bouken Part 6: Stone Ocean - Score: 9\n",
      "JoJo no Kimyou na Bouken Part 6: Stone Ocean Part 2 - Score: 9\n",
      "Jujutsu Kaisen 2nd Season - Score: 9\n",
      "K-On! - Score: 9\n",
      "K-On! Movie - Score: 9\n",
      "K-On!! - Score: 9\n",
      "K-On!: Live House! - Score: 9\n",
      "Kaguya-sama wa Kokurasetai: Tensai-tachi no Renai Zunousen - Score: 9\n",
      "Kaguya-sama wa Kokurasetai: Ultra Romantic - Score: 9\n",
      "Kaguya-sama wa Kokurasetai? Tensai-tachi no Renai Zunousen - Score: 9\n",
      "Kakegurui×× - Score: 9\n",
      "Koe no Katachi - Score: 9\n",
      "Kono Subarashii Sekai ni Shukufuku wo! - Score: 9\n",
      "Kono Subarashii Sekai ni Shukufuku wo! 2 - Score: 9\n",
      "Kono Subarashii Sekai ni Shukufuku wo! 2: Kono Subarashii Geijutsu ni Shukufuku wo! - Score: 9\n",
      "Kono Subarashii Sekai ni Shukufuku wo! 3 - Score: 9\n",
      "Kono Subarashii Sekai ni Shukufuku wo!: Kono Subarashii Choker ni Shukufuku wo! - Score: 9\n",
      "Made in Abyss - Score: 9\n",
      "Made in Abyss Movie 3: Fukaki Tamashii no Reimei - Score: 9\n",
      "Mob Psycho 100 - Score: 9\n",
      "Mob Psycho 100 II - Score: 9\n",
      "NieR:Automata Ver1.1a - Score: 9\n",
      "Odd Taxi - Score: 9\n",
      "Re:Zero kara Hajimeru Isekai Seikatsu - Score: 9\n",
      "Re:Zero kara Hajimeru Isekai Seikatsu 2nd Season - Score: 9\n",
      "Re:Zero kara Hajimeru Isekai Seikatsu 2nd Season Part 2 - Score: 9\n",
      "Seishun Buta Yarou wa Bunny Girl Senpai no Yume wo Minai - Score: 9\n",
      "Seishun Buta Yarou wa Yumemiru Shoujo no Yume wo Minai - Score: 9\n",
      "Shigatsu wa Kimi no Uso - Score: 9\n",
      "Shingeki no Kyojin - Score: 9\n",
      "Shingeki no Kyojin Season 2 - Score: 9\n",
      "Shingeki no Kyojin Season 3 - Score: 9\n",
      "Shingeki no Kyojin Season 3 Part 2 - Score: 9\n",
      "Shingeki no Kyojin: The Final Season - Score: 9\n",
      "Shingeki no Kyojin: The Final Season - Kanketsu-hen - Score: 9\n",
      "Shingeki no Kyojin: The Final Season Part 2 - Score: 9\n",
      "Sora yori mo Tooi Basho - Score: 9\n",
      "Tenki no Ko - Score: 9\n",
      "Yuru Camp△ - Score: 9\n",
      "Yuru Camp△ Season 2 - Score: 9\n",
      "5-toubun no Hanayome ∬ - Score: 8\n",
      "Araburu Kisetsu no Otome-domo yo. - Score: 8\n",
      "Comic Girls - Score: 8\n",
      "Cyberpunk: Edgerunners - Score: 8\n",
      "Dumbbell Nan Kilo Moteru? - Score: 8\n",
      "Fumetsu no Anata e Season 2 - Score: 8\n",
      "Gabriel DropOut Specials - Score: 8\n",
      "Hitoribocchi no Marumaru Seikatsu - Score: 8\n",
      "Irozuku Sekai no Ashita kara - Score: 8\n",
      "Isekai Quartet - Score: 8\n",
      "Jujutsu Kaisen - Score: 8\n",
      "Jujutsu Kaisen 0 Movie - Score: 8\n",
      "K-On!!: Keikaku! - Score: 8\n",
      "Kakegurui - Score: 8\n",
      "Kimetsu no Yaiba - Score: 8\n",
      "Kimetsu no Yaiba Movie: Mugen Ressha-hen - Score: 8\n",
      "Kimetsu no Yaiba: Yuukaku-hen - Score: 8\n",
      "Kishibe Rohan wa Ugokanai - Score: 8\n",
      "Kono Subarashii Sekai ni Shukufuku wo! Movie: Kurenai Densetsu - Score: 8\n",
      "Kuzu no Honkai - Score: 8\n",
      "Naruto - Score: 8\n",
      "Naruto: Shippuuden - Score: 8\n",
      "One Punch Man - Score: 8\n",
      "Orange - Score: 8\n",
      "Re:Zero kara Hajimeru Isekai Seikatsu - Memory Snow - Score: 8\n",
      "ReLIFE - Score: 8\n",
      "ReLIFE: Kanketsu-hen - Score: 8\n",
      "Shadows House - Score: 8\n",
      "Sono Bisque Doll wa Koi wo Suru - Score: 8\n",
      "Spy x Family - Score: 8\n",
      "Tate no Yuusha no Nariagari - Score: 8\n",
      "Tonari no Kyuuketsuki-san - Score: 8\n",
      "Violet Evergarden: Kitto \"Ai\" wo Shiru Hi ga Kuru no Darou - Score: 8\n",
      "Vivy: Fluorite Eye's Song - Score: 8\n",
      "5-toubun no Hanayome - Score: 7\n",
      "Adachi to Shimamura - Score: 7\n",
      "Ano Hi Mita Hana no Namae wo Bokutachi wa Mada Shiranai. - Score: 7\n",
      "Blend S - Score: 7\n",
      "Boku dake ga Inai Machi - Score: 7\n",
      "Boku no Hero Academia - Score: 7\n",
      "Boku no Hero Academia 2nd Season - Score: 7\n",
      "Boku no Hero Academia 3rd Season - Score: 7\n",
      "Boku no Hero Academia 4th Season - Score: 7\n",
      "Boku no Hero Academia 5th Season - Score: 7\n",
      "Boku no Hero Academia the Movie 1: Futari no Hero - Score: 7\n",
      "Bokutachi no Remake - Score: 7\n",
      "Byousoku 5 Centimeter - Score: 7\n",
      "Darling in the FranXX - Score: 7\n",
      "Flying Witch - Score: 7\n",
      "Ganbare Douki-chan - Score: 7\n",
      "Ganbare Douki-chan: Kakusa Shakai ni Nayamu Kaisha no Douki - Score: 7\n",
      "Gokushufudou - Score: 7\n",
      "Gokushufudou Part 2 - Score: 7\n",
      "Hai to Gensou no Grimgar - Score: 7\n",
      "Hataraku Saibou - Score: 7\n",
      "Heya Camp△ - Score: 7\n",
      "Hinamatsuri - Score: 7\n",
      "Ijiranaide, Nagatoro-san - Score: 7\n",
      "Itai no wa Iya nanode Bougyoryoku ni Kyokufuri Shitai to Omoimasu. - Score: 7\n",
      "Jaku-Chara Tomozaki-kun - Score: 7\n",
      "Kaguya-sama wa Kokurasetai? Tensai-tachi no Renai Zunousen OVA - Score: 7\n",
      "Karakai Jouzu no Takagi-san - Score: 7\n",
      "Karakai Jouzu no Takagi-san 2 - Score: 7\n",
      "Kobayashi-san Chi no Maid Dragon - Score: 7\n",
      "Koisuru Asteroid - Score: 7\n",
      "Mahoutsukai no Yome - Score: 7\n",
      "Mahoutsukai no Yome: Hoshi Matsu Hito - Score: 7\n",
      "Mahoutsukai no Yome: Nishi no Shounen to Seiran no Kishi - Score: 7\n",
      "Mieruko-chan - Score: 7\n",
      "Mob Psycho 100: Reigen - Shirarezaru Kiseki no Reinouryokusha - Score: 7\n",
      "Nakitai Watashi wa Neko wo Kaburu - Score: 7\n",
      "Nisekoi - Score: 7\n",
      "No Game No Life - Score: 7\n",
      "Ore Monogatari!! - Score: 7\n",
      "Overlord - Score: 7\n",
      "Plastic Memories - Score: 7\n",
      "Sakamoto desu ga? - Score: 7\n",
      "Sakura-sou no Pet na Kanojo - Score: 7\n",
      "Shingeki no Kyojin OVA - Score: 7\n",
      "Shokugeki no Souma - Score: 7\n",
      "Shokugeki no Souma: Ni no Sara - Score: 7\n",
      "Shokugeki no Souma: Ni no Sara OVA - Score: 7\n",
      "Somali to Mori no Kamisama - Score: 7\n",
      "SSSS.Gridman - Score: 7\n",
      "Sword Art Online Movie: Ordinal Scale - Score: 7\n",
      "Tensei shitara Slime Datta Ken - Score: 7\n",
      "The God of High School - Score: 7\n",
      "Tonikaku Kawaii - Score: 7\n",
      "Toradora! - Score: 7\n",
      "Totsukuni no Shoujo (2022) - Score: 7\n",
      "Bessatsu Olympia Kyklos - Score: 6\n",
      "Darwin's Game - Score: 6\n",
      "Domestic na Kanojo - Score: 6\n",
      "Dungeon ni Deai wo Motomeru no wa Machigatteiru Darou ka - Score: 6\n",
      "Dungeon ni Deai wo Motomeru no wa Machigatteiru Darou ka III OVA - Score: 6\n",
      "Fragtime - Score: 6\n",
      "Gaikotsu Shotenin Honda-san - Score: 6\n",
      "Goblin Slayer - Score: 6\n",
      "Hige wo Soru. Soshite Joshikousei wo Hirou. - Score: 6\n",
      "Itsudatte Bokura no Koi wa 10 cm Datta. - Score: 6\n",
      "Miru Tights - Score: 6\n",
      "Musaigen no Phantom World - Score: 6\n",
      "Nisekoi: - Score: 6\n",
      "Ore wo Suki nano wa Omae dake ka yo - Score: 6\n",
      "Osananajimi ga Zettai ni Makenai Love Comedy - Score: 6\n",
      "Sekkou Boys - Score: 6\n",
      "Shokugeki no Souma OVA - Score: 6\n",
      "Suki tte Ii na yo. - Score: 6\n",
      "Sword Art Online - Score: 6\n",
      "Sword Art Online: Alicization - Score: 6\n",
      "Sword Art Online: Alicization - War of Underworld - Score: 6\n",
      "Tsuki ga Kirei - Score: 6\n",
      "Tsurezure Children - Score: 6\n",
      "Tsuujou Kougeki ga Zentai Kougeki de Ni-kai Kougeki no Okaasan wa Suki desu ka? Namiuchigiwa no Okaasan wa Suki desu ka? - Score: 6\n",
      "Uzaki-chan wa Asobitai! - Score: 6\n",
      "Wotaku ni Koi wa Muzukashii - Score: 6\n",
      "Yahari Ore no Seishun Love Comedy wa Machigatteiru. - Score: 6\n",
      "Yesterday wo Utatte - Score: 6\n",
      "Dungeon ni Deai wo Motomeru no wa Machigatteiru Darou ka II OVA - Score: 5\n",
      "Kaifuku Jutsushi no Yarinaoshi - Score: 5\n",
      "Kyuukyoku Shinka shita Full Dive RPG ga Genjitsu yori mo Kusoge Dattara - Score: 5\n",
      "Sounan desu ka? - Score: 5\n",
      "Tejina-senpai - Score: 5\n",
      "Tsuujou Kougeki ga Zentai Kougeki de Ni-kai Kougeki no Okaasan wa Suki desu ka? - Score: 5\n",
      "Uchiage Hanabi, Shita kara Miru ka? Yoko kara Miru ka? - Score: 5\n",
      "Danchigai - Score: 4\n",
      "Midara na Ao-chan wa Benkyou ga Dekinai - Score: 4\n",
      "Net-juu no Susume - Score: 4\n",
      "Sword Art Online II - Score: 4\n",
      "\"Oshi no Ko\" - Score: 0\n",
      "\"Oshi no Ko\" 2nd Season - Score: 0\n",
      "5-toubun no Hanayome Movie - Score: 0\n",
      "Aho Girl - Score: 0\n",
      "Boku no Hero Academia 6th Season - Score: 0\n",
      "Dungeon Meshi - Score: 0\n",
      "Gintama° - Score: 0\n",
      "Grand Blue Season 2 - Score: 0\n",
      "Horimiya: Piece - Score: 0\n",
      "Itai no wa Iya nanode Bougyoryoku ni Kyokufuri Shitai to Omoimasu. 2 - Score: 0\n",
      "Jigokuraku - Score: 0\n",
      "Kanojo mo Kanojo - Score: 0\n",
      "Kanojo, Okarishimasu 3rd Season - Score: 0\n",
      "Kono Subarashii Sekai ni Bakuen wo! - Score: 0\n",
      "Kumo desu ga, Nani ka? - Score: 0\n",
      "Mahoutsukai no Yome Season 2 - Score: 0\n",
      "Mob Psycho 100 III - Score: 0\n",
      "NHK ni Youkoso! - Score: 0\n",
      "NieR:Automata Ver1.1a Part 2 - Score: 0\n",
      "No Game No Life: Zero - Score: 0\n",
      "One Piece - Score: 0\n",
      "Ookami to Koushinryou - Score: 0\n",
      "Ookami to Koushinryou II - Score: 0\n",
      "Ore dake Level Up na Ken - Score: 0\n",
      "Overlord II - Score: 0\n",
      "Overlord III - Score: 0\n",
      "Re:Zero kara Hajimeru Isekai Seikatsu 3rd Season - Score: 0\n",
      "Saihate no Paladin - Score: 0\n",
      "Shadows House 2nd Season - Score: 0\n",
      "Shinseiki Evangelion - Score: 0\n",
      "Shinsekai yori - Score: 0\n",
      "Shiroi Suna no Aquatope - Score: 0\n",
      "Shokugeki no Souma: San no Sara - Score: 0\n",
      "Shokugeki no Souma: San no Sara - Kyokuseiryou no Erina - Score: 0\n",
      "Spy x Family Part 2 - Score: 0\n",
      "Steins;Gate - Score: 0\n",
      "Summer Ghost - Score: 0\n",
      "Summertime Render - Score: 0\n",
      "Suzume no Tojimari - Score: 0\n",
      "Sword Art Online: Progressive Movie - Hoshi Naki Yoru no Aria - Score: 0\n",
      "Tengoku Daimakyou - Score: 0\n",
      "Tensei shitara Slime Datta Ken 2nd Season - Score: 0\n",
      "Tomo-chan wa Onnanoko! - Score: 0\n",
      "Violet Evergarden Gaiden: Eien to Jidou Shuki Ningyou - Score: 0\n",
      "Yuru Camp△ Movie - Score: 0\n",
      "Yuru Camp△ Season 3 - Score: 0\n",
      "Zom 100: Zombie ni Naru made ni Shitai 100 no Koto - Score: 0\n"
     ]
    }
   ],
   "source": [
    "print(len(anime_list))\n",
    "\n",
    "# Sort anime_list by 'my_score' as a numerical value (use 0 for missing/invalid scores)\n",
    "anime_list.sort(key=lambda x: int(x.find('my_score').text or 0) if x.find('my_score') is not None else 0, reverse=True)\n",
    "\n",
    "# Print the sorted list of anime titles and their corresponding scores\n",
    "for anime in anime_list:\n",
    "    title = anime.find('series_title').text\n",
    "    score = anime.find('my_score').text if anime.find('my_score') is not None else \"N/A\"\n",
    "    print(f\"{title} - Score: {score}\")"
   ]
  },
  {
   "cell_type": "code",
   "execution_count": 115,
   "metadata": {},
   "outputs": [
    {
     "name": "stdout",
     "output_type": "stream",
     "text": [
      "103\n"
     ]
    }
   ],
   "source": [
    "\n",
    "# Initialize a set to store existing anime titles for fast lookup\n",
    "existing_titles = {anime.find('series_title').text for anime in anime_list}\n",
    "\n",
    "# Filter the anime list by status (e.g., 'Watching' or 'Completed')\n",
    "filtered_anime_list = [anime for anime in anime_list if anime.find('my_status').text in ['Watching', 'Completed']]\n",
    "\n",
    "# Filter the anime list by score (>= 8)\n",
    "filtered_anime_list = [anime for anime in filtered_anime_list if int(anime.find('my_score').text or 0) >= 8]\n",
    "\n",
    "print(len(filtered_anime_list))\n",
    "\n",
    "# Initialize an empty dictionary to store recommendations\n",
    "recommended = {}\n",
    "\n",
    "for anime in filtered_anime_list:\n",
    "    anime_title = anime.find('series_title').text\n",
    "    recoanime = get_anime_recommendations(anime_title, 5)\n",
    "\n",
    "    # Check if the recommended anime titles are not already in the anilist\n",
    "    for rec in recoanime:\n",
    "        if rec not in existing_titles:\n",
    "            # If the recommendation is new, add it to the dictionary\n",
    "            recommended.setdefault(anime_title, []).append(rec)"
   ]
  },
  {
   "cell_type": "code",
   "execution_count": 116,
   "metadata": {},
   "outputs": [
    {
     "name": "stdout",
     "output_type": "stream",
     "text": [
      "Total recommendations: 95\n"
     ]
    },
    {
     "data": {
      "text/html": [
       "\n",
       "        <h1 style=\"font-family:Arial;\">Bleach: Sennen Kessen-hen</h1>\n",
       "        <h3 style=\"font-family:Arial;\">Because you watched: Sousou no Frieren, Fumetsu no Anata e, JoJo no Kimyou na Bouken Part 3: Stardust Crusaders, JoJo no Kimyou na Bouken Part 3: Stardust Crusaders 2nd Season, JoJo no Kimyou na Bouken Part 4: Diamond wa Kudakenai, JoJo no Kimyou na Bouken Part 5: Ougon no Kaze, JoJo no Kimyou na Bouken Part 6: Stone Ocean</h3>\n",
       "        <img src=\"https://cdn.myanimelist.net/images/anime/1908/135431.jpg\" alt=\"Bleach: Sennen Kessen-hen\" style=\"width:225px;height:auto;float:left;margin-right:15px;\">\n",
       "        <p><b>Synopsis:</b> Substitute Soul Reaper Ichigo Kurosaki spends his days fighting against Hollows, dangerous evil spirits that threaten Karakura Town. Ichigo carries out his quest with his closest allies: Orihime Inoue, his childhood friend with a talent for healing; Yasutora Sado, his high school classmate with superhuman strength; and Uryuu Ishida, Ichigo's Quincy rival.\n",
       "\n",
       "Ichigo's vigilante routine is disrupted by the sudden appearance of Asguiaro Ebern, a dangerous Arrancar who heralds the return of Yhwach, an ancient Quincy king. Yhwach seeks to reignite the historic blood feud between Soul Reaper and Quincy, and he sets his sights on erasing both the human world and the Soul Society for good.\n",
       "\n",
       "Yhwach launches a two-pronged invasion into both the Soul Society and Hueco Mundo, the home of Hollows and Arrancar. In retaliation, Ichigo and his friends must fight alongside old allies and enemies alike to end Yhwach's campaign of carnage before the world itself comes to an end.</p>\n",
       "        <p><b>Score:</b> 9.01</p>\n",
       "        <p><b>Type:</b> TV</p>\n",
       "        <p><b>Episodes:</b> 13.0</p>\n",
       "        <p><b>Genres:</b> Action, Adventure, Supernatural</p>\n",
       "        \n",
       "        <p><b>Demographic:</b> Shounen</p>\n",
       "        <p><b>Season:</b> Fall 2022</p>\n",
       "        <p><b>MAL Page:</b> <a href=\"https://myanimelist.net/anime/41467/Bleach__Sennen_Kessen-hen\" target=\"_blank\">Link to MyAnimeList</a></p>\n",
       "        "
      ],
      "text/plain": [
       "<IPython.core.display.HTML object>"
      ]
     },
     "metadata": {},
     "output_type": "display_data"
    },
    {
     "data": {
      "text/html": [
       "<p><b>Trailer:</b> <a href=\"https://www.youtube.com/watch?v=e8YBesRKq_U\" target=\"_blank\">Watch Trailer</a></p>"
      ],
      "text/plain": [
       "<IPython.core.display.HTML object>"
      ]
     },
     "metadata": {},
     "output_type": "display_data"
    },
    {
     "data": {
      "text/html": [
       "<hr>"
      ],
      "text/plain": [
       "<IPython.core.display.HTML object>"
      ]
     },
     "metadata": {},
     "output_type": "display_data"
    },
    {
     "data": {
      "text/html": [
       "\n",
       "        <h1 style=\"font-family:Arial;\">Bleach</h1>\n",
       "        <h3 style=\"font-family:Arial;\">Because you watched: Kimi no Na wa., JoJo no Kimyou na Bouken (TV), JoJo no Kimyou na Bouken Part 3: Stardust Crusaders, JoJo no Kimyou na Bouken Part 3: Stardust Crusaders 2nd Season, JoJo no Kimyou na Bouken Part 4: Diamond wa Kudakenai, Koe no Katachi</h3>\n",
       "        <img src=\"https://cdn.myanimelist.net/images/anime/3/40451.jpg\" alt=\"Bleach\" style=\"width:225px;height:auto;float:left;margin-right:15px;\">\n",
       "        <p><b>Synopsis:</b> Ichigo Kurosaki is an ordinary high schooler—until his family is attacked by a Hollow, a corrupt spirit that seeks to devour human souls. It is then that he meets a Soul Reaper named Rukia Kuchiki, who gets injured while protecting Ichigo's family from the assailant. To save his family, Ichigo accepts Rukia's offer of taking her powers and becomes a Soul Reaper as a result.\n",
       "\n",
       "However, as Rukia is unable to regain her powers, Ichigo is given the daunting task of hunting down the Hollows that plague their town. However, he is not alone in his fight, as he is later joined by his friends—classmates Orihime Inoue, Yasutora Sado, and Uryuu Ishida—who each have their own unique abilities. As Ichigo and his comrades get used to their new duties and support each other on and off the battlefield, the young Soul Reaper soon learns that the Hollows are not the only real threat to the human world.</p>\n",
       "        <p><b>Score:</b> 7.95</p>\n",
       "        <p><b>Type:</b> TV</p>\n",
       "        <p><b>Episodes:</b> 366.0</p>\n",
       "        <p><b>Genres:</b> Action, Adventure, Supernatural</p>\n",
       "        \n",
       "        <p><b>Demographic:</b> Shounen</p>\n",
       "        <p><b>Season:</b> Fall 2004</p>\n",
       "        <p><b>MAL Page:</b> <a href=\"https://myanimelist.net/anime/269/Bleach\" target=\"_blank\">Link to MyAnimeList</a></p>\n",
       "        "
      ],
      "text/plain": [
       "<IPython.core.display.HTML object>"
      ]
     },
     "metadata": {},
     "output_type": "display_data"
    },
    {
     "data": {
      "text/html": [
       "<p><b>Trailer:</b> <a href=\"https://www.youtube.com/watch?v=0yk5H6vvfG4\" target=\"_blank\">Watch Trailer</a></p>"
      ],
      "text/plain": [
       "<IPython.core.display.HTML object>"
      ]
     },
     "metadata": {},
     "output_type": "display_data"
    },
    {
     "data": {
      "text/html": [
       "<hr>"
      ],
      "text/plain": [
       "<IPython.core.display.HTML object>"
      ]
     },
     "metadata": {},
     "output_type": "display_data"
    },
    {
     "data": {
      "text/html": [
       "\n",
       "        <h1 style=\"font-family:Arial;\">Kimetsu no Yaiba: Katanakaji no Sato-hen</h1>\n",
       "        <h3 style=\"font-family:Arial;\">Because you watched: Chainsaw Man, Kimetsu no Yaiba, Kimetsu no Yaiba Movie: Mugen Ressha-hen, Kimetsu no Yaiba: Yuukaku-hen</h3>\n",
       "        <img src=\"https://cdn.myanimelist.net/images/anime/1765/135099.jpg\" alt=\"Kimetsu no Yaiba: Katanakaji no Sato-hen\" style=\"width:225px;height:auto;float:left;margin-right:15px;\">\n",
       "        <p><b>Synopsis:</b> For centuries, the Demon Slayer Corps has sacredly kept the location of Swordsmith Village a secret. As the village of the greatest forgers, it provides Demon Slayers with the finest weapons, which allow them to fight night-crawling fiends and ensure the safety of humans. After his sword was chipped and deemed useless, Tanjirou Kamado, along with his precious little sister Nezuko, is escorted to the village to receive a new one.\n",
       "\n",
       "Meanwhile, the death of an Upper Rank Demon disturbs the idle order in the demon world. As Tanjirou becomes acquainted with Mist Hashira Muichirou Tokitou and Love Hashira Mitsuri Kanroji, ferocious powers creep from the shadows and threaten to shatter the Demon Slayers' greatest line of defense.</p>\n",
       "        <p><b>Score:</b> 8.21</p>\n",
       "        <p><b>Type:</b> TV</p>\n",
       "        <p><b>Episodes:</b> 11.0</p>\n",
       "        <p><b>Genres:</b> Action, Fantasy</p>\n",
       "        <p><b>Themes:</b> Historical</p>\n",
       "        <p><b>Demographic:</b> Shounen</p>\n",
       "        <p><b>Season:</b> Spring 2023</p>\n",
       "        <p><b>MAL Page:</b> <a href=\"https://myanimelist.net/anime/51019/Kimetsu_no_Yaiba__Katanakaji_no_Sato-hen\" target=\"_blank\">Link to MyAnimeList</a></p>\n",
       "        "
      ],
      "text/plain": [
       "<IPython.core.display.HTML object>"
      ]
     },
     "metadata": {},
     "output_type": "display_data"
    },
    {
     "data": {
      "text/html": [
       "<p><b>Trailer:</b> <a href=\"https://www.youtube.com/watch?v=a9tq0aS5Zu8\" target=\"_blank\">Watch Trailer</a></p>"
      ],
      "text/plain": [
       "<IPython.core.display.HTML object>"
      ]
     },
     "metadata": {},
     "output_type": "display_data"
    },
    {
     "data": {
      "text/html": [
       "<hr>"
      ],
      "text/plain": [
       "<IPython.core.display.HTML object>"
      ]
     },
     "metadata": {},
     "output_type": "display_data"
    },
    {
     "data": {
      "text/html": [
       "\n",
       "        <h1 style=\"font-family:Arial;\">Fate/Zero 2nd Season</h1>\n",
       "        <h3 style=\"font-family:Arial;\">Because you watched: Chainsaw Man, Kimetsu no Yaiba Movie: Mugen Ressha-hen, Kimetsu no Yaiba: Yuukaku-hen</h3>\n",
       "        <img src=\"https://cdn.myanimelist.net/images/anime/1522/117645.jpg\" alt=\"Fate/Zero 2nd Season\" style=\"width:225px;height:auto;float:left;margin-right:15px;\">\n",
       "        <p><b>Synopsis:</b> As the Fourth Holy Grail War rages on with no clear victor in sight, the remaining Servants and their Masters are called upon by Church supervisor Risei Kotomine, in order to band together and confront an impending threat that could unravel the Grail War and bring about the destruction of Fuyuki City. The uneasy truce soon collapses as Masters demonstrate that they will do anything in their power, no matter how despicable, to win.\n",
       "\n",
       "Seeds of doubt are sown between Kiritsugu Emiya and Saber, his Servant, as their conflicting ideologies on heroism and chivalry clash. Meanwhile, an ominous bond forms between Kirei Kotomine, who still seeks to find his purpose in life, and one of the remaining Servants. As the countdown to the end of the war reaches zero, the cost of winning begins to blur the line between victory and defeat.</p>\n",
       "        <p><b>Score:</b> 8.54</p>\n",
       "        <p><b>Type:</b> TV</p>\n",
       "        <p><b>Episodes:</b> 12.0</p>\n",
       "        <p><b>Genres:</b> Action, Fantasy</p>\n",
       "        <p><b>Themes:</b> Urban Fantasy</p>\n",
       "        \n",
       "        <p><b>Season:</b> Spring 2012</p>\n",
       "        <p><b>MAL Page:</b> <a href=\"https://myanimelist.net/anime/11741/Fate_Zero_2nd_Season\" target=\"_blank\">Link to MyAnimeList</a></p>\n",
       "        "
      ],
      "text/plain": [
       "<IPython.core.display.HTML object>"
      ]
     },
     "metadata": {},
     "output_type": "display_data"
    },
    {
     "data": {
      "text/html": [
       "<p><b>Trailer:</b> <a href=\"https://www.youtube.com/watch?v=FkZ1euZ-S-Y\" target=\"_blank\">Watch Trailer</a></p>"
      ],
      "text/plain": [
       "<IPython.core.display.HTML object>"
      ]
     },
     "metadata": {},
     "output_type": "display_data"
    },
    {
     "data": {
      "text/html": [
       "<hr>"
      ],
      "text/plain": [
       "<IPython.core.display.HTML object>"
      ]
     },
     "metadata": {},
     "output_type": "display_data"
    },
    {
     "data": {
      "text/html": [
       "\n",
       "        <h1 style=\"font-family:Arial;\">Hunter x Hunter (2011)</h1>\n",
       "        <h3 style=\"font-family:Arial;\">Because you watched: Kimi no Na wa., Naruto, Naruto: Shippuuden</h3>\n",
       "        <img src=\"https://cdn.myanimelist.net/images/anime/1337/99013.jpg\" alt=\"Hunter x Hunter (2011)\" style=\"width:225px;height:auto;float:left;margin-right:15px;\">\n",
       "        <p><b>Synopsis:</b> Hunters devote themselves to accomplishing hazardous tasks, all from traversing the world's uncharted territories to locating rare items and monsters. Before becoming a Hunter, one must pass the Hunter Examination—a high-risk selection process in which most applicants end up handicapped or worse, deceased.\n",
       "\n",
       "Ambitious participants who challenge the notorious exam carry their own reason. What drives 12-year-old Gon Freecss is finding Ging, his father and a Hunter himself. Believing that he will meet his father by becoming a Hunter, Gon takes the first step to walk the same path.\n",
       "\n",
       "During the Hunter Examination, Gon befriends the medical student Leorio Paladiknight, the vindictive Kurapika, and ex-assassin Killua Zoldyck. While their motives vastly differ from each other, they band together for a common goal and begin to venture into a perilous world.</p>\n",
       "        <p><b>Score:</b> 9.03</p>\n",
       "        <p><b>Type:</b> TV</p>\n",
       "        <p><b>Episodes:</b> 148.0</p>\n",
       "        <p><b>Genres:</b> Action, Adventure, Fantasy</p>\n",
       "        \n",
       "        <p><b>Demographic:</b> Shounen</p>\n",
       "        <p><b>Season:</b> Fall 2011</p>\n",
       "        <p><b>MAL Page:</b> <a href=\"https://myanimelist.net/anime/11061/Hunter_x_Hunter_2011\" target=\"_blank\">Link to MyAnimeList</a></p>\n",
       "        "
      ],
      "text/plain": [
       "<IPython.core.display.HTML object>"
      ]
     },
     "metadata": {},
     "output_type": "display_data"
    },
    {
     "data": {
      "text/html": [
       "<p><b>Trailer:</b> <a href=\"https://www.youtube.com/watch?v=D9iTQRB4XRk\" target=\"_blank\">Watch Trailer</a></p>"
      ],
      "text/plain": [
       "<IPython.core.display.HTML object>"
      ]
     },
     "metadata": {},
     "output_type": "display_data"
    },
    {
     "data": {
      "text/html": [
       "<hr>"
      ],
      "text/plain": [
       "<IPython.core.display.HTML object>"
      ]
     },
     "metadata": {},
     "output_type": "display_data"
    },
    {
     "data": {
      "text/html": [
       "\n",
       "        <h1 style=\"font-family:Arial;\">Kimi ni Todoke 2nd Season</h1>\n",
       "        <h3 style=\"font-family:Arial;\">Because you watched: Kimi no Suizou wo Tabetai, ReLIFE, ReLIFE: Kanketsu-hen</h3>\n",
       "        <img src=\"https://cdn.myanimelist.net/images/anime/1311/121574.jpg\" alt=\"Kimi ni Todoke 2nd Season\" style=\"width:225px;height:auto;float:left;margin-right:15px;\">\n",
       "        <p><b>Synopsis:</b> After a momentous New Year's vacation and with Valentine's Day approaching, Sawako Kuronuma is beginning to get along with her classmates. However, now that Sawako has realized her romantic feelings for the popular Shouta Kazehaya, she grows hesitant toward giving him obligatory chocolates and decides to not give him any. In turn, Kazehaya, who likes Sawako, feels a distance between them.\n",
       "\n",
       "As February ends and April arrives, the second year of high school begins for Sawako. Luckily, she ends up in the same class as her friends Ayane Yano and Chizuru Yoshida, along with Kazehaya and his friend Ryuu Sanada, in addition to the newcomer named Kento Miura. When Kento develops an interest in Sawako, Sawako and Kazehaya's feelings for each other are put to the test.</p>\n",
       "        <p><b>Score:</b> 7.99</p>\n",
       "        <p><b>Type:</b> TV</p>\n",
       "        <p><b>Episodes:</b> 12.0</p>\n",
       "        <p><b>Genres:</b> Drama, Romance</p>\n",
       "        <p><b>Themes:</b> School</p>\n",
       "        <p><b>Demographic:</b> Shoujo</p>\n",
       "        <p><b>Season:</b> Winter 2011</p>\n",
       "        <p><b>MAL Page:</b> <a href=\"https://myanimelist.net/anime/9656/Kimi_ni_Todoke_2nd_Season\" target=\"_blank\">Link to MyAnimeList</a></p>\n",
       "        "
      ],
      "text/plain": [
       "<IPython.core.display.HTML object>"
      ]
     },
     "metadata": {},
     "output_type": "display_data"
    },
    {
     "data": {
      "text/html": [
       "<p><b>Trailer:</b> <a href=\"https://www.youtube.com/watch?v=9aRQlHYaluU\" target=\"_blank\">Watch Trailer</a></p>"
      ],
      "text/plain": [
       "<IPython.core.display.HTML object>"
      ]
     },
     "metadata": {},
     "output_type": "display_data"
    },
    {
     "data": {
      "text/html": [
       "<hr>"
      ],
      "text/plain": [
       "<IPython.core.display.HTML object>"
      ]
     },
     "metadata": {},
     "output_type": "display_data"
    },
    {
     "data": {
      "text/html": [
       "\n",
       "        <h1 style=\"font-family:Arial;\">Gintama.</h1>\n",
       "        <h3 style=\"font-family:Arial;\">Because you watched: Gintama, Gintama', Gintama': Enchousen</h3>\n",
       "        <img src=\"https://cdn.myanimelist.net/images/anime/3/83528.jpg\" alt=\"Gintama.\" style=\"width:225px;height:auto;float:left;margin-right:15px;\">\n",
       "        <p><b>Synopsis:</b> After joining the resistance against the bakufu, Gintoki and the gang are in hiding, along with Katsura and his Joui rebels. The Yorozuya is soon approached by Nobume Imai and two members of the Kiheitai, who explain that the Harusame pirates have turned against 7th Division Captain Kamui and their former ally Takasugi. The Kiheitai present Gintoki with a job: find Takasugi, who has been missing since his ship was ambushed in a Harusame raid. Nobume also makes a stunning revelation regarding the Tendoushuu, a secret organization pulling the strings of numerous factions, and their leader Utsuro, the shadowy figure with an uncanny resemblance to Gintoki's former teacher.\n",
       "\n",
       "Hitching a ride on Sakamoto's space ship, the Yorozuya and Katsura set out for Rakuyou, Kagura's home planet, where the various factions have gathered and tensions are brewing. Long-held grudges, political infighting, and the Tendoushuu's sinister overarching plan finally culminate into a massive, decisive battle on Rakuyou.</p>\n",
       "        <p><b>Score:</b> 8.98</p>\n",
       "        <p><b>Type:</b> TV</p>\n",
       "        <p><b>Episodes:</b> 12.0</p>\n",
       "        <p><b>Genres:</b> Action, Comedy, Sci-Fi</p>\n",
       "        <p><b>Themes:</b> Gag Humor, Historical, Parody, Samurai</p>\n",
       "        <p><b>Demographic:</b> Shounen</p>\n",
       "        <p><b>Season:</b> Winter 2017</p>\n",
       "        <p><b>MAL Page:</b> <a href=\"https://myanimelist.net/anime/34096/Gintama\" target=\"_blank\">Link to MyAnimeList</a></p>\n",
       "        "
      ],
      "text/plain": [
       "<IPython.core.display.HTML object>"
      ]
     },
     "metadata": {},
     "output_type": "display_data"
    },
    {
     "data": {
      "text/html": [
       "<p><b>Trailer:</b> <a href=\"https://www.youtube.com/watch?v=LOdAAEJiebM\" target=\"_blank\">Watch Trailer</a></p>"
      ],
      "text/plain": [
       "<IPython.core.display.HTML object>"
      ]
     },
     "metadata": {},
     "output_type": "display_data"
    },
    {
     "data": {
      "text/html": [
       "<hr>"
      ],
      "text/plain": [
       "<IPython.core.display.HTML object>"
      ]
     },
     "metadata": {},
     "output_type": "display_data"
    },
    {
     "data": {
      "text/html": [
       "\n",
       "        <h1 style=\"font-family:Arial;\">Gintama.: Shirogane no Tamashii-hen</h1>\n",
       "        <h3 style=\"font-family:Arial;\">Because you watched: Gintama, Gintama', Gintama': Enchousen</h3>\n",
       "        <img src=\"https://cdn.myanimelist.net/images/anime/12/89603.jpg\" alt=\"Gintama.: Shirogane no Tamashii-hen\" style=\"width:225px;height:auto;float:left;margin-right:15px;\">\n",
       "        <p><b>Synopsis:</b> After the fierce battle on Rakuyou, the untold past and true goal of the immortal Naraku leader, Utsuro, are finally revealed. By corrupting the Altana reserves of several planets, Utsuro has successfully triggered the intervention of the Tendoshuu’s greatest enemy: the Altana Liberation Army. With Earth as the main battleground in this interplanetary war, Utsuro's master plan to destroy the planet—and himself—is nearly complete. \n",
       "\n",
       "An attack on the O-Edo Central Terminal marks the beginning of the final battle to take back the land of the samurai. With the Yorozuya nowhere in sight, the bakufu all but collapsed, and the Shogun missing, the people are left completely helpless as the Liberation Army begins pillaging Edo in the name of freeing them from the Tendoshuu's rule. \n",
       "\n",
       "Caught in the crossfire between two equally imposing forces, can Gintoki, Kagura, Shinpachi, and the former students of Shouyou Yoshida put aside their differences and unite their allies to protect what they hold dear?</p>\n",
       "        <p><b>Score:</b> 8.81</p>\n",
       "        <p><b>Type:</b> TV</p>\n",
       "        <p><b>Episodes:</b> 12.0</p>\n",
       "        <p><b>Genres:</b> Action, Comedy, Sci-Fi</p>\n",
       "        <p><b>Themes:</b> Gag Humor, Historical, Parody, Samurai</p>\n",
       "        <p><b>Demographic:</b> Shounen</p>\n",
       "        <p><b>Season:</b> Winter 2018</p>\n",
       "        <p><b>MAL Page:</b> <a href=\"https://myanimelist.net/anime/36838/Gintama__Shirogane_no_Tamashii-hen\" target=\"_blank\">Link to MyAnimeList</a></p>\n",
       "        "
      ],
      "text/plain": [
       "<IPython.core.display.HTML object>"
      ]
     },
     "metadata": {},
     "output_type": "display_data"
    },
    {
     "data": {
      "text/html": [
       "<p><b>Trailer:</b> <a href=\"https://www.youtube.com/watch?v=vcb-D3FlaCg\" target=\"_blank\">Watch Trailer</a></p>"
      ],
      "text/plain": [
       "<IPython.core.display.HTML object>"
      ]
     },
     "metadata": {},
     "output_type": "display_data"
    },
    {
     "data": {
      "text/html": [
       "<hr>"
      ],
      "text/plain": [
       "<IPython.core.display.HTML object>"
      ]
     },
     "metadata": {},
     "output_type": "display_data"
    },
    {
     "data": {
      "text/html": [
       "\n",
       "        <h1 style=\"font-family:Arial;\">Bleach: Sennen Kessen-hen - Ketsubetsu-tan</h1>\n",
       "        <h3 style=\"font-family:Arial;\">Because you watched: JoJo no Kimyou na Bouken Part 5: Ougon no Kaze, JoJo no Kimyou na Bouken Part 6: Stone Ocean, JoJo no Kimyou na Bouken Part 6: Stone Ocean Part 2</h3>\n",
       "        <img src=\"https://cdn.myanimelist.net/images/anime/1164/138058.jpg\" alt=\"Bleach: Sennen Kessen-hen - Ketsubetsu-tan\" style=\"width:225px;height:auto;float:left;margin-right:15px;\">\n",
       "        <p><b>Synopsis:</b> After a brutal surprise attack by the forces of Quincy King Yhwach, the resident Reapers of the Soul Society lick their wounds and mourn their losses. Many of the surviving Soul Reaper captains train to battle without their Bankai, the ultimate technique wielded by the fiercest warriors.\n",
       "\n",
       "In the previous assault, Ichigo Kurosaki narrowly managed to help fend off Yhwach's fearsome wrath. However, to ultimately defeat his godly adversary and save his allies, Ichigo must now undergo severe training that will push him beyond his physical, emotional, and mental limits.\n",
       "\n",
       "Though Yhwach already holds the upper hand in this ongoing blood feud, he also successfully recruits Uryuu Ishida, Ichigo's close friend and rival, to be his successor. Yhwach strikes out once again at the weakened Soul Society, intent on finally obliterating his long-standing enemies. As Ichigo struggles to attain new power, the Soul Reaper captains fight for survival and borrowed time.</p>\n",
       "        <p><b>Score:</b> 8.7</p>\n",
       "        <p><b>Type:</b> TV</p>\n",
       "        <p><b>Episodes:</b> 13.0</p>\n",
       "        <p><b>Genres:</b> Action, Adventure, Supernatural</p>\n",
       "        \n",
       "        <p><b>Demographic:</b> Shounen</p>\n",
       "        <p><b>Season:</b> Summer 2023</p>\n",
       "        <p><b>MAL Page:</b> <a href=\"https://myanimelist.net/anime/53998/Bleach__Sennen_Kessen-hen_-_Ketsubetsu-tan\" target=\"_blank\">Link to MyAnimeList</a></p>\n",
       "        "
      ],
      "text/plain": [
       "<IPython.core.display.HTML object>"
      ]
     },
     "metadata": {},
     "output_type": "display_data"
    },
    {
     "data": {
      "text/html": [
       "<p><b>Trailer:</b> <a href=\"https://www.youtube.com/watch?v=SCsVvJR9iWM\" target=\"_blank\">Watch Trailer</a></p>"
      ],
      "text/plain": [
       "<IPython.core.display.HTML object>"
      ]
     },
     "metadata": {},
     "output_type": "display_data"
    },
    {
     "data": {
      "text/html": [
       "<hr>"
      ],
      "text/plain": [
       "<IPython.core.display.HTML object>"
      ]
     },
     "metadata": {},
     "output_type": "display_data"
    },
    {
     "data": {
      "text/html": [
       "\n",
       "        <h1 style=\"font-family:Arial;\">Nanatsu no Taizai</h1>\n",
       "        <h3 style=\"font-family:Arial;\">Because you watched: Koe no Katachi, Naruto, Naruto: Shippuuden</h3>\n",
       "        <img src=\"https://cdn.myanimelist.net/images/anime/8/65409.jpg\" alt=\"Nanatsu no Taizai\" style=\"width:225px;height:auto;float:left;margin-right:15px;\">\n",
       "        <p><b>Synopsis:</b> In a world similar to the European Middle Ages, the feared yet revered Holy Knights of Britannia use immensely powerful magic to protect the region of Britannia and its kingdoms. However, a small subset of the Knights supposedly betrayed their homeland and turned their blades against their comrades in an attempt to overthrow the ruler of Liones. They were defeated by the Holy Knights, but rumors continued to persist that these legendary knights, called the \"Seven Deadly Sins,\" were still alive. Ten years later, the Holy Knights themselves staged a coup d’état, and thus became the new, tyrannical rulers of the Kingdom of Liones.\n",
       "\n",
       "Based on the best-selling manga series of the same name, Nanatsu no Taizai follows the adventures of Elizabeth, the third princess of the Kingdom of Liones, and her search for the Seven Deadly Sins. With their help, she endeavors to not only take back her kingdom from the Holy Knights, but to also seek justice in an unjust world.</p>\n",
       "        <p><b>Score:</b> 7.63</p>\n",
       "        <p><b>Type:</b> TV</p>\n",
       "        <p><b>Episodes:</b> 24.0</p>\n",
       "        <p><b>Genres:</b> Action, Adventure, Fantasy</p>\n",
       "        \n",
       "        <p><b>Demographic:</b> Shounen</p>\n",
       "        <p><b>Season:</b> Fall 2014</p>\n",
       "        <p><b>MAL Page:</b> <a href=\"https://myanimelist.net/anime/23755/Nanatsu_no_Taizai\" target=\"_blank\">Link to MyAnimeList</a></p>\n",
       "        "
      ],
      "text/plain": [
       "<IPython.core.display.HTML object>"
      ]
     },
     "metadata": {},
     "output_type": "display_data"
    },
    {
     "data": {
      "text/html": [
       "<p><b>Trailer:</b> <a href=\"https://www.youtube.com/watch?v=wxcvbL6o55M\" target=\"_blank\">Watch Trailer</a></p>"
      ],
      "text/plain": [
       "<IPython.core.display.HTML object>"
      ]
     },
     "metadata": {},
     "output_type": "display_data"
    },
    {
     "data": {
      "text/html": [
       "<hr>"
      ],
      "text/plain": [
       "<IPython.core.display.HTML object>"
      ]
     },
     "metadata": {},
     "output_type": "display_data"
    },
    {
     "data": {
      "text/html": [
       "\n",
       "        <h1 style=\"font-family:Arial;\">Isekai Shikkaku</h1>\n",
       "        <h3 style=\"font-family:Arial;\">Because you watched: Kono Subarashii Sekai ni Shukufuku wo! 2: Kono Subarashii Geijutsu ni Shukufuku wo!, Kono Subarashii Sekai ni Shukufuku wo! 3, Kono Subarashii Sekai ni Shukufuku wo! Movie: Kurenai Densetsu</h3>\n",
       "        <img src=\"https://cdn.myanimelist.net/images/anime/1252/143457.jpg\" alt=\"Isekai Shikkaku\" style=\"width:225px;height:auto;float:left;margin-right:15px;\">\n",
       "        <p><b>Synopsis:</b> Just as the famous writer Sensei is about to accomplish his life ambition and commit double suicide with his lover Sacchan, he is hit by a truck and transported to another world. Deemed an adventurer by the local priestess Annette, Sensei is given the daunting mission of slaying the demon king. Refusing to play into his new role, Sensei decides his efforts are better served looking for Sacchan in the hope that she is somewhere in this new world.\n",
       "\n",
       "Early on in his journey, Sensei crosses paths with the martial artist Tama and unexpectedly saves her from mortal peril. Grateful for his actions, Tama decides to escort him. The pair are soon joined by Annette who, seduced by the writer's strong personality, has sworn to protect Sensei's life.\n",
       "\n",
       "As the unlikely trio wander the dangerous, monster-infested lands, they soon realize that human beings might be the true threats to the peace of the world—and Sensei might be the only one with the power to stop them.</p>\n",
       "        <p><b>Score:</b> 7.32</p>\n",
       "        <p><b>Type:</b> TV</p>\n",
       "        <p><b>Episodes:</b> 12.0</p>\n",
       "        <p><b>Genres:</b> Adventure, Comedy, Fantasy</p>\n",
       "        <p><b>Themes:</b> Isekai, Parody</p>\n",
       "        \n",
       "        <p><b>Season:</b> Summer 2024</p>\n",
       "        <p><b>MAL Page:</b> <a href=\"https://myanimelist.net/anime/52367/Isekai_Shikkaku\" target=\"_blank\">Link to MyAnimeList</a></p>\n",
       "        "
      ],
      "text/plain": [
       "<IPython.core.display.HTML object>"
      ]
     },
     "metadata": {},
     "output_type": "display_data"
    },
    {
     "data": {
      "text/html": [
       "<p><b>Trailer:</b> <a href=\"https://www.youtube.com/watch?v=lBFHDt7E7RA\" target=\"_blank\">Watch Trailer</a></p>"
      ],
      "text/plain": [
       "<IPython.core.display.HTML object>"
      ]
     },
     "metadata": {},
     "output_type": "display_data"
    },
    {
     "data": {
      "text/html": [
       "<hr>"
      ],
      "text/plain": [
       "<IPython.core.display.HTML object>"
      ]
     },
     "metadata": {},
     "output_type": "display_data"
    },
    {
     "data": {
      "text/html": [
       "\n",
       "        <h1 style=\"font-family:Arial;\">Isekai Quartet 2</h1>\n",
       "        <h3 style=\"font-family:Arial;\">Because you watched: Kono Subarashii Sekai ni Shukufuku wo! 3, Kono Subarashii Sekai ni Shukufuku wo!: Kono Subarashii Choker ni Shukufuku wo!, Isekai Quartet</h3>\n",
       "        <img src=\"https://cdn.myanimelist.net/images/anime/1030/103383.jpg\" alt=\"Isekai Quartet 2\" style=\"width:225px;height:auto;float:left;margin-right:15px;\">\n",
       "        <p><b>Synopsis:</b> Despite completing all the tasks given to them, Ainz Ooal Gown, Tanya Degurechaff, Kazuma Satou, Subaru Natsuki, and the other members of Class 2 are surprised to find out that their role as students is far from over. With no means of returning home, the class of eccentric personalities is still mysteriously stuck in the unfamiliar world. Although, as they are becoming quite fond of each other, spending more time together does not sound that bad.\n",
       "\n",
       "With the unexpected arrival of new transfer students, the comedic antics of our beloved characters continue to grow. Thus, their bizarre yet nonchalant school life continues.</p>\n",
       "        <p><b>Score:</b> 7.36</p>\n",
       "        <p><b>Type:</b> TV</p>\n",
       "        <p><b>Episodes:</b> 12.0</p>\n",
       "        <p><b>Genres:</b> Comedy, Fantasy</p>\n",
       "        <p><b>Themes:</b> Isekai, Parody</p>\n",
       "        \n",
       "        <p><b>Season:</b> Winter 2020</p>\n",
       "        <p><b>MAL Page:</b> <a href=\"https://myanimelist.net/anime/39988/Isekai_Quartet_2\" target=\"_blank\">Link to MyAnimeList</a></p>\n",
       "        "
      ],
      "text/plain": [
       "<IPython.core.display.HTML object>"
      ]
     },
     "metadata": {},
     "output_type": "display_data"
    },
    {
     "data": {
      "text/html": [
       "<p><b>Trailer:</b> <a href=\"https://www.youtube.com/watch?v=DgAW7Nlcqlw\" target=\"_blank\">Watch Trailer</a></p>"
      ],
      "text/plain": [
       "<IPython.core.display.HTML object>"
      ]
     },
     "metadata": {},
     "output_type": "display_data"
    },
    {
     "data": {
      "text/html": [
       "<hr>"
      ],
      "text/plain": [
       "<IPython.core.display.HTML object>"
      ]
     },
     "metadata": {},
     "output_type": "display_data"
    },
    {
     "data": {
      "text/html": [
       "\n",
       "        <h1 style=\"font-family:Arial;\">Re:Zero kara Hajimeru Isekai Seikatsu - Hyouketsu no Kizuna</h1>\n",
       "        <h3 style=\"font-family:Arial;\">Because you watched: Re:Zero kara Hajimeru Isekai Seikatsu, Re:Zero kara Hajimeru Isekai Seikatsu 2nd Season, Re:Zero kara Hajimeru Isekai Seikatsu 2nd Season Part 2</h3>\n",
       "        <img src=\"https://cdn.myanimelist.net/images/anime/1238/104023.jpg\" alt=\"Re:Zero kara Hajimeru Isekai Seikatsu - Hyouketsu no Kizuna\" style=\"width:225px;height:auto;float:left;margin-right:15px;\">\n",
       "        <p><b>Synopsis:</b> Covered in ice and snow, Elior Forest is the home to dangerous magical beasts and 50 elves frozen in ice. One day, the great spirit Puck helps a young girl break out of her ice prison. Her name is Emilia, a half-elf born with silver hair, long ears, and amethyst eyes—features that resemble the evil Witch who destroyed half the world long ago. \n",
       "\n",
       "Shunned by society because of her appearance, Emilia dwells in the forest with Puck as her sole companion and family. Burdened with a sin of destruction she does not remember committing, she spends her days trying to find a way to help her frozen kin. But when the great spirit Melakuera, the Arbitrator of the world, finds Emilia, her right to stay alive is brought into question. Will the bonds of ice she formed with Puck prove to be the warm thread that defies fate?</p>\n",
       "        <p><b>Score:</b> 7.59</p>\n",
       "        <p><b>Type:</b> Movie</p>\n",
       "        <p><b>Episodes:</b> 1.0</p>\n",
       "        <p><b>Genres:</b> Drama, Fantasy, Suspense</p>\n",
       "        <p><b>Themes:</b> Psychological</p>\n",
       "        \n",
       "        <p><b>Season:</b> Nov 8 2019</p>\n",
       "        <p><b>MAL Page:</b> <a href=\"https://myanimelist.net/anime/38414/Re_Zero_kara_Hajimeru_Isekai_Seikatsu_-_Hyouketsu_no_Kizuna\" target=\"_blank\">Link to MyAnimeList</a></p>\n",
       "        "
      ],
      "text/plain": [
       "<IPython.core.display.HTML object>"
      ]
     },
     "metadata": {},
     "output_type": "display_data"
    },
    {
     "data": {
      "text/html": [
       "<p><b>Trailer:</b> <a href=\"https://www.youtube.com/watch?v=CLFUEr2NV7I\" target=\"_blank\">Watch Trailer</a></p>"
      ],
      "text/plain": [
       "<IPython.core.display.HTML object>"
      ]
     },
     "metadata": {},
     "output_type": "display_data"
    },
    {
     "data": {
      "text/html": [
       "<hr>"
      ],
      "text/plain": [
       "<IPython.core.display.HTML object>"
      ]
     },
     "metadata": {},
     "output_type": "display_data"
    },
    {
     "data": {
      "text/html": [
       "\n",
       "        <h1 style=\"font-family:Arial;\">Kimetsu no Yaiba: Mugen Ressha-hen</h1>\n",
       "        <h3 style=\"font-family:Arial;\">Because you watched: Kimetsu no Yaiba, Kimetsu no Yaiba Movie: Mugen Ressha-hen, Kimetsu no Yaiba: Yuukaku-hen</h3>\n",
       "        <img src=\"https://cdn.myanimelist.net/images/anime/1065/118763.jpg\" alt=\"Kimetsu no Yaiba: Mugen Ressha-hen\" style=\"width:225px;height:auto;float:left;margin-right:15px;\">\n",
       "        <p><b>Synopsis:</b> A mysterious string of disappearances on a certain train has caught the attention of the Demon Slayer Corps, and they have sent one of their best to exterminate what can only be a demon responsible. However, the plan to board the Mugen Train is delayed by a lesser demon who is terrorizing the mechanics and targeting a kind, elderly woman and her granddaughter. Kyoujurou Rengoku, the Flame Hashira, must eliminate the threat before boarding the train.\n",
       "\n",
       "Sent to assist the Hashira, Tanjirou Kamado, Inosuke Hashira, and Zenitsu Agatsuma enter the train prepared to fight. But their monstrous target already has a devious plan in store for them and the two hundred passengers: by delving deep into their consciousness, the demon intends to obliterate everyone in a stunning display of the power held by the Twelve Kizuki.</p>\n",
       "        <p><b>Score:</b> 8.36</p>\n",
       "        <p><b>Type:</b> TV</p>\n",
       "        <p><b>Episodes:</b> 7.0</p>\n",
       "        <p><b>Genres:</b> Action, Fantasy</p>\n",
       "        <p><b>Themes:</b> Historical</p>\n",
       "        <p><b>Demographic:</b> Shounen</p>\n",
       "        <p><b>Season:</b> Fall 2021</p>\n",
       "        <p><b>MAL Page:</b> <a href=\"https://myanimelist.net/anime/49926/Kimetsu_no_Yaiba__Mugen_Ressha-hen\" target=\"_blank\">Link to MyAnimeList</a></p>\n",
       "        "
      ],
      "text/plain": [
       "<IPython.core.display.HTML object>"
      ]
     },
     "metadata": {},
     "output_type": "display_data"
    },
    {
     "data": {
      "text/html": [
       "<p><b>Trailer:</b> <a href=\"nan\" target=\"_blank\">Watch Trailer</a></p>"
      ],
      "text/plain": [
       "<IPython.core.display.HTML object>"
      ]
     },
     "metadata": {},
     "output_type": "display_data"
    },
    {
     "data": {
      "text/html": [
       "<hr>"
      ],
      "text/plain": [
       "<IPython.core.display.HTML object>"
      ]
     },
     "metadata": {},
     "output_type": "display_data"
    },
    {
     "data": {
      "text/html": [
       "\n",
       "        <h1 style=\"font-family:Arial;\">Kimi ni Todoke</h1>\n",
       "        <h3 style=\"font-family:Arial;\">Because you watched: Kimi no Suizou wo Tabetai, ReLIFE</h3>\n",
       "        <img src=\"https://cdn.myanimelist.net/images/anime/1502/124384.jpg\" alt=\"Kimi ni Todoke\" style=\"width:225px;height:auto;float:left;margin-right:15px;\">\n",
       "        <p><b>Synopsis:</b> Known for her semblance to the Sadako character of The Ring series, Sawako Kuronuma is given the nickname \"Sadako\" and misunderstood to be frightening and malicious like her fictional counterpart, despite having a timid and sweet nature. Longing to make friends and live a normal life, Sawako is naturally drawn to the cheerful and friendly Shouta Kazehaya, the most popular boy in her class. From their first meeting, Sawako has admired Kazehaya's ability to be the center of attention and aspires to be like him.\n",
       "\n",
       "When Kazehaya organizes a test of courage for the entire class and encourages her to attend, Sawako sees this as an opportunity to get along with her classmates, starting with Ayane Yano and Chizuru Yoshida. Through each new encounter and emotion she experiences, Sawako believes that meeting Kazehaya has changed her for the better. Little does Sawako know, her presence has also changed Kazehaya.</p>\n",
       "        <p><b>Score:</b> 8.02</p>\n",
       "        <p><b>Type:</b> TV</p>\n",
       "        <p><b>Episodes:</b> 25.0</p>\n",
       "        <p><b>Genres:</b> Drama, Romance</p>\n",
       "        <p><b>Themes:</b> School</p>\n",
       "        <p><b>Demographic:</b> Shoujo</p>\n",
       "        <p><b>Season:</b> Fall 2009</p>\n",
       "        <p><b>MAL Page:</b> <a href=\"https://myanimelist.net/anime/6045/Kimi_ni_Todoke\" target=\"_blank\">Link to MyAnimeList</a></p>\n",
       "        "
      ],
      "text/plain": [
       "<IPython.core.display.HTML object>"
      ]
     },
     "metadata": {},
     "output_type": "display_data"
    },
    {
     "data": {
      "text/html": [
       "<p><b>Trailer:</b> <a href=\"https://www.youtube.com/watch?v=_gJR6gfRYEQ\" target=\"_blank\">Watch Trailer</a></p>"
      ],
      "text/plain": [
       "<IPython.core.display.HTML object>"
      ]
     },
     "metadata": {},
     "output_type": "display_data"
    },
    {
     "data": {
      "text/html": [
       "<hr>"
      ],
      "text/plain": [
       "<IPython.core.display.HTML object>"
      ]
     },
     "metadata": {},
     "output_type": "display_data"
    },
    {
     "data": {
      "text/html": [
       "\n",
       "        <h1 style=\"font-family:Arial;\">Made in Abyss Movie 2: Hourou Suru Tasogare</h1>\n",
       "        <h3 style=\"font-family:Arial;\">Because you watched: Made in Abyss: Retsujitsu no Ougonkyou, Made in Abyss Movie 3: Fukaki Tamashii no Reimei</h3>\n",
       "        <img src=\"https://cdn.myanimelist.net/images/anime/1336/95168.jpg\" alt=\"Made in Abyss Movie 2: Hourou Suru Tasogare\" style=\"width:225px;height:auto;float:left;margin-right:15px;\">\n",
       "        <p><b>Synopsis:</b> The movie is a compilation of episodes 9-13 of the 2017 television series. Riko and Reg descend to the third layer where Riko has her first experience of the Curse. They descend to the fourth layer where Riko's arm is injured by an Orbed Piercer and Reg tries to save her. Nanachi comes to their aid and saves Riko's poisoned arm. In return Nanachi asks Reg to kill her immortal companion Mitty. Nanachi then joins Riko and Reg in their quest to reach the bottom of the Abyss.\n",
       "\n",
       "(Source: Wikipedia)</p>\n",
       "        <p><b>Score:</b> 8.38</p>\n",
       "        <p><b>Type:</b> Movie</p>\n",
       "        <p><b>Episodes:</b> 1.0</p>\n",
       "        <p><b>Genres:</b> Adventure, Drama, Fantasy, Mystery, Sci-Fi</p>\n",
       "        <p><b>Themes:</b> Gore</p>\n",
       "        \n",
       "        <p><b>Season:</b> Jan 18 2019</p>\n",
       "        <p><b>MAL Page:</b> <a href=\"https://myanimelist.net/anime/37515/Made_in_Abyss_Movie_2__Hourou_Suru_Tasogare\" target=\"_blank\">Link to MyAnimeList</a></p>\n",
       "        "
      ],
      "text/plain": [
       "<IPython.core.display.HTML object>"
      ]
     },
     "metadata": {},
     "output_type": "display_data"
    },
    {
     "data": {
      "text/html": [
       "<p><b>Trailer:</b> <a href=\"https://www.youtube.com/watch?v=t_X8zqhIiJ0\" target=\"_blank\">Watch Trailer</a></p>"
      ],
      "text/plain": [
       "<IPython.core.display.HTML object>"
      ]
     },
     "metadata": {},
     "output_type": "display_data"
    },
    {
     "data": {
      "text/html": [
       "<hr>"
      ],
      "text/plain": [
       "<IPython.core.display.HTML object>"
      ]
     },
     "metadata": {},
     "output_type": "display_data"
    },
    {
     "data": {
      "text/html": [
       "\n",
       "        <h1 style=\"font-family:Arial;\">Made in Abyss Movie 1: Tabidachi no Yoake</h1>\n",
       "        <h3 style=\"font-family:Arial;\">Because you watched: Made in Abyss: Retsujitsu no Ougonkyou, Made in Abyss Movie 3: Fukaki Tamashii no Reimei</h3>\n",
       "        <img src=\"https://cdn.myanimelist.net/images/anime/1173/95167.jpg\" alt=\"Made in Abyss Movie 1: Tabidachi no Yoake\" style=\"width:225px;height:auto;float:left;margin-right:15px;\">\n",
       "        <p><b>Synopsis:</b> The movie is a compilation of episodes 1-8 of the 2017 television series with new scenes added for the introduction. It covers the period from when Riko descends into the Abyss with her robot companion Reg, reaching the second layer where they meet the White Whistle Ozen who reveals information about Riko's mother.\n",
       "\n",
       "(Source: Wikipedia)</p>\n",
       "        <p><b>Score:</b> 8.17</p>\n",
       "        <p><b>Type:</b> Movie</p>\n",
       "        <p><b>Episodes:</b> 1.0</p>\n",
       "        <p><b>Genres:</b> Adventure, Drama, Fantasy, Mystery, Sci-Fi</p>\n",
       "        <p><b>Themes:</b> Gore</p>\n",
       "        \n",
       "        <p><b>Season:</b> Jan 4 2019</p>\n",
       "        <p><b>MAL Page:</b> <a href=\"https://myanimelist.net/anime/37514/Made_in_Abyss_Movie_1__Tabidachi_no_Yoake\" target=\"_blank\">Link to MyAnimeList</a></p>\n",
       "        "
      ],
      "text/plain": [
       "<IPython.core.display.HTML object>"
      ]
     },
     "metadata": {},
     "output_type": "display_data"
    },
    {
     "data": {
      "text/html": [
       "<p><b>Trailer:</b> <a href=\"https://www.youtube.com/watch?v=FqrFYzci_Ws\" target=\"_blank\">Watch Trailer</a></p>"
      ],
      "text/plain": [
       "<IPython.core.display.HTML object>"
      ]
     },
     "metadata": {},
     "output_type": "display_data"
    },
    {
     "data": {
      "text/html": [
       "<hr>"
      ],
      "text/plain": [
       "<IPython.core.display.HTML object>"
      ]
     },
     "metadata": {},
     "output_type": "display_data"
    },
    {
     "data": {
      "text/html": [
       "\n",
       "        <h1 style=\"font-family:Arial;\">Goblin Slayer: Goblin's Crown</h1>\n",
       "        <h3 style=\"font-family:Arial;\">Because you watched: Made in Abyss: Retsujitsu no Ougonkyou, Made in Abyss Movie 3: Fukaki Tamashii no Reimei</h3>\n",
       "        <img src=\"https://cdn.myanimelist.net/images/anime/1699/110724.jpg\" alt=\"Goblin Slayer: Goblin's Crown\" style=\"width:225px;height:auto;float:left;margin-right:15px;\">\n",
       "        <p><b>Synopsis:</b> Goblin Slayer and his party head up to the snowy mountains in the north after receiving a request from the Sword Maiden. A small village gets attacked, they encounter a mysterious chapel, and something about how these goblins are acting bothers the Goblin Slayer.\n",
       "\n",
       "(Source: Crunchyroll)</p>\n",
       "        <p><b>Score:</b> 7.26</p>\n",
       "        <p><b>Type:</b> Movie</p>\n",
       "        <p><b>Episodes:</b> 1.0</p>\n",
       "        <p><b>Genres:</b> Action, Adventure, Fantasy</p>\n",
       "        <p><b>Themes:</b> Gore</p>\n",
       "        \n",
       "        <p><b>Season:</b> Feb 1 2020</p>\n",
       "        <p><b>MAL Page:</b> <a href=\"https://myanimelist.net/anime/39576/Goblin_Slayer__Goblins_Crown\" target=\"_blank\">Link to MyAnimeList</a></p>\n",
       "        "
      ],
      "text/plain": [
       "<IPython.core.display.HTML object>"
      ]
     },
     "metadata": {},
     "output_type": "display_data"
    },
    {
     "data": {
      "text/html": [
       "<p><b>Trailer:</b> <a href=\"https://www.youtube.com/watch?v=GwQXCqud3g8\" target=\"_blank\">Watch Trailer</a></p>"
      ],
      "text/plain": [
       "<IPython.core.display.HTML object>"
      ]
     },
     "metadata": {},
     "output_type": "display_data"
    },
    {
     "data": {
      "text/html": [
       "<hr>"
      ],
      "text/plain": [
       "<IPython.core.display.HTML object>"
      ]
     },
     "metadata": {},
     "output_type": "display_data"
    },
    {
     "data": {
      "text/html": [
       "\n",
       "        <h1 style=\"font-family:Arial;\">Ajin Part 2</h1>\n",
       "        <h3 style=\"font-family:Arial;\">Because you watched: Made in Abyss: Retsujitsu no Ougonkyou, Made in Abyss Movie 3: Fukaki Tamashii no Reimei</h3>\n",
       "        <img src=\"https://cdn.myanimelist.net/images/anime/12/81858.jpg\" alt=\"Ajin Part 2\" style=\"width:225px;height:auto;float:left;margin-right:15px;\">\n",
       "        <p><b>Synopsis:</b> After escaping certain death, Kei Nagai and his new companion Kou Nakano plot revenge on Satou, their fellow Ajin who is hellbent on world domination. As Satou embarks on a string of public executions, the human race rushes to come up with a solution to stop the immortal villain.\n",
       "\n",
       "Kei discovers unlikely allies in the form of two former adversaries: high-ranking government official Yuu Tosaki, whose extensive research on Ajin gives him a tactical advantage in the fight against Satou, and Tosaki's Ajin assistant Izumi Shimomura. As his faction continues to gather allies, Kei races against time to put a stop to Satou's crusade before it brings about an end to civilization as he knows it.</p>\n",
       "        <p><b>Score:</b> 7.56</p>\n",
       "        <p><b>Type:</b> TV</p>\n",
       "        <p><b>Episodes:</b> 13.0</p>\n",
       "        <p><b>Genres:</b> Action, Horror, Mystery, Supernatural</p>\n",
       "        <p><b>Themes:</b> Gore</p>\n",
       "        <p><b>Demographic:</b> Seinen</p>\n",
       "        <p><b>Season:</b> Fall 2016</p>\n",
       "        <p><b>MAL Page:</b> <a href=\"https://myanimelist.net/anime/33253/Ajin_Part_2\" target=\"_blank\">Link to MyAnimeList</a></p>\n",
       "        "
      ],
      "text/plain": [
       "<IPython.core.display.HTML object>"
      ]
     },
     "metadata": {},
     "output_type": "display_data"
    },
    {
     "data": {
      "text/html": [
       "<p><b>Trailer:</b> <a href=\"https://www.youtube.com/watch?v=sQAYvPNFZZI\" target=\"_blank\">Watch Trailer</a></p>"
      ],
      "text/plain": [
       "<IPython.core.display.HTML object>"
      ]
     },
     "metadata": {},
     "output_type": "display_data"
    },
    {
     "data": {
      "text/html": [
       "<hr>"
      ],
      "text/plain": [
       "<IPython.core.display.HTML object>"
      ]
     },
     "metadata": {},
     "output_type": "display_data"
    },
    {
     "data": {
      "text/html": [
       "\n",
       "        <h1 style=\"font-family:Arial;\">Mushoku Tensei II: Isekai Ittara Honki Dasu - Shugo Jutsushi Fitz</h1>\n",
       "        <h3 style=\"font-family:Arial;\">Because you watched: Mushoku Tensei II: Isekai Ittara Honki Dasu, Mushoku Tensei II: Isekai Ittara Honki Dasu Part 2</h3>\n",
       "        <img src=\"https://cdn.myanimelist.net/images/anime/1627/136934.jpg\" alt=\"Mushoku Tensei II: Isekai Ittara Honki Dasu - Shugo Jutsushi Fitz\" style=\"width:225px;height:auto;float:left;margin-right:15px;\">\n",
       "        <p><b>Synopsis:</b> In the immediate aftermath of the mana calamity, Sylphiette finds herself teleported to the heart of the Asura Kingdom: the royal palace. Her sudden appearance accidentally saves the life of second princess Ariel Anemoi Asura, who has her sights set on becoming the ruler of the realm. Witnessing Sylphiette's talent with combat magic firsthand, Ariel recruits her as her bodyguard and right-hand woman, commencing their journey to power—which proves far more treacherous than first imagined.</p>\n",
       "        <p><b>Score:</b> 7.53</p>\n",
       "        <p><b>Type:</b> TV Special</p>\n",
       "        <p><b>Episodes:</b> 1.0</p>\n",
       "        <p><b>Genres:</b> Adventure, Drama, Fantasy, Ecchi</p>\n",
       "        <p><b>Themes:</b> Isekai, Reincarnation</p>\n",
       "        \n",
       "        <p><b>Season:</b> Jul 3 2023</p>\n",
       "        <p><b>MAL Page:</b> <a href=\"https://myanimelist.net/anime/55818/Mushoku_Tensei_II__Isekai_Ittara_Honki_Dasu_-_Shugo_Jutsushi_Fitz\" target=\"_blank\">Link to MyAnimeList</a></p>\n",
       "        "
      ],
      "text/plain": [
       "<IPython.core.display.HTML object>"
      ]
     },
     "metadata": {},
     "output_type": "display_data"
    },
    {
     "data": {
      "text/html": [
       "<p><b>Trailer:</b> <a href=\"nan\" target=\"_blank\">Watch Trailer</a></p>"
      ],
      "text/plain": [
       "<IPython.core.display.HTML object>"
      ]
     },
     "metadata": {},
     "output_type": "display_data"
    },
    {
     "data": {
      "text/html": [
       "<hr>"
      ],
      "text/plain": [
       "<IPython.core.display.HTML object>"
      ]
     },
     "metadata": {},
     "output_type": "display_data"
    },
    {
     "data": {
      "text/html": [
       "\n",
       "        <h1 style=\"font-family:Arial;\">Hunter x Hunter (2011)</h1>\n",
       "        <h3 style=\"font-family:Arial;\">Because you watched: Sousou no Frieren, Fumetsu no Anata e</h3>\n",
       "        <img src=\"https://cdn.myanimelist.net/images/anime/1337/99013.jpg\" alt=\"Hunter x Hunter (2011)\" style=\"width:225px;height:auto;float:left;margin-right:15px;\">\n",
       "        <p><b>Synopsis:</b> Hunters devote themselves to accomplishing hazardous tasks, all from traversing the world's uncharted territories to locating rare items and monsters. Before becoming a Hunter, one must pass the Hunter Examination—a high-risk selection process in which most applicants end up handicapped or worse, deceased.\n",
       "\n",
       "Ambitious participants who challenge the notorious exam carry their own reason. What drives 12-year-old Gon Freecss is finding Ging, his father and a Hunter himself. Believing that he will meet his father by becoming a Hunter, Gon takes the first step to walk the same path.\n",
       "\n",
       "During the Hunter Examination, Gon befriends the medical student Leorio Paladiknight, the vindictive Kurapika, and ex-assassin Killua Zoldyck. While their motives vastly differ from each other, they band together for a common goal and begin to venture into a perilous world.</p>\n",
       "        <p><b>Score:</b> 9.03</p>\n",
       "        <p><b>Type:</b> TV</p>\n",
       "        <p><b>Episodes:</b> 148.0</p>\n",
       "        <p><b>Genres:</b> Action, Adventure, Fantasy</p>\n",
       "        \n",
       "        <p><b>Demographic:</b> Shounen</p>\n",
       "        <p><b>Season:</b> Fall 2011</p>\n",
       "        <p><b>MAL Page:</b> <a href=\"https://myanimelist.net/anime/11061/Hunter_x_Hunter_2011\" target=\"_blank\">Link to MyAnimeList</a></p>\n",
       "        "
      ],
      "text/plain": [
       "<IPython.core.display.HTML object>"
      ]
     },
     "metadata": {},
     "output_type": "display_data"
    },
    {
     "data": {
      "text/html": [
       "<p><b>Trailer:</b> <a href=\"https://www.youtube.com/watch?v=D9iTQRB4XRk\" target=\"_blank\">Watch Trailer</a></p>"
      ],
      "text/plain": [
       "<IPython.core.display.HTML object>"
      ]
     },
     "metadata": {},
     "output_type": "display_data"
    },
    {
     "data": {
      "text/html": [
       "<hr>"
      ],
      "text/plain": [
       "<IPython.core.display.HTML object>"
      ]
     },
     "metadata": {},
     "output_type": "display_data"
    },
    {
     "data": {
      "text/html": [
       "\n",
       "        <h1 style=\"font-family:Arial;\">Vinland Saga Season 2: Drowning in the Shadow</h1>\n",
       "        <h3 style=\"font-family:Arial;\">Because you watched: Vinland Saga, Vinland Saga Season 2</h3>\n",
       "        <img src=\"https://cdn.myanimelist.net/images/anime/1118/133378.jpg\" alt=\"Vinland Saga Season 2: Drowning in the Shadow\" style=\"width:225px;height:auto;float:left;margin-right:15px;\">\n",
       "        <p><b>Synopsis:</b> Thorfinn, shown initially as he appears as a member of Askeladd's raiders, cuts down some men in the middle of a raid. When he enters a nearby house, he finds a family cowering within.\n",
       "\n",
       "(Source: ANN, edited)</p>\n",
       "        <p><b>Score:</b> 7.45</p>\n",
       "        <p><b>Type:</b> ONA</p>\n",
       "        <p><b>Episodes:</b> 1.0</p>\n",
       "        <p><b>Genres:</b> Action, Adventure, Drama</p>\n",
       "        <p><b>Themes:</b> Gore, Historical</p>\n",
       "        <p><b>Demographic:</b> Seinen</p>\n",
       "        <p><b>Season:</b> Feb 14 2023</p>\n",
       "        <p><b>MAL Page:</b> <a href=\"https://myanimelist.net/anime/54463/Vinland_Saga_Season_2__Drowning_in_the_Shadow\" target=\"_blank\">Link to MyAnimeList</a></p>\n",
       "        "
      ],
      "text/plain": [
       "<IPython.core.display.HTML object>"
      ]
     },
     "metadata": {},
     "output_type": "display_data"
    },
    {
     "data": {
      "text/html": [
       "<p><b>Trailer:</b> <a href=\"nan\" target=\"_blank\">Watch Trailer</a></p>"
      ],
      "text/plain": [
       "<IPython.core.display.HTML object>"
      ]
     },
     "metadata": {},
     "output_type": "display_data"
    },
    {
     "data": {
      "text/html": [
       "<hr>"
      ],
      "text/plain": [
       "<IPython.core.display.HTML object>"
      ]
     },
     "metadata": {},
     "output_type": "display_data"
    },
    {
     "data": {
      "text/html": [
       "\n",
       "        <h1 style=\"font-family:Arial;\">Vinland Saga Season 2: Same Old Story</h1>\n",
       "        <h3 style=\"font-family:Arial;\">Because you watched: Vinland Saga, Vinland Saga Season 2</h3>\n",
       "        <img src=\"https://cdn.myanimelist.net/images/anime/1528/135912.jpg\" alt=\"Vinland Saga Season 2: Same Old Story\" style=\"width:225px;height:auto;float:left;margin-right:15px;\">\n",
       "        <p><b>Synopsis:</b> Additional scene intended to air as part of Vinland Saga Season 2's 18th episode.</p>\n",
       "        <p><b>Score:</b> 6.9</p>\n",
       "        <p><b>Type:</b> ONA</p>\n",
       "        <p><b>Episodes:</b> 1.0</p>\n",
       "        <p><b>Genres:</b> Action, Adventure, Drama</p>\n",
       "        <p><b>Themes:</b> Gore, Historical</p>\n",
       "        <p><b>Demographic:</b> Seinen</p>\n",
       "        <p><b>Season:</b> May 12 2023</p>\n",
       "        <p><b>MAL Page:</b> <a href=\"https://myanimelist.net/anime/55272/Vinland_Saga_Season_2__Same_Old_Story\" target=\"_blank\">Link to MyAnimeList</a></p>\n",
       "        "
      ],
      "text/plain": [
       "<IPython.core.display.HTML object>"
      ]
     },
     "metadata": {},
     "output_type": "display_data"
    },
    {
     "data": {
      "text/html": [
       "<p><b>Trailer:</b> <a href=\"nan\" target=\"_blank\">Watch Trailer</a></p>"
      ],
      "text/plain": [
       "<IPython.core.display.HTML object>"
      ]
     },
     "metadata": {},
     "output_type": "display_data"
    },
    {
     "data": {
      "text/html": [
       "<hr>"
      ],
      "text/plain": [
       "<IPython.core.display.HTML object>"
      ]
     },
     "metadata": {},
     "output_type": "display_data"
    },
    {
     "data": {
      "text/html": [
       "\n",
       "        <h1 style=\"font-family:Arial;\">Lupin the IIIrd: Chikemuri no Ishikawa Goemon</h1>\n",
       "        <h3 style=\"font-family:Arial;\">Because you watched: Vinland Saga, Vinland Saga Season 2</h3>\n",
       "        <img src=\"https://cdn.myanimelist.net/images/anime/8/83091.jpg\" alt=\"Lupin the IIIrd: Chikemuri no Ishikawa Goemon\" style=\"width:225px;height:auto;float:left;margin-right:15px;\">\n",
       "        <p><b>Synopsis:</b> Lupin's friend, the samurai Goemon Ishikawa, takes a job as bodyguard for a yakuza boss. But a brutal assassin kills the yakuza and Goemon is honor-bound to track him down.\n",
       "\n",
       "(Source: IMDB)</p>\n",
       "        <p><b>Score:</b> 7.86</p>\n",
       "        <p><b>Type:</b> Movie</p>\n",
       "        <p><b>Episodes:</b> 1.0</p>\n",
       "        <p><b>Genres:</b> Action, Adventure, Drama</p>\n",
       "        <p><b>Themes:</b> Adult Cast</p>\n",
       "        <p><b>Demographic:</b> Seinen</p>\n",
       "        <p><b>Season:</b> Feb 4 2017</p>\n",
       "        <p><b>MAL Page:</b> <a href=\"https://myanimelist.net/anime/34021/Lupin_the_IIIrd__Chikemuri_no_Ishikawa_Goemon\" target=\"_blank\">Link to MyAnimeList</a></p>\n",
       "        "
      ],
      "text/plain": [
       "<IPython.core.display.HTML object>"
      ]
     },
     "metadata": {},
     "output_type": "display_data"
    },
    {
     "data": {
      "text/html": [
       "<p><b>Trailer:</b> <a href=\"https://www.youtube.com/watch?v=mJbdrllipvw\" target=\"_blank\">Watch Trailer</a></p>"
      ],
      "text/plain": [
       "<IPython.core.display.HTML object>"
      ]
     },
     "metadata": {},
     "output_type": "display_data"
    },
    {
     "data": {
      "text/html": [
       "<hr>"
      ],
      "text/plain": [
       "<IPython.core.display.HTML object>"
      ]
     },
     "metadata": {},
     "output_type": "display_data"
    },
    {
     "data": {
      "text/html": [
       "\n",
       "        <h1 style=\"font-family:Arial;\">Lupin the IIIrd: Jigen Daisuke no Bohyou</h1>\n",
       "        <h3 style=\"font-family:Arial;\">Because you watched: Vinland Saga, Vinland Saga Season 2</h3>\n",
       "        <img src=\"https://cdn.myanimelist.net/images/anime/12/69457.jpg\" alt=\"Lupin the IIIrd: Jigen Daisuke no Bohyou\" style=\"width:225px;height:auto;float:left;margin-right:15px;\">\n",
       "        <p><b>Synopsis:</b> The film will be a continuation spinoff of the 2012 \"Lupin III: The Woman Called Fujiko Mine\" television anime series.\n",
       "\n",
       "Lupin and Jigen have their sights set on a treasure worth stealing called the Little Comet which is located in the country of East Doroa. The country has fortified its border after a singer named Queen Malta got assassinated in the neighboring country of West Doroa upon visit. \n",
       "\n",
       "Despite the two countries being enemies, Lupin and Jigen still plan to steal the treasure. During the heist, Jigen almost got killed by a skilled sniper named Yael Okuzaki. His specialty is preparing tombstones for his targets before executing his kills. Its said that no one has survived after Yael makes a grave for that target.\n",
       "\n",
       "(Source: ANN)</p>\n",
       "        <p><b>Score:</b> 7.8</p>\n",
       "        <p><b>Type:</b> Movie</p>\n",
       "        <p><b>Episodes:</b> 1.0</p>\n",
       "        <p><b>Genres:</b> Action, Adventure, Drama</p>\n",
       "        <p><b>Themes:</b> Adult Cast</p>\n",
       "        <p><b>Demographic:</b> Seinen</p>\n",
       "        <p><b>Season:</b> Jun 21 2014</p>\n",
       "        <p><b>MAL Page:</b> <a href=\"https://myanimelist.net/anime/23293/Lupin_the_IIIrd__Jigen_Daisuke_no_Bohyou\" target=\"_blank\">Link to MyAnimeList</a></p>\n",
       "        "
      ],
      "text/plain": [
       "<IPython.core.display.HTML object>"
      ]
     },
     "metadata": {},
     "output_type": "display_data"
    },
    {
     "data": {
      "text/html": [
       "<p><b>Trailer:</b> <a href=\"https://www.youtube.com/watch?v=N9AuACG76Zo\" target=\"_blank\">Watch Trailer</a></p>"
      ],
      "text/plain": [
       "<IPython.core.display.HTML object>"
      ]
     },
     "metadata": {},
     "output_type": "display_data"
    },
    {
     "data": {
      "text/html": [
       "<hr>"
      ],
      "text/plain": [
       "<IPython.core.display.HTML object>"
      ]
     },
     "metadata": {},
     "output_type": "display_data"
    },
    {
     "data": {
      "text/html": [
       "\n",
       "        <h1 style=\"font-family:Arial;\">Tate no Yuusha no Nariagari Season 2</h1>\n",
       "        <h3 style=\"font-family:Arial;\">Because you watched: Fullmetal Alchemist: Brotherhood, Tate no Yuusha no Nariagari</h3>\n",
       "        <img src=\"https://cdn.myanimelist.net/images/anime/1143/121873.jpg\" alt=\"Tate no Yuusha no Nariagari Season 2\" style=\"width:225px;height:auto;float:left;margin-right:15px;\">\n",
       "        <p><b>Synopsis:</b> With another Wave happening in a week, Naofumi Iwatani and his party have no time to waste. However, when bat familiars raid Lurolona Village and the Wave countdown comes to a halt, the Four Cardinal Heroes reconvene with the queen, Mirelia Q Melromarc, for a quick briefing. The queen presumes that the odd occurrences are linked to the Spirit Tortoise—a threatening creature that has awakened from its slumber, back to cause havoc once again. A plan to put the Spirit Tortoise to rest is devised—but out of the four men, only the cursed Shield Hero agrees to help.</p>\n",
       "        <p><b>Score:</b> 6.52</p>\n",
       "        <p><b>Type:</b> TV</p>\n",
       "        <p><b>Episodes:</b> 13.0</p>\n",
       "        <p><b>Genres:</b> Action, Adventure, Drama, Fantasy</p>\n",
       "        <p><b>Themes:</b> Isekai</p>\n",
       "        \n",
       "        <p><b>Season:</b> Spring 2022</p>\n",
       "        <p><b>MAL Page:</b> <a href=\"https://myanimelist.net/anime/40356/Tate_no_Yuusha_no_Nariagari_Season_2\" target=\"_blank\">Link to MyAnimeList</a></p>\n",
       "        "
      ],
      "text/plain": [
       "<IPython.core.display.HTML object>"
      ]
     },
     "metadata": {},
     "output_type": "display_data"
    },
    {
     "data": {
      "text/html": [
       "<p><b>Trailer:</b> <a href=\"https://www.youtube.com/watch?v=TA4OjH-RSeA\" target=\"_blank\">Watch Trailer</a></p>"
      ],
      "text/plain": [
       "<IPython.core.display.HTML object>"
      ]
     },
     "metadata": {},
     "output_type": "display_data"
    },
    {
     "data": {
      "text/html": [
       "<hr>"
      ],
      "text/plain": [
       "<IPython.core.display.HTML object>"
      ]
     },
     "metadata": {},
     "output_type": "display_data"
    },
    {
     "data": {
      "text/html": [
       "\n",
       "        <h1 style=\"font-family:Arial;\">Gintama.: Porori-hen</h1>\n",
       "        <h3 style=\"font-family:Arial;\">Because you watched: Gintama', Gintama': Enchousen</h3>\n",
       "        <img src=\"https://cdn.myanimelist.net/images/anime/11/88325.jpg\" alt=\"Gintama.: Porori-hen\" style=\"width:225px;height:auto;float:left;margin-right:15px;\">\n",
       "        <p><b>Synopsis:</b> Following the grim events of Iga, Kokujou Island, Rakuyou, and multiple fruitless confrontations with the Tenshouin Naraku and Tendoshuu, Gintama.: Porori-hen takes its viewers on a trip down memory lane to when Yorozuya were mostly doing what they did best—odd jobs. The great space hunter Umibouzu has returned to Edo and is livid when he finds out that his daughter Kagura has a boyfriend. He blames Gintoki for being an incompetent guardian, but has the time finally come for him to let go of his daughter?\n",
       "\n",
       "Back with shameless parodies, risqué humor, and lively camaraderie, Gintoki, Kagura, and Shinpachi are faced with unforeseen situations that manage to be both hilarious and emotionally stirring.</p>\n",
       "        <p><b>Score:</b> 8.52</p>\n",
       "        <p><b>Type:</b> TV</p>\n",
       "        <p><b>Episodes:</b> 13.0</p>\n",
       "        <p><b>Genres:</b> Action, Comedy, Sci-Fi</p>\n",
       "        <p><b>Themes:</b> Gag Humor, Historical, Parody, Samurai</p>\n",
       "        <p><b>Demographic:</b> Shounen</p>\n",
       "        <p><b>Season:</b> Fall 2017</p>\n",
       "        <p><b>MAL Page:</b> <a href=\"https://myanimelist.net/anime/35843/Gintama__Porori-hen\" target=\"_blank\">Link to MyAnimeList</a></p>\n",
       "        "
      ],
      "text/plain": [
       "<IPython.core.display.HTML object>"
      ]
     },
     "metadata": {},
     "output_type": "display_data"
    },
    {
     "data": {
      "text/html": [
       "<p><b>Trailer:</b> <a href=\"https://www.youtube.com/watch?v=sznFcl1O3GI\" target=\"_blank\">Watch Trailer</a></p>"
      ],
      "text/plain": [
       "<IPython.core.display.HTML object>"
      ]
     },
     "metadata": {},
     "output_type": "display_data"
    },
    {
     "data": {
      "text/html": [
       "<hr>"
      ],
      "text/plain": [
       "<IPython.core.display.HTML object>"
      ]
     },
     "metadata": {},
     "output_type": "display_data"
    },
    {
     "data": {
      "text/html": [
       "\n",
       "        <h1 style=\"font-family:Arial;\">Phantom: Requiem for the Phantom</h1>\n",
       "        <h3 style=\"font-family:Arial;\">Because you watched: JoJo no Kimyou na Bouken Part 5: Ougon no Kaze, Shingeki no Kyojin: The Final Season - Kanketsu-hen</h3>\n",
       "        <img src=\"https://cdn.myanimelist.net/images/anime/8/22470.jpg\" alt=\"Phantom: Requiem for the Phantom\" style=\"width:225px;height:auto;float:left;margin-right:15px;\">\n",
       "        <p><b>Synopsis:</b> Mafia is rife in America where assassinations are a regular occurrence on the streets. Inferno, a mysterious company, is behind most of these dealings through the use of their near-invincible human weapon, \"Phantom.\"\n",
       "\n",
       "One day, a Japanese tourist accidentally witnesses Phantom's latest murder. Desperate to escape, the tourist hides in a secluded building. However, Phantom, revealed to be a young woman named Ein, and the leader of Inferno \"Scythe Master\" captures the tourist and brainwashes him.\n",
       "\n",
       "Given the name \"Zwei,\" this once peaceful tourist is now a puppet of Inferno with no memories. Drawn into a world of lies, deceit, and violence, Zwei must fight to survive, hopefully to one day regain his memories and escape from this world where he is constantly on the brink of death.</p>\n",
       "        <p><b>Score:</b> 7.92</p>\n",
       "        <p><b>Type:</b> TV</p>\n",
       "        <p><b>Episodes:</b> 26.0</p>\n",
       "        <p><b>Genres:</b> Action, Drama, Suspense</p>\n",
       "        <p><b>Themes:</b> Organized Crime</p>\n",
       "        \n",
       "        <p><b>Season:</b> Spring 2009</p>\n",
       "        <p><b>MAL Page:</b> <a href=\"https://myanimelist.net/anime/5682/Phantom__Requiem_for_the_Phantom\" target=\"_blank\">Link to MyAnimeList</a></p>\n",
       "        "
      ],
      "text/plain": [
       "<IPython.core.display.HTML object>"
      ]
     },
     "metadata": {},
     "output_type": "display_data"
    },
    {
     "data": {
      "text/html": [
       "<p><b>Trailer:</b> <a href=\"https://www.youtube.com/watch?v=4omZ0Hkn1lU\" target=\"_blank\">Watch Trailer</a></p>"
      ],
      "text/plain": [
       "<IPython.core.display.HTML object>"
      ]
     },
     "metadata": {},
     "output_type": "display_data"
    },
    {
     "data": {
      "text/html": [
       "<hr>"
      ],
      "text/plain": [
       "<IPython.core.display.HTML object>"
      ]
     },
     "metadata": {},
     "output_type": "display_data"
    },
    {
     "data": {
      "text/html": [
       "\n",
       "        <h1 style=\"font-family:Arial;\">Bleach Movie 1: Memories of Nobody</h1>\n",
       "        <h3 style=\"font-family:Arial;\">Because you watched: JoJo no Kimyou na Bouken Part 6: Stone Ocean, JoJo no Kimyou na Bouken Part 6: Stone Ocean Part 2</h3>\n",
       "        <img src=\"https://cdn.myanimelist.net/images/anime/1834/134488.jpg\" alt=\"Bleach Movie 1: Memories of Nobody\" style=\"width:225px;height:auto;float:left;margin-right:15px;\">\n",
       "        <p><b>Synopsis:</b> When a life ends, its soul departs to its final resting place known as the Soul Society. However, if a soul is left to wander in the human world for too long, it ends up turning into a corrupted \"Hollow\" that feeds on other souls. In such cases, spirits called \"Soul Reapers\" are needed to eliminate the Hollows and guide the lost souls to the Soul Society.\n",
       "\n",
       "Ichigo Kurosaki and Rukia Kuchiki are two Soul Reapers who are used to dealing with Hollows that appear in Karakura Town. But when they encounter the hostile \"Blanks\"—souls devoid of memories and immune to the \"soul burial\" used by Reapers—they are thrown for a loop. Senna, a fellow Reaper that neither Ichigo or Rukia are familiar with, comes to their rescue and manages to fend off the Blanks. The mystery deepens when a mirage of the human world suddenly appears over Soul Society. What could be the reason behind the strange phenomena, and how is it connected to Senna, who avoids any questions about her identity?</p>\n",
       "        <p><b>Score:</b> 7.43</p>\n",
       "        <p><b>Type:</b> Movie</p>\n",
       "        <p><b>Episodes:</b> 1.0</p>\n",
       "        <p><b>Genres:</b> Action, Adventure, Supernatural</p>\n",
       "        \n",
       "        <p><b>Demographic:</b> Shounen</p>\n",
       "        <p><b>Season:</b> Dec 16 2006</p>\n",
       "        <p><b>MAL Page:</b> <a href=\"https://myanimelist.net/anime/1686/Bleach_Movie_1__Memories_of_Nobody\" target=\"_blank\">Link to MyAnimeList</a></p>\n",
       "        "
      ],
      "text/plain": [
       "<IPython.core.display.HTML object>"
      ]
     },
     "metadata": {},
     "output_type": "display_data"
    },
    {
     "data": {
      "text/html": [
       "<p><b>Trailer:</b> <a href=\"https://www.youtube.com/watch?v=DUyEuGL2vT0\" target=\"_blank\">Watch Trailer</a></p>"
      ],
      "text/plain": [
       "<IPython.core.display.HTML object>"
      ]
     },
     "metadata": {},
     "output_type": "display_data"
    },
    {
     "data": {
      "text/html": [
       "<hr>"
      ],
      "text/plain": [
       "<IPython.core.display.HTML object>"
      ]
     },
     "metadata": {},
     "output_type": "display_data"
    },
    {
     "data": {
      "text/html": [
       "\n",
       "        <h1 style=\"font-family:Arial;\">Bleach Movie 2: The DiamondDust Rebellion - Mou Hitotsu no Hyourinmaru</h1>\n",
       "        <h3 style=\"font-family:Arial;\">Because you watched: JoJo no Kimyou na Bouken Part 6: Stone Ocean, JoJo no Kimyou na Bouken Part 6: Stone Ocean Part 2</h3>\n",
       "        <img src=\"https://cdn.myanimelist.net/images/anime/12/7499.jpg\" alt=\"Bleach Movie 2: The DiamondDust Rebellion - Mou Hitotsu no Hyourinmaru\" style=\"width:225px;height:auto;float:left;margin-right:15px;\">\n",
       "        <p><b>Synopsis:</b> Assigned to protect a royal procession transporting a powerful artifact called the \"Ouin,\" Squad 10 gathers in the human world as Captain Toushirou Hitsugaya and Lieutenant Rangiku Matsumoto observe the area cautiously. However, the caravan is suddenly struck by a group of assailants who wreak havoc on the procession, stealing the Ouin in the process. After a brief clash with one of the attackers, the distraught Hitsugaya pursues the escaping thieves, leaving behind Matsumoto and the disoriented squad. Following the incident, the Seireitei brands Hitsugaya a traitor for abandoning his post and puts Squad 10 on indefinite lockdown.\n",
       "\n",
       "In the human world, Ichigo Kurosaki is investigating a spiritual abnormality when he stumbles across the injured Captain, but is caught off guard when Hitsugaya suddenly flees. Soon learning of the situation, Ichigo, Rukia Kuchiki, Renji Abarai, and Matsumoto set off to prove Hitsugaya's innocence and uncover the truth behind the theft of the Ouin. Meanwhile, a ghost from Hitsugaya's past haunts his thoughts as he chases down the true culprit.</p>\n",
       "        <p><b>Score:</b> 7.42</p>\n",
       "        <p><b>Type:</b> Movie</p>\n",
       "        <p><b>Episodes:</b> 1.0</p>\n",
       "        <p><b>Genres:</b> Action, Adventure, Supernatural</p>\n",
       "        \n",
       "        <p><b>Demographic:</b> Shounen</p>\n",
       "        <p><b>Season:</b> Dec 22 2007</p>\n",
       "        <p><b>MAL Page:</b> <a href=\"https://myanimelist.net/anime/2889/Bleach_Movie_2__The_DiamondDust_Rebellion_-_Mou_Hitotsu_no_Hyourinmaru\" target=\"_blank\">Link to MyAnimeList</a></p>\n",
       "        "
      ],
      "text/plain": [
       "<IPython.core.display.HTML object>"
      ]
     },
     "metadata": {},
     "output_type": "display_data"
    },
    {
     "data": {
      "text/html": [
       "<p><b>Trailer:</b> <a href=\"https://www.youtube.com/watch?v=Nl1rdgDbnBY\" target=\"_blank\">Watch Trailer</a></p>"
      ],
      "text/plain": [
       "<IPython.core.display.HTML object>"
      ]
     },
     "metadata": {},
     "output_type": "display_data"
    },
    {
     "data": {
      "text/html": [
       "<hr>"
      ],
      "text/plain": [
       "<IPython.core.display.HTML object>"
      ]
     },
     "metadata": {},
     "output_type": "display_data"
    },
    {
     "data": {
      "text/html": [
       "\n",
       "        <h1 style=\"font-family:Arial;\">Witch Craft Works</h1>\n",
       "        <h3 style=\"font-family:Arial;\">Because you watched: Jujutsu Kaisen 2nd Season, Jujutsu Kaisen 0 Movie</h3>\n",
       "        <img src=\"https://cdn.myanimelist.net/images/anime/1949/112982.jpg\" alt=\"Witch Craft Works\" style=\"width:225px;height:auto;float:left;margin-right:15px;\">\n",
       "        <p><b>Synopsis:</b> Even though they shared the same bus every morning and sat next to each other in class, Ayaka Kagari, the \"Princess\" of Tougetsu High School, was nothing more than an unreachable idol for Honoka Takamiya. The horde of students who worshipped the \"Princess\" was merely a nuisance to Honoka, living his lazy, regular high school life.\n",
       "\n",
       "Everything seemed perfectly normal until, one day, Honoka is attacked out of the blue by a mysterious witch. To his surprise, Ayaka saves his life, revealing herself to be a fire witch on a covert mission to protect Honoka.\n",
       "\n",
       "From that fateful day, the ordinary life of Honoka is turned upside down as he is thrown into the war between the Workshop Witches, who strive to protect the citizens, and the Tower Witches, who desire to steal a power hidden within him.</p>\n",
       "        <p><b>Score:</b> 6.98</p>\n",
       "        <p><b>Type:</b> TV</p>\n",
       "        <p><b>Episodes:</b> 12.0</p>\n",
       "        <p><b>Genres:</b> Action, Supernatural</p>\n",
       "        <p><b>Themes:</b> School</p>\n",
       "        <p><b>Demographic:</b> Seinen</p>\n",
       "        <p><b>Season:</b> Winter 2014</p>\n",
       "        <p><b>MAL Page:</b> <a href=\"https://myanimelist.net/anime/21085/Witch_Craft_Works\" target=\"_blank\">Link to MyAnimeList</a></p>\n",
       "        "
      ],
      "text/plain": [
       "<IPython.core.display.HTML object>"
      ]
     },
     "metadata": {},
     "output_type": "display_data"
    },
    {
     "data": {
      "text/html": [
       "<p><b>Trailer:</b> <a href=\"https://www.youtube.com/watch?v=gLgBYps8LLQ\" target=\"_blank\">Watch Trailer</a></p>"
      ],
      "text/plain": [
       "<IPython.core.display.HTML object>"
      ]
     },
     "metadata": {},
     "output_type": "display_data"
    },
    {
     "data": {
      "text/html": [
       "<hr>"
      ],
      "text/plain": [
       "<IPython.core.display.HTML object>"
      ]
     },
     "metadata": {},
     "output_type": "display_data"
    },
    {
     "data": {
      "text/html": [
       "\n",
       "        <h1 style=\"font-family:Arial;\">Danshi Koukousei no Nichijou</h1>\n",
       "        <h3 style=\"font-family:Arial;\">Because you watched: K-On!, Kaguya-sama wa Kokurasetai? Tensai-tachi no Renai Zunousen</h3>\n",
       "        <img src=\"https://cdn.myanimelist.net/images/anime/3/33257.jpg\" alt=\"Danshi Koukousei no Nichijou\" style=\"width:225px;height:auto;float:left;margin-right:15px;\">\n",
       "        <p><b>Synopsis:</b> Roaming the halls of the all-boys Sanada North High School are three close comrades: the eccentric ringleader with a hyperactive imagination Hidenori, the passionate Yoshitake, and the rational and prudent Tadakuni. Their lives are filled with giant robots, true love, and intense drama... in their colorful imaginations, at least. In reality, they are just an everyday trio of ordinary guys trying to pass the time, but who said everyday life couldn't be interesting? Whether it's an intricate RPG reenactment or an unexpected romantic encounter on the riverbank at sunset, Danshi Koukousei no Nichijou is rife with bizarre yet hilariously relatable situations that are anything but mundane.</p>\n",
       "        <p><b>Score:</b> 8.23</p>\n",
       "        <p><b>Type:</b> TV</p>\n",
       "        <p><b>Episodes:</b> 12.0</p>\n",
       "        <p><b>Genres:</b> Comedy</p>\n",
       "        <p><b>Themes:</b> Gag Humor, School</p>\n",
       "        \n",
       "        <p><b>Season:</b> Winter 2012</p>\n",
       "        <p><b>MAL Page:</b> <a href=\"https://myanimelist.net/anime/11843/Danshi_Koukousei_no_Nichijou\" target=\"_blank\">Link to MyAnimeList</a></p>\n",
       "        "
      ],
      "text/plain": [
       "<IPython.core.display.HTML object>"
      ]
     },
     "metadata": {},
     "output_type": "display_data"
    },
    {
     "data": {
      "text/html": [
       "<p><b>Trailer:</b> <a href=\"https://www.youtube.com/watch?v=BsQj0RYzW98\" target=\"_blank\">Watch Trailer</a></p>"
      ],
      "text/plain": [
       "<IPython.core.display.HTML object>"
      ]
     },
     "metadata": {},
     "output_type": "display_data"
    },
    {
     "data": {
      "text/html": [
       "<hr>"
      ],
      "text/plain": [
       "<IPython.core.display.HTML object>"
      ]
     },
     "metadata": {},
     "output_type": "display_data"
    },
    {
     "data": {
      "text/html": [
       "\n",
       "        <h1 style=\"font-family:Arial;\">Bocchi the Rock! Movie</h1>\n",
       "        <h3 style=\"font-family:Arial;\">Because you watched: K-On! Movie, K-On!: Live House!</h3>\n",
       "        <img src=\"https://cdn.myanimelist.net/images/anime/1256/142261.jpg\" alt=\"Bocchi the Rock! Movie\" style=\"width:225px;height:auto;float:left;margin-right:15px;\">\n",
       "        <p><b>Synopsis:</b> Theatrical compilation of Bocchi the Rock!</p>\n",
       "        <p><b>Score:</b> 7.85</p>\n",
       "        <p><b>Type:</b> Movie</p>\n",
       "        <p><b>Episodes:</b> 2.0</p>\n",
       "        <p><b>Genres:</b> Comedy</p>\n",
       "        <p><b>Themes:</b> CGDCT, Music</p>\n",
       "        \n",
       "        <p><b>Season:</b> Jun 7 2024</p>\n",
       "        <p><b>MAL Page:</b> <a href=\"https://myanimelist.net/anime/55357/Bocchi_the_Rock_Movie\" target=\"_blank\">Link to MyAnimeList</a></p>\n",
       "        "
      ],
      "text/plain": [
       "<IPython.core.display.HTML object>"
      ]
     },
     "metadata": {},
     "output_type": "display_data"
    },
    {
     "data": {
      "text/html": [
       "<p><b>Trailer:</b> <a href=\"https://www.youtube.com/watch?v=duo1scb3dL0\" target=\"_blank\">Watch Trailer</a></p>"
      ],
      "text/plain": [
       "<IPython.core.display.HTML object>"
      ]
     },
     "metadata": {},
     "output_type": "display_data"
    },
    {
     "data": {
      "text/html": [
       "<hr>"
      ],
      "text/plain": [
       "<IPython.core.display.HTML object>"
      ]
     },
     "metadata": {},
     "output_type": "display_data"
    },
    {
     "data": {
      "text/html": [
       "\n",
       "        <h1 style=\"font-family:Arial;\">BanG Dream! 2nd Season</h1>\n",
       "        <h3 style=\"font-family:Arial;\">Because you watched: K-On!!, K-On!!: Keikaku!</h3>\n",
       "        <img src=\"https://cdn.myanimelist.net/images/anime/1967/108632.jpg\" alt=\"BanG Dream! 2nd Season\" style=\"width:225px;height:auto;float:left;margin-right:15px;\">\n",
       "        <p><b>Synopsis:</b> Kasumi Toyama and the members of Poppin'Party—their high school band—are now second-year students, but with the new school year comes their latest set of challenges: student council duties, cram school, and part-time jobs, among other things. Furthermore, they are now separated into different classes, and as a result, their free time together is shortened. Looking back, their joyful times together seem like nothing more than an unachievable fantasy when their members are too occupied to even gather in Arisa Ichigaya's basement for practice sessions. As the band ponders over the situation, an unfamiliar girl suddenly emerges, unknowingly pulling them into the spotlight once more.\n",
       "\n",
       "In this rising era of girl bands, Afterglow, Pastel*Palettes, Roselia, and Hello, Happy World! begin to make their appearance as well. Each band, comprised of musicians with their unique personalities, illuminates the stage with its performances. As Poppin'Party returns to the music scene and encounters new friends, the sparkling, heart-pounding music starts to play once again!</p>\n",
       "        <p><b>Score:</b> 7.58</p>\n",
       "        <p><b>Type:</b> TV</p>\n",
       "        <p><b>Episodes:</b> 13.0</p>\n",
       "        <p><b>Genres:</b> </p>\n",
       "        <p><b>Themes:</b> CGDCT, Music, School</p>\n",
       "        \n",
       "        <p><b>Season:</b> Winter 2019</p>\n",
       "        <p><b>MAL Page:</b> <a href=\"https://myanimelist.net/anime/37869/BanG_Dream_2nd_Season\" target=\"_blank\">Link to MyAnimeList</a></p>\n",
       "        "
      ],
      "text/plain": [
       "<IPython.core.display.HTML object>"
      ]
     },
     "metadata": {},
     "output_type": "display_data"
    },
    {
     "data": {
      "text/html": [
       "<p><b>Trailer:</b> <a href=\"https://www.youtube.com/watch?v=e1QBHnjxRkg\" target=\"_blank\">Watch Trailer</a></p>"
      ],
      "text/plain": [
       "<IPython.core.display.HTML object>"
      ]
     },
     "metadata": {},
     "output_type": "display_data"
    },
    {
     "data": {
      "text/html": [
       "<hr>"
      ],
      "text/plain": [
       "<IPython.core.display.HTML object>"
      ]
     },
     "metadata": {},
     "output_type": "display_data"
    },
    {
     "data": {
      "text/html": [
       "\n",
       "        <h1 style=\"font-family:Arial;\">Nichijou</h1>\n",
       "        <h3 style=\"font-family:Arial;\">Because you watched: Kaguya-sama wa Kokurasetai: Tensai-tachi no Renai Zunousen, Kaguya-sama wa Kokurasetai? Tensai-tachi no Renai Zunousen</h3>\n",
       "        <img src=\"https://cdn.myanimelist.net/images/anime/3/75617.jpg\" alt=\"Nichijou\" style=\"width:225px;height:auto;float:left;margin-right:15px;\">\n",
       "        <p><b>Synopsis:</b> Nichijou primarily focuses on the daily antics of a trio of childhood friends—high school girls Mio Naganohara, Yuuko Aioi and Mai Minakami—whose stories soon intertwine with the young genius Hakase Shinonome, her robot caretaker Nano, and their talking cat Sakamoto. With every passing day, the lives of these six, as well as of the many people around them, experience both the calms of normal life and the insanity of the absurd. Walking to school, being bitten by a talking crow, spending time with friends, and watching the principal suplex a deer: they are all in a day's work in the extraordinary everyday lives of those in Nichijou.</p>\n",
       "        <p><b>Score:</b> 8.47</p>\n",
       "        <p><b>Type:</b> TV</p>\n",
       "        <p><b>Episodes:</b> 26.0</p>\n",
       "        <p><b>Genres:</b> Comedy</p>\n",
       "        <p><b>Themes:</b> Gag Humor, School</p>\n",
       "        <p><b>Demographic:</b> Shounen</p>\n",
       "        <p><b>Season:</b> Spring 2011</p>\n",
       "        <p><b>MAL Page:</b> <a href=\"https://myanimelist.net/anime/10165/Nichijou\" target=\"_blank\">Link to MyAnimeList</a></p>\n",
       "        "
      ],
      "text/plain": [
       "<IPython.core.display.HTML object>"
      ]
     },
     "metadata": {},
     "output_type": "display_data"
    },
    {
     "data": {
      "text/html": [
       "<p><b>Trailer:</b> <a href=\"https://www.youtube.com/watch?v=CD6VdVDVDXI\" target=\"_blank\">Watch Trailer</a></p>"
      ],
      "text/plain": [
       "<IPython.core.display.HTML object>"
      ]
     },
     "metadata": {},
     "output_type": "display_data"
    },
    {
     "data": {
      "text/html": [
       "<hr>"
      ],
      "text/plain": [
       "<IPython.core.display.HTML object>"
      ]
     },
     "metadata": {},
     "output_type": "display_data"
    },
    {
     "data": {
      "text/html": [
       "\n",
       "        <h1 style=\"font-family:Arial;\">Komi-san wa, Comyushou desu.</h1>\n",
       "        <h3 style=\"font-family:Arial;\">Because you watched: Kaguya-sama wa Kokurasetai: Tensai-tachi no Renai Zunousen, Kaguya-sama wa Kokurasetai? Tensai-tachi no Renai Zunousen</h3>\n",
       "        <img src=\"https://cdn.myanimelist.net/images/anime/1899/117237.jpg\" alt=\"Komi-san wa, Comyushou desu.\" style=\"width:225px;height:auto;float:left;margin-right:15px;\">\n",
       "        <p><b>Synopsis:</b> Hitohito Tadano is an ordinary boy who heads into his first day of high school with a clear plan: to avoid trouble and do his best to blend in with others. Unfortunately, he fails right away when he takes the seat beside the school's  madonna—Shouko Komi. His peers now recognize him as someone to eliminate for a chance to sit next to the most beautiful girl in class.\n",
       "\n",
       "Gorgeous and graceful with long, dark hair, Komi is universally adored and immensely popular despite her mysterious persona. However, unbeknownst to everyone, she has crippling anxiety and a communication disorder which prevents her from wholeheartedly socializing with her classmates.\n",
       "\n",
       "When left alone in the classroom, a chain of events forces Komi to interact with Tadano through writing on the blackboard, as if in a one-way conversation. Being the first person to realize she cannot communicate properly, Tadano picks up the chalk and begins to write as well. He eventually discovers that Komi's goal is to make one hundred friends during her time in high school. To this end, he decides to lend her a helping hand, thus also becoming her first-ever friend.</p>\n",
       "        <p><b>Score:</b> 7.85</p>\n",
       "        <p><b>Type:</b> TV</p>\n",
       "        <p><b>Episodes:</b> 12.0</p>\n",
       "        <p><b>Genres:</b> Comedy</p>\n",
       "        <p><b>Themes:</b> Love Status Quo, School</p>\n",
       "        <p><b>Demographic:</b> Shounen</p>\n",
       "        <p><b>Season:</b> Fall 2021</p>\n",
       "        <p><b>MAL Page:</b> <a href=\"https://myanimelist.net/anime/48926/Komi-san_wa_Comyushou_desu\" target=\"_blank\">Link to MyAnimeList</a></p>\n",
       "        "
      ],
      "text/plain": [
       "<IPython.core.display.HTML object>"
      ]
     },
     "metadata": {},
     "output_type": "display_data"
    },
    {
     "data": {
      "text/html": [
       "<p><b>Trailer:</b> <a href=\"https://www.youtube.com/watch?v=3snByVaQUF0\" target=\"_blank\">Watch Trailer</a></p>"
      ],
      "text/plain": [
       "<IPython.core.display.HTML object>"
      ]
     },
     "metadata": {},
     "output_type": "display_data"
    },
    {
     "data": {
      "text/html": [
       "<hr>"
      ],
      "text/plain": [
       "<IPython.core.display.HTML object>"
      ]
     },
     "metadata": {},
     "output_type": "display_data"
    },
    {
     "data": {
      "text/html": [
       "\n",
       "        <h1 style=\"font-family:Arial;\">Omoide no Marnie</h1>\n",
       "        <h3 style=\"font-family:Arial;\">Because you watched: Kakegurui××, Kakegurui</h3>\n",
       "        <img src=\"https://cdn.myanimelist.net/images/anime/7/64293.jpg\" alt=\"Omoide no Marnie\" style=\"width:225px;height:auto;float:left;margin-right:15px;\">\n",
       "        <p><b>Synopsis:</b> Suffering from frequent asthma attacks, young Anna Sasaki is quiet, unsociable, and isolated from her peers, causing her foster parent endless worry. Upon recommendation by the doctor, Anna is sent to the countryside, in hope that the cleaner air and more relaxing lifestyle will improve her health and help clear her mind. Engaging in her passion for sketching, Anna spends her summer days living with her aunt and uncle in a small town near the sea.\n",
       "\n",
       "One day while wandering outside, Anna discovers an abandoned mansion known as the Marsh House. However, she soon finds that the residence isn't as vacant as it appears to be, running into a mysterious girl named Marnie. Marnie's bubbly demeanor slowly begins to draw Anna out of her shell as she returns night after night to meet with her new friend. But it seems there is more to the strange girl than meets the eye—as her time in the town nears its end, Anna begins to discover the truth behind the walls of the Marsh House.\n",
       "\n",
       "Omoide no Marnie tells the touching story of a young girl's journey through self-discovery and friendship, and the summer that she will remember for the rest of her life.</p>\n",
       "        <p><b>Score:</b> 8.04</p>\n",
       "        <p><b>Type:</b> Movie</p>\n",
       "        <p><b>Episodes:</b> 1.0</p>\n",
       "        <p><b>Genres:</b> Drama, Mystery, Suspense</p>\n",
       "        <p><b>Themes:</b> Psychological</p>\n",
       "        \n",
       "        <p><b>Season:</b> Jul 19 2014</p>\n",
       "        <p><b>MAL Page:</b> <a href=\"https://myanimelist.net/anime/21557/Omoide_no_Marnie\" target=\"_blank\">Link to MyAnimeList</a></p>\n",
       "        "
      ],
      "text/plain": [
       "<IPython.core.display.HTML object>"
      ]
     },
     "metadata": {},
     "output_type": "display_data"
    },
    {
     "data": {
      "text/html": [
       "<p><b>Trailer:</b> <a href=\"https://www.youtube.com/watch?v=jjmrxqcQdYg\" target=\"_blank\">Watch Trailer</a></p>"
      ],
      "text/plain": [
       "<IPython.core.display.HTML object>"
      ]
     },
     "metadata": {},
     "output_type": "display_data"
    },
    {
     "data": {
      "text/html": [
       "<hr>"
      ],
      "text/plain": [
       "<IPython.core.display.HTML object>"
      ]
     },
     "metadata": {},
     "output_type": "display_data"
    },
    {
     "data": {
      "text/html": [
       "\n",
       "        <h1 style=\"font-family:Arial;\">Sakurako-san no Ashimoto ni wa Shitai ga Umatteiru</h1>\n",
       "        <h3 style=\"font-family:Arial;\">Because you watched: Kakegurui××, Kakegurui</h3>\n",
       "        <img src=\"https://cdn.myanimelist.net/images/anime/7/76116.jpg\" alt=\"Sakurako-san no Ashimoto ni wa Shitai ga Umatteiru\" style=\"width:225px;height:auto;float:left;margin-right:15px;\">\n",
       "        <p><b>Synopsis:</b> When Shoutarou Tatewaki first meets Sakurako Kujou, he knows his life will never be the same. Initially believing her to be responsible for a disappearance in the neighborhood, he later learns of her true talent: analyzing bone specimens. Sakurako has quite the collection of reconstructed animal bones, but she wishes she had more of the human variety, much to the chagrin of those around her.\n",
       "\n",
       "Soon, Shoutarou begins accompanying the eccentric osteologist on the many different unsolved cases she comes across—usually in the form of decomposing bodies. But with so many incidents happening around them, could there be a larger mystery at work in their lives?\n",
       "\n",
       "Sakurako-san no Ashimoto ni wa Shitai ga Umatteiru is a story of two unlikely partners, each showing in their own way that bones can tell how one died, but only people can tell how they lived.</p>\n",
       "        <p><b>Score:</b> 7.42</p>\n",
       "        <p><b>Type:</b> TV</p>\n",
       "        <p><b>Episodes:</b> 12.0</p>\n",
       "        <p><b>Genres:</b> Drama, Mystery, Suspense</p>\n",
       "        \n",
       "        \n",
       "        <p><b>Season:</b> Fall 2015</p>\n",
       "        <p><b>MAL Page:</b> <a href=\"https://myanimelist.net/anime/30187/Sakurako-san_no_Ashimoto_ni_wa_Shitai_ga_Umatteiru\" target=\"_blank\">Link to MyAnimeList</a></p>\n",
       "        "
      ],
      "text/plain": [
       "<IPython.core.display.HTML object>"
      ]
     },
     "metadata": {},
     "output_type": "display_data"
    },
    {
     "data": {
      "text/html": [
       "<p><b>Trailer:</b> <a href=\"https://www.youtube.com/watch?v=-pDRype0mQU\" target=\"_blank\">Watch Trailer</a></p>"
      ],
      "text/plain": [
       "<IPython.core.display.HTML object>"
      ]
     },
     "metadata": {},
     "output_type": "display_data"
    },
    {
     "data": {
      "text/html": [
       "<hr>"
      ],
      "text/plain": [
       "<IPython.core.display.HTML object>"
      ]
     },
     "metadata": {},
     "output_type": "display_data"
    },
    {
     "data": {
      "text/html": [
       "\n",
       "        <h1 style=\"font-family:Arial;\">Joker Game</h1>\n",
       "        <h3 style=\"font-family:Arial;\">Because you watched: Kakegurui××, Kakegurui</h3>\n",
       "        <img src=\"https://cdn.myanimelist.net/images/anime/9/77523.jpg\" alt=\"Joker Game\" style=\"width:225px;height:auto;float:left;margin-right:15px;\">\n",
       "        <p><b>Synopsis:</b> With World War II right around the corner, intelligence on other countries' social and economic situation has become a valuable asset. As a result, Japan has established a new spy organization known as the \"D Agency\" to obtain this weapon.\n",
       "\n",
       "Under the command of Lieutenant Colonel Yuuki, eight agents have been assigned to infiltrate and observe some of the most powerful countries, reporting on any developments associated with the war. In order to carry out these dangerous tasks, these men have trained their bodies to survive in extreme conditions and studied numerous fields such as communications and languages. However, their greatest strength lies in their ability to manipulate people in order to obtain the information necessary to give their nation the upper hand.</p>\n",
       "        <p><b>Score:</b> 7.02</p>\n",
       "        <p><b>Type:</b> TV</p>\n",
       "        <p><b>Episodes:</b> 12.0</p>\n",
       "        <p><b>Genres:</b> Drama, Mystery, Suspense</p>\n",
       "        <p><b>Themes:</b> Historical, Military</p>\n",
       "        \n",
       "        <p><b>Season:</b> Spring 2016</p>\n",
       "        <p><b>MAL Page:</b> <a href=\"https://myanimelist.net/anime/31405/Joker_Game\" target=\"_blank\">Link to MyAnimeList</a></p>\n",
       "        "
      ],
      "text/plain": [
       "<IPython.core.display.HTML object>"
      ]
     },
     "metadata": {},
     "output_type": "display_data"
    },
    {
     "data": {
      "text/html": [
       "<p><b>Trailer:</b> <a href=\"https://www.youtube.com/watch?v=0G7YW3XcUaA\" target=\"_blank\">Watch Trailer</a></p>"
      ],
      "text/plain": [
       "<IPython.core.display.HTML object>"
      ]
     },
     "metadata": {},
     "output_type": "display_data"
    },
    {
     "data": {
      "text/html": [
       "<hr>"
      ],
      "text/plain": [
       "<IPython.core.display.HTML object>"
      ]
     },
     "metadata": {},
     "output_type": "display_data"
    },
    {
     "data": {
      "text/html": [
       "\n",
       "        <h1 style=\"font-family:Arial;\">Little Witch Academia (TV)</h1>\n",
       "        <h3 style=\"font-family:Arial;\">Because you watched: Kono Subarashii Sekai ni Shukufuku wo!, Kono Subarashii Sekai ni Shukufuku wo! 2</h3>\n",
       "        <img src=\"https://cdn.myanimelist.net/images/anime/13/83934.jpg\" alt=\"Little Witch Academia (TV)\" style=\"width:225px;height:auto;float:left;margin-right:15px;\">\n",
       "        <p><b>Synopsis:</b> \"A believing heart is your magic!\"—these were the words that Atsuko \"Akko\" Kagari's idol, the renowned witch Shiny Chariot, said to her during a magic performance years ago. Since then, Akko has lived by these words and aspired to be a witch just like Shiny Chariot, one that can make people smile. Hence, even her non-magical background does not stop her from enrolling in Luna Nova Magical Academy.\n",
       "\n",
       "However, when an excited Akko finally sets off to her new school, the trip there is anything but smooth. After her perilous journey, she befriends the shy Lotte Yansson and the sarcastic Sucy Manbavaran. To her utmost delight, she also discovers Chariot's wand, the Shiny Rod, which she takes as her own. Unfortunately, her time at Luna Nova will prove to be more challenging than Akko could ever believe. She absolutely refuses to stay inferior to the rest of her peers, especially to her self-proclaimed rival, the beautiful and gifted Diana Cavendish, so she relies on her determination to compensate for her reckless behavior and ineptitude in magic.\n",
       "\n",
       "In a time when wizardry is on the decline, Little Witch Academia follows the magical escapades of Akko and her friends as they learn the true meaning of being a witch.</p>\n",
       "        <p><b>Score:</b> 7.81</p>\n",
       "        <p><b>Type:</b> TV</p>\n",
       "        <p><b>Episodes:</b> 25.0</p>\n",
       "        <p><b>Genres:</b> Adventure, Comedy, Fantasy</p>\n",
       "        <p><b>Themes:</b> School</p>\n",
       "        \n",
       "        <p><b>Season:</b> Winter 2017</p>\n",
       "        <p><b>MAL Page:</b> <a href=\"https://myanimelist.net/anime/33489/Little_Witch_Academia_TV\" target=\"_blank\">Link to MyAnimeList</a></p>\n",
       "        "
      ],
      "text/plain": [
       "<IPython.core.display.HTML object>"
      ]
     },
     "metadata": {},
     "output_type": "display_data"
    },
    {
     "data": {
      "text/html": [
       "<p><b>Trailer:</b> <a href=\"https://www.youtube.com/watch?v=S3jFdqs4jUQ\" target=\"_blank\">Watch Trailer</a></p>"
      ],
      "text/plain": [
       "<IPython.core.display.HTML object>"
      ]
     },
     "metadata": {},
     "output_type": "display_data"
    },
    {
     "data": {
      "text/html": [
       "<hr>"
      ],
      "text/plain": [
       "<IPython.core.display.HTML object>"
      ]
     },
     "metadata": {},
     "output_type": "display_data"
    },
    {
     "data": {
      "text/html": [
       "\n",
       "        <h1 style=\"font-family:Arial;\">Digimon Tamers</h1>\n",
       "        <h3 style=\"font-family:Arial;\">Because you watched: Kono Subarashii Sekai ni Shukufuku wo! 2: Kono Subarashii Geijutsu ni Shukufuku wo!, Kono Subarashii Sekai ni Shukufuku wo! 3</h3>\n",
       "        <img src=\"https://cdn.myanimelist.net/images/anime/7/73696.jpg\" alt=\"Digimon Tamers\" style=\"width:225px;height:auto;float:left;margin-right:15px;\">\n",
       "        <p><b>Synopsis:</b> Digimon Tamers takes place in a world where the popular Digimon franchise is all the rage, consisting of a cartoon, video games, and the trading card game. Takato Matsuda is a huge Digimon fan that's particularly obsessed with the card game, and constantly daydreams about the universe therein. One day, he finds a mysterious blue card, which he slides through a scanner toy to use in the popular battle game. His toy suddenly glows and transforms into a Digivice, and Takato's fan-made design, Guilmon, materialises in front of him. Thrilled by the prospect of having a real-life Digimon, Takato embraces his new partner, and his adventures as a Digimon Tamer begin.\n",
       "\n",
       "Takato quickly discovers that being a Digimon Tamer is not all fun and games—in reality, it's much more dangerous than the card games he's accustomed to. Wild Digimon have begun to appear all across Japan, causing rampages that result in chaos and mayhem. Armed with his Digivice, which can scan trading cards to strengthen Guilmon, Takato and his new partner set out to combat the rogue Digimon. They are tasked with protecting the world from Digimon attacks, whilst a mysterious organization determined to eliminate all Digimon and their Tamers lurks in the shadows...</p>\n",
       "        <p><b>Score:</b> 7.64</p>\n",
       "        <p><b>Type:</b> TV</p>\n",
       "        <p><b>Episodes:</b> 51.0</p>\n",
       "        <p><b>Genres:</b> Adventure, Comedy, Fantasy</p>\n",
       "        <p><b>Themes:</b> Isekai</p>\n",
       "        \n",
       "        <p><b>Season:</b> Spring 2001</p>\n",
       "        <p><b>MAL Page:</b> <a href=\"https://myanimelist.net/anime/874/Digimon_Tamers\" target=\"_blank\">Link to MyAnimeList</a></p>\n",
       "        "
      ],
      "text/plain": [
       "<IPython.core.display.HTML object>"
      ]
     },
     "metadata": {},
     "output_type": "display_data"
    },
    {
     "data": {
      "text/html": [
       "<p><b>Trailer:</b> <a href=\"nan\" target=\"_blank\">Watch Trailer</a></p>"
      ],
      "text/plain": [
       "<IPython.core.display.HTML object>"
      ]
     },
     "metadata": {},
     "output_type": "display_data"
    },
    {
     "data": {
      "text/html": [
       "<hr>"
      ],
      "text/plain": [
       "<IPython.core.display.HTML object>"
      ]
     },
     "metadata": {},
     "output_type": "display_data"
    },
    {
     "data": {
      "text/html": [
       "\n",
       "        <h1 style=\"font-family:Arial;\">Jinrui wa Suitai Shimashita</h1>\n",
       "        <h3 style=\"font-family:Arial;\">Because you watched: Kono Subarashii Sekai ni Shukufuku wo! 2: Kono Subarashii Geijutsu ni Shukufuku wo!, Kono Subarashii Sekai ni Shukufuku wo! 3</h3>\n",
       "        <img src=\"https://cdn.myanimelist.net/images/anime/12/50345.jpg\" alt=\"Jinrui wa Suitai Shimashita\" style=\"width:225px;height:auto;float:left;margin-right:15px;\">\n",
       "        <p><b>Synopsis:</b> Because of the constantly declining birth rates over many decades, human civilization is all but extinct. With only a few humans remaining, they survive in this post-apocalyptic world with what was left behind by the previous generations. Earth is now dominated by fairies, tiny creatures with extremely advanced technology, an obsession with candy, and a complete disregard for human safety. \n",
       "\n",
       "A young girl who has just finished her studies returns to her hometown and is designated as an official United Nations arbitrator. Her duty is to serve as a link between mankind and fairies, reassuring each side that both races can live together peacefully. She imagines this task will be easy enough, but controlling the disasters created by the oblivious fairies in their pursuit of candy will require a lot more effort than she initially believes.</p>\n",
       "        <p><b>Score:</b> 7.71</p>\n",
       "        <p><b>Type:</b> TV</p>\n",
       "        <p><b>Episodes:</b> 12.0</p>\n",
       "        <p><b>Genres:</b> Adventure, Comedy, Fantasy</p>\n",
       "        \n",
       "        \n",
       "        <p><b>Season:</b> Summer 2012</p>\n",
       "        <p><b>MAL Page:</b> <a href=\"https://myanimelist.net/anime/10357/Jinrui_wa_Suitai_Shimashita\" target=\"_blank\">Link to MyAnimeList</a></p>\n",
       "        "
      ],
      "text/plain": [
       "<IPython.core.display.HTML object>"
      ]
     },
     "metadata": {},
     "output_type": "display_data"
    },
    {
     "data": {
      "text/html": [
       "<p><b>Trailer:</b> <a href=\"https://www.youtube.com/watch?v=iPRr25y26wo\" target=\"_blank\">Watch Trailer</a></p>"
      ],
      "text/plain": [
       "<IPython.core.display.HTML object>"
      ]
     },
     "metadata": {},
     "output_type": "display_data"
    },
    {
     "data": {
      "text/html": [
       "<hr>"
      ],
      "text/plain": [
       "<IPython.core.display.HTML object>"
      ]
     },
     "metadata": {},
     "output_type": "display_data"
    },
    {
     "data": {
      "text/html": [
       "\n",
       "        <h1 style=\"font-family:Arial;\">Isekai Quartet Movie: Another World</h1>\n",
       "        <h3 style=\"font-family:Arial;\">Because you watched: Kono Subarashii Sekai ni Shukufuku wo!: Kono Subarashii Choker ni Shukufuku wo!, Isekai Quartet</h3>\n",
       "        <img src=\"https://cdn.myanimelist.net/images/anime/1222/122000.jpg\" alt=\"Isekai Quartet Movie: Another World\" style=\"width:225px;height:auto;float:left;margin-right:15px;\">\n",
       "        <p><b>Synopsis:</b> The class arrives in another world and they encounter a desolate environment dominated by a rampaging magical automaton.</p>\n",
       "        <p><b>Score:</b> 7.47</p>\n",
       "        <p><b>Type:</b> Movie</p>\n",
       "        <p><b>Episodes:</b> 1.0</p>\n",
       "        <p><b>Genres:</b> Comedy, Fantasy</p>\n",
       "        <p><b>Themes:</b> Isekai, Parody</p>\n",
       "        \n",
       "        <p><b>Season:</b> Jun 10 2022</p>\n",
       "        <p><b>MAL Page:</b> <a href=\"https://myanimelist.net/anime/41567/Isekai_Quartet_Movie__Another_World\" target=\"_blank\">Link to MyAnimeList</a></p>\n",
       "        "
      ],
      "text/plain": [
       "<IPython.core.display.HTML object>"
      ]
     },
     "metadata": {},
     "output_type": "display_data"
    },
    {
     "data": {
      "text/html": [
       "<p><b>Trailer:</b> <a href=\"https://www.youtube.com/watch?v=4B46KQbobms\" target=\"_blank\">Watch Trailer</a></p>"
      ],
      "text/plain": [
       "<IPython.core.display.HTML object>"
      ]
     },
     "metadata": {},
     "output_type": "display_data"
    },
    {
     "data": {
      "text/html": [
       "<hr>"
      ],
      "text/plain": [
       "<IPython.core.display.HTML object>"
      ]
     },
     "metadata": {},
     "output_type": "display_data"
    },
    {
     "data": {
      "text/html": [
       "\n",
       "        <h1 style=\"font-family:Arial;\">Meikyuu Black Company</h1>\n",
       "        <h3 style=\"font-family:Arial;\">Because you watched: Kono Subarashii Sekai ni Shukufuku wo!: Kono Subarashii Choker ni Shukufuku wo!, Isekai Quartet</h3>\n",
       "        <img src=\"https://cdn.myanimelist.net/images/anime/1753/116290.jpg\" alt=\"Meikyuu Black Company\" style=\"width:225px;height:auto;float:left;margin-right:15px;\">\n",
       "        <p><b>Synopsis:</b> After working tirelessly toward his goal of a self-sustainable NEET lifestyle, Kinji Ninomiya has finally achieved his dreams. Now looking down on common folk commuting during a typhoon from the penthouse of one of his apartment buildings, Kinji gets ready to start his new, slothful life. However, all of his hard work goes to waste when a portal appears beneath him from out of nowhere.\n",
       "\n",
       "Teleported to another world, Kinji is forced to work for a mining company that focuses solely on profits and has no care whatsoever for the safety and well-being of its employees. Refusing to live in such conditions, he begins devising plans to get rich quickly, building connections with others in this new world and making his best efforts to escape the stringent corporate life. Will Kinji be able to overcome his restraints and attain financial freedom once more?</p>\n",
       "        <p><b>Score:</b> 7.23</p>\n",
       "        <p><b>Type:</b> TV</p>\n",
       "        <p><b>Episodes:</b> 12.0</p>\n",
       "        <p><b>Genres:</b> Comedy, Fantasy</p>\n",
       "        <p><b>Themes:</b> Isekai</p>\n",
       "        \n",
       "        <p><b>Season:</b> Summer 2021</p>\n",
       "        <p><b>MAL Page:</b> <a href=\"https://myanimelist.net/anime/42340/Meikyuu_Black_Company\" target=\"_blank\">Link to MyAnimeList</a></p>\n",
       "        "
      ],
      "text/plain": [
       "<IPython.core.display.HTML object>"
      ]
     },
     "metadata": {},
     "output_type": "display_data"
    },
    {
     "data": {
      "text/html": [
       "<p><b>Trailer:</b> <a href=\"https://www.youtube.com/watch?v=x39JYXYmQ90\" target=\"_blank\">Watch Trailer</a></p>"
      ],
      "text/plain": [
       "<IPython.core.display.HTML object>"
      ]
     },
     "metadata": {},
     "output_type": "display_data"
    },
    {
     "data": {
      "text/html": [
       "<hr>"
      ],
      "text/plain": [
       "<IPython.core.display.HTML object>"
      ]
     },
     "metadata": {},
     "output_type": "display_data"
    },
    {
     "data": {
      "text/html": [
       "\n",
       "        <h1 style=\"font-family:Arial;\">Maoujou de Oyasumi</h1>\n",
       "        <h3 style=\"font-family:Arial;\">Because you watched: Kono Subarashii Sekai ni Shukufuku wo!: Kono Subarashii Choker ni Shukufuku wo!, Isekai Quartet</h3>\n",
       "        <img src=\"https://cdn.myanimelist.net/images/anime/1448/108514.jpg\" alt=\"Maoujou de Oyasumi\" style=\"width:225px;height:auto;float:left;margin-right:15px;\">\n",
       "        <p><b>Synopsis:</b> The Demon Lord Tasogare's castle is a dark and frightening place, filled to the brim with various monsters. Any soul unfortunate enough to be imprisoned here is sure to be terrified by the horrors within. However, the human princess Aurora Suya Rhys \"Syalis\" Kaymin is a different case. Rather indifferent to her situation, Syalis worries about one thing and one thing only—sleep. Ever since the demon lord kidnapped her from her kingdom, she has not had a single good night's rest.\n",
       "\n",
       "To alleviate her dozen dozing issues, the princess makes do with what she can find in the castle. Whether it be the fur of fluffy demonic teddy bears or the silky, blanket-like bodies of ghost shrouds, everything is but a means to ensure a peaceful slumber. With so many potential materials to craft items that can help her sleep at her disposal, nothing will stop the sleepy princess—not even death.</p>\n",
       "        <p><b>Score:</b> 7.96</p>\n",
       "        <p><b>Type:</b> TV</p>\n",
       "        <p><b>Episodes:</b> 12.0</p>\n",
       "        <p><b>Genres:</b> Comedy, Fantasy</p>\n",
       "        <p><b>Themes:</b> Parody</p>\n",
       "        <p><b>Demographic:</b> Shounen</p>\n",
       "        <p><b>Season:</b> Fall 2020</p>\n",
       "        <p><b>MAL Page:</b> <a href=\"https://myanimelist.net/anime/40397/Maoujou_de_Oyasumi\" target=\"_blank\">Link to MyAnimeList</a></p>\n",
       "        "
      ],
      "text/plain": [
       "<IPython.core.display.HTML object>"
      ]
     },
     "metadata": {},
     "output_type": "display_data"
    },
    {
     "data": {
      "text/html": [
       "<p><b>Trailer:</b> <a href=\"https://www.youtube.com/watch?v=k1zuZHvl9ic\" target=\"_blank\">Watch Trailer</a></p>"
      ],
      "text/plain": [
       "<IPython.core.display.HTML object>"
      ]
     },
     "metadata": {},
     "output_type": "display_data"
    },
    {
     "data": {
      "text/html": [
       "<hr>"
      ],
      "text/plain": [
       "<IPython.core.display.HTML object>"
      ]
     },
     "metadata": {},
     "output_type": "display_data"
    },
    {
     "data": {
      "text/html": [
       "\n",
       "        <h1 style=\"font-family:Arial;\">Darker than Black: Kuro no Keiyakusha</h1>\n",
       "        <h3 style=\"font-family:Arial;\">Because you watched: Mob Psycho 100, Mob Psycho 100 II</h3>\n",
       "        <img src=\"https://cdn.myanimelist.net/images/anime/5/19570.jpg\" alt=\"Darker than Black: Kuro no Keiyakusha\" style=\"width:225px;height:auto;float:left;margin-right:15px;\">\n",
       "        <p><b>Synopsis:</b> It has been 10 years since Heaven's Gate appeared in South America and Hell's Gate appeared in Japan, veiling the once familiar night sky with an oppressive skyscape. Their purposes unknown, these Gates are spaces in which the very laws of physics are ignored. With the appearance of the Gates emerged Contractors, who, in exchange for their humanity, are granted supernatural abilities.\n",
       "\n",
       "In the Japanese city surrounding Hell's Gate, Section 4 Chief Misaki Kirihara finds herself at odds with an infamous Contractor codenamed Hei. Called \"Black Reaper\" in the underground world, Hei, like his associates, undertakes missions for the mysterious and ruthless Syndicate while slowly peeling back the dark layers covering a nefarious plot that threatens the very existence of Contractors.\n",
       "\n",
       "From the mind of Tensai Okamura comes a sci-fi thriller taking the form of a subtle exposé on a war in which political positions and justice have no sway—a war waged exclusively in the shadows.</p>\n",
       "        <p><b>Score:</b> 8.05</p>\n",
       "        <p><b>Type:</b> TV</p>\n",
       "        <p><b>Episodes:</b> 25.0</p>\n",
       "        <p><b>Genres:</b> Action, Mystery, Sci-Fi</p>\n",
       "        <p><b>Themes:</b> Super Power</p>\n",
       "        \n",
       "        <p><b>Season:</b> Spring 2007</p>\n",
       "        <p><b>MAL Page:</b> <a href=\"https://myanimelist.net/anime/2025/Darker_than_Black__Kuro_no_Keiyakusha\" target=\"_blank\">Link to MyAnimeList</a></p>\n",
       "        "
      ],
      "text/plain": [
       "<IPython.core.display.HTML object>"
      ]
     },
     "metadata": {},
     "output_type": "display_data"
    },
    {
     "data": {
      "text/html": [
       "<p><b>Trailer:</b> <a href=\"nan\" target=\"_blank\">Watch Trailer</a></p>"
      ],
      "text/plain": [
       "<IPython.core.display.HTML object>"
      ]
     },
     "metadata": {},
     "output_type": "display_data"
    },
    {
     "data": {
      "text/html": [
       "<hr>"
      ],
      "text/plain": [
       "<IPython.core.display.HTML object>"
      ]
     },
     "metadata": {},
     "output_type": "display_data"
    },
    {
     "data": {
      "text/html": [
       "\n",
       "        <h1 style=\"font-family:Arial;\">K</h1>\n",
       "        <h3 style=\"font-family:Arial;\">Because you watched: Mob Psycho 100, Mob Psycho 100 II</h3>\n",
       "        <img src=\"https://cdn.myanimelist.net/images/anime/3/47607.jpg\" alt=\"K\" style=\"width:225px;height:auto;float:left;margin-right:15px;\">\n",
       "        <p><b>Synopsis:</b> \"Kings\" are individuals who have been bestowed with incredible supernatural powers and granted the ability to recruit others into their clans. Protecting the lives and honor of their clansmen is an integral part of the Kings' duties. After a video depicting the heinous murder of a Red Clansman spreads virally, the unassuming student Yashiro Isana is accused of homicide. Now, a manhunt is underway for his head, bringing him into contact with the infamous \"Black Dog\" Kurou Yatogami—a skilled swordsman and martial artist determined to follow the wishes of his late master, the Seventh King.\n",
       "\n",
       "Meanwhile, the current Red King, Mikoto Suou, faces his own imminent demise as the search for Yashiro narrows. But during Yashiro's struggle to prove his innocence, a greater conspiracy is unraveling behind the scenes; clouds begin to appear in his memory, and close friends start to question his very existence. What began as a simple murder is now leading towards a full blown war between Kings with the very fate of the world at stake.</p>\n",
       "        <p><b>Score:</b> 7.42</p>\n",
       "        <p><b>Type:</b> TV</p>\n",
       "        <p><b>Episodes:</b> 13.0</p>\n",
       "        <p><b>Genres:</b> Action, Mystery</p>\n",
       "        <p><b>Themes:</b> Super Power</p>\n",
       "        \n",
       "        <p><b>Season:</b> Fall 2012</p>\n",
       "        <p><b>MAL Page:</b> <a href=\"https://myanimelist.net/anime/14467/K\" target=\"_blank\">Link to MyAnimeList</a></p>\n",
       "        "
      ],
      "text/plain": [
       "<IPython.core.display.HTML object>"
      ]
     },
     "metadata": {},
     "output_type": "display_data"
    },
    {
     "data": {
      "text/html": [
       "<p><b>Trailer:</b> <a href=\"nan\" target=\"_blank\">Watch Trailer</a></p>"
      ],
      "text/plain": [
       "<IPython.core.display.HTML object>"
      ]
     },
     "metadata": {},
     "output_type": "display_data"
    },
    {
     "data": {
      "text/html": [
       "<hr>"
      ],
      "text/plain": [
       "<IPython.core.display.HTML object>"
      ]
     },
     "metadata": {},
     "output_type": "display_data"
    },
    {
     "data": {
      "text/html": [
       "\n",
       "        <h1 style=\"font-family:Arial;\">Death Billiards</h1>\n",
       "        <h3 style=\"font-family:Arial;\">Because you watched: Re:Zero kara Hajimeru Isekai Seikatsu 2nd Season, Re:Zero kara Hajimeru Isekai Seikatsu 2nd Season Part 2</h3>\n",
       "        <img src=\"https://cdn.myanimelist.net/images/anime/11/48721.jpg\" alt=\"Death Billiards\" style=\"width:225px;height:auto;float:left;margin-right:15px;\">\n",
       "        <p><b>Synopsis:</b> Two men have just arrived at a location known as Quindecim and are unable to remember how they got there. They are immediately greeted by a young woman who escorts them to a small bar, where a bartender awaits them. They are told that they will have to participate in a game, randomly chosen by roulette, and will be unable to leave until its completion; if they refuse, the consequences will be dire. In addition to the rules of the game, the two men are told to play as if their lives are at stake.\n",
       " \n",
       "The game that has been chosen is billiards. But there's more to it than just pocketing pool balls, as the two are about to find out the outcome could mean life or death.</p>\n",
       "        <p><b>Score:</b> 7.87</p>\n",
       "        <p><b>Type:</b> Movie</p>\n",
       "        <p><b>Episodes:</b> 1.0</p>\n",
       "        <p><b>Genres:</b> Drama, Fantasy, Suspense</p>\n",
       "        <p><b>Themes:</b> Adult Cast, High Stakes Game, Psychological</p>\n",
       "        \n",
       "        <p><b>Season:</b> Mar 2 2013</p>\n",
       "        <p><b>MAL Page:</b> <a href=\"https://myanimelist.net/anime/14353/Death_Billiards\" target=\"_blank\">Link to MyAnimeList</a></p>\n",
       "        "
      ],
      "text/plain": [
       "<IPython.core.display.HTML object>"
      ]
     },
     "metadata": {},
     "output_type": "display_data"
    },
    {
     "data": {
      "text/html": [
       "<p><b>Trailer:</b> <a href=\"https://www.youtube.com/watch?v=BhmQ7pHlyo0\" target=\"_blank\">Watch Trailer</a></p>"
      ],
      "text/plain": [
       "<IPython.core.display.HTML object>"
      ]
     },
     "metadata": {},
     "output_type": "display_data"
    },
    {
     "data": {
      "text/html": [
       "<hr>"
      ],
      "text/plain": [
       "<IPython.core.display.HTML object>"
      ]
     },
     "metadata": {},
     "output_type": "display_data"
    },
    {
     "data": {
      "text/html": [
       "\n",
       "        <h1 style=\"font-family:Arial;\">Fruits Basket 2nd Season</h1>\n",
       "        <h3 style=\"font-family:Arial;\">Because you watched: Seishun Buta Yarou wa Bunny Girl Senpai no Yume wo Minai, Seishun Buta Yarou wa Yumemiru Shoujo no Yume wo Minai</h3>\n",
       "        <img src=\"https://cdn.myanimelist.net/images/anime/1972/111635.jpg\" alt=\"Fruits Basket 2nd Season\" style=\"width:225px;height:auto;float:left;margin-right:15px;\">\n",
       "        <p><b>Synopsis:</b> A year has passed since Tooru Honda began living in the Souma residence, and she has since created stronger relationships with its inhabitants Shigure, Kyou, and Yuki. She has also grown closer to the rest of the Souma family and has become familiar with their ancestral secret, having helped them with many of their personal issues. The closer Tooru gets, however, the more she begins to realize that their secret holds a darker truth than she first presumed.\n",
       "\n",
       "Summer is approaching and Tooru is invited to spend her days with the Soumas, mainly Kyou and Yuki. Tooru wishes for an easy-going vacation, but her close relationships with the two boys and the rest of the Soumas may prove to cause trouble. As they grow more intimate, their carefree time together is hindered by older hardships and feelings from the past that begin to resurface. The Eternal Banquet also dawns on the members of the zodiac, and they must tend to their duties alongside the unnerving head of the family, Akito Souma.\n",
       "\n",
       "With the banquet approaching and a plethora of feelings to be solved, will Tooru's life with the Soumas remain peaceful, or will she find herself in a situation from which she cannot escape?</p>\n",
       "        <p><b>Score:</b> 8.54</p>\n",
       "        <p><b>Type:</b> TV</p>\n",
       "        <p><b>Episodes:</b> 25.0</p>\n",
       "        <p><b>Genres:</b> Drama, Romance, Supernatural</p>\n",
       "        <p><b>Themes:</b> School</p>\n",
       "        <p><b>Demographic:</b> Shoujo</p>\n",
       "        <p><b>Season:</b> Spring 2020</p>\n",
       "        <p><b>MAL Page:</b> <a href=\"https://myanimelist.net/anime/40417/Fruits_Basket_2nd_Season\" target=\"_blank\">Link to MyAnimeList</a></p>\n",
       "        "
      ],
      "text/plain": [
       "<IPython.core.display.HTML object>"
      ]
     },
     "metadata": {},
     "output_type": "display_data"
    },
    {
     "data": {
      "text/html": [
       "<p><b>Trailer:</b> <a href=\"https://www.youtube.com/watch?v=yBBePKQTWFE\" target=\"_blank\">Watch Trailer</a></p>"
      ],
      "text/plain": [
       "<IPython.core.display.HTML object>"
      ]
     },
     "metadata": {},
     "output_type": "display_data"
    },
    {
     "data": {
      "text/html": [
       "<hr>"
      ],
      "text/plain": [
       "<IPython.core.display.HTML object>"
      ]
     },
     "metadata": {},
     "output_type": "display_data"
    },
    {
     "data": {
      "text/html": [
       "\n",
       "        <h1 style=\"font-family:Arial;\">Kiznaiver</h1>\n",
       "        <h3 style=\"font-family:Arial;\">Because you watched: Tenki no Ko, Orange</h3>\n",
       "        <img src=\"https://cdn.myanimelist.net/images/anime/6/78466.jpg\" alt=\"Kiznaiver\" style=\"width:225px;height:auto;float:left;margin-right:15px;\">\n",
       "        <p><b>Synopsis:</b> Katsuhira Agata is a quiet and reserved teenage boy whose sense of pain has all but vanished. His friend, Chidori Takashiro, can only faintly remember the days before Katsuhira had undergone this profound change. Now, his muffled and complacent demeanor make Katsuhira a constant target for bullies, who exploit him for egregious sums of money. But their fists only just manage to make him blink, as even emotions are far from his grasp.\n",
       "\n",
       "However, one day Katsuhira, Chidori, and four other teenagers are abducted and forced to join the Kizuna System as official \"Kiznaivers.\" Those taking part are connected through pain: if one member is injured, the others will feel an equal amount of agony. These individuals must become the lab rats and scapegoats of an incomplete system designed with world peace in mind. With their fates literally intertwined, the Kiznaivers must expose their true selves to each other, or risk failing much more than just the Kizuna System.</p>\n",
       "        <p><b>Score:</b> 7.37</p>\n",
       "        <p><b>Type:</b> TV</p>\n",
       "        <p><b>Episodes:</b> 12.0</p>\n",
       "        <p><b>Genres:</b> Drama, Romance, Sci-Fi</p>\n",
       "        \n",
       "        \n",
       "        <p><b>Season:</b> Spring 2016</p>\n",
       "        <p><b>MAL Page:</b> <a href=\"https://myanimelist.net/anime/31798/Kiznaiver\" target=\"_blank\">Link to MyAnimeList</a></p>\n",
       "        "
      ],
      "text/plain": [
       "<IPython.core.display.HTML object>"
      ]
     },
     "metadata": {},
     "output_type": "display_data"
    },
    {
     "data": {
      "text/html": [
       "<p><b>Trailer:</b> <a href=\"https://www.youtube.com/watch?v=x8M8LIcLtoo\" target=\"_blank\">Watch Trailer</a></p>"
      ],
      "text/plain": [
       "<IPython.core.display.HTML object>"
      ]
     },
     "metadata": {},
     "output_type": "display_data"
    },
    {
     "data": {
      "text/html": [
       "<hr>"
      ],
      "text/plain": [
       "<IPython.core.display.HTML object>"
      ]
     },
     "metadata": {},
     "output_type": "display_data"
    },
    {
     "data": {
      "text/html": [
       "\n",
       "        <h1 style=\"font-family:Arial;\">Non Non Biyori Nonstop</h1>\n",
       "        <h3 style=\"font-family:Arial;\">Because you watched: Yuru Camp△, Yuru Camp△ Season 2</h3>\n",
       "        <img src=\"https://cdn.myanimelist.net/images/anime/1033/111540.jpg\" alt=\"Non Non Biyori Nonstop\" style=\"width:225px;height:auto;float:left;margin-right:15px;\">\n",
       "        <p><b>Synopsis:</b> The carefree journeys of the four girls continue! As their fleeting yet eventful summer becomes a distant memory, the arrival of fall signals a new school year with limitless opportunities. Even as the four girls return to their peaceful routine, the appearance of new faces enlivens the anything but exciting rural life of Asahigaoka.\n",
       "\n",
       "Non Non Biyori Nonstop leisurely walks back into the lives of Hotaru Ichijou, Komari Koshigaya, Natsumi Koshigaya, and Renge Miyauchi as they fully embrace their rural lifestyles and turn anything they find into nothing but fun!</p>\n",
       "        <p><b>Score:</b> 8.36</p>\n",
       "        <p><b>Type:</b> TV</p>\n",
       "        <p><b>Episodes:</b> 12.0</p>\n",
       "        <p><b>Genres:</b> Slice of Life</p>\n",
       "        <p><b>Themes:</b> CGDCT, Iyashikei</p>\n",
       "        <p><b>Demographic:</b> Seinen</p>\n",
       "        <p><b>Season:</b> Winter 2021</p>\n",
       "        <p><b>MAL Page:</b> <a href=\"https://myanimelist.net/anime/39808/Non_Non_Biyori_Nonstop\" target=\"_blank\">Link to MyAnimeList</a></p>\n",
       "        "
      ],
      "text/plain": [
       "<IPython.core.display.HTML object>"
      ]
     },
     "metadata": {},
     "output_type": "display_data"
    },
    {
     "data": {
      "text/html": [
       "<p><b>Trailer:</b> <a href=\"https://www.youtube.com/watch?v=57Fk9kOTvXE\" target=\"_blank\">Watch Trailer</a></p>"
      ],
      "text/plain": [
       "<IPython.core.display.HTML object>"
      ]
     },
     "metadata": {},
     "output_type": "display_data"
    },
    {
     "data": {
      "text/html": [
       "<hr>"
      ],
      "text/plain": [
       "<IPython.core.display.HTML object>"
      ]
     },
     "metadata": {},
     "output_type": "display_data"
    },
    {
     "data": {
      "text/html": [
       "\n",
       "        <h1 style=\"font-family:Arial;\">Ichigo Mashimaro</h1>\n",
       "        <h3 style=\"font-family:Arial;\">Because you watched: Yuru Camp△, Yuru Camp△ Season 2</h3>\n",
       "        <img src=\"https://cdn.myanimelist.net/images/anime/10/11042.jpg\" alt=\"Ichigo Mashimaro\" style=\"width:225px;height:auto;float:left;margin-right:15px;\">\n",
       "        <p><b>Synopsis:</b> \"Cute girls doing cute things in cute ways.\"\n",
       "\n",
       "Everyday things make up the fabric of life—whether it's making friends, going to school, trying to make money, or celebrating a holiday. Ichigo Mashimaro is a heartwarming series that follows the daily lives of Itou Chika, her sister Nobue, and her friends Miu, Matsuri, and Ana.</p>\n",
       "        <p><b>Score:</b> 7.63</p>\n",
       "        <p><b>Type:</b> TV</p>\n",
       "        <p><b>Episodes:</b> 12.0</p>\n",
       "        <p><b>Genres:</b> Slice of Life</p>\n",
       "        <p><b>Themes:</b> CGDCT, Iyashikei</p>\n",
       "        \n",
       "        <p><b>Season:</b> Summer 2005</p>\n",
       "        <p><b>MAL Page:</b> <a href=\"https://myanimelist.net/anime/488/Ichigo_Mashimaro\" target=\"_blank\">Link to MyAnimeList</a></p>\n",
       "        "
      ],
      "text/plain": [
       "<IPython.core.display.HTML object>"
      ]
     },
     "metadata": {},
     "output_type": "display_data"
    },
    {
     "data": {
      "text/html": [
       "<p><b>Trailer:</b> <a href=\"https://www.youtube.com/watch?v=vwx8MwaVhKI\" target=\"_blank\">Watch Trailer</a></p>"
      ],
      "text/plain": [
       "<IPython.core.display.HTML object>"
      ]
     },
     "metadata": {},
     "output_type": "display_data"
    },
    {
     "data": {
      "text/html": [
       "<hr>"
      ],
      "text/plain": [
       "<IPython.core.display.HTML object>"
      ]
     },
     "metadata": {},
     "output_type": "display_data"
    },
    {
     "data": {
      "text/html": [
       "\n",
       "        <h1 style=\"font-family:Arial;\">Mitsuboshi Colors</h1>\n",
       "        <h3 style=\"font-family:Arial;\">Because you watched: Yuru Camp△, Yuru Camp△ Season 2</h3>\n",
       "        <img src=\"https://cdn.myanimelist.net/images/anime/5/89984.jpg\" alt=\"Mitsuboshi Colors\" style=\"width:225px;height:auto;float:left;margin-right:15px;\">\n",
       "        <p><b>Synopsis:</b> Residing within Tokyo's district of Ueno are the Colors, three individuals who protect their city by performing good deeds and aiding their community. Or, at the very least, they pretend to be the city's defenders. In reality, the Colors are just three young girls: the shy Yui Akamatsu, the noisy Sacchan, and the video game-loving Kotoha, who spend their time playing make-believe and exploring the city. The Colors' activities are facilitated by the grandfatherly Daigorou \"Pops\" Kujiraoka, who uses his store's inventory of knick-knacks to entertain the rambunctious trio.\n",
       "\n",
       "Not everyone is a fan of the Colors though. The local policeman Saitou just wants to deal with his regular duties, but he often finds himself the target of the Colors' attention, having been made the villain in most of their fantasies. But despite his personal feelings, Saitou always finds the time to go along with the three girls' games. Even though the Colors do not actually defend Ueno, they definitely help brighten everyone's day.</p>\n",
       "        <p><b>Score:</b> 7.41</p>\n",
       "        <p><b>Type:</b> TV</p>\n",
       "        <p><b>Episodes:</b> 12.0</p>\n",
       "        <p><b>Genres:</b> Slice of Life</p>\n",
       "        <p><b>Themes:</b> CGDCT, Iyashikei</p>\n",
       "        <p><b>Demographic:</b> Shounen</p>\n",
       "        <p><b>Season:</b> Winter 2018</p>\n",
       "        <p><b>MAL Page:</b> <a href=\"https://myanimelist.net/anime/35078/Mitsuboshi_Colors\" target=\"_blank\">Link to MyAnimeList</a></p>\n",
       "        "
      ],
      "text/plain": [
       "<IPython.core.display.HTML object>"
      ]
     },
     "metadata": {},
     "output_type": "display_data"
    },
    {
     "data": {
      "text/html": [
       "<p><b>Trailer:</b> <a href=\"https://www.youtube.com/watch?v=lqDhsdx_oqs\" target=\"_blank\">Watch Trailer</a></p>"
      ],
      "text/plain": [
       "<IPython.core.display.HTML object>"
      ]
     },
     "metadata": {},
     "output_type": "display_data"
    },
    {
     "data": {
      "text/html": [
       "<hr>"
      ],
      "text/plain": [
       "<IPython.core.display.HTML object>"
      ]
     },
     "metadata": {},
     "output_type": "display_data"
    },
    {
     "data": {
      "text/html": [
       "\n",
       "        <h1 style=\"font-family:Arial;\">Clannad: Mou Hitotsu no Sekai, Tomoyo-hen</h1>\n",
       "        <h3 style=\"font-family:Arial;\">Because you watched: Araburu Kisetsu no Otome-domo yo., ReLIFE: Kanketsu-hen</h3>\n",
       "        <img src=\"https://cdn.myanimelist.net/images/anime/12/19620.jpg\" alt=\"Clannad: Mou Hitotsu no Sekai, Tomoyo-hen\" style=\"width:225px;height:auto;float:left;margin-right:15px;\">\n",
       "        <p><b>Synopsis:</b> Clannad: Mou Hitotsu no Sekai, Tomoyo-hen is set in an alternate reality where Tomoya Okazaki dates his junior, Tomoyo Sakagami.\n",
       "\n",
       "Tomoyo has been elected to be the school's next Student Council President. This is great news as she can now work toward her goal of preventing the school's cherry blossom trees from being axed. Although Tomoya is ecstatic for her, given his reputation as a delinquent in school, his relationship with Tomoyo is making them the subject of gossip around the campus, which can potentially compromise her standing as Student Council President. The school community's disapproval of their relationship becomes more apparent when the Student Council's Vice-President and even the school's administration warn Tomoya to distance himself from Tomoyo.\n",
       "\n",
       "With the bad atmosphere widening the rift between Tomoya and Tomoyo, will Tomoya succumb to societal pressure and do as they say, or will their love for each other rise above it all?</p>\n",
       "        <p><b>Score:</b> 7.93</p>\n",
       "        <p><b>Type:</b> Special</p>\n",
       "        <p><b>Episodes:</b> 1.0</p>\n",
       "        <p><b>Genres:</b> Drama, Romance</p>\n",
       "        <p><b>Themes:</b> School</p>\n",
       "        \n",
       "        <p><b>Season:</b> Jul 16 2008</p>\n",
       "        <p><b>MAL Page:</b> <a href=\"https://myanimelist.net/anime/4059/Clannad__Mou_Hitotsu_no_Sekai_Tomoyo-hen\" target=\"_blank\">Link to MyAnimeList</a></p>\n",
       "        "
      ],
      "text/plain": [
       "<IPython.core.display.HTML object>"
      ]
     },
     "metadata": {},
     "output_type": "display_data"
    },
    {
     "data": {
      "text/html": [
       "<p><b>Trailer:</b> <a href=\"nan\" target=\"_blank\">Watch Trailer</a></p>"
      ],
      "text/plain": [
       "<IPython.core.display.HTML object>"
      ]
     },
     "metadata": {},
     "output_type": "display_data"
    },
    {
     "data": {
      "text/html": [
       "<hr>"
      ],
      "text/plain": [
       "<IPython.core.display.HTML object>"
      ]
     },
     "metadata": {},
     "output_type": "display_data"
    },
    {
     "data": {
      "text/html": [
       "\n",
       "        <h1 style=\"font-family:Arial;\">Clannad: After Story - Mou Hitotsu no Sekai, Kyou-hen</h1>\n",
       "        <h3 style=\"font-family:Arial;\">Because you watched: Araburu Kisetsu no Otome-domo yo., ReLIFE: Kanketsu-hen</h3>\n",
       "        <img src=\"https://cdn.myanimelist.net/images/anime/10/19621.jpg\" alt=\"Clannad: After Story - Mou Hitotsu no Sekai, Kyou-hen\" style=\"width:225px;height:auto;float:left;margin-right:15px;\">\n",
       "        <p><b>Synopsis:</b> On a rainy day, Ryou Fujibayashi musters up the courage to confess her feelings to Tomoya Okazaki. Despite not knowing each other for long, the two start dating and develop a harmonious relationship. However, tensions begin to rise when a rumor surrounding Tomoya and Ryou's older sister Kyou spreads around school.\n",
       "\n",
       "Navigating through a web of emotions, Tomoya and the Fujibayashi twins determine where their love truly lies—even if it means standing in the downpour of the heartbreaking truth.</p>\n",
       "        <p><b>Score:</b> 7.77</p>\n",
       "        <p><b>Type:</b> Special</p>\n",
       "        <p><b>Episodes:</b> 1.0</p>\n",
       "        <p><b>Genres:</b> Drama, Romance</p>\n",
       "        <p><b>Themes:</b> School</p>\n",
       "        \n",
       "        <p><b>Season:</b> Jul 1 2009</p>\n",
       "        <p><b>MAL Page:</b> <a href=\"https://myanimelist.net/anime/6351/Clannad__After_Story_-_Mou_Hitotsu_no_Sekai_Kyou-hen\" target=\"_blank\">Link to MyAnimeList</a></p>\n",
       "        "
      ],
      "text/plain": [
       "<IPython.core.display.HTML object>"
      ]
     },
     "metadata": {},
     "output_type": "display_data"
    },
    {
     "data": {
      "text/html": [
       "<p><b>Trailer:</b> <a href=\"nan\" target=\"_blank\">Watch Trailer</a></p>"
      ],
      "text/plain": [
       "<IPython.core.display.HTML object>"
      ]
     },
     "metadata": {},
     "output_type": "display_data"
    },
    {
     "data": {
      "text/html": [
       "<hr>"
      ],
      "text/plain": [
       "<IPython.core.display.HTML object>"
      ]
     },
     "metadata": {},
     "output_type": "display_data"
    },
    {
     "data": {
      "text/html": [
       "\n",
       "        <h1 style=\"font-family:Arial;\">Hunter x Hunter: Original Video Animation</h1>\n",
       "        <h3 style=\"font-family:Arial;\">Because you watched: Fumetsu no Anata e Season 2, Shadows House</h3>\n",
       "        <img src=\"https://cdn.myanimelist.net/images/anime/1/137.jpg\" alt=\"Hunter x Hunter: Original Video Animation\" style=\"width:225px;height:auto;float:left;margin-right:15px;\">\n",
       "        <p><b>Synopsis:</b> After reuniting with Gon and his friends, Kurapika explained to them the risks he bears because of his abilities. Believing that his target of revenge is no longer alive and the search for his fallen comrade's eyes could truly begin, Kurapika soon after receives a message informing him that all the Spiders still lived. After much discussion between his friends, Gon, Kurapika and company decided to hunt after the one Spider member who's ability could ultimately result in Kurapika's defeat and death. Based on the manga by Togashi Yoshihiro.</p>\n",
       "        <p><b>Score:</b> 8.31</p>\n",
       "        <p><b>Type:</b> OVA</p>\n",
       "        <p><b>Episodes:</b> 8.0</p>\n",
       "        <p><b>Genres:</b> Action, Adventure, Fantasy</p>\n",
       "        \n",
       "        <p><b>Demographic:</b> Shounen</p>\n",
       "        <p><b>Season:</b> Jan 17 2002</p>\n",
       "        <p><b>MAL Page:</b> <a href=\"https://myanimelist.net/anime/137/Hunter_x_Hunter__Original_Video_Animation\" target=\"_blank\">Link to MyAnimeList</a></p>\n",
       "        "
      ],
      "text/plain": [
       "<IPython.core.display.HTML object>"
      ]
     },
     "metadata": {},
     "output_type": "display_data"
    },
    {
     "data": {
      "text/html": [
       "<p><b>Trailer:</b> <a href=\"nan\" target=\"_blank\">Watch Trailer</a></p>"
      ],
      "text/plain": [
       "<IPython.core.display.HTML object>"
      ]
     },
     "metadata": {},
     "output_type": "display_data"
    },
    {
     "data": {
      "text/html": [
       "<hr>"
      ],
      "text/plain": [
       "<IPython.core.display.HTML object>"
      ]
     },
     "metadata": {},
     "output_type": "display_data"
    },
    {
     "data": {
      "text/html": [
       "\n",
       "        <h1 style=\"font-family:Arial;\">Ansatsu Kyoushitsu</h1>\n",
       "        <h3 style=\"font-family:Arial;\">Because you watched: Jujutsu Kaisen, One Punch Man</h3>\n",
       "        <img src=\"https://cdn.myanimelist.net/images/anime/5/75639.jpg\" alt=\"Ansatsu Kyoushitsu\" style=\"width:225px;height:auto;float:left;margin-right:15px;\">\n",
       "        <p><b>Synopsis:</b> Tucked in the mountains near the elite Kunugigaoka Middle School lies a small derelict building that houses the delinquents and dropouts of Class 3-E. Looked down upon by their peers, the students in this class appear to have little hope in advancing their academic careers. That is, until the national government tasks them with eliminating the greatest threat to their planet: their new teacher. \n",
       "\n",
       "Having already destroyed the moon, the octopus-like professor—dubbed \"Koro-sensei\"—has now threatened to destroy the Earth by March of the following year. In light of their mission, the students have found that killing him is easier said than done. Not only can Koro-sensei move at speeds of up to Mach 20, but he can also resist almost every earthly weapon. Ironically, he also proves to be one of the best teachers Class 3-E has ever had. Training the class to excel in both their studies as students and skills as assassins, Koro-sensei is confident that his students' ingenuity and indomitable will could return them to the main campus. \n",
       "\n",
       "Through trial and error, Nagisa Shiota, as well as the other students of Class 3-E, must figure out Koro-sensei's weaknesses—and fast, for the very fate of the world depends upon it.</p>\n",
       "        <p><b>Score:</b> 8.08</p>\n",
       "        <p><b>Type:</b> TV</p>\n",
       "        <p><b>Episodes:</b> 22.0</p>\n",
       "        <p><b>Genres:</b> Action, Comedy</p>\n",
       "        <p><b>Themes:</b> School</p>\n",
       "        <p><b>Demographic:</b> Shounen</p>\n",
       "        <p><b>Season:</b> Winter 2015</p>\n",
       "        <p><b>MAL Page:</b> <a href=\"https://myanimelist.net/anime/24833/Ansatsu_Kyoushitsu\" target=\"_blank\">Link to MyAnimeList</a></p>\n",
       "        "
      ],
      "text/plain": [
       "<IPython.core.display.HTML object>"
      ]
     },
     "metadata": {},
     "output_type": "display_data"
    },
    {
     "data": {
      "text/html": [
       "<p><b>Trailer:</b> <a href=\"https://www.youtube.com/watch?v=kgNkGohA20k\" target=\"_blank\">Watch Trailer</a></p>"
      ],
      "text/plain": [
       "<IPython.core.display.HTML object>"
      ]
     },
     "metadata": {},
     "output_type": "display_data"
    },
    {
     "data": {
      "text/html": [
       "<hr>"
      ],
      "text/plain": [
       "<IPython.core.display.HTML object>"
      ]
     },
     "metadata": {},
     "output_type": "display_data"
    },
    {
     "data": {
      "text/html": [
       "\n",
       "        <h1 style=\"font-family:Arial;\">Kimetsu no Yaiba: Hashira Geiko-hen</h1>\n",
       "        <h3 style=\"font-family:Arial;\">Because you watched: Kimetsu no Yaiba Movie: Mugen Ressha-hen, Kimetsu no Yaiba: Yuukaku-hen</h3>\n",
       "        <img src=\"https://cdn.myanimelist.net/images/anime/1565/142711.jpg\" alt=\"Kimetsu no Yaiba: Hashira Geiko-hen\" style=\"width:225px;height:auto;float:left;margin-right:15px;\">\n",
       "        <p><b>Synopsis:</b> After a series of mighty clashes with Upper Rank Demons, the Ubuyashiki clan prepares for one last battle with the hellish forces of Muzan Kibutsuji. In order to finally defeat the Demon leader once and for all, the clan devises a training camp for the Demon Slayer Corps, one led by the remaining Hashira—the most elite warriors in the organization. Each Hashira forms a specialized exercise that will hone both their own abilities and the skills of the ordinary soldiers.\n",
       "\n",
       "Tanjirou Kamado, a boy at the heart of the brewing conflict, recovers from wounds received in a recent fight. While his half-Demon sister Nezuko is studied by researchers like Shinobu Kochou, Tanjirou embarks to train with the Hashira, seeking mastery in each of their assigned areas of expertise to be best prepared for the coming war—skills vital to Tanjirou, as he has vowed to be the very warrior who will eliminate Muzan for good.</p>\n",
       "        <p><b>Score:</b> 8.15</p>\n",
       "        <p><b>Type:</b> TV</p>\n",
       "        <p><b>Episodes:</b> 8.0</p>\n",
       "        <p><b>Genres:</b> Action, Fantasy</p>\n",
       "        <p><b>Themes:</b> Historical</p>\n",
       "        <p><b>Demographic:</b> Shounen</p>\n",
       "        <p><b>Season:</b> Spring 2024</p>\n",
       "        <p><b>MAL Page:</b> <a href=\"https://myanimelist.net/anime/55701/Kimetsu_no_Yaiba__Hashira_Geiko-hen\" target=\"_blank\">Link to MyAnimeList</a></p>\n",
       "        "
      ],
      "text/plain": [
       "<IPython.core.display.HTML object>"
      ]
     },
     "metadata": {},
     "output_type": "display_data"
    },
    {
     "data": {
      "text/html": [
       "<p><b>Trailer:</b> <a href=\"https://www.youtube.com/watch?v=Tf31dGdlWxE\" target=\"_blank\">Watch Trailer</a></p>"
      ],
      "text/plain": [
       "<IPython.core.display.HTML object>"
      ]
     },
     "metadata": {},
     "output_type": "display_data"
    },
    {
     "data": {
      "text/html": [
       "<hr>"
      ],
      "text/plain": [
       "<IPython.core.display.HTML object>"
      ]
     },
     "metadata": {},
     "output_type": "display_data"
    },
    {
     "data": {
      "text/html": [
       "\n",
       "        <h1 style=\"font-family:Arial;\">Boruto: Naruto Next Generations</h1>\n",
       "        <h3 style=\"font-family:Arial;\">Because you watched: Naruto, Naruto: Shippuuden</h3>\n",
       "        <img src=\"https://cdn.myanimelist.net/images/anime/1091/99847.jpg\" alt=\"Boruto: Naruto Next Generations\" style=\"width:225px;height:auto;float:left;margin-right:15px;\">\n",
       "        <p><b>Synopsis:</b> Following the successful end of the Fourth Shinobi World War, Konohagakure has been enjoying a period of peace, prosperity, and extraordinary technological advancement. This is all due to the efforts of the Allied Shinobi Forces and the village's Seventh Hokage, Naruto Uzumaki. Now resembling a modern metropolis, Konohagakure has changed, particularly the life of a shinobi. Under the watchful eye of Naruto and his old comrades, a new generation of shinobi has stepped up to learn the ways of the ninja.\n",
       "\n",
       "Boruto Uzumaki is often the center of attention as the son of the Seventh Hokage. Despite having inherited Naruto's boisterous and stubborn demeanor, Boruto is considered a prodigy and is able to unleash his potential with the help of supportive friends and family. Unfortunately, this has only worsened his arrogance and his desire to surpass Naruto which, along with his father's busy lifestyle, has strained their relationship. However, a sinister force brewing within the village may threaten Boruto's carefree life.\n",
       "\n",
       "New friends and familiar faces join Boruto as a new story begins.</p>\n",
       "        <p><b>Score:</b> 6.01</p>\n",
       "        <p><b>Type:</b> TV</p>\n",
       "        <p><b>Episodes:</b> 293.0</p>\n",
       "        <p><b>Genres:</b> Action, Adventure, Fantasy</p>\n",
       "        <p><b>Themes:</b> Martial Arts</p>\n",
       "        <p><b>Demographic:</b> Shounen</p>\n",
       "        <p><b>Season:</b> Spring 2017</p>\n",
       "        <p><b>MAL Page:</b> <a href=\"https://myanimelist.net/anime/34566/Boruto__Naruto_Next_Generations\" target=\"_blank\">Link to MyAnimeList</a></p>\n",
       "        "
      ],
      "text/plain": [
       "<IPython.core.display.HTML object>"
      ]
     },
     "metadata": {},
     "output_type": "display_data"
    },
    {
     "data": {
      "text/html": [
       "<p><b>Trailer:</b> <a href=\"nan\" target=\"_blank\">Watch Trailer</a></p>"
      ],
      "text/plain": [
       "<IPython.core.display.HTML object>"
      ]
     },
     "metadata": {},
     "output_type": "display_data"
    },
    {
     "data": {
      "text/html": [
       "<hr>"
      ],
      "text/plain": [
       "<IPython.core.display.HTML object>"
      ]
     },
     "metadata": {},
     "output_type": "display_data"
    },
    {
     "data": {
      "text/html": [
       "\n",
       "        <h1 style=\"font-family:Arial;\">Fate/stay night: Unlimited Blade Works</h1>\n",
       "        <h3 style=\"font-family:Arial;\">Because you watched: Chainsaw Man</h3>\n",
       "        <img src=\"https://cdn.myanimelist.net/images/anime/12/67333.jpg\" alt=\"Fate/stay night: Unlimited Blade Works\" style=\"width:225px;height:auto;float:left;margin-right:15px;\">\n",
       "        <p><b>Synopsis:</b> The Holy Grail War is a battle royale among seven magi who serve as Masters. Masters, through the use of the command seals they are given when they enter the war, command Heroic Spirits known as Servants to fight for them in battle. In the Fifth Holy Grail War, Rin Toosaka is among the magi entering the competition. With her Servant, Archer, she hopes to obtain the ultimate prize—the Holy Grail, a magical artifact capable of granting its wielder any wish.\n",
       " \n",
       "One of Rin's classmates, Shirou Emiya, accidentally enters the competition and ends up commanding a Servant of his own known as Saber. As they find themselves facing mutual enemies, Rin and Shirou decide to form a temporary alliance as they challenge their opponents in the Holy Grail War.</p>\n",
       "        <p><b>Score:</b> 8.18</p>\n",
       "        <p><b>Type:</b> TV</p>\n",
       "        <p><b>Episodes:</b> 12.0</p>\n",
       "        <p><b>Genres:</b> Action, Fantasy</p>\n",
       "        <p><b>Themes:</b> Urban Fantasy</p>\n",
       "        \n",
       "        <p><b>Season:</b> Fall 2014</p>\n",
       "        <p><b>MAL Page:</b> <a href=\"https://myanimelist.net/anime/22297/Fate_stay_night__Unlimited_Blade_Works\" target=\"_blank\">Link to MyAnimeList</a></p>\n",
       "        "
      ],
      "text/plain": [
       "<IPython.core.display.HTML object>"
      ]
     },
     "metadata": {},
     "output_type": "display_data"
    },
    {
     "data": {
      "text/html": [
       "<p><b>Trailer:</b> <a href=\"https://www.youtube.com/watch?v=61RuoLIlCUM\" target=\"_blank\">Watch Trailer</a></p>"
      ],
      "text/plain": [
       "<IPython.core.display.HTML object>"
      ]
     },
     "metadata": {},
     "output_type": "display_data"
    },
    {
     "data": {
      "text/html": [
       "<hr>"
      ],
      "text/plain": [
       "<IPython.core.display.HTML object>"
      ]
     },
     "metadata": {},
     "output_type": "display_data"
    },
    {
     "data": {
      "text/html": [
       "\n",
       "        <h1 style=\"font-family:Arial;\">Youjo Senki</h1>\n",
       "        <h3 style=\"font-family:Arial;\">Because you watched: Chainsaw Man</h3>\n",
       "        <img src=\"https://cdn.myanimelist.net/images/anime/5/82890.jpg\" alt=\"Youjo Senki\" style=\"width:225px;height:auto;float:left;margin-right:15px;\">\n",
       "        <p><b>Synopsis:</b> Tanya Degurechaff is a young soldier infamous for predatorial-like ruthlessness and an uncanny, tactical aptitude, earning her the nickname of the \"Devil of the Rhine.\" Underneath her innocuous appearance, however, lies the soul of a man who challenged Being X, the self-proclaimed God, to a battle of wits—which resulted in him being reincarnated as a little girl into a world of magical warfare. Hellbent on defiance, Tanya resolves to ascend the ranks of her country's military as it slowly plunges into world war, with only Being X proving to be the strongest obstacle in recreating the peaceful life she once knew. But her perceptive actions and combat initiative have an unintended side effect: propelling the mighty Empire into becoming one of the most powerful nations in mankind's history.</p>\n",
       "        <p><b>Score:</b> 7.96</p>\n",
       "        <p><b>Type:</b> TV</p>\n",
       "        <p><b>Episodes:</b> 12.0</p>\n",
       "        <p><b>Genres:</b> Action, Fantasy</p>\n",
       "        <p><b>Themes:</b> Isekai, Military, Reincarnation, Urban Fantasy</p>\n",
       "        \n",
       "        <p><b>Season:</b> Winter 2017</p>\n",
       "        <p><b>MAL Page:</b> <a href=\"https://myanimelist.net/anime/32615/Youjo_Senki\" target=\"_blank\">Link to MyAnimeList</a></p>\n",
       "        "
      ],
      "text/plain": [
       "<IPython.core.display.HTML object>"
      ]
     },
     "metadata": {},
     "output_type": "display_data"
    },
    {
     "data": {
      "text/html": [
       "<p><b>Trailer:</b> <a href=\"https://www.youtube.com/watch?v=eQXrx39ImTI\" target=\"_blank\">Watch Trailer</a></p>"
      ],
      "text/plain": [
       "<IPython.core.display.HTML object>"
      ]
     },
     "metadata": {},
     "output_type": "display_data"
    },
    {
     "data": {
      "text/html": [
       "<hr>"
      ],
      "text/plain": [
       "<IPython.core.display.HTML object>"
      ]
     },
     "metadata": {},
     "output_type": "display_data"
    },
    {
     "data": {
      "text/html": [
       "\n",
       "        <h1 style=\"font-family:Arial;\">Boku no Kokoro no Yabai Yatsu 2nd Season</h1>\n",
       "        <h3 style=\"font-family:Arial;\">Because you watched: Kanojo, Okarishimasu 2nd Season</h3>\n",
       "        <img src=\"https://cdn.myanimelist.net/images/anime/1643/138581.jpg\" alt=\"Boku no Kokoro no Yabai Yatsu 2nd Season\" style=\"width:225px;height:auto;float:left;margin-right:15px;\">\n",
       "        <p><b>Synopsis:</b> After an eventful winter break, Kyoutarou Ichikawa and Anna Yamada reunite with a stronger bond. They continue to grow in their own ways, with Yamada taking on more challenging photoshoots and Ichikawa maturing both physically and emotionally as he tackles his affections for Yamada. However, spending time together outside of school allows for their relationship to deepen, and it becomes increasingly difficult to deny their budding romantic feelings.\n",
       "\n",
       "Grappling with these unexpected and new emotions, Ichikawa and Yamada realize that, with the passage of time, their relationship is bound to change—and they must ultimately decide whether they wish to remain close friends or finally become a couple.</p>\n",
       "        <p><b>Score:</b> 8.8</p>\n",
       "        <p><b>Type:</b> TV</p>\n",
       "        <p><b>Episodes:</b> 13.0</p>\n",
       "        <p><b>Genres:</b> Comedy, Romance</p>\n",
       "        <p><b>Themes:</b> School</p>\n",
       "        <p><b>Demographic:</b> Shounen</p>\n",
       "        <p><b>Season:</b> Winter 2024</p>\n",
       "        <p><b>MAL Page:</b> <a href=\"https://myanimelist.net/anime/55690/Boku_no_Kokoro_no_Yabai_Yatsu_2nd_Season\" target=\"_blank\">Link to MyAnimeList</a></p>\n",
       "        "
      ],
      "text/plain": [
       "<IPython.core.display.HTML object>"
      ]
     },
     "metadata": {},
     "output_type": "display_data"
    },
    {
     "data": {
      "text/html": [
       "<p><b>Trailer:</b> <a href=\"https://www.youtube.com/watch?v=DAbLNzr4cC8\" target=\"_blank\">Watch Trailer</a></p>"
      ],
      "text/plain": [
       "<IPython.core.display.HTML object>"
      ]
     },
     "metadata": {},
     "output_type": "display_data"
    },
    {
     "data": {
      "text/html": [
       "<hr>"
      ],
      "text/plain": [
       "<IPython.core.display.HTML object>"
      ]
     },
     "metadata": {},
     "output_type": "display_data"
    },
    {
     "data": {
      "text/html": [
       "\n",
       "        <h1 style=\"font-family:Arial;\">Tonikaku Kawaii 2nd Season</h1>\n",
       "        <h3 style=\"font-family:Arial;\">Because you watched: Kanojo, Okarishimasu 2nd Season</h3>\n",
       "        <img src=\"https://cdn.myanimelist.net/images/anime/1996/133361.jpg\" alt=\"Tonikaku Kawaii 2nd Season\" style=\"width:225px;height:auto;float:left;margin-right:15px;\">\n",
       "        <p><b>Synopsis:</b> In the wake of their first home burning down, Nasa and Tsukasa Yuzaki are seeking temporary shelter at the Arisugawas' bathhouse. Though they have only been married for a short time, their relationship has only become sweeter by the day. Nasa is determined to spend as much time with his wife as possible, basking in the happiness of their marriage.\n",
       "\n",
       "The newlyweds find new ways to explore their relationship. From adopting a cat, going to an amusement park, and even watching an impromptu romantic comedy featuring Nasa's former teacher, every day is a new experience. But while Tsukasa continues to meet the people in Nasa's life, Nasa has yet to meet more of Tsukasa's family. Though they appear to be the picture-perfect couple to everyone around them, Nasa begins to wonder if he will ever learn more about his wife's mysterious past.</p>\n",
       "        <p><b>Score:</b> 7.6</p>\n",
       "        <p><b>Type:</b> TV</p>\n",
       "        <p><b>Episodes:</b> 12.0</p>\n",
       "        <p><b>Genres:</b> Comedy, Romance</p>\n",
       "        \n",
       "        <p><b>Demographic:</b> Shounen</p>\n",
       "        <p><b>Season:</b> Spring 2023</p>\n",
       "        <p><b>MAL Page:</b> <a href=\"https://myanimelist.net/anime/50307/Tonikaku_Kawaii_2nd_Season\" target=\"_blank\">Link to MyAnimeList</a></p>\n",
       "        "
      ],
      "text/plain": [
       "<IPython.core.display.HTML object>"
      ]
     },
     "metadata": {},
     "output_type": "display_data"
    },
    {
     "data": {
      "text/html": [
       "<p><b>Trailer:</b> <a href=\"https://www.youtube.com/watch?v=cksQYKGvr6U\" target=\"_blank\">Watch Trailer</a></p>"
      ],
      "text/plain": [
       "<IPython.core.display.HTML object>"
      ]
     },
     "metadata": {},
     "output_type": "display_data"
    },
    {
     "data": {
      "text/html": [
       "<hr>"
      ],
      "text/plain": [
       "<IPython.core.display.HTML object>"
      ]
     },
     "metadata": {},
     "output_type": "display_data"
    },
    {
     "data": {
      "text/html": [
       "\n",
       "        <h1 style=\"font-family:Arial;\">Working!!!</h1>\n",
       "        <h3 style=\"font-family:Arial;\">Because you watched: Kanojo, Okarishimasu 2nd Season</h3>\n",
       "        <img src=\"https://cdn.myanimelist.net/images/anime/7/73886.jpg\" alt=\"Working!!!\" style=\"width:225px;height:auto;float:left;margin-right:15px;\">\n",
       "        <p><b>Synopsis:</b> As the stories of those connected to Wagnaria come to a close, only one thing is certain: the workplace is about to get crazier than ever before! Whether it be incredibly awkward romances, relentless searches for lost relatives, or even uncomfortable family reunions, lover of all things cute and tiny Souta Takanashi and his motley crew have plenty on their plates. With more Napoleon complexes, androphobia, and katana-wielding than you can shake a frying pan at, Working!!! delivers a final serving of the staff's hilarious misadventures working at everybody's favorite family restaurant.</p>\n",
       "        <p><b>Score:</b> 7.95</p>\n",
       "        <p><b>Type:</b> TV</p>\n",
       "        <p><b>Episodes:</b> 13.0</p>\n",
       "        <p><b>Genres:</b> Comedy, Romance</p>\n",
       "        <p><b>Themes:</b> Workplace</p>\n",
       "        <p><b>Demographic:</b> Seinen</p>\n",
       "        <p><b>Season:</b> Summer 2015</p>\n",
       "        <p><b>MAL Page:</b> <a href=\"https://myanimelist.net/anime/25879/Working\" target=\"_blank\">Link to MyAnimeList</a></p>\n",
       "        "
      ],
      "text/plain": [
       "<IPython.core.display.HTML object>"
      ]
     },
     "metadata": {},
     "output_type": "display_data"
    },
    {
     "data": {
      "text/html": [
       "<p><b>Trailer:</b> <a href=\"https://www.youtube.com/watch?v=_dA2sN7FPJs\" target=\"_blank\">Watch Trailer</a></p>"
      ],
      "text/plain": [
       "<IPython.core.display.HTML object>"
      ]
     },
     "metadata": {},
     "output_type": "display_data"
    },
    {
     "data": {
      "text/html": [
       "<hr>"
      ],
      "text/plain": [
       "<IPython.core.display.HTML object>"
      ]
     },
     "metadata": {},
     "output_type": "display_data"
    },
    {
     "data": {
      "text/html": [
       "\n",
       "        <h1 style=\"font-family:Arial;\">Honzuki no Gekokujou: Shisho ni Naru Tame ni wa Shudan wo Erandeiraremasen</h1>\n",
       "        <h3 style=\"font-family:Arial;\">Because you watched: Mushoku Tensei II: Isekai Ittara Honki Dasu</h3>\n",
       "        <img src=\"https://cdn.myanimelist.net/images/anime/1582/101697.jpg\" alt=\"Honzuki no Gekokujou: Shisho ni Naru Tame ni wa Shudan wo Erandeiraremasen\" style=\"width:225px;height:auto;float:left;margin-right:15px;\">\n",
       "        <p><b>Synopsis:</b> Urano Motosu loves books and has an endless desire to read literature, no matter the subject. She almost fulfills her dream job of becoming a librarian before her life is ended in an accident. As she draws her last breath, she wishes to be able to read more books in her next life.\n",
       "\n",
       "As if fate was listening to her prayer, she wakes up reincarnated as Myne—a frail five-year-old girl living in a medieval era. What immediately comes to her mind is her passion. She tries to find something to read, only to become frustrated by the lack of books at her disposal.  \n",
       "\n",
       "Without the printing press, books have to be written and copied by hand, making them very expensive; as such, only a few nobles can afford them—but this won't stop Myne. She will prove that her will to read is unbreakable, and if there are no books around, she will make them herself!</p>\n",
       "        <p><b>Score:</b> 7.98</p>\n",
       "        <p><b>Type:</b> TV</p>\n",
       "        <p><b>Episodes:</b> 14.0</p>\n",
       "        <p><b>Genres:</b> Fantasy</p>\n",
       "        <p><b>Themes:</b> Isekai, Reincarnation</p>\n",
       "        \n",
       "        <p><b>Season:</b> Fall 2019</p>\n",
       "        <p><b>MAL Page:</b> <a href=\"https://myanimelist.net/anime/39468/Honzuki_no_Gekokujou__Shisho_ni_Naru_Tame_ni_wa_Shudan_wo_Erandeiraremasen\" target=\"_blank\">Link to MyAnimeList</a></p>\n",
       "        "
      ],
      "text/plain": [
       "<IPython.core.display.HTML object>"
      ]
     },
     "metadata": {},
     "output_type": "display_data"
    },
    {
     "data": {
      "text/html": [
       "<p><b>Trailer:</b> <a href=\"https://www.youtube.com/watch?v=KfPyxG-ZbFM\" target=\"_blank\">Watch Trailer</a></p>"
      ],
      "text/plain": [
       "<IPython.core.display.HTML object>"
      ]
     },
     "metadata": {},
     "output_type": "display_data"
    },
    {
     "data": {
      "text/html": [
       "<hr>"
      ],
      "text/plain": [
       "<IPython.core.display.HTML object>"
      ]
     },
     "metadata": {},
     "output_type": "display_data"
    },
    {
     "data": {
      "text/html": [
       "\n",
       "        <h1 style=\"font-family:Arial;\">Kage no Jitsuryokusha ni Naritakute! 2nd Season</h1>\n",
       "        <h3 style=\"font-family:Arial;\">Because you watched: Mushoku Tensei II: Isekai Ittara Honki Dasu</h3>\n",
       "        <img src=\"https://cdn.myanimelist.net/images/anime/1938/138295.jpg\" alt=\"Kage no Jitsuryokusha ni Naritakute! 2nd Season\" style=\"width:225px;height:auto;float:left;margin-right:15px;\">\n",
       "        <p><b>Synopsis:</b> Enticed by its rumored wealth, Cid Kagenou happily tags along with his sister, Claire, on a trip to the infamous Lawless City. The region is ruled by three monarchs: Yukime, the Spirit Fox; Juggernaut, the Tyrant; and Elisabeth, a dormant progenitor vampire known as the Blood Queen. Hunting Elisabeth down serves as the perfect opportunity for Claire to prove her true mettle. On the other hand, Cid has different objectives—sneaking away from Claire's sight, collecting as much loot as possible, and making Shadow's glorious entrance at the perfect moment.\n",
       "\n",
       "As Elisabeth's awakening draws near, her subordinate Crimson enacts a treacherous plot, sending the town into a frenzy. Searching for her now-missing brother, Claire finds an unexpected ally in Mary, a vampire hunter, and the pair hurry to the Crimson Tower—the home of the Blood Queen. Meanwhile, Beta and a small team of Shadow Garden recruits also arrive at the Lawless City. As the key players converge on the Crimson Tower, the stage is set for a grand confrontation under the crimson moon.</p>\n",
       "        <p><b>Score:</b> 8.33</p>\n",
       "        <p><b>Type:</b> TV</p>\n",
       "        <p><b>Episodes:</b> 12.0</p>\n",
       "        <p><b>Genres:</b> Action, Comedy, Fantasy</p>\n",
       "        <p><b>Themes:</b> Isekai, Reincarnation</p>\n",
       "        \n",
       "        <p><b>Season:</b> Fall 2023</p>\n",
       "        <p><b>MAL Page:</b> <a href=\"https://myanimelist.net/anime/54595/Kage_no_Jitsuryokusha_ni_Naritakute_2nd_Season\" target=\"_blank\">Link to MyAnimeList</a></p>\n",
       "        "
      ],
      "text/plain": [
       "<IPython.core.display.HTML object>"
      ]
     },
     "metadata": {},
     "output_type": "display_data"
    },
    {
     "data": {
      "text/html": [
       "<p><b>Trailer:</b> <a href=\"https://www.youtube.com/watch?v=OqzdUcc3k9Y\" target=\"_blank\">Watch Trailer</a></p>"
      ],
      "text/plain": [
       "<IPython.core.display.HTML object>"
      ]
     },
     "metadata": {},
     "output_type": "display_data"
    },
    {
     "data": {
      "text/html": [
       "<hr>"
      ],
      "text/plain": [
       "<IPython.core.display.HTML object>"
      ]
     },
     "metadata": {},
     "output_type": "display_data"
    },
    {
     "data": {
      "text/html": [
       "\n",
       "        <h1 style=\"font-family:Arial;\">Tensei shitara Slime Datta Ken 3rd Season</h1>\n",
       "        <h3 style=\"font-family:Arial;\">Because you watched: Mushoku Tensei II: Isekai Ittara Honki Dasu</h3>\n",
       "        <img src=\"https://cdn.myanimelist.net/images/anime/1211/143476.jpg\" alt=\"Tensei shitara Slime Datta Ken 3rd Season\" style=\"width:225px;height:auto;float:left;margin-right:15px;\">\n",
       "        <p><b>Synopsis:</b> Rimuru Tempest is victorious following his climactic showdown with Demon Lord Clayman. With Diablo's aid, the war with the Falmuth Kingdom ends decisively in Rimuru's favor. Fueled by increased migration and the integration of Jura Forest, the nation of Tempest undergoes rapid growth.\n",
       "\n",
       "Rimuru's victory shifts the balance of power, giving rise to a renewed period of peace—but whether that peace will last is another matter. Yuuki Kagurazaka and Kazalim are conspiring with the Harlequin Alliance to bring about Rimuru's downfall. Furthermore, the Western Holy Church continues its intolerant crusade against Rimuru and his non-human subordinates. Both allies and enemies engage in a battle of wits, carefully advancing their agendas without shattering the delicate status quo. But once the first domino inevitably falls, the race to supremacy begins.</p>\n",
       "        <p><b>Score:</b> 7.7</p>\n",
       "        <p><b>Type:</b> TV</p>\n",
       "        <p><b>Episodes:</b> 24.0</p>\n",
       "        <p><b>Genres:</b> Action, Adventure, Comedy, Fantasy</p>\n",
       "        <p><b>Themes:</b> Isekai, Reincarnation</p>\n",
       "        <p><b>Demographic:</b> Shounen</p>\n",
       "        <p><b>Season:</b> Spring 2024</p>\n",
       "        <p><b>MAL Page:</b> <a href=\"https://myanimelist.net/anime/53580/Tensei_shitara_Slime_Datta_Ken_3rd_Season\" target=\"_blank\">Link to MyAnimeList</a></p>\n",
       "        "
      ],
      "text/plain": [
       "<IPython.core.display.HTML object>"
      ]
     },
     "metadata": {},
     "output_type": "display_data"
    },
    {
     "data": {
      "text/html": [
       "<p><b>Trailer:</b> <a href=\"https://www.youtube.com/watch?v=kM2m7GcF6W0\" target=\"_blank\">Watch Trailer</a></p>"
      ],
      "text/plain": [
       "<IPython.core.display.HTML object>"
      ]
     },
     "metadata": {},
     "output_type": "display_data"
    },
    {
     "data": {
      "text/html": [
       "<hr>"
      ],
      "text/plain": [
       "<IPython.core.display.HTML object>"
      ]
     },
     "metadata": {},
     "output_type": "display_data"
    },
    {
     "data": {
      "text/html": [
       "\n",
       "        <h1 style=\"font-family:Arial;\">Honzuki no Gekokujou: Shisho ni Naru Tame ni wa Shudan wo Erandeiraremasen 2nd Season</h1>\n",
       "        <h3 style=\"font-family:Arial;\">Because you watched: Mushoku Tensei II: Isekai Ittara Honki Dasu Part 2</h3>\n",
       "        <img src=\"https://cdn.myanimelist.net/images/anime/1464/107998.jpg\" alt=\"Honzuki no Gekokujou: Shisho ni Naru Tame ni wa Shudan wo Erandeiraremasen 2nd Season\" style=\"width:225px;height:auto;float:left;margin-right:15px;\">\n",
       "        <p><b>Synopsis:</b> When Myne learns that the Holy Church is in need of mana for their relics, she sees it as her chance to be cured of her life-threatening mana disorder. After seeing their bountiful library, she throws herself headfirst into the Church's grasp and begs to join their order. In exchange for her service and her unusually bountiful supply of mana, Myne is given the blue robes of a noble-born apprentice priestess, despite being a commoner. To Myne, all this talk of mana and nobility is trivial, as she now has access to an unlimited supply of books!\n",
       "\n",
       "As Myne transitions into the next phase of her life in this new world, she soon learns that achieving her dream has come at a heavy cost. Noble society is severe, unforgiving, and fueled by politics and neglect. She must now deal with the class conflict between the noble-born blue robes and the common-born grey robes, the High Priest's attempts to oust her, and constant behavioral issues from her new retainers. With the help of her family, friends, and the enigmatic Head Priest whose loyalties and motives remain unknown, Myne seeks to overcome these obstacles and continue on the path to becoming her ideal self—the ultimate librarian!</p>\n",
       "        <p><b>Score:</b> 8.09</p>\n",
       "        <p><b>Type:</b> TV</p>\n",
       "        <p><b>Episodes:</b> 12.0</p>\n",
       "        <p><b>Genres:</b> Fantasy</p>\n",
       "        <p><b>Themes:</b> Isekai, Reincarnation</p>\n",
       "        \n",
       "        <p><b>Season:</b> Spring 2020</p>\n",
       "        <p><b>MAL Page:</b> <a href=\"https://myanimelist.net/anime/40815/Honzuki_no_Gekokujou__Shisho_ni_Naru_Tame_ni_wa_Shudan_wo_Erandeiraremasen_2nd_Season\" target=\"_blank\">Link to MyAnimeList</a></p>\n",
       "        "
      ],
      "text/plain": [
       "<IPython.core.display.HTML object>"
      ]
     },
     "metadata": {},
     "output_type": "display_data"
    },
    {
     "data": {
      "text/html": [
       "<p><b>Trailer:</b> <a href=\"https://www.youtube.com/watch?v=bD53ze25S_E\" target=\"_blank\">Watch Trailer</a></p>"
      ],
      "text/plain": [
       "<IPython.core.display.HTML object>"
      ]
     },
     "metadata": {},
     "output_type": "display_data"
    },
    {
     "data": {
      "text/html": [
       "<hr>"
      ],
      "text/plain": [
       "<IPython.core.display.HTML object>"
      ]
     },
     "metadata": {},
     "output_type": "display_data"
    },
    {
     "data": {
      "text/html": [
       "\n",
       "        <h1 style=\"font-family:Arial;\">Tensei shitara Slime Datta Ken OVA</h1>\n",
       "        <h3 style=\"font-family:Arial;\">Because you watched: Mushoku Tensei II: Isekai Ittara Honki Dasu Part 2</h3>\n",
       "        <img src=\"https://cdn.myanimelist.net/images/anime/1230/118297.jpg\" alt=\"Tensei shitara Slime Datta Ken OVA\" style=\"width:225px;height:auto;float:left;margin-right:15px;\">\n",
       "        <p><b>Synopsis:</b> One day, Shuna and Shion are fighting over Rimuru's squishy slime body as usual. Rimuru figures that giving them each a body double of himself would solve the conflict, but when he imagines some of his other friends asking him to do the same for them, he quickly drops that plan. Then he comes up with the idea to make a cushion in the shape of his slime form. He travels around Tempest to see if his friends know of any good materials he can use, and he learns that a special type of sand found along a lake shore in the forest is exactly what he's looking for. So he sets out to collect some sand... but a monster is waiting for him by the lake! What's more, Milim hears about his plan for a picnic and comes racing down from the sky!\n",
       "\n",
       "(Source: Crunchyroll)</p>\n",
       "        <p><b>Score:</b> 7.49</p>\n",
       "        <p><b>Type:</b> OVA</p>\n",
       "        <p><b>Episodes:</b> 5.0</p>\n",
       "        <p><b>Genres:</b> Action, Adventure, Comedy, Fantasy</p>\n",
       "        <p><b>Themes:</b> Isekai, Reincarnation</p>\n",
       "        \n",
       "        <p><b>Season:</b> Jul 9 2020</p>\n",
       "        <p><b>MAL Page:</b> <a href=\"https://myanimelist.net/anime/38793/Tensei_shitara_Slime_Datta_Ken_OVA\" target=\"_blank\">Link to MyAnimeList</a></p>\n",
       "        "
      ],
      "text/plain": [
       "<IPython.core.display.HTML object>"
      ]
     },
     "metadata": {},
     "output_type": "display_data"
    },
    {
     "data": {
      "text/html": [
       "<p><b>Trailer:</b> <a href=\"nan\" target=\"_blank\">Watch Trailer</a></p>"
      ],
      "text/plain": [
       "<IPython.core.display.HTML object>"
      ]
     },
     "metadata": {},
     "output_type": "display_data"
    },
    {
     "data": {
      "text/html": [
       "<hr>"
      ],
      "text/plain": [
       "<IPython.core.display.HTML object>"
      ]
     },
     "metadata": {},
     "output_type": "display_data"
    },
    {
     "data": {
      "text/html": [
       "\n",
       "        <h1 style=\"font-family:Arial;\">Isekai Nonbiri Nouka</h1>\n",
       "        <h3 style=\"font-family:Arial;\">Because you watched: Mushoku Tensei II: Isekai Ittara Honki Dasu Part 2</h3>\n",
       "        <img src=\"https://cdn.myanimelist.net/images/anime/1983/132329.jpg\" alt=\"Isekai Nonbiri Nouka\" style=\"width:225px;height:auto;float:left;margin-right:15px;\">\n",
       "        <p><b>Synopsis:</b> During the final years of his life, Hiraku Machio remained confined to a hospital bed with a terminal illness until he finally passed away. Taking pity on the unfair life he lived, a god decides to reincarnate Hiraku in another world where he can live as he pleases. Wanting to try farming in this new life, he is bestowed with an all-in-one \"Almighty Farming Tool\" that can transform into any useful implement he wishes. Hiraku is then transported to a forest seemingly far from civilization. Here, he plans to build and farm everything from scratch—gradually developing the lifeless area into a thriving new society.</p>\n",
       "        <p><b>Score:</b> 7.55</p>\n",
       "        <p><b>Type:</b> TV</p>\n",
       "        <p><b>Episodes:</b> 12.0</p>\n",
       "        <p><b>Genres:</b> Fantasy, Slice of Life</p>\n",
       "        <p><b>Themes:</b> Isekai, Reincarnation</p>\n",
       "        \n",
       "        <p><b>Season:</b> Winter 2023</p>\n",
       "        <p><b>MAL Page:</b> <a href=\"https://myanimelist.net/anime/51462/Isekai_Nonbiri_Nouka\" target=\"_blank\">Link to MyAnimeList</a></p>\n",
       "        "
      ],
      "text/plain": [
       "<IPython.core.display.HTML object>"
      ]
     },
     "metadata": {},
     "output_type": "display_data"
    },
    {
     "data": {
      "text/html": [
       "<p><b>Trailer:</b> <a href=\"https://www.youtube.com/watch?v=iwxPf8SEmEU\" target=\"_blank\">Watch Trailer</a></p>"
      ],
      "text/plain": [
       "<IPython.core.display.HTML object>"
      ]
     },
     "metadata": {},
     "output_type": "display_data"
    },
    {
     "data": {
      "text/html": [
       "<hr>"
      ],
      "text/plain": [
       "<IPython.core.display.HTML object>"
      ]
     },
     "metadata": {},
     "output_type": "display_data"
    },
    {
     "data": {
      "text/html": [
       "\n",
       "        <h1 style=\"font-family:Arial;\">Tensei shitara Slime Datta Ken 2nd Season Part 2</h1>\n",
       "        <h3 style=\"font-family:Arial;\">Because you watched: Mushoku Tensei: Isekai Ittara Honki Dasu</h3>\n",
       "        <img src=\"https://cdn.myanimelist.net/images/anime/1033/118296.jpg\" alt=\"Tensei shitara Slime Datta Ken 2nd Season Part 2\" style=\"width:225px;height:auto;float:left;margin-right:15px;\">\n",
       "        <p><b>Synopsis:</b> The nation of Tempest is in a festive mood after successfully overcoming the surprise attack from the Falmuth Army and the Western Holy Church. Beyond the festivities lies a meeting between Tempest and its allies to decide the future of the Nation of Monsters. The aftermath of the Falmuth invasion, Milim Nava's suspicious behavior, and the disappearance of Demon Lord Carrion—the problems seem to keep on piling up.\n",
       "\n",
       "Rimuru Tempest, now awakened as a True Demon Lord, decides to go on the offensive against Clayman. With the fully revived Storm Dragon Veldora, Ultimate Skill Raphael, and other powerful comrades, the ruler of the Tempest is confident in taking down his enemies one by one until he can face the man pulling the strings.</p>\n",
       "        <p><b>Score:</b> 8.32</p>\n",
       "        <p><b>Type:</b> TV</p>\n",
       "        <p><b>Episodes:</b> 12.0</p>\n",
       "        <p><b>Genres:</b> Action, Adventure, Comedy, Fantasy</p>\n",
       "        <p><b>Themes:</b> Isekai, Reincarnation</p>\n",
       "        <p><b>Demographic:</b> Shounen</p>\n",
       "        <p><b>Season:</b> Summer 2021</p>\n",
       "        <p><b>MAL Page:</b> <a href=\"https://myanimelist.net/anime/41487/Tensei_shitara_Slime_Datta_Ken_2nd_Season_Part_2\" target=\"_blank\">Link to MyAnimeList</a></p>\n",
       "        "
      ],
      "text/plain": [
       "<IPython.core.display.HTML object>"
      ]
     },
     "metadata": {},
     "output_type": "display_data"
    },
    {
     "data": {
      "text/html": [
       "<p><b>Trailer:</b> <a href=\"https://www.youtube.com/watch?v=nle-73CcG1k\" target=\"_blank\">Watch Trailer</a></p>"
      ],
      "text/plain": [
       "<IPython.core.display.HTML object>"
      ]
     },
     "metadata": {},
     "output_type": "display_data"
    },
    {
     "data": {
      "text/html": [
       "<hr>"
      ],
      "text/plain": [
       "<IPython.core.display.HTML object>"
      ]
     },
     "metadata": {},
     "output_type": "display_data"
    },
    {
     "data": {
      "text/html": [
       "\n",
       "        <h1 style=\"font-family:Arial;\">Kage no Jitsuryokusha ni Naritakute!</h1>\n",
       "        <h3 style=\"font-family:Arial;\">Because you watched: Mushoku Tensei: Isekai Ittara Honki Dasu Part 2</h3>\n",
       "        <img src=\"https://cdn.myanimelist.net/images/anime/1091/128729.jpg\" alt=\"Kage no Jitsuryokusha ni Naritakute!\" style=\"width:225px;height:auto;float:left;margin-right:15px;\">\n",
       "        <p><b>Synopsis:</b> For as long as he can remember, Minoru Kagenou has been fixated on becoming as strong as possible, which has led him to undertake all kinds of rigorous training. This wish, however, does not stem from a desire to be recognized by others; rather, Minoru does everything he can to blend in with the crowd. So, while pretending to be a completely average student during the day, he arms himself with a crowbar and ruthlessly thrashes local biker gangs at night. Yet when Minoru finds himself in a truck accident, his ambitions seemingly come to a sudden end. In his final moments, he laments his powerlessness—no matter how much he trained, there was nothing he could do to overcome his human limitations.\n",
       "\n",
       "But instead of dying, Minoru reawakens as Cid, the second child of the noble Kagenou family, in another world—one where magic is commonplace. With the power he so desired finally within his grasp, he dons the moniker \"Shadow\" and establishes Shadow Garden: a group whose sole purpose is to combat the enigmatic Cult of Diablos, an organization born from Cid's imagination. However, as Shadow Garden grows in both membership and influence, it becomes increasingly apparent that the Cult of Diablos is not as fictional as Cid had intended.</p>\n",
       "        <p><b>Score:</b> 8.28</p>\n",
       "        <p><b>Type:</b> TV</p>\n",
       "        <p><b>Episodes:</b> 20.0</p>\n",
       "        <p><b>Genres:</b> Action, Comedy, Fantasy</p>\n",
       "        <p><b>Themes:</b> Isekai, Reincarnation</p>\n",
       "        \n",
       "        <p><b>Season:</b> Fall 2022</p>\n",
       "        <p><b>MAL Page:</b> <a href=\"https://myanimelist.net/anime/48316/Kage_no_Jitsuryokusha_ni_Naritakute\" target=\"_blank\">Link to MyAnimeList</a></p>\n",
       "        "
      ],
      "text/plain": [
       "<IPython.core.display.HTML object>"
      ]
     },
     "metadata": {},
     "output_type": "display_data"
    },
    {
     "data": {
      "text/html": [
       "<p><b>Trailer:</b> <a href=\"https://www.youtube.com/watch?v=H-3fre7943U\" target=\"_blank\">Watch Trailer</a></p>"
      ],
      "text/plain": [
       "<IPython.core.display.HTML object>"
      ]
     },
     "metadata": {},
     "output_type": "display_data"
    },
    {
     "data": {
      "text/html": [
       "<hr>"
      ],
      "text/plain": [
       "<IPython.core.display.HTML object>"
      ]
     },
     "metadata": {},
     "output_type": "display_data"
    },
    {
     "data": {
      "text/html": [
       "\n",
       "        <h1 style=\"font-family:Arial;\">Kenja no Mago</h1>\n",
       "        <h3 style=\"font-family:Arial;\">Because you watched: Mushoku Tensei: Isekai Ittara Honki Dasu Part 2</h3>\n",
       "        <img src=\"https://cdn.myanimelist.net/images/anime/1261/100452.jpg\" alt=\"Kenja no Mago\" style=\"width:225px;height:auto;float:left;margin-right:15px;\">\n",
       "        <p><b>Synopsis:</b> In the kingdom of Earlshide, Merlin Wolford was once regarded as a national hero, hailed for both his power and achievements. Preferring a quiet life however, he secludes himself deep in the rural woods, dedicating his time to raising an orphan that he saved. This orphan is Shin, a normal salaryman in modern-day Japan who was reincarnated into Merlin's world while still retaining his past memories. As the years pass, Shin displays unparalleled talent in both magic casting and martial arts, much to Merlin's constant amazement.\n",
       "\n",
       "On his 15th birthday, however, it becomes apparent that Shin only developed his combat skills and nothing else, leaving him with blatant social awkwardness, a lack of common sense, and a middling sense of responsibility. As a result, Shin enrolls in the kingdom's Magic Academy to hone his skills and mature among other teenagers. However, living a normal life is impossible, as he is established as a local celebrity almost as soon as he arrives.\n",
       "\n",
       "As Shin Wolford adjusts to his high school life in the capital, he makes new friends, learns about the world, and fights off the various forces of evil surrounding him and his city.</p>\n",
       "        <p><b>Score:</b> 6.62</p>\n",
       "        <p><b>Type:</b> TV</p>\n",
       "        <p><b>Episodes:</b> 12.0</p>\n",
       "        <p><b>Genres:</b> Action, Comedy, Fantasy, Romance</p>\n",
       "        <p><b>Themes:</b> Isekai, Reincarnation</p>\n",
       "        \n",
       "        <p><b>Season:</b> Spring 2019</p>\n",
       "        <p><b>MAL Page:</b> <a href=\"https://myanimelist.net/anime/36407/Kenja_no_Mago\" target=\"_blank\">Link to MyAnimeList</a></p>\n",
       "        "
      ],
      "text/plain": [
       "<IPython.core.display.HTML object>"
      ]
     },
     "metadata": {},
     "output_type": "display_data"
    },
    {
     "data": {
      "text/html": [
       "<p><b>Trailer:</b> <a href=\"https://www.youtube.com/watch?v=QBp2oDxb4bc\" target=\"_blank\">Watch Trailer</a></p>"
      ],
      "text/plain": [
       "<IPython.core.display.HTML object>"
      ]
     },
     "metadata": {},
     "output_type": "display_data"
    },
    {
     "data": {
      "text/html": [
       "<hr>"
      ],
      "text/plain": [
       "<IPython.core.display.HTML object>"
      ]
     },
     "metadata": {},
     "output_type": "display_data"
    },
    {
     "data": {
      "text/html": [
       "\n",
       "        <h1 style=\"font-family:Arial;\">Kino no Tabi: The Beautiful World</h1>\n",
       "        <h3 style=\"font-family:Arial;\">Because you watched: Sousou no Frieren</h3>\n",
       "        <img src=\"https://cdn.myanimelist.net/images/anime/1763/95397.jpg\" alt=\"Kino no Tabi: The Beautiful World\" style=\"width:225px;height:auto;float:left;margin-right:15px;\">\n",
       "        <p><b>Synopsis:</b> Kino, a 15-year-old traveler, forms a bond with Hermes, a talking motorcycle. Together, they wander the lands and venture through various countries and places, despite having no clear idea of what to expect. After all, life is a journey filled with the unknown. \n",
       "\n",
       "Throughout their journeys, they encounter different kinds of customs, from the morally gray to tragic and fascinating. They also meet many people: some who live to work, some who live to make others happy, and some who live to chase their dreams. Thus, in every country they visit, there is always something to learn from the way people carry out their lives. \n",
       "\n",
       "It is not up to Kino or Hermes to decide whether these asserted values are wrong or right, as they merely assume the roles of observers within this small world. They do not attempt to change or influence the places they visit, despite how absurd these values would appear. That's because in one way or another, they believe things are fine as they are, and that \"the world is not beautiful; therefore, it is.\"</p>\n",
       "        <p><b>Score:</b> 8.28</p>\n",
       "        <p><b>Type:</b> TV</p>\n",
       "        <p><b>Episodes:</b> 13.0</p>\n",
       "        <p><b>Genres:</b> Adventure, Drama, Fantasy</p>\n",
       "        \n",
       "        \n",
       "        <p><b>Season:</b> Spring 2003</p>\n",
       "        <p><b>MAL Page:</b> <a href=\"https://myanimelist.net/anime/486/Kino_no_Tabi__The_Beautiful_World\" target=\"_blank\">Link to MyAnimeList</a></p>\n",
       "        "
      ],
      "text/plain": [
       "<IPython.core.display.HTML object>"
      ]
     },
     "metadata": {},
     "output_type": "display_data"
    },
    {
     "data": {
      "text/html": [
       "<p><b>Trailer:</b> <a href=\"https://www.youtube.com/watch?v=iDm6cLP83us\" target=\"_blank\">Watch Trailer</a></p>"
      ],
      "text/plain": [
       "<IPython.core.display.HTML object>"
      ]
     },
     "metadata": {},
     "output_type": "display_data"
    },
    {
     "data": {
      "text/html": [
       "<hr>"
      ],
      "text/plain": [
       "<IPython.core.display.HTML object>"
      ]
     },
     "metadata": {},
     "output_type": "display_data"
    },
    {
     "data": {
      "text/html": [
       "\n",
       "        <h1 style=\"font-family:Arial;\">Kino no Tabi: The Beautiful World - The Animated Series</h1>\n",
       "        <h3 style=\"font-family:Arial;\">Because you watched: Sousou no Frieren</h3>\n",
       "        <img src=\"https://cdn.myanimelist.net/images/anime/13/87235.jpg\" alt=\"Kino no Tabi: The Beautiful World - The Animated Series\" style=\"width:225px;height:auto;float:left;margin-right:15px;\">\n",
       "        <p><b>Synopsis:</b> When 15-year-old Kino is feeling weighed down by heavy thoughts, one thing always manages to cheer her up: traveling. Nothing fills her heart with joy like exploring the beautiful, wonderful world around her and the fascinating ways people find to live. However, Kino is not as helpless as her cute appearance and courteous demeanor suggest. Armed with \"Cannon\" and \"Woodsman,\" her trusted handguns, Kino isn't afraid to kill anyone who would dare to get in her way. Always by her side is her best friend and loyal companion Hermes, a sentient motorcycle, who supports Kino through the sorrows and hardships of their journey. Together, they travel the vast countryside with the shared goal of always moving forward, and a single rule: never stay in one country for more than three days.\n",
       "\n",
       "As Kino and Hermes encounter new people and learn the rules of their civilizations, they grow and find out more about their own values and virtues. But as Kino slowly discovers the world around her, she also finds herself facing dangers that linger within the vast unknown.</p>\n",
       "        <p><b>Score:</b> 7.6</p>\n",
       "        <p><b>Type:</b> TV</p>\n",
       "        <p><b>Episodes:</b> 12.0</p>\n",
       "        <p><b>Genres:</b> Adventure, Drama, Fantasy</p>\n",
       "        \n",
       "        \n",
       "        <p><b>Season:</b> Fall 2017</p>\n",
       "        <p><b>MAL Page:</b> <a href=\"https://myanimelist.net/anime/35079/Kino_no_Tabi__The_Beautiful_World_-_The_Animated_Series\" target=\"_blank\">Link to MyAnimeList</a></p>\n",
       "        "
      ],
      "text/plain": [
       "<IPython.core.display.HTML object>"
      ]
     },
     "metadata": {},
     "output_type": "display_data"
    },
    {
     "data": {
      "text/html": [
       "<p><b>Trailer:</b> <a href=\"https://www.youtube.com/watch?v=ij21njEpveg\" target=\"_blank\">Watch Trailer</a></p>"
      ],
      "text/plain": [
       "<IPython.core.display.HTML object>"
      ]
     },
     "metadata": {},
     "output_type": "display_data"
    },
    {
     "data": {
      "text/html": [
       "<hr>"
      ],
      "text/plain": [
       "<IPython.core.display.HTML object>"
      ]
     },
     "metadata": {},
     "output_type": "display_data"
    },
    {
     "data": {
      "text/html": [
       "\n",
       "        <h1 style=\"font-family:Arial;\">Ginga Nagareboshi Gin</h1>\n",
       "        <h3 style=\"font-family:Arial;\">Because you watched: Vinland Saga Season 2</h3>\n",
       "        <img src=\"https://cdn.myanimelist.net/images/anime/3/47461.jpg\" alt=\"Ginga Nagareboshi Gin\" style=\"width:225px;height:auto;float:left;margin-right:15px;\">\n",
       "        <p><b>Synopsis:</b> Having been born a brindle (\"Tora-ge\" or tiger striped) Akita, Gin (\"Silver\", named after his fur color) is destined to become a successful bear-hunting dog. However, when he witnesses his father's death at the hands of the man-eating demon bear Akakabuto, he is chosen above his siblings to become his father's successor and defeat the monstrous bear that terrorizes his home village. As Akakabuto gathers his own allies, Gin must travel across Japan in search of dogs to join him in an all out war of dog vs. bear.</p>\n",
       "        <p><b>Score:</b> 8.02</p>\n",
       "        <p><b>Type:</b> TV</p>\n",
       "        <p><b>Episodes:</b> 21.0</p>\n",
       "        <p><b>Genres:</b> Action, Adventure, Drama</p>\n",
       "        <p><b>Themes:</b> Anthropomorphic</p>\n",
       "        <p><b>Demographic:</b> Shounen</p>\n",
       "        <p><b>Season:</b> Spring 1986</p>\n",
       "        <p><b>MAL Page:</b> <a href=\"https://myanimelist.net/anime/589/Ginga_Nagareboshi_Gin\" target=\"_blank\">Link to MyAnimeList</a></p>\n",
       "        "
      ],
      "text/plain": [
       "<IPython.core.display.HTML object>"
      ]
     },
     "metadata": {},
     "output_type": "display_data"
    },
    {
     "data": {
      "text/html": [
       "<p><b>Trailer:</b> <a href=\"nan\" target=\"_blank\">Watch Trailer</a></p>"
      ],
      "text/plain": [
       "<IPython.core.display.HTML object>"
      ]
     },
     "metadata": {},
     "output_type": "display_data"
    },
    {
     "data": {
      "text/html": [
       "<hr>"
      ],
      "text/plain": [
       "<IPython.core.display.HTML object>"
      ]
     },
     "metadata": {},
     "output_type": "display_data"
    },
    {
     "data": {
      "text/html": [
       "\n",
       "        <h1 style=\"font-family:Arial;\">Howl no Ugoku Shiro</h1>\n",
       "        <h3 style=\"font-family:Arial;\">Because you watched: Violet Evergarden</h3>\n",
       "        <img src=\"https://cdn.myanimelist.net/images/anime/1470/138723.jpg\" alt=\"Howl no Ugoku Shiro\" style=\"width:225px;height:auto;float:left;margin-right:15px;\">\n",
       "        <p><b>Synopsis:</b> That jumbled piece of architecture, that cacophony of hissing steam and creaking joints, with smoke billowing from it as it moves on its own... That castle is home to the magnificent wizard Howl, infamous for both his magical prowess and for being a womanizer—or so the rumor goes in Sophie Hatter's small town. Sophie, as the plain daughter of a hatmaker, does not expect much from her future and is content with working hard in the shop. \n",
       "\n",
       "However, Sophie's simple life takes a turn for the exciting when she is ensnared in a disturbing situation, and the mysterious wizard appears to rescue her. Unfortunately, this encounter, brief as it may be, spurs the vain and vengeful Witch of the Waste—in a fit of jealousy caused by a past discord with Howl—to put a curse on the maiden, turning her into an old woman.\n",
       "\n",
       "In an endeavor to return to normal, Sophie must accompany Howl and a myriad of eccentric companions—ranging from a powerful fire demon to a hopping scarecrow—in his living castle, on a dangerous adventure as a raging war tears their kingdom apart.</p>\n",
       "        <p><b>Score:</b> 8.67</p>\n",
       "        <p><b>Type:</b> Movie</p>\n",
       "        <p><b>Episodes:</b> 1.0</p>\n",
       "        <p><b>Genres:</b> Adventure, Award Winning, Drama, Fantasy, Romance</p>\n",
       "        \n",
       "        \n",
       "        <p><b>Season:</b> Nov 20 2004</p>\n",
       "        <p><b>MAL Page:</b> <a href=\"https://myanimelist.net/anime/431/Howl_no_Ugoku_Shiro\" target=\"_blank\">Link to MyAnimeList</a></p>\n",
       "        "
      ],
      "text/plain": [
       "<IPython.core.display.HTML object>"
      ]
     },
     "metadata": {},
     "output_type": "display_data"
    },
    {
     "data": {
      "text/html": [
       "<p><b>Trailer:</b> <a href=\"https://www.youtube.com/watch?v=iwROgK94zcM\" target=\"_blank\">Watch Trailer</a></p>"
      ],
      "text/plain": [
       "<IPython.core.display.HTML object>"
      ]
     },
     "metadata": {},
     "output_type": "display_data"
    },
    {
     "data": {
      "text/html": [
       "<hr>"
      ],
      "text/plain": [
       "<IPython.core.display.HTML object>"
      ]
     },
     "metadata": {},
     "output_type": "display_data"
    },
    {
     "data": {
      "text/html": [
       "\n",
       "        <h1 style=\"font-family:Arial;\">Durarara!!</h1>\n",
       "        <h3 style=\"font-family:Arial;\">Because you watched: Violet Evergarden</h3>\n",
       "        <img src=\"https://cdn.myanimelist.net/images/anime/10/71772.jpg\" alt=\"Durarara!!\" style=\"width:225px;height:auto;float:left;margin-right:15px;\">\n",
       "        <p><b>Synopsis:</b> In Tokyo's downtown district of Ikebukuro, amidst many strange rumors and warnings of anonymous gangs and dangerous occupants, one urban legend stands out above the rest—the existence of a headless \"Black Rider\" who is said to be seen driving a jet-black motorcycle through the city streets.\n",
       "\n",
       "Mikado Ryuugamine has always longed for the excitement of the city life, and an invitation from a childhood friend convinces him to move to Tokyo. Witnessing the Black Rider on his first day in the city, his wishes already seem to have been granted. But as supernatural events begin to occur, ordinary citizens like himself, along with Ikebukuro's most colorful inhabitants, are mixed up in the commotion breaking out in their city.</p>\n",
       "        <p><b>Score:</b> 8.1</p>\n",
       "        <p><b>Type:</b> TV</p>\n",
       "        <p><b>Episodes:</b> 24.0</p>\n",
       "        <p><b>Genres:</b> Action, Mystery, Supernatural</p>\n",
       "        \n",
       "        \n",
       "        <p><b>Season:</b> Winter 2010</p>\n",
       "        <p><b>MAL Page:</b> <a href=\"https://myanimelist.net/anime/6746/Durarara\" target=\"_blank\">Link to MyAnimeList</a></p>\n",
       "        "
      ],
      "text/plain": [
       "<IPython.core.display.HTML object>"
      ]
     },
     "metadata": {},
     "output_type": "display_data"
    },
    {
     "data": {
      "text/html": [
       "<p><b>Trailer:</b> <a href=\"https://www.youtube.com/watch?v=q5qlX4lWst0\" target=\"_blank\">Watch Trailer</a></p>"
      ],
      "text/plain": [
       "<IPython.core.display.HTML object>"
      ]
     },
     "metadata": {},
     "output_type": "display_data"
    },
    {
     "data": {
      "text/html": [
       "<hr>"
      ],
      "text/plain": [
       "<IPython.core.display.HTML object>"
      ]
     },
     "metadata": {},
     "output_type": "display_data"
    },
    {
     "data": {
      "text/html": [
       "\n",
       "        <h1 style=\"font-family:Arial;\">Mononoke Hime</h1>\n",
       "        <h3 style=\"font-family:Arial;\">Because you watched: Violet Evergarden</h3>\n",
       "        <img src=\"https://cdn.myanimelist.net/images/anime/7/75919.jpg\" alt=\"Mononoke Hime\" style=\"width:225px;height:auto;float:left;margin-right:15px;\">\n",
       "        <p><b>Synopsis:</b> When an Emishi village is attacked by a fierce demon boar, the young prince Ashitaka puts his life at stake to defend his tribe. With its dying breath, the beast curses the prince's arm, granting him demonic powers while gradually siphoning his life away. Instructed by the village elders to travel westward for a cure, Ashitaka arrives at Tatara, the Iron Town, where he finds himself embroiled in a fierce conflict: Lady Eboshi of Tatara, promoting constant deforestation, stands against Princess San and the sacred spirits of the forest, who are furious at the destruction brought by the humans. As the opposing forces of nature and mankind begin to clash in a desperate struggle for survival, Ashitaka attempts to seek harmony between the two, all the while battling the latent demon inside of him. Princess Mononoke is a tale depicting the connection of technology and nature, while showing the path to harmony that could be achieved by mutual acceptance.</p>\n",
       "        <p><b>Score:</b> 8.66</p>\n",
       "        <p><b>Type:</b> Movie</p>\n",
       "        <p><b>Episodes:</b> 1.0</p>\n",
       "        <p><b>Genres:</b> Action, Adventure, Award Winning, Fantasy</p>\n",
       "        \n",
       "        \n",
       "        <p><b>Season:</b> Jul 12 1997</p>\n",
       "        <p><b>MAL Page:</b> <a href=\"https://myanimelist.net/anime/164/Mononoke_Hime\" target=\"_blank\">Link to MyAnimeList</a></p>\n",
       "        "
      ],
      "text/plain": [
       "<IPython.core.display.HTML object>"
      ]
     },
     "metadata": {},
     "output_type": "display_data"
    },
    {
     "data": {
      "text/html": [
       "<p><b>Trailer:</b> <a href=\"https://www.youtube.com/watch?v=4OiMOHRDs14\" target=\"_blank\">Watch Trailer</a></p>"
      ],
      "text/plain": [
       "<IPython.core.display.HTML object>"
      ]
     },
     "metadata": {},
     "output_type": "display_data"
    },
    {
     "data": {
      "text/html": [
       "<hr>"
      ],
      "text/plain": [
       "<IPython.core.display.HTML object>"
      ]
     },
     "metadata": {},
     "output_type": "display_data"
    },
    {
     "data": {
      "text/html": [
       "\n",
       "        <h1 style=\"font-family:Arial;\">Clannad: After Story</h1>\n",
       "        <h3 style=\"font-family:Arial;\">Because you watched: Violet Evergarden</h3>\n",
       "        <img src=\"https://cdn.myanimelist.net/images/anime/1299/110774.jpg\" alt=\"Clannad: After Story\" style=\"width:225px;height:auto;float:left;margin-right:15px;\">\n",
       "        <p><b>Synopsis:</b> Tomoya Okazaki and Nagisa Furukawa have graduated from high school, and together, they experience the emotional rollercoaster of growing up. Unable to decide on a course for his future, Tomoya learns the value of a strong work ethic and discovers the strength of Nagisa's support. Through the couple's dedication and unity of purpose, they push forward to confront their personal problems, deepen their old relationships, and create new bonds.\n",
       "\n",
       "Time also moves on in the Illusionary World. As the plains grow cold with the approach of winter, the Illusionary Girl and the Garbage Doll are presented with a difficult situation that reveals the World's true purpose.</p>\n",
       "        <p><b>Score:</b> 8.93</p>\n",
       "        <p><b>Type:</b> TV</p>\n",
       "        <p><b>Episodes:</b> 24.0</p>\n",
       "        <p><b>Genres:</b> Drama, Romance, Supernatural</p>\n",
       "        \n",
       "        \n",
       "        <p><b>Season:</b> Fall 2008</p>\n",
       "        <p><b>MAL Page:</b> <a href=\"https://myanimelist.net/anime/4181/Clannad__After_Story\" target=\"_blank\">Link to MyAnimeList</a></p>\n",
       "        "
      ],
      "text/plain": [
       "<IPython.core.display.HTML object>"
      ]
     },
     "metadata": {},
     "output_type": "display_data"
    },
    {
     "data": {
      "text/html": [
       "<p><b>Trailer:</b> <a href=\"https://www.youtube.com/watch?v=WiTwXIAcm5Q\" target=\"_blank\">Watch Trailer</a></p>"
      ],
      "text/plain": [
       "<IPython.core.display.HTML object>"
      ]
     },
     "metadata": {},
     "output_type": "display_data"
    },
    {
     "data": {
      "text/html": [
       "<hr>"
      ],
      "text/plain": [
       "<IPython.core.display.HTML object>"
      ]
     },
     "metadata": {},
     "output_type": "display_data"
    },
    {
     "data": {
      "text/html": [
       "\n",
       "        <h1 style=\"font-family:Arial;\">Tokyo Magnitude 8.0</h1>\n",
       "        <h3 style=\"font-family:Arial;\">Because you watched: Violet Evergarden Movie</h3>\n",
       "        <img src=\"https://cdn.myanimelist.net/images/anime/10/13776.jpg\" alt=\"Tokyo Magnitude 8.0\" style=\"width:225px;height:auto;float:left;margin-right:15px;\">\n",
       "        <p><b>Synopsis:</b> Middle school student Mirai Onozawa is dissatisfied with her family circumstances and, in a moment of frustration, wishes to tear everything apart. Unfortunately, these destructive thoughts seem to come true in the form of a magnitude 8.0 earthquake just a few moments later.\n",
       "\n",
       "When summer vacation begins, Mirai reluctantly takes her younger brother Yuuki to Odaiba, where a robot exhibition that he wanted to go to is being held. However, while they are in the exhibition center, the fury of a major earthquake shakes the Kanto region; helpless, both kids witness the devastating power of this natural disaster as it brings the city to its knees.\n",
       "\n",
       "In its aftermath, they stumble upon Mari Kusakabe, a motorcyclist and single mother who decides to help the young siblings. Aiming to return to their homes and reunite with their families, the group sets off on a long and hard journey through the decimated city.</p>\n",
       "        <p><b>Score:</b> 8.0</p>\n",
       "        <p><b>Type:</b> TV</p>\n",
       "        <p><b>Episodes:</b> 11.0</p>\n",
       "        <p><b>Genres:</b> Award Winning, Drama</p>\n",
       "        \n",
       "        \n",
       "        <p><b>Season:</b> Summer 2009</p>\n",
       "        <p><b>MAL Page:</b> <a href=\"https://myanimelist.net/anime/6211/Tokyo_Magnitude_80\" target=\"_blank\">Link to MyAnimeList</a></p>\n",
       "        "
      ],
      "text/plain": [
       "<IPython.core.display.HTML object>"
      ]
     },
     "metadata": {},
     "output_type": "display_data"
    },
    {
     "data": {
      "text/html": [
       "<p><b>Trailer:</b> <a href=\"https://www.youtube.com/watch?v=IqhrKb11rEU\" target=\"_blank\">Watch Trailer</a></p>"
      ],
      "text/plain": [
       "<IPython.core.display.HTML object>"
      ]
     },
     "metadata": {},
     "output_type": "display_data"
    },
    {
     "data": {
      "text/html": [
       "<hr>"
      ],
      "text/plain": [
       "<IPython.core.display.HTML object>"
      ]
     },
     "metadata": {},
     "output_type": "display_data"
    },
    {
     "data": {
      "text/html": [
       "\n",
       "        <h1 style=\"font-family:Arial;\">Alice to Therese no Maboroshi Koujou</h1>\n",
       "        <h3 style=\"font-family:Arial;\">Because you watched: Violet Evergarden Movie</h3>\n",
       "        <img src=\"https://cdn.myanimelist.net/images/anime/1429/137275.jpg\" alt=\"Alice to Therese no Maboroshi Koujou\" style=\"width:225px;height:auto;float:left;margin-right:15px;\">\n",
       "        <p><b>Synopsis:</b> In the small rural town of Mifuse, time has crawled to a standstill. After an explosion at the city's steel mill, the townspeople realize they are trapped in a mysterious stasis—cutting them off from the rest of the world. With a local elite quick to declare the situation a punishment from God, the community adopts a variety of superstitions to preserve the delicate balance of their circumstances until normalcy is restored.\n",
       "\n",
       "For middle school student Masamune Kikuiri and the other young people of Mifuse, returning to the real world has become nothing more than an illusion. Their senses have gone numb, and it has been years since they have shown any signs of aging. Masamune feels like he has become accustomed to his insecurities and empty existence. However, one day, his classmate Mutsumi Sagami guides him to the fifth furnace of the steel mill, where she shows him a feral young girl who resembles a wolf. This encounter proves to be the impetus in casting a light of change that dispels the shadows that have become Mifuse's reality.</p>\n",
       "        <p><b>Score:</b> 7.24</p>\n",
       "        <p><b>Type:</b> Movie</p>\n",
       "        <p><b>Episodes:</b> 1.0</p>\n",
       "        <p><b>Genres:</b> Award Winning, Drama</p>\n",
       "        \n",
       "        \n",
       "        <p><b>Season:</b> Sep 15 2023</p>\n",
       "        <p><b>MAL Page:</b> <a href=\"https://myanimelist.net/anime/49303/Alice_to_Therese_no_Maboroshi_Koujou\" target=\"_blank\">Link to MyAnimeList</a></p>\n",
       "        "
      ],
      "text/plain": [
       "<IPython.core.display.HTML object>"
      ]
     },
     "metadata": {},
     "output_type": "display_data"
    },
    {
     "data": {
      "text/html": [
       "<p><b>Trailer:</b> <a href=\"https://www.youtube.com/watch?v=Z2BDnTE6bDE\" target=\"_blank\">Watch Trailer</a></p>"
      ],
      "text/plain": [
       "<IPython.core.display.HTML object>"
      ]
     },
     "metadata": {},
     "output_type": "display_data"
    },
    {
     "data": {
      "text/html": [
       "<hr>"
      ],
      "text/plain": [
       "<IPython.core.display.HTML object>"
      ]
     },
     "metadata": {},
     "output_type": "display_data"
    },
    {
     "data": {
      "text/html": [
       "\n",
       "        <h1 style=\"font-family:Arial;\">Tamako Love Story</h1>\n",
       "        <h3 style=\"font-family:Arial;\">Because you watched: Violet Evergarden Movie</h3>\n",
       "        <img src=\"https://cdn.myanimelist.net/images/anime/1417/91333.jpg\" alt=\"Tamako Love Story\" style=\"width:225px;height:auto;float:left;margin-right:15px;\">\n",
       "        <p><b>Synopsis:</b> As the seasons pass by, the end of Mochizou Ooji's third and final school year quickly approaches. He aims to study at a university in Tokyo, but at the cost of leaving behind his loved ones—including his beloved childhood crush, Tamako Kitashirakawa. Having no such plans for the future, Tamako will merely remain in town to work at her family's humble mochi shop.\n",
       "\n",
       "As the time for Mochizou's departure draws closer, the reserved young man must gather up the courage to confess his feelings to Tamako before it is too late—lest his love go unnoticed forever.</p>\n",
       "        <p><b>Score:</b> 7.91</p>\n",
       "        <p><b>Type:</b> Movie</p>\n",
       "        <p><b>Episodes:</b> 1.0</p>\n",
       "        <p><b>Genres:</b> Award Winning, Romance, Slice of Life</p>\n",
       "        \n",
       "        \n",
       "        <p><b>Season:</b> Apr 26 2014</p>\n",
       "        <p><b>MAL Page:</b> <a href=\"https://myanimelist.net/anime/21647/Tamako_Love_Story\" target=\"_blank\">Link to MyAnimeList</a></p>\n",
       "        "
      ],
      "text/plain": [
       "<IPython.core.display.HTML object>"
      ]
     },
     "metadata": {},
     "output_type": "display_data"
    },
    {
     "data": {
      "text/html": [
       "<p><b>Trailer:</b> <a href=\"https://www.youtube.com/watch?v=B8JlGOXjZ28\" target=\"_blank\">Watch Trailer</a></p>"
      ],
      "text/plain": [
       "<IPython.core.display.HTML object>"
      ]
     },
     "metadata": {},
     "output_type": "display_data"
    },
    {
     "data": {
      "text/html": [
       "<hr>"
      ],
      "text/plain": [
       "<IPython.core.display.HTML object>"
      ]
     },
     "metadata": {},
     "output_type": "display_data"
    },
    {
     "data": {
      "text/html": [
       "\n",
       "        <h1 style=\"font-family:Arial;\">Kaze no Tani no Nausicaä</h1>\n",
       "        <h3 style=\"font-family:Arial;\">Because you watched: Violet Evergarden Movie</h3>\n",
       "        <img src=\"https://cdn.myanimelist.net/images/anime/10/75914.jpg\" alt=\"Kaze no Tani no Nausicaä\" style=\"width:225px;height:auto;float:left;margin-right:15px;\">\n",
       "        <p><b>Synopsis:</b> A millennium has passed since the catastrophic nuclear war named the \"Seven Days of Fire,\" which destroyed nearly all life on Earth. Humanity now lives in a constant struggle against the treacherous jungle that has evolved in response to the destruction caused by mankind. Filled with poisonous spores and enormous insects, the jungle spreads rapidly across the Earth and threatens to swallow the remnants of the human race.\n",
       "\n",
       "Away from the jungle exists a peaceful farming kingdom known as the \"Valley of the Wind,\" whose placement by the sea frees it from the spread of the jungle's deadly toxins. The Valley's charismatic young princess, Nausicaä, finds her tranquil kingdom disturbed when an airship from the kingdom of Tolmekia crashes violently in the Valley. After Nausicaä and the citizens of the Valley find a sinister pulsating object in the wreckage, the Valley is suddenly invaded by the Tolmekian military, who intend to revive a dangerous weapon from the Seven Days of Fire. Now Nausicaä must fight to stop the Tolmekians from plunging the Earth into a cataclysm which humanity could never survive, while also protecting the Valley from the encroaching forces of the toxic jungle.</p>\n",
       "        <p><b>Score:</b> 8.35</p>\n",
       "        <p><b>Type:</b> Movie</p>\n",
       "        <p><b>Episodes:</b> 1.0</p>\n",
       "        <p><b>Genres:</b> Adventure, Award Winning, Fantasy</p>\n",
       "        \n",
       "        \n",
       "        <p><b>Season:</b> Mar 11 1984</p>\n",
       "        <p><b>MAL Page:</b> <a href=\"https://myanimelist.net/anime/572/Kaze_no_Tani_no_Nausicaä\" target=\"_blank\">Link to MyAnimeList</a></p>\n",
       "        "
      ],
      "text/plain": [
       "<IPython.core.display.HTML object>"
      ]
     },
     "metadata": {},
     "output_type": "display_data"
    },
    {
     "data": {
      "text/html": [
       "<p><b>Trailer:</b> <a href=\"https://www.youtube.com/watch?v=6zhLBe319KE\" target=\"_blank\">Watch Trailer</a></p>"
      ],
      "text/plain": [
       "<IPython.core.display.HTML object>"
      ]
     },
     "metadata": {},
     "output_type": "display_data"
    },
    {
     "data": {
      "text/html": [
       "<hr>"
      ],
      "text/plain": [
       "<IPython.core.display.HTML object>"
      ]
     },
     "metadata": {},
     "output_type": "display_data"
    },
    {
     "data": {
      "text/html": [
       "\n",
       "        <h1 style=\"font-family:Arial;\">Azumanga Daiou The Animation</h1>\n",
       "        <h3 style=\"font-family:Arial;\">Because you watched: Bocchi the Rock!</h3>\n",
       "        <img src=\"https://cdn.myanimelist.net/images/anime/1066/117358.jpg\" alt=\"Azumanga Daiou The Animation\" style=\"width:225px;height:auto;float:left;margin-right:15px;\">\n",
       "        <p><b>Synopsis:</b> Chiyo Mihama begins her high school career as one of the strangest students in her freshman class—a tiny, 10-year-old academic prodigy with a fondness for plush dolls and homemade cooking. But her homeroom teacher, Yukari Tanizaki, is the kind of person who would hijack a student's bike to avoid being late, so \"strange\" is a relative word.\n",
       "\n",
       "There certainly isn't a shortage of peculiar girls in Yukari-sensei's homeroom class. Accompanying Chiyo are students like Tomo Takino, an energetic tomboy with more enthusiasm than brains; Koyomi Mizuhara, Tomo's best friend whose temper has a fuse shorter than Chiyo; and Sakaki, a tall, athletic beauty whose intimidating looks hide a gentle personality and a painful obsession with cats. In addition, transfer student Ayumu Kasuga, a girl with her head stuck in the clouds, fits right in with the rest of the girls—and she has a few interesting theories about Chiyo's pigtails!\n",
       "\n",
       "Together, this lovable group of girls experience the ups and downs of school life, their many adventures filled with constant laughter, surreal absurdity, and occasionally even touching commentary on the bittersweet, temporal nature of high school.</p>\n",
       "        <p><b>Score:</b> 8.04</p>\n",
       "        <p><b>Type:</b> TV</p>\n",
       "        <p><b>Episodes:</b> 26.0</p>\n",
       "        <p><b>Genres:</b> Comedy</p>\n",
       "        <p><b>Themes:</b> CGDCT, Gag Humor, School</p>\n",
       "        \n",
       "        <p><b>Season:</b> Spring 2002</p>\n",
       "        <p><b>MAL Page:</b> <a href=\"https://myanimelist.net/anime/66/Azumanga_Daiou_The_Animation\" target=\"_blank\">Link to MyAnimeList</a></p>\n",
       "        "
      ],
      "text/plain": [
       "<IPython.core.display.HTML object>"
      ]
     },
     "metadata": {},
     "output_type": "display_data"
    },
    {
     "data": {
      "text/html": [
       "<p><b>Trailer:</b> <a href=\"https://www.youtube.com/watch?v=ofW0KJjHIjg\" target=\"_blank\">Watch Trailer</a></p>"
      ],
      "text/plain": [
       "<IPython.core.display.HTML object>"
      ]
     },
     "metadata": {},
     "output_type": "display_data"
    },
    {
     "data": {
      "text/html": [
       "<hr>"
      ],
      "text/plain": [
       "<IPython.core.display.HTML object>"
      ]
     },
     "metadata": {},
     "output_type": "display_data"
    },
    {
     "data": {
      "text/html": [
       "\n",
       "        <h1 style=\"font-family:Arial;\">Senpai ga Uzai Kouhai no Hanashi</h1>\n",
       "        <h3 style=\"font-family:Arial;\">Because you watched: Bocchi the Rock!</h3>\n",
       "        <img src=\"https://cdn.myanimelist.net/images/anime/1055/118890.jpg\" alt=\"Senpai ga Uzai Kouhai no Hanashi\" style=\"width:225px;height:auto;float:left;margin-right:15px;\">\n",
       "        <p><b>Synopsis:</b> At a certain trading company, saleswoman Futaba Igarashi has managed to hold her respectable job for almost two years thanks to the guidance of her senior coworker—Harumi Takeda. However, due to Igarashi's short stature, Takeda often teases her and treats her like a kid, leaving Igarashi constantly annoyed by his antics.\n",
       "\n",
       "Despite this, Igarashi notices Takeda's reliability as he is always ready to help whenever something at their workplace goes awry. As Igarashi and Takeda spend more time together, their relationship soon develops further than simply being coworkers at the office.</p>\n",
       "        <p><b>Score:</b> 7.56</p>\n",
       "        <p><b>Type:</b> TV</p>\n",
       "        <p><b>Episodes:</b> 12.0</p>\n",
       "        <p><b>Genres:</b> Comedy</p>\n",
       "        <p><b>Themes:</b> Adult Cast, Love Status Quo, Workplace</p>\n",
       "        \n",
       "        <p><b>Season:</b> Fall 2021</p>\n",
       "        <p><b>MAL Page:</b> <a href=\"https://myanimelist.net/anime/42351/Senpai_ga_Uzai_Kouhai_no_Hanashi\" target=\"_blank\">Link to MyAnimeList</a></p>\n",
       "        "
      ],
      "text/plain": [
       "<IPython.core.display.HTML object>"
      ]
     },
     "metadata": {},
     "output_type": "display_data"
    },
    {
     "data": {
      "text/html": [
       "<p><b>Trailer:</b> <a href=\"https://www.youtube.com/watch?v=6jHQlaQXQSs\" target=\"_blank\">Watch Trailer</a></p>"
      ],
      "text/plain": [
       "<IPython.core.display.HTML object>"
      ]
     },
     "metadata": {},
     "output_type": "display_data"
    },
    {
     "data": {
      "text/html": [
       "<hr>"
      ],
      "text/plain": [
       "<IPython.core.display.HTML object>"
      ]
     },
     "metadata": {},
     "output_type": "display_data"
    },
    {
     "data": {
      "text/html": [
       "\n",
       "        <h1 style=\"font-family:Arial;\">Sayonara Zetsubou Sensei</h1>\n",
       "        <h3 style=\"font-family:Arial;\">Because you watched: Bocchi the Rock!</h3>\n",
       "        <img src=\"https://cdn.myanimelist.net/images/anime/5/6559.jpg\" alt=\"Sayonara Zetsubou Sensei\" style=\"width:225px;height:auto;float:left;margin-right:15px;\">\n",
       "        <p><b>Synopsis:</b> Nozomu Itoshiki is a high school teacher so pessimistic that even the smallest of misfortunes can send him into a pit of raging despair; some of these \"catastrophes\" even lead to suicide attempts. Sayonara Zetsubou Sensei is a satirical slice-of-life comedy set in the modern day, covering various aspects of Japanese life and culture through Nozomu and his interactions with his students: Kiri Komori, a recluse who refuses to leave the school; Abiru Kobushi, an enigma who frequently arrives to class with severe and mysterious injuries; the hyper-optimistic Kafuuka Fuura, Nozomu's polar opposite; and several other unusual girls, all of whom are just as eccentric as their teacher.</p>\n",
       "        <p><b>Score:</b> 7.85</p>\n",
       "        <p><b>Type:</b> TV</p>\n",
       "        <p><b>Episodes:</b> 12.0</p>\n",
       "        <p><b>Genres:</b> Comedy</p>\n",
       "        <p><b>Themes:</b> Gag Humor, Parody, School</p>\n",
       "        <p><b>Demographic:</b> Shounen</p>\n",
       "        <p><b>Season:</b> Summer 2007</p>\n",
       "        <p><b>MAL Page:</b> <a href=\"https://myanimelist.net/anime/2605/Sayonara_Zetsubou_Sensei\" target=\"_blank\">Link to MyAnimeList</a></p>\n",
       "        "
      ],
      "text/plain": [
       "<IPython.core.display.HTML object>"
      ]
     },
     "metadata": {},
     "output_type": "display_data"
    },
    {
     "data": {
      "text/html": [
       "<p><b>Trailer:</b> <a href=\"nan\" target=\"_blank\">Watch Trailer</a></p>"
      ],
      "text/plain": [
       "<IPython.core.display.HTML object>"
      ]
     },
     "metadata": {},
     "output_type": "display_data"
    },
    {
     "data": {
      "text/html": [
       "<hr>"
      ],
      "text/plain": [
       "<IPython.core.display.HTML object>"
      ]
     },
     "metadata": {},
     "output_type": "display_data"
    },
    {
     "data": {
      "text/html": [
       "\n",
       "        <h1 style=\"font-family:Arial;\">Fullmetal Alchemist</h1>\n",
       "        <h3 style=\"font-family:Arial;\">Because you watched: Fullmetal Alchemist: Brotherhood</h3>\n",
       "        <img src=\"https://cdn.myanimelist.net/images/anime/10/75815.jpg\" alt=\"Fullmetal Alchemist\" style=\"width:225px;height:auto;float:left;margin-right:15px;\">\n",
       "        <p><b>Synopsis:</b> Edward Elric, a young, brilliant alchemist, has lost much in his twelve-year life: when he and his brother Alphonse try to resurrect their dead mother through the forbidden act of human transmutation, Edward loses his brother as well as two of his limbs. With his supreme alchemy skills, Edward binds Alphonse's soul to a large suit of armor.\n",
       "\n",
       "A year later, Edward, now promoted to the fullmetal alchemist of the state, embarks on a journey with his younger brother to obtain the Philosopher's Stone. The fabled mythical object is rumored to be capable of amplifying an alchemist's abilities by leaps and bounds, thus allowing them to override the fundamental law of alchemy: to gain something, an alchemist must sacrifice something of equal value. Edward hopes to draw into the military's resources to find the fabled stone and restore his and Alphonse's bodies to normal. However, the Elric brothers soon discover that there is more to the legendary stone than meets the eye, as they are led to the epicenter of a far darker battle than they could have ever imagined.</p>\n",
       "        <p><b>Score:</b> 8.11</p>\n",
       "        <p><b>Type:</b> TV</p>\n",
       "        <p><b>Episodes:</b> 51.0</p>\n",
       "        <p><b>Genres:</b> Action, Adventure, Award Winning, Drama, Fantasy</p>\n",
       "        <p><b>Themes:</b> Military</p>\n",
       "        <p><b>Demographic:</b> Shounen</p>\n",
       "        <p><b>Season:</b> Fall 2003</p>\n",
       "        <p><b>MAL Page:</b> <a href=\"https://myanimelist.net/anime/121/Fullmetal_Alchemist\" target=\"_blank\">Link to MyAnimeList</a></p>\n",
       "        "
      ],
      "text/plain": [
       "<IPython.core.display.HTML object>"
      ]
     },
     "metadata": {},
     "output_type": "display_data"
    },
    {
     "data": {
      "text/html": [
       "<p><b>Trailer:</b> <a href=\"nan\" target=\"_blank\">Watch Trailer</a></p>"
      ],
      "text/plain": [
       "<IPython.core.display.HTML object>"
      ]
     },
     "metadata": {},
     "output_type": "display_data"
    },
    {
     "data": {
      "text/html": [
       "<hr>"
      ],
      "text/plain": [
       "<IPython.core.display.HTML object>"
      ]
     },
     "metadata": {},
     "output_type": "display_data"
    },
    {
     "data": {
      "text/html": [
       "\n",
       "        <h1 style=\"font-family:Arial;\">God Eater</h1>\n",
       "        <h3 style=\"font-family:Arial;\">Because you watched: Fullmetal Alchemist: Brotherhood</h3>\n",
       "        <img src=\"https://cdn.myanimelist.net/images/anime/7/73852.jpg\" alt=\"God Eater\" style=\"width:225px;height:auto;float:left;margin-right:15px;\">\n",
       "        <p><b>Synopsis:</b> The year is 2071. Humanity has been pushed to the brink of extinction following the emergence of man-eating monsters called \"Aragami\" that boast an immunity to conventional weaponry. They ravaged the land, consuming almost everything in their path and leaving nothing in their wake. To combat them, an organization named Fenrir was formed as a last-ditch effort to save humanity through the use of \"God Eaters\"—special humans infused with Oracle cells, allowing them to wield the God Arc, the only known weapon capable of killing an Aragami. One such God Eater is Lenka Utsugi, a New-Type whose God Arc takes the form of both blade and gun.\n",
       "\n",
       "Now, as one of Fenrir's greatest weapons, Lenka must master his God Arc if he is to fulfill his desire of wiping out the Aragami once and for all. The monsters continue to be born en masse while the remnants of humanity struggle to survive the night. Only God Eaters stand between the Aragami and complete and total annihilation of the human race.</p>\n",
       "        <p><b>Score:</b> 7.18</p>\n",
       "        <p><b>Type:</b> TV</p>\n",
       "        <p><b>Episodes:</b> 13.0</p>\n",
       "        <p><b>Genres:</b> Action, Fantasy, Sci-Fi</p>\n",
       "        <p><b>Themes:</b> Military</p>\n",
       "        \n",
       "        <p><b>Season:</b> Summer 2015</p>\n",
       "        <p><b>MAL Page:</b> <a href=\"https://myanimelist.net/anime/27631/God_Eater\" target=\"_blank\">Link to MyAnimeList</a></p>\n",
       "        "
      ],
      "text/plain": [
       "<IPython.core.display.HTML object>"
      ]
     },
     "metadata": {},
     "output_type": "display_data"
    },
    {
     "data": {
      "text/html": [
       "<p><b>Trailer:</b> <a href=\"https://www.youtube.com/watch?v=2LUfrT5hZM4\" target=\"_blank\">Watch Trailer</a></p>"
      ],
      "text/plain": [
       "<IPython.core.display.HTML object>"
      ]
     },
     "metadata": {},
     "output_type": "display_data"
    },
    {
     "data": {
      "text/html": [
       "<hr>"
      ],
      "text/plain": [
       "<IPython.core.display.HTML object>"
      ]
     },
     "metadata": {},
     "output_type": "display_data"
    },
    {
     "data": {
      "text/html": [
       "\n",
       "        <h1 style=\"font-family:Arial;\">The Last: Naruto the Movie</h1>\n",
       "        <h3 style=\"font-family:Arial;\">Because you watched: Fumetsu no Anata e</h3>\n",
       "        <img src=\"https://cdn.myanimelist.net/images/anime/1491/134498.jpg\" alt=\"The Last: Naruto the Movie\" style=\"width:225px;height:auto;float:left;margin-right:15px;\">\n",
       "        <p><b>Synopsis:</b> Two years have passed since the end of the Fourth Great Ninja War. Konohagakure has remained in a state of peace and harmony—until Sixth Hokage Kakashi Hatake notices the moon is dangerously approaching the Earth, posing the threat of planetary ruin.\n",
       "\n",
       "Amidst the grave ordeal, Konoha is invaded by a new evil, Toneri Oosutuski, who suddenly abducts Hinata Hyuuga's little sister Hanabi. Kakashi dispatches a skilled ninja team comprised of Naruto Uzumaki, Sakura Haruno, Shikamaru Nara, Sai, and Hinata in an effort to rescue Hanabi from the diabolical clutches of Toneri. However, during their mission, the team faces several obstacles that challenge them, foiling their efforts.\n",
       "\n",
       "With her abduction, the relationships the team share with one another are tested, and with the world reaching the brink of destruction, they must race against time to ensure the safety of their planet. Meanwhile, as the battle ensues, Naruto is driven to fight for something greater than he has ever imagined—love.</p>\n",
       "        <p><b>Score:</b> 7.79</p>\n",
       "        <p><b>Type:</b> Movie</p>\n",
       "        <p><b>Episodes:</b> 1.0</p>\n",
       "        <p><b>Genres:</b> Action, Adventure, Fantasy, Romance</p>\n",
       "        \n",
       "        <p><b>Demographic:</b> Shounen</p>\n",
       "        <p><b>Season:</b> Dec 6 2014</p>\n",
       "        <p><b>MAL Page:</b> <a href=\"https://myanimelist.net/anime/16870/The_Last__Naruto_the_Movie\" target=\"_blank\">Link to MyAnimeList</a></p>\n",
       "        "
      ],
      "text/plain": [
       "<IPython.core.display.HTML object>"
      ]
     },
     "metadata": {},
     "output_type": "display_data"
    },
    {
     "data": {
      "text/html": [
       "<p><b>Trailer:</b> <a href=\"https://www.youtube.com/watch?v=tA3yE4_t6SY\" target=\"_blank\">Watch Trailer</a></p>"
      ],
      "text/plain": [
       "<IPython.core.display.HTML object>"
      ]
     },
     "metadata": {},
     "output_type": "display_data"
    },
    {
     "data": {
      "text/html": [
       "<hr>"
      ],
      "text/plain": [
       "<IPython.core.display.HTML object>"
      ]
     },
     "metadata": {},
     "output_type": "display_data"
    },
    {
     "data": {
      "text/html": [
       "\n",
       "        <h1 style=\"font-family:Arial;\">Noragami Aragoto OVA</h1>\n",
       "        <h3 style=\"font-family:Arial;\">Because you watched: Gabriel DropOut</h3>\n",
       "        <img src=\"https://cdn.myanimelist.net/images/anime/11/77510.jpg\" alt=\"Noragami Aragoto OVA\" style=\"width:225px;height:auto;float:left;margin-right:15px;\">\n",
       "        <p><b>Synopsis:</b> Hiyori Iki goes on a skiing trip with her parents and happens to bump into Yato and Yukine. After a short while, they find the other gods who are there for a company vacation. But amidst all the fun, someone is plotting a heinous crime, and Yato is the primary target.\n",
       "\n",
       "On a different day, Yato’s been able to make a small fortune from his last job and decides to take Hiyori and Yukine to Capyper Land. Although she agrees without knowing the destination, will Hiyori actually enjoy the day considering what happened on her last visit?</p>\n",
       "        <p><b>Score:</b> 7.84</p>\n",
       "        <p><b>Type:</b> OVA</p>\n",
       "        <p><b>Episodes:</b> 2.0</p>\n",
       "        <p><b>Genres:</b> Comedy, Supernatural</p>\n",
       "        <p><b>Themes:</b> Mythology</p>\n",
       "        <p><b>Demographic:</b> Shounen</p>\n",
       "        <p><b>Season:</b> Nov 17 2016</p>\n",
       "        <p><b>MAL Page:</b> <a href=\"https://myanimelist.net/anime/30885/Noragami_Aragoto_OVA\" target=\"_blank\">Link to MyAnimeList</a></p>\n",
       "        "
      ],
      "text/plain": [
       "<IPython.core.display.HTML object>"
      ]
     },
     "metadata": {},
     "output_type": "display_data"
    },
    {
     "data": {
      "text/html": [
       "<p><b>Trailer:</b> <a href=\"nan\" target=\"_blank\">Watch Trailer</a></p>"
      ],
      "text/plain": [
       "<IPython.core.display.HTML object>"
      ]
     },
     "metadata": {},
     "output_type": "display_data"
    },
    {
     "data": {
      "text/html": [
       "<hr>"
      ],
      "text/plain": [
       "<IPython.core.display.HTML object>"
      ]
     },
     "metadata": {},
     "output_type": "display_data"
    },
    {
     "data": {
      "text/html": [
       "\n",
       "        <h1 style=\"font-family:Arial;\">Binbougami ga!</h1>\n",
       "        <h3 style=\"font-family:Arial;\">Because you watched: Gabriel DropOut</h3>\n",
       "        <img src=\"https://cdn.myanimelist.net/images/anime/8/39333.jpg\" alt=\"Binbougami ga!\" style=\"width:225px;height:auto;float:left;margin-right:15px;\">\n",
       "        <p><b>Synopsis:</b> Ichiko Sakura lives life on easy mode. Blessed with good fortune, she has everything she has ever wanted, including beauty, intelligence, and wealth. Momiji Binboda is a goddess of poverty. In stark contrast to Ichiko, she is cursed with misfortune, such as a perpetual cast on her arm, a flat chest, and a box under a bridge for a home.\n",
       "\n",
       "Their lives collide when Momiji lives up to her title and delivers some unfortunate news to Ichiko: her large amount of luck is due to her subconsciously draining the luck from those around her! Momiji has been tasked with stealing back Ichiko's fortune before she leaves everyone without enough luck to even survive. But Ichiko, with the help of the wandering monk Bobby Statice, manages to fight off the poverty goddess. This defeat forces the goddess to enlist reinforcements in the form of Kumagai, her teddy bear familiar, and the masochistic dog god, Momoo Inugami.\n",
       "\n",
       "Insanity ensues as Ichiko's quiet life is replaced with daily battles for her fortune. To survive the chaos, Ichiko will need all the luck she can get in Binbougami ga!!</p>\n",
       "        <p><b>Score:</b> 7.66</p>\n",
       "        <p><b>Type:</b> TV</p>\n",
       "        <p><b>Episodes:</b> 13.0</p>\n",
       "        <p><b>Genres:</b> Comedy, Supernatural</p>\n",
       "        <p><b>Themes:</b> Gag Humor, Parody</p>\n",
       "        <p><b>Demographic:</b> Shounen</p>\n",
       "        <p><b>Season:</b> Summer 2012</p>\n",
       "        <p><b>MAL Page:</b> <a href=\"https://myanimelist.net/anime/13535/Binbougami_ga\" target=\"_blank\">Link to MyAnimeList</a></p>\n",
       "        "
      ],
      "text/plain": [
       "<IPython.core.display.HTML object>"
      ]
     },
     "metadata": {},
     "output_type": "display_data"
    },
    {
     "data": {
      "text/html": [
       "<p><b>Trailer:</b> <a href=\"nan\" target=\"_blank\">Watch Trailer</a></p>"
      ],
      "text/plain": [
       "<IPython.core.display.HTML object>"
      ]
     },
     "metadata": {},
     "output_type": "display_data"
    },
    {
     "data": {
      "text/html": [
       "<hr>"
      ],
      "text/plain": [
       "<IPython.core.display.HTML object>"
      ]
     },
     "metadata": {},
     "output_type": "display_data"
    },
    {
     "data": {
      "text/html": [
       "\n",
       "        <h1 style=\"font-family:Arial;\">Jahy-sama wa Kujikenai!</h1>\n",
       "        <h3 style=\"font-family:Arial;\">Because you watched: Gabriel DropOut</h3>\n",
       "        <img src=\"https://cdn.myanimelist.net/images/anime/1154/115599.jpg\" alt=\"Jahy-sama wa Kujikenai!\" style=\"width:225px;height:auto;float:left;margin-right:15px;\">\n",
       "        <p><b>Synopsis:</b> The great Jahy will not be defeated! Simultaneously combating starvation, the lack of A/C, and the unavoidable weakness of turning child-sized, Jahy—previously the second strongest being in the Dark Realm—is under great stress. If it weren't for the destruction of the mana crystal which used to power the Dark Realm, Jahy would still be living a life of power and luxury. \n",
       "\n",
       "And yet, at the moment, brawling with the landlady over rent is a recurring event for Jahy. Just to have a place to stay and food to eat, Jahy must work part-time. However, her immense pride will not allow her to live under such poor conditions for any longer than necessary. Vowing to reinstate the Dark Realm to its former glory, Jahy continues her journey to reassemble the mana crystal.</p>\n",
       "        <p><b>Score:</b> 7.02</p>\n",
       "        <p><b>Type:</b> TV</p>\n",
       "        <p><b>Episodes:</b> 20.0</p>\n",
       "        <p><b>Genres:</b> Comedy, Supernatural</p>\n",
       "        \n",
       "        <p><b>Demographic:</b> Shounen</p>\n",
       "        <p><b>Season:</b> Summer 2021</p>\n",
       "        <p><b>MAL Page:</b> <a href=\"https://myanimelist.net/anime/48753/Jahy-sama_wa_Kujikenai\" target=\"_blank\">Link to MyAnimeList</a></p>\n",
       "        "
      ],
      "text/plain": [
       "<IPython.core.display.HTML object>"
      ]
     },
     "metadata": {},
     "output_type": "display_data"
    },
    {
     "data": {
      "text/html": [
       "<p><b>Trailer:</b> <a href=\"https://www.youtube.com/watch?v=NbBM8888K0s\" target=\"_blank\">Watch Trailer</a></p>"
      ],
      "text/plain": [
       "<IPython.core.display.HTML object>"
      ]
     },
     "metadata": {},
     "output_type": "display_data"
    },
    {
     "data": {
      "text/html": [
       "<hr>"
      ],
      "text/plain": [
       "<IPython.core.display.HTML object>"
      ]
     },
     "metadata": {},
     "output_type": "display_data"
    },
    {
     "data": {
      "text/html": [
       "\n",
       "        <h1 style=\"font-family:Arial;\">Shinigami Bocchan to Kuro Maid</h1>\n",
       "        <h3 style=\"font-family:Arial;\">Because you watched: Gabriel DropOut</h3>\n",
       "        <img src=\"https://cdn.myanimelist.net/images/anime/1471/115593.jpg\" alt=\"Shinigami Bocchan to Kuro Maid\" style=\"width:225px;height:auto;float:left;margin-right:15px;\">\n",
       "        <p><b>Synopsis:</b> As the elegant, frail flower petals wither away into lifeless ashes, the young duke is tragically reminded of the despicable power forced upon him—the ability to kill anything he touches. Scorned by his family, he is sent away to live in near isolation. Fortunately, he is not entirely alone, as the manor's staff—his dutiful butler Rob and the flirtatious maid Alice—keep him company and make his life less miserable.\n",
       "\n",
       "As the duke's romantic feelings for Alice grow, so does his continued frustration for the limits set by his unfortunate ability. Therefore, he resolves to break the curse cast upon him all those years ago, not only for his sake, but Alice's as well—for he is painfully aware of how difficult it is to avoid the touch of a loved one.</p>\n",
       "        <p><b>Score:</b> 7.59</p>\n",
       "        <p><b>Type:</b> TV</p>\n",
       "        <p><b>Episodes:</b> 12.0</p>\n",
       "        <p><b>Genres:</b> Comedy, Supernatural</p>\n",
       "        <p><b>Themes:</b> Love Status Quo</p>\n",
       "        \n",
       "        <p><b>Season:</b> Summer 2021</p>\n",
       "        <p><b>MAL Page:</b> <a href=\"https://myanimelist.net/anime/47257/Shinigami_Bocchan_to_Kuro_Maid\" target=\"_blank\">Link to MyAnimeList</a></p>\n",
       "        "
      ],
      "text/plain": [
       "<IPython.core.display.HTML object>"
      ]
     },
     "metadata": {},
     "output_type": "display_data"
    },
    {
     "data": {
      "text/html": [
       "<p><b>Trailer:</b> <a href=\"https://www.youtube.com/watch?v=fovl9ZRPX40\" target=\"_blank\">Watch Trailer</a></p>"
      ],
      "text/plain": [
       "<IPython.core.display.HTML object>"
      ]
     },
     "metadata": {},
     "output_type": "display_data"
    },
    {
     "data": {
      "text/html": [
       "<hr>"
      ],
      "text/plain": [
       "<IPython.core.display.HTML object>"
      ]
     },
     "metadata": {},
     "output_type": "display_data"
    },
    {
     "data": {
      "text/html": [
       "\n",
       "        <h1 style=\"font-family:Arial;\">Gintama.: Shirogane no Tamashii-hen - Kouhan-sen</h1>\n",
       "        <h3 style=\"font-family:Arial;\">Because you watched: Gintama': Enchousen</h3>\n",
       "        <img src=\"https://cdn.myanimelist.net/images/anime/1776/96566.jpg\" alt=\"Gintama.: Shirogane no Tamashii-hen - Kouhan-sen\" style=\"width:225px;height:auto;float:left;margin-right:15px;\">\n",
       "        <p><b>Synopsis:</b> Following the temporary retreat of the Altana Liberation Army from the Kabuki District, the state of the war has seemingly improved. However, as the Oniwaban, Shinsengumi, and residents of the district combat the army's remnants, Edo's greatest inventor Gengai Hiraga is abducted. Responsible for causing the enemy's withdrawal by rendering their weapons useless, Gengai's nanomachine virus is now at risk of being shut down.\n",
       "\n",
       "Meanwhile, a laser capable of obliterating a planet is activated in Earth's orbit on the Liberation Army's mother ship. Another battle ensues when Shinsuke Takasugi and the rest of the Kiheitai arrive on the vessel to stop the weapon from firing. Forced to fight a war on two fronts, the Yorozuya and their allies must prevail on both sides to save Edo and the rest of the world.</p>\n",
       "        <p><b>Score:</b> 8.88</p>\n",
       "        <p><b>Type:</b> TV</p>\n",
       "        <p><b>Episodes:</b> 14.0</p>\n",
       "        <p><b>Genres:</b> Action, Comedy, Sci-Fi</p>\n",
       "        <p><b>Themes:</b> Gag Humor, Historical, Parody, Samurai</p>\n",
       "        <p><b>Demographic:</b> Shounen</p>\n",
       "        <p><b>Season:</b> Summer 2018</p>\n",
       "        <p><b>MAL Page:</b> <a href=\"https://myanimelist.net/anime/37491/Gintama__Shirogane_no_Tamashii-hen_-_Kouhan-sen\" target=\"_blank\">Link to MyAnimeList</a></p>\n",
       "        "
      ],
      "text/plain": [
       "<IPython.core.display.HTML object>"
      ]
     },
     "metadata": {},
     "output_type": "display_data"
    },
    {
     "data": {
      "text/html": [
       "<p><b>Trailer:</b> <a href=\"https://www.youtube.com/watch?v=E2rzD37MCSg\" target=\"_blank\">Watch Trailer</a></p>"
      ],
      "text/plain": [
       "<IPython.core.display.HTML object>"
      ]
     },
     "metadata": {},
     "output_type": "display_data"
    },
    {
     "data": {
      "text/html": [
       "<hr>"
      ],
      "text/plain": [
       "<IPython.core.display.HTML object>"
      ]
     },
     "metadata": {},
     "output_type": "display_data"
    },
    {
     "data": {
      "text/html": [
       "\n",
       "        <h1 style=\"font-family:Arial;\">Gintama: Yorinuki Gintama-san on Theater 2D</h1>\n",
       "        <h3 style=\"font-family:Arial;\">Because you watched: Gintama': Enchousen</h3>\n",
       "        <img src=\"https://cdn.myanimelist.net/images/anime/1172/90571.jpg\" alt=\"Gintama: Yorinuki Gintama-san on Theater 2D\" style=\"width:225px;height:auto;float:left;margin-right:15px;\">\n",
       "        <p><b>Synopsis:</b> Demonic Vice-Commander of the Shinsengumi, Toushirou Hijikata, acquires a cursed sword—one which completely rewrites his personality, morphing him from a hard-boiled, no-nonsense cop into a hopeless otaku. As he struggles to break the curse, an ambitious new member of the police force, Itou Kamotarou, seizes the opportunity to depose Hijikata in his bid for power within the organization. However, Itou's scheme is revealed to be more devious than anyone imagined, and the very existence of the Shinsengumi is thrown into peril.\n",
       "\n",
       "In another time and place, the Yorozuya squad is suddenly greeted by a potential new recruit. Before them is a mysterious young woman named Pirako Doromizu who hides a penchant for extreme violence behind her smiling, enthusiastic exterior. However, unbeknownst to Gintoki and the others, Pirako has strong ties to one of the ruling figures of the Kabuki district of Edo, and her arrival sets off a chain reaction that throws the inhabitants of the district into a civil war.</p>\n",
       "        <p><b>Score:</b> 8.42</p>\n",
       "        <p><b>Type:</b> Movie</p>\n",
       "        <p><b>Episodes:</b> 2.0</p>\n",
       "        <p><b>Genres:</b> Action, Comedy, Sci-Fi</p>\n",
       "        <p><b>Themes:</b> Gag Humor, Historical, Parody, Samurai</p>\n",
       "        <p><b>Demographic:</b> Shounen</p>\n",
       "        <p><b>Season:</b> Aug 26 2012</p>\n",
       "        <p><b>MAL Page:</b> <a href=\"https://myanimelist.net/anime/21899/Gintama__Yorinuki_Gintama-san_on_Theater_2D\" target=\"_blank\">Link to MyAnimeList</a></p>\n",
       "        "
      ],
      "text/plain": [
       "<IPython.core.display.HTML object>"
      ]
     },
     "metadata": {},
     "output_type": "display_data"
    },
    {
     "data": {
      "text/html": [
       "<p><b>Trailer:</b> <a href=\"nan\" target=\"_blank\">Watch Trailer</a></p>"
      ],
      "text/plain": [
       "<IPython.core.display.HTML object>"
      ]
     },
     "metadata": {},
     "output_type": "display_data"
    },
    {
     "data": {
      "text/html": [
       "<hr>"
      ],
      "text/plain": [
       "<IPython.core.display.HTML object>"
      ]
     },
     "metadata": {},
     "output_type": "display_data"
    },
    {
     "data": {
      "text/html": [
       "\n",
       "        <h1 style=\"font-family:Arial;\">Asobi Asobase</h1>\n",
       "        <h3 style=\"font-family:Arial;\">Because you watched: Grand Blue</h3>\n",
       "        <img src=\"https://cdn.myanimelist.net/images/anime/1139/95077.jpg\" alt=\"Asobi Asobase\" style=\"width:225px;height:auto;float:left;margin-right:15px;\">\n",
       "        <p><b>Synopsis:</b> During recess, Olivia, a foreign transfer student who doesn't know English, plays a game of \"look-the-other-way\" with Hanako Honda, a loud-mouthed airhead. Their rowdy behavior spurs the ire of Kasumi Nomura, a deadpan loner constantly teased by her older sister for her tendency to lose games. Not willing to compete, Kasumi declines Olivia's offer to join the fun, but eventually gets involved anyway and dispenses her own brand of mischief. Soon, a strange friendship blossoms between the peculiar trio, and they decide to form the \"Pastime Club,\" where they are free to resume their daily hijinks. \n",
       "\n",
       "Whether it be failing to learn English, trying desperately to become popular, or getting caught by teachers at the wrong time, school life will never be boring when the girls of Asobi Asobase are up to their hilarious antics.</p>\n",
       "        <p><b>Score:</b> 8.19</p>\n",
       "        <p><b>Type:</b> TV</p>\n",
       "        <p><b>Episodes:</b> 12.0</p>\n",
       "        <p><b>Genres:</b> Comedy</p>\n",
       "        <p><b>Themes:</b> Gag Humor, School</p>\n",
       "        <p><b>Demographic:</b> Seinen</p>\n",
       "        <p><b>Season:</b> Summer 2018</p>\n",
       "        <p><b>MAL Page:</b> <a href=\"https://myanimelist.net/anime/37171/Asobi_Asobase\" target=\"_blank\">Link to MyAnimeList</a></p>\n",
       "        "
      ],
      "text/plain": [
       "<IPython.core.display.HTML object>"
      ]
     },
     "metadata": {},
     "output_type": "display_data"
    },
    {
     "data": {
      "text/html": [
       "<p><b>Trailer:</b> <a href=\"https://www.youtube.com/watch?v=DYDZAvNJQkM\" target=\"_blank\">Watch Trailer</a></p>"
      ],
      "text/plain": [
       "<IPython.core.display.HTML object>"
      ]
     },
     "metadata": {},
     "output_type": "display_data"
    },
    {
     "data": {
      "text/html": [
       "<hr>"
      ],
      "text/plain": [
       "<IPython.core.display.HTML object>"
      ]
     },
     "metadata": {},
     "output_type": "display_data"
    },
    {
     "data": {
      "text/html": [
       "\n",
       "        <h1 style=\"font-family:Arial;\">Komi-san wa, Comyushou desu. 2nd Season</h1>\n",
       "        <h3 style=\"font-family:Arial;\">Because you watched: Grand Blue</h3>\n",
       "        <img src=\"https://cdn.myanimelist.net/images/anime/1108/121157.jpg\" alt=\"Komi-san wa, Comyushou desu. 2nd Season\" style=\"width:225px;height:auto;float:left;margin-right:15px;\">\n",
       "        <p><b>Synopsis:</b> After an exciting and momentous cultural festival, Shouko Komi continues her endeavor to make one hundred friends alongside her friend and classmate Hitohito Tadano. As winter begins, the class is joined by the seemingly delinquent student Makoto Katai, who has been absent since the first week of school. Despite his intimidating appearance, Katai has difficulty communicating with others and just wants to befriend his classmates.\n",
       "\n",
       "As new friendships form and current ones deepen, Komi and Tadano’s relationship begins to change—though not necessarily for the worse.</p>\n",
       "        <p><b>Score:</b> 8.02</p>\n",
       "        <p><b>Type:</b> TV</p>\n",
       "        <p><b>Episodes:</b> 12.0</p>\n",
       "        <p><b>Genres:</b> Comedy</p>\n",
       "        <p><b>Themes:</b> Love Status Quo, School</p>\n",
       "        <p><b>Demographic:</b> Shounen</p>\n",
       "        <p><b>Season:</b> Spring 2022</p>\n",
       "        <p><b>MAL Page:</b> <a href=\"https://myanimelist.net/anime/50631/Komi-san_wa_Comyushou_desu_2nd_Season\" target=\"_blank\">Link to MyAnimeList</a></p>\n",
       "        "
      ],
      "text/plain": [
       "<IPython.core.display.HTML object>"
      ]
     },
     "metadata": {},
     "output_type": "display_data"
    },
    {
     "data": {
      "text/html": [
       "<p><b>Trailer:</b> <a href=\"https://www.youtube.com/watch?v=NcoQssquPhE\" target=\"_blank\">Watch Trailer</a></p>"
      ],
      "text/plain": [
       "<IPython.core.display.HTML object>"
      ]
     },
     "metadata": {},
     "output_type": "display_data"
    },
    {
     "data": {
      "text/html": [
       "<hr>"
      ],
      "text/plain": [
       "<IPython.core.display.HTML object>"
      ]
     },
     "metadata": {},
     "output_type": "display_data"
    },
    {
     "data": {
      "text/html": [
       "\n",
       "        <h1 style=\"font-family:Arial;\">Seitokai Yakuindomo</h1>\n",
       "        <h3 style=\"font-family:Arial;\">Because you watched: Grand Blue</h3>\n",
       "        <img src=\"https://cdn.myanimelist.net/images/anime/4/75550.jpg\" alt=\"Seitokai Yakuindomo\" style=\"width:225px;height:auto;float:left;margin-right:15px;\">\n",
       "        <p><b>Synopsis:</b> On his first day of high school at the formerly all-girl's Ousai Private Academy, Takatoshi Tsuda is called out for his untidy uniform by the student council president Shino Amakusa. In apology for delaying Takatoshi for his first class—and stating that the group needs a male point of view to accommodate the arrival of boys at the school—Shino offers him the position of vice president of the student council. Though unwilling, Takatoshi finds himself appointed as the newest member of the student council having yet to even step foot inside the school building.\n",
       "\n",
       "Takatoshi soon realizes that the other student council members who are more than a little strange: President Shino, who is studious and serious in appearance, but actually a huge pervert, fascinated with the erotic and constantly making lewd jokes; the secretary Aria Shichijou, who may seem like a typical sheltered rich girl, but is just as risque as the president, if not more so; and finally, the treasurer Suzu Hagimura, who may act fairly normal, but has the body of an elementary school student and is extremely self-conscious of it. Surrounded by these colorful characters, the new vice president must now work through a nonstop assault of sexual humor and insanity.</p>\n",
       "        <p><b>Score:</b> 7.55</p>\n",
       "        <p><b>Type:</b> TV</p>\n",
       "        <p><b>Episodes:</b> 13.0</p>\n",
       "        <p><b>Genres:</b> Comedy</p>\n",
       "        <p><b>Themes:</b> Gag Humor, School</p>\n",
       "        <p><b>Demographic:</b> Shounen</p>\n",
       "        <p><b>Season:</b> Summer 2010</p>\n",
       "        <p><b>MAL Page:</b> <a href=\"https://myanimelist.net/anime/8675/Seitokai_Yakuindomo\" target=\"_blank\">Link to MyAnimeList</a></p>\n",
       "        "
      ],
      "text/plain": [
       "<IPython.core.display.HTML object>"
      ]
     },
     "metadata": {},
     "output_type": "display_data"
    },
    {
     "data": {
      "text/html": [
       "<p><b>Trailer:</b> <a href=\"https://www.youtube.com/watch?v=vzfkD0wz7_Y\" target=\"_blank\">Watch Trailer</a></p>"
      ],
      "text/plain": [
       "<IPython.core.display.HTML object>"
      ]
     },
     "metadata": {},
     "output_type": "display_data"
    },
    {
     "data": {
      "text/html": [
       "<hr>"
      ],
      "text/plain": [
       "<IPython.core.display.HTML object>"
      ]
     },
     "metadata": {},
     "output_type": "display_data"
    },
    {
     "data": {
      "text/html": [
       "\n",
       "        <h1 style=\"font-family:Arial;\">Working!!</h1>\n",
       "        <h3 style=\"font-family:Arial;\">Because you watched: Grand Blue</h3>\n",
       "        <img src=\"https://cdn.myanimelist.net/images/anime/10/75262.jpg\" alt=\"Working!!\" style=\"width:225px;height:auto;float:left;margin-right:15px;\">\n",
       "        <p><b>Synopsis:</b> Due to his love for small, cute things, Souta Takanashi cannot turn childlike Popura Taneshima down when she recruits him to work for Wagnaria, a family restaurant located in Hokkaido. Takanashi takes particular joy in doting on the older Popura, which only fuels her complex over how young she looks. He also quickly learns he must stay on his toes once he meets the rest of his colleagues, including the katana-wielding floor chief Yachiyo Todoroki, the intimidating head chef Jun Satou, the dangerously well-informed and subtly sadistic sous chef Hiroomi Souma, the adamantly lazy manager Kyouko Shirafuji, and the waitress Mahiru Inami who has a \"painful\" fear of men.\n",
       "\n",
       "Powered by an eccentric cast, Working!! is a unique workplace comedy that follows the never-dull happenings within the walls of Wagnaria as Takanashi and his co-workers' quirky personalities combine to create non-stop antics, shenanigans, and hilarity.</p>\n",
       "        <p><b>Score:</b> 7.64</p>\n",
       "        <p><b>Type:</b> TV</p>\n",
       "        <p><b>Episodes:</b> 13.0</p>\n",
       "        <p><b>Genres:</b> Comedy</p>\n",
       "        <p><b>Themes:</b> Love Status Quo, Workplace</p>\n",
       "        <p><b>Demographic:</b> Seinen</p>\n",
       "        <p><b>Season:</b> Spring 2010</p>\n",
       "        <p><b>MAL Page:</b> <a href=\"https://myanimelist.net/anime/6956/Working\" target=\"_blank\">Link to MyAnimeList</a></p>\n",
       "        "
      ],
      "text/plain": [
       "<IPython.core.display.HTML object>"
      ]
     },
     "metadata": {},
     "output_type": "display_data"
    },
    {
     "data": {
      "text/html": [
       "<p><b>Trailer:</b> <a href=\"nan\" target=\"_blank\">Watch Trailer</a></p>"
      ],
      "text/plain": [
       "<IPython.core.display.HTML object>"
      ]
     },
     "metadata": {},
     "output_type": "display_data"
    },
    {
     "data": {
      "text/html": [
       "<hr>"
      ],
      "text/plain": [
       "<IPython.core.display.HTML object>"
      ]
     },
     "metadata": {},
     "output_type": "display_data"
    },
    {
     "data": {
      "text/html": [
       "\n",
       "        <h1 style=\"font-family:Arial;\">Shaman King</h1>\n",
       "        <h3 style=\"font-family:Arial;\">Because you watched: JoJo no Kimyou na Bouken Part 5: Ougon no Kaze</h3>\n",
       "        <img src=\"https://cdn.myanimelist.net/images/anime/1722/99235.jpg\" alt=\"Shaman King\" style=\"width:225px;height:auto;float:left;margin-right:15px;\">\n",
       "        <p><b>Synopsis:</b> A battle is about to begin in Tokyo: the Shaman Fight, a tournament held every five hundred years where shaman—those who can command spirits—confront each other in combat. The victor of this contest becomes the Shaman King and the only one who is able to contact and control the Great Spirit, allowing them to reshape the world as they please through its immense power.\n",
       "\n",
       "During a late night walk, Manta Oyamada runs into his classmate, the carefree You Asakura, who invites him to come stargazing with some friends, who, to Manta's horror, turn out to be ghosts from a local cemetery! However, the knowledge that Manta possesses—a rare sixth sense that allows Manta to see these spirits—endears the boy to You. So when You finds out that his new comrade has been beaten up by a local gang, he decides to avenge him with the help of Amidamaru, a samurai ghost whose tomb was broken by the gang leader. \n",
       "\n",
       "Soon Manta uncovers more about the world of spirits, including the Shaman Fight, in which his new friend You aims to claim victory.</p>\n",
       "        <p><b>Score:</b> 7.73</p>\n",
       "        <p><b>Type:</b> TV</p>\n",
       "        <p><b>Episodes:</b> 64.0</p>\n",
       "        <p><b>Genres:</b> Action, Adventure, Supernatural</p>\n",
       "        <p><b>Themes:</b> Super Power</p>\n",
       "        <p><b>Demographic:</b> Shounen</p>\n",
       "        <p><b>Season:</b> Summer 2001</p>\n",
       "        <p><b>MAL Page:</b> <a href=\"https://myanimelist.net/anime/154/Shaman_King\" target=\"_blank\">Link to MyAnimeList</a></p>\n",
       "        "
      ],
      "text/plain": [
       "<IPython.core.display.HTML object>"
      ]
     },
     "metadata": {},
     "output_type": "display_data"
    },
    {
     "data": {
      "text/html": [
       "<p><b>Trailer:</b> <a href=\"nan\" target=\"_blank\">Watch Trailer</a></p>"
      ],
      "text/plain": [
       "<IPython.core.display.HTML object>"
      ]
     },
     "metadata": {},
     "output_type": "display_data"
    },
    {
     "data": {
      "text/html": [
       "<hr>"
      ],
      "text/plain": [
       "<IPython.core.display.HTML object>"
      ]
     },
     "metadata": {},
     "output_type": "display_data"
    },
    {
     "data": {
      "text/html": [
       "\n",
       "        <h1 style=\"font-family:Arial;\">Bleach Movie 3: Fade to Black - Kimi no Na wo Yobu</h1>\n",
       "        <h3 style=\"font-family:Arial;\">Because you watched: JoJo no Kimyou na Bouken Part 6: Stone Ocean Part 2</h3>\n",
       "        <img src=\"https://cdn.myanimelist.net/images/anime/3/64689.jpg\" alt=\"Bleach Movie 3: Fade to Black - Kimi no Na wo Yobu\" style=\"width:225px;height:auto;float:left;margin-right:15px;\">\n",
       "        <p><b>Synopsis:</b> After a mysterious pair attack Rukia Kuchiki and erase her memories while she is in Seireitei, Ichigo Kurosaki, a substitute Soul Reaper, briefly forgets Rukia, until he is reminded of her by Kon, an Underpod Mod-Soul. Confused, he seeks his town's candy-shop owner, Kisuke Urahara, who opens the pathway to Seireitei for them. Ichigo is then shocked to find that his allies in Seireitei, the Shinigami of the Soul Society, have forgotten him.\n",
       "\n",
       "Filled with action, Kimi no Na wo Yobu follows Ichigo and Kon as they fight against their former comrades while searching for the missing Rukia and discovering her assailants before they strike again.</p>\n",
       "        <p><b>Score:</b> 7.5</p>\n",
       "        <p><b>Type:</b> Movie</p>\n",
       "        <p><b>Episodes:</b> 1.0</p>\n",
       "        <p><b>Genres:</b> Action, Adventure, Supernatural</p>\n",
       "        \n",
       "        <p><b>Demographic:</b> Shounen</p>\n",
       "        <p><b>Season:</b> Dec 13 2008</p>\n",
       "        <p><b>MAL Page:</b> <a href=\"https://myanimelist.net/anime/4835/Bleach_Movie_3__Fade_to_Black_-_Kimi_no_Na_wo_Yobu\" target=\"_blank\">Link to MyAnimeList</a></p>\n",
       "        "
      ],
      "text/plain": [
       "<IPython.core.display.HTML object>"
      ]
     },
     "metadata": {},
     "output_type": "display_data"
    },
    {
     "data": {
      "text/html": [
       "<p><b>Trailer:</b> <a href=\"https://www.youtube.com/watch?v=TnO5S9pQzzc\" target=\"_blank\">Watch Trailer</a></p>"
      ],
      "text/plain": [
       "<IPython.core.display.HTML object>"
      ]
     },
     "metadata": {},
     "output_type": "display_data"
    },
    {
     "data": {
      "text/html": [
       "<hr>"
      ],
      "text/plain": [
       "<IPython.core.display.HTML object>"
      ]
     },
     "metadata": {},
     "output_type": "display_data"
    },
    {
     "data": {
      "text/html": [
       "\n",
       "        <h1 style=\"font-family:Arial;\">JoJo no Kimyou na Bouken Part 6: Stone Ocean Part 3</h1>\n",
       "        <h3 style=\"font-family:Arial;\">Because you watched: JoJo no Kimyou na Bouken Part 6: Stone Ocean Part 2</h3>\n",
       "        <img src=\"https://cdn.myanimelist.net/images/anime/1233/128920.jpg\" alt=\"JoJo no Kimyou na Bouken Part 6: Stone Ocean Part 3\" style=\"width:225px;height:auto;float:left;margin-right:15px;\">\n",
       "        <p><b>Synopsis:</b> After finally escaping the confines of Green Dolphin Street Jail, Jolyne Kuujou—alongside her companions Ermes Costello and Emporio Alniño—pursues the villainous priest Enrico Pucci across the state of Florida. Jolyne's allies, Weather Report and Narciso Anasui, struggle to catch up with her in order to help bring an end to Pucci's plot. As both parties pursue the priest, they must battle against Pucci's band of enemy Stand users.\n",
       "\n",
       "While Jolyne's comrades fight for their lives, Pucci races to the Kennedy Space Center. There he hopes to enact his ultimate goal, one he believes God has entrusted to him. He aims to fulfill the will of the Joestars' blood enemy Dio Brando and—by robbing humanity of free will and making them slaves to fate—to create a world where all humans are blissfully happy.\n",
       "\n",
       "Unable to rely on the aid of her comatose father Joutarou, Jolyne must weaponize all she has learned in prison to confront Pucci in a climactic battle while the world itself hangs in the balance.</p>\n",
       "        <p><b>Score:</b> 8.54</p>\n",
       "        <p><b>Type:</b> ONA</p>\n",
       "        <p><b>Episodes:</b> 14.0</p>\n",
       "        <p><b>Genres:</b> Action, Adventure, Supernatural</p>\n",
       "        \n",
       "        <p><b>Demographic:</b> Shounen</p>\n",
       "        <p><b>Season:</b> Dec 1 2022</p>\n",
       "        <p><b>MAL Page:</b> <a href=\"https://myanimelist.net/anime/53273/JoJo_no_Kimyou_na_Bouken_Part_6__Stone_Ocean_Part_3\" target=\"_blank\">Link to MyAnimeList</a></p>\n",
       "        "
      ],
      "text/plain": [
       "<IPython.core.display.HTML object>"
      ]
     },
     "metadata": {},
     "output_type": "display_data"
    },
    {
     "data": {
      "text/html": [
       "<p><b>Trailer:</b> <a href=\"https://www.youtube.com/watch?v=KZ3RCnoZlLw\" target=\"_blank\">Watch Trailer</a></p>"
      ],
      "text/plain": [
       "<IPython.core.display.HTML object>"
      ]
     },
     "metadata": {},
     "output_type": "display_data"
    },
    {
     "data": {
      "text/html": [
       "<hr>"
      ],
      "text/plain": [
       "<IPython.core.display.HTML object>"
      ]
     },
     "metadata": {},
     "output_type": "display_data"
    },
    {
     "data": {
      "text/html": [
       "\n",
       "        <h1 style=\"font-family:Arial;\">Ao no Exorcist: Kyoto Fujouou-hen</h1>\n",
       "        <h3 style=\"font-family:Arial;\">Because you watched: Jujutsu Kaisen 2nd Season</h3>\n",
       "        <img src=\"https://cdn.myanimelist.net/images/anime/5/85201.jpg\" alt=\"Ao no Exorcist: Kyoto Fujouou-hen\" style=\"width:225px;height:auto;float:left;margin-right:15px;\">\n",
       "        <p><b>Synopsis:</b> The ExWire of True Cross Academy are beset with shock and fear in the aftermath of discovering that one of their own classmates, Rin Okumura, is the son of Satan. But for the moment, they have more pressing concerns than that of Rin's parentage: the left eye of the Impure King, a powerful demon, has been stolen from the academy's Deep Keep. After an attempt is made to steal the right eye in Kyoto as well, Rin and the other ExWires are sent to investigate the mystery behind the Impure King and the ultimate goal of the thief.\n",
       "\n",
       "While this mission has them cooperating for the time being, Rin has never felt more distant from his fellow exorcists. In his attempt to reconcile with them, he undergoes specialized training to control his dark power. However, when the right eye is stolen not long after their arrival, the unthinkable threat of a traitor amongst them leaves them in need of all the power they can get.</p>\n",
       "        <p><b>Score:</b> 7.34</p>\n",
       "        <p><b>Type:</b> TV</p>\n",
       "        <p><b>Episodes:</b> 12.0</p>\n",
       "        <p><b>Genres:</b> Action, Supernatural</p>\n",
       "        <p><b>Themes:</b> Mythology, School</p>\n",
       "        <p><b>Demographic:</b> Shounen</p>\n",
       "        <p><b>Season:</b> Winter 2017</p>\n",
       "        <p><b>MAL Page:</b> <a href=\"https://myanimelist.net/anime/33506/Ao_no_Exorcist__Kyoto_Fujouou-hen\" target=\"_blank\">Link to MyAnimeList</a></p>\n",
       "        "
      ],
      "text/plain": [
       "<IPython.core.display.HTML object>"
      ]
     },
     "metadata": {},
     "output_type": "display_data"
    },
    {
     "data": {
      "text/html": [
       "<p><b>Trailer:</b> <a href=\"https://www.youtube.com/watch?v=IV6BY5w9b9o\" target=\"_blank\">Watch Trailer</a></p>"
      ],
      "text/plain": [
       "<IPython.core.display.HTML object>"
      ]
     },
     "metadata": {},
     "output_type": "display_data"
    },
    {
     "data": {
      "text/html": [
       "<hr>"
      ],
      "text/plain": [
       "<IPython.core.display.HTML object>"
      ]
     },
     "metadata": {},
     "output_type": "display_data"
    },
    {
     "data": {
      "text/html": [
       "\n",
       "        <h1 style=\"font-family:Arial;\">Noblesse</h1>\n",
       "        <h3 style=\"font-family:Arial;\">Because you watched: Jujutsu Kaisen 2nd Season</h3>\n",
       "        <img src=\"https://cdn.myanimelist.net/images/anime/1903/111646.jpg\" alt=\"Noblesse\" style=\"width:225px;height:auto;float:left;margin-right:15px;\">\n",
       "        <p><b>Synopsis:</b> The \"Noblesse\" Cadis Etrama di Raizel, also known as \"Rai,\" is enrolled in Ye Ran High School by his servant Frankenstein to stay hidden from the sights of the Union, a mysterious organization out for Rai's blood. Rai commences his life as a student, making himself familiar with his classmates and the daily activities of humans. However, his new life is far from peaceful, and Rai is soon forced to save his new friends from the hands of the Union that had abducted them.\n",
       "    \n",
       "Meanwhile, M-21—a Union agent gone rogue during Rai's rescue operation—joins the Ye Ran High School security staff after a proposition by the school's director, who happens to be none other than Frankenstein himself. On the surface, M-21 is a prim and proper employee, but in truth he is shackled by his former ties to the Union and the inevitable consequences of betraying the organization.\n",
       "    \n",
       "To further complicate matters, Nobles Regis K. Landegre and Seira J. Loyard enroll in the same school to investigate the Noblesse. While the Union conducts a manhunt for M-21 to extract clues regarding their missing agents, Rai is forced to keep his identity hidden while protecting all that he holds dear.</p>\n",
       "        <p><b>Score:</b> 6.89</p>\n",
       "        <p><b>Type:</b> TV</p>\n",
       "        <p><b>Episodes:</b> 13.0</p>\n",
       "        <p><b>Genres:</b> Action, Supernatural</p>\n",
       "        <p><b>Themes:</b> School, Vampire</p>\n",
       "        \n",
       "        <p><b>Season:</b> Fall 2020</p>\n",
       "        <p><b>MAL Page:</b> <a href=\"https://myanimelist.net/anime/41345/Noblesse\" target=\"_blank\">Link to MyAnimeList</a></p>\n",
       "        "
      ],
      "text/plain": [
       "<IPython.core.display.HTML object>"
      ]
     },
     "metadata": {},
     "output_type": "display_data"
    },
    {
     "data": {
      "text/html": [
       "<p><b>Trailer:</b> <a href=\"https://www.youtube.com/watch?v=m4GSDf8vlNs\" target=\"_blank\">Watch Trailer</a></p>"
      ],
      "text/plain": [
       "<IPython.core.display.HTML object>"
      ]
     },
     "metadata": {},
     "output_type": "display_data"
    },
    {
     "data": {
      "text/html": [
       "<hr>"
      ],
      "text/plain": [
       "<IPython.core.display.HTML object>"
      ]
     },
     "metadata": {},
     "output_type": "display_data"
    },
    {
     "data": {
      "text/html": [
       "\n",
       "        <h1 style=\"font-family:Arial;\">Servamp</h1>\n",
       "        <h3 style=\"font-family:Arial;\">Because you watched: Jujutsu Kaisen 2nd Season</h3>\n",
       "        <img src=\"https://cdn.myanimelist.net/images/anime/8/80953.jpg\" alt=\"Servamp\" style=\"width:225px;height:auto;float:left;margin-right:15px;\">\n",
       "        <p><b>Synopsis:</b> Mahiru Shirota firmly believes that simple is best and troublesome things should be avoided at all costs. It is troublesome to do nothing and regret it later—and this ideology has led the 15-year-old to pick up a stray cat on his way home from school. As he affectionately names the feline Kuro, little does he know that this chance meeting will spark an extraordinary change in his everyday life.\n",
       "\n",
       "One day, Mahiru returns home to find something quite strange: a mysterious young man he has never seen before. His subsequent panic results in the uninvited guest being exposed to sunlight and—much to Mahiru's shock—transforming into Kuro! Upon revealing himself as a mere lazy shut-in vampire, Kuro promises to leave once night falls. However, one disaster after another leads to Mahiru accidentally forming a contract with his new freeloader, dragging him into a life-threatening battle of supernatural servants and bloodthirsty beings that is anything but simple.</p>\n",
       "        <p><b>Score:</b> 6.87</p>\n",
       "        <p><b>Type:</b> TV</p>\n",
       "        <p><b>Episodes:</b> 12.0</p>\n",
       "        <p><b>Genres:</b> Action, Supernatural</p>\n",
       "        <p><b>Themes:</b> Vampire</p>\n",
       "        <p><b>Demographic:</b> Josei</p>\n",
       "        <p><b>Season:</b> Summer 2016</p>\n",
       "        <p><b>MAL Page:</b> <a href=\"https://myanimelist.net/anime/31229/Servamp\" target=\"_blank\">Link to MyAnimeList</a></p>\n",
       "        "
      ],
      "text/plain": [
       "<IPython.core.display.HTML object>"
      ]
     },
     "metadata": {},
     "output_type": "display_data"
    },
    {
     "data": {
      "text/html": [
       "<p><b>Trailer:</b> <a href=\"https://www.youtube.com/watch?v=R_zJEoQBi_8\" target=\"_blank\">Watch Trailer</a></p>"
      ],
      "text/plain": [
       "<IPython.core.display.HTML object>"
      ]
     },
     "metadata": {},
     "output_type": "display_data"
    },
    {
     "data": {
      "text/html": [
       "<hr>"
      ],
      "text/plain": [
       "<IPython.core.display.HTML object>"
      ]
     },
     "metadata": {},
     "output_type": "display_data"
    },
    {
     "data": {
      "text/html": [
       "\n",
       "        <h1 style=\"font-family:Arial;\">Lucky☆Star</h1>\n",
       "        <h3 style=\"font-family:Arial;\">Because you watched: K-On!</h3>\n",
       "        <img src=\"https://cdn.myanimelist.net/images/anime/1561/115660.jpg\" alt=\"Lucky☆Star\" style=\"width:225px;height:auto;float:left;margin-right:15px;\">\n",
       "        <p><b>Synopsis:</b> Lucky☆Star follows the daily lives of four cute high school girls—Konata Izumi, the lazy otaku; the Hiiragi twins, Tsukasa and Kagami (sugar and spice, respectively); and the smart and well-mannered Miyuki Takara.\n",
       "\n",
       "As they go about their lives at school and beyond, they develop their eccentric and lively friendship and making humorous observations about the world around them. Be it Japanese tradition, the intricacies of otaku culture, academics, or the correct way of preparing and eating various foods—no subject is safe from their musings.</p>\n",
       "        <p><b>Score:</b> 7.75</p>\n",
       "        <p><b>Type:</b> TV</p>\n",
       "        <p><b>Episodes:</b> 24.0</p>\n",
       "        <p><b>Genres:</b> Comedy</p>\n",
       "        <p><b>Themes:</b> CGDCT, Gag Humor, Otaku Culture, School</p>\n",
       "        \n",
       "        <p><b>Season:</b> Spring 2007</p>\n",
       "        <p><b>MAL Page:</b> <a href=\"https://myanimelist.net/anime/1887/Lucky☆Star\" target=\"_blank\">Link to MyAnimeList</a></p>\n",
       "        "
      ],
      "text/plain": [
       "<IPython.core.display.HTML object>"
      ]
     },
     "metadata": {},
     "output_type": "display_data"
    },
    {
     "data": {
      "text/html": [
       "<p><b>Trailer:</b> <a href=\"https://www.youtube.com/watch?v=b8bSIgE8epA\" target=\"_blank\">Watch Trailer</a></p>"
      ],
      "text/plain": [
       "<IPython.core.display.HTML object>"
      ]
     },
     "metadata": {},
     "output_type": "display_data"
    },
    {
     "data": {
      "text/html": [
       "<hr>"
      ],
      "text/plain": [
       "<IPython.core.display.HTML object>"
      ]
     },
     "metadata": {},
     "output_type": "display_data"
    },
    {
     "data": {
      "text/html": [
       "\n",
       "        <h1 style=\"font-family:Arial;\">Ore no Imouto ga Konnani Kawaii Wake ga Nai</h1>\n",
       "        <h3 style=\"font-family:Arial;\">Because you watched: K-On!</h3>\n",
       "        <img src=\"https://cdn.myanimelist.net/images/anime/1508/129576.jpg\" alt=\"Ore no Imouto ga Konnani Kawaii Wake ga Nai\" style=\"width:225px;height:auto;float:left;margin-right:15px;\">\n",
       "        <p><b>Synopsis:</b> Kirino Kousaka embodies the ideal student with equally entrancing looks. Her grades are near perfect, and to cover her personal expenses, she works as a professional model alongside her best friend Ayase Aragaki, who abhors liars and all things otaku. But what Ayase doesn't know is that Kirino harbors a deep, entrenched secret that will soon be brought to light.\n",
       "\n",
       "At home one day, Kyousuke, Kirino's perfectly average brother, stumbles upon an erotic game that belongs to none other than his seemingly flawless little sister. With her reputation at stake, Kirino places a gag order on her sibling while simultaneously introducing him to the world of eroge and anime. Through Kirino, Kyousuke encounters the gothic lolita Ruri Gokou and the bespectacled otaku Saori Makishima, thus jump-starting an entirely new lifestyle. But as he becomes more and more involved in his little sister's secret life, it becomes that much harder to keep under wraps.</p>\n",
       "        <p><b>Score:</b> 6.94</p>\n",
       "        <p><b>Type:</b> TV</p>\n",
       "        <p><b>Episodes:</b> 12.0</p>\n",
       "        <p><b>Genres:</b> Comedy</p>\n",
       "        <p><b>Themes:</b> Otaku Culture</p>\n",
       "        \n",
       "        <p><b>Season:</b> Fall 2010</p>\n",
       "        <p><b>MAL Page:</b> <a href=\"https://myanimelist.net/anime/8769/Ore_no_Imouto_ga_Konnani_Kawaii_Wake_ga_Nai\" target=\"_blank\">Link to MyAnimeList</a></p>\n",
       "        "
      ],
      "text/plain": [
       "<IPython.core.display.HTML object>"
      ]
     },
     "metadata": {},
     "output_type": "display_data"
    },
    {
     "data": {
      "text/html": [
       "<p><b>Trailer:</b> <a href=\"https://www.youtube.com/watch?v=f_2F7u2-6yc\" target=\"_blank\">Watch Trailer</a></p>"
      ],
      "text/plain": [
       "<IPython.core.display.HTML object>"
      ]
     },
     "metadata": {},
     "output_type": "display_data"
    },
    {
     "data": {
      "text/html": [
       "<hr>"
      ],
      "text/plain": [
       "<IPython.core.display.HTML object>"
      ]
     },
     "metadata": {},
     "output_type": "display_data"
    },
    {
     "data": {
      "text/html": [
       "\n",
       "        <h1 style=\"font-family:Arial;\">Fumiko no Kokuhaku</h1>\n",
       "        <h3 style=\"font-family:Arial;\">Because you watched: K-On! Movie</h3>\n",
       "        <img src=\"https://cdn.myanimelist.net/images/anime/9/20806.jpg\" alt=\"Fumiko no Kokuhaku\" style=\"width:225px;height:auto;float:left;margin-right:15px;\">\n",
       "        <p><b>Synopsis:</b> Everyone handles rejection in their own way. But when Takashi turns down Fumiko's confession, the young schoolgirl unleashes her frustrations on a fanatical sprint through the neighborhood. However, a single misstep sends her soaring, and things go downhill from there...</p>\n",
       "        <p><b>Score:</b> 6.61</p>\n",
       "        <p><b>Type:</b> ONA</p>\n",
       "        <p><b>Episodes:</b> 1.0</p>\n",
       "        <p><b>Genres:</b> Award Winning, Comedy</p>\n",
       "        \n",
       "        \n",
       "        <p><b>Season:</b> Nov 8 2009</p>\n",
       "        <p><b>MAL Page:</b> <a href=\"https://myanimelist.net/anime/8187/Fumiko_no_Kokuhaku\" target=\"_blank\">Link to MyAnimeList</a></p>\n",
       "        "
      ],
      "text/plain": [
       "<IPython.core.display.HTML object>"
      ]
     },
     "metadata": {},
     "output_type": "display_data"
    },
    {
     "data": {
      "text/html": [
       "<p><b>Trailer:</b> <a href=\"nan\" target=\"_blank\">Watch Trailer</a></p>"
      ],
      "text/plain": [
       "<IPython.core.display.HTML object>"
      ]
     },
     "metadata": {},
     "output_type": "display_data"
    },
    {
     "data": {
      "text/html": [
       "<hr>"
      ],
      "text/plain": [
       "<IPython.core.display.HTML object>"
      ]
     },
     "metadata": {},
     "output_type": "display_data"
    },
    {
     "data": {
      "text/html": [
       "\n",
       "        <h1 style=\"font-family:Arial;\">BanG Dream! Movie: Poppin' Dream!</h1>\n",
       "        <h3 style=\"font-family:Arial;\">Because you watched: K-On! Movie</h3>\n",
       "        <img src=\"https://cdn.myanimelist.net/images/anime/1856/119931.jpg\" alt=\"BanG Dream! Movie: Poppin' Dream!\" style=\"width:225px;height:auto;float:left;margin-right:15px;\">\n",
       "        <p><b>Synopsis:</b> \"Bands... are always making me dream.\"\n",
       "\n",
       "Poppin'Party, Roselia, and RAISE A SUILEN's successful concert at the Budokan has passed.\n",
       "Kasumi and the others, who have left a lingering sound on the stage of their dreams, are approached by a mysterious woman.\n",
       "Their next stage is overseas?!\n",
       "\n",
       "Poppin'Party's music isn't stopping yet!\n",
       "\n",
       "(Source: BanG Dream! Wiki)</p>\n",
       "        <p><b>Score:</b> 7.91</p>\n",
       "        <p><b>Type:</b> Movie</p>\n",
       "        <p><b>Episodes:</b> 1.0</p>\n",
       "        <p><b>Genres:</b> </p>\n",
       "        <p><b>Themes:</b> CGDCT, Music</p>\n",
       "        \n",
       "        <p><b>Season:</b> Jan 1 2022</p>\n",
       "        <p><b>MAL Page:</b> <a href=\"https://myanimelist.net/anime/41782/BanG_Dream_Movie__Poppin_Dream\" target=\"_blank\">Link to MyAnimeList</a></p>\n",
       "        "
      ],
      "text/plain": [
       "<IPython.core.display.HTML object>"
      ]
     },
     "metadata": {},
     "output_type": "display_data"
    },
    {
     "data": {
      "text/html": [
       "<p><b>Trailer:</b> <a href=\"https://www.youtube.com/watch?v=YCNlJypIoks\" target=\"_blank\">Watch Trailer</a></p>"
      ],
      "text/plain": [
       "<IPython.core.display.HTML object>"
      ]
     },
     "metadata": {},
     "output_type": "display_data"
    },
    {
     "data": {
      "text/html": [
       "<hr>"
      ],
      "text/plain": [
       "<IPython.core.display.HTML object>"
      ]
     },
     "metadata": {},
     "output_type": "display_data"
    },
    {
     "data": {
      "text/html": [
       "\n",
       "        <h1 style=\"font-family:Arial;\">Escha Chron</h1>\n",
       "        <h3 style=\"font-family:Arial;\">Because you watched: K-On! Movie</h3>\n",
       "        <img src=\"https://cdn.myanimelist.net/images/anime/11/82344.jpg\" alt=\"Escha Chron\" style=\"width:225px;height:auto;float:left;margin-right:15px;\">\n",
       "        <p><b>Synopsis:</b> The story follows the two titular girls Escha and Chron, whose contrasting personalities are like the sun and moon. The two girls are from Terminal, a future post-apocalyptic world that's empty and monochrome. The two girls cross worlds and arrive in the present day, which they call Transit. As Escha and Chron experience the light (scenery) and sound (music) of the real world, the future world of Terminal gradually changes into a more vivid world.\n",
       "\n",
       "(Source: ANN)</p>\n",
       "        <p><b>Score:</b> 6.39</p>\n",
       "        <p><b>Type:</b> ONA</p>\n",
       "        <p><b>Episodes:</b> 2.0</p>\n",
       "        <p><b>Genres:</b> Sci-Fi, Slice of Life</p>\n",
       "        <p><b>Themes:</b> CGDCT, Music</p>\n",
       "        \n",
       "        <p><b>Season:</b> Nov 3 2017</p>\n",
       "        <p><b>MAL Page:</b> <a href=\"https://myanimelist.net/anime/34208/Escha_Chron\" target=\"_blank\">Link to MyAnimeList</a></p>\n",
       "        "
      ],
      "text/plain": [
       "<IPython.core.display.HTML object>"
      ]
     },
     "metadata": {},
     "output_type": "display_data"
    },
    {
     "data": {
      "text/html": [
       "<p><b>Trailer:</b> <a href=\"https://www.youtube.com/watch?v=K23BXcbFwuA\" target=\"_blank\">Watch Trailer</a></p>"
      ],
      "text/plain": [
       "<IPython.core.display.HTML object>"
      ]
     },
     "metadata": {},
     "output_type": "display_data"
    },
    {
     "data": {
      "text/html": [
       "<hr>"
      ],
      "text/plain": [
       "<IPython.core.display.HTML object>"
      ]
     },
     "metadata": {},
     "output_type": "display_data"
    },
    {
     "data": {
      "text/html": [
       "\n",
       "        <h1 style=\"font-family:Arial;\">Tenrankai no E</h1>\n",
       "        <h3 style=\"font-family:Arial;\">Because you watched: K-On! Movie</h3>\n",
       "        <img src=\"https://cdn.myanimelist.net/images/anime/1781/107246.jpg\" alt=\"Tenrankai no E\" style=\"width:225px;height:auto;float:left;margin-right:15px;\">\n",
       "        <p><b>Synopsis:</b> A series of short animated segments, without dialog, explore major characters of modern society, such as the plastic surgeon, the fashion-obsessed woman, the rumor-monger, and others, leading to a concluding comment on the progress of civilization. \n",
       "\n",
       "(Source: ANN)</p>\n",
       "        <p><b>Score:</b> 6.11</p>\n",
       "        <p><b>Type:</b> Movie</p>\n",
       "        <p><b>Episodes:</b> 1.0</p>\n",
       "        <p><b>Genres:</b> Award Winning, Comedy</p>\n",
       "        \n",
       "        \n",
       "        <p><b>Season:</b> Nov 11 1966</p>\n",
       "        <p><b>MAL Page:</b> <a href=\"https://myanimelist.net/anime/3472/Tenrankai_no_E\" target=\"_blank\">Link to MyAnimeList</a></p>\n",
       "        "
      ],
      "text/plain": [
       "<IPython.core.display.HTML object>"
      ]
     },
     "metadata": {},
     "output_type": "display_data"
    },
    {
     "data": {
      "text/html": [
       "<p><b>Trailer:</b> <a href=\"nan\" target=\"_blank\">Watch Trailer</a></p>"
      ],
      "text/plain": [
       "<IPython.core.display.HTML object>"
      ]
     },
     "metadata": {},
     "output_type": "display_data"
    },
    {
     "data": {
      "text/html": [
       "<hr>"
      ],
      "text/plain": [
       "<IPython.core.display.HTML object>"
      ]
     },
     "metadata": {},
     "output_type": "display_data"
    },
    {
     "data": {
      "text/html": [
       "\n",
       "        <h1 style=\"font-family:Arial;\">BanG Dream!</h1>\n",
       "        <h3 style=\"font-family:Arial;\">Because you watched: K-On!!</h3>\n",
       "        <img src=\"https://cdn.myanimelist.net/images/anime/4/82414.jpg\" alt=\"BanG Dream!\" style=\"width:225px;height:auto;float:left;margin-right:15px;\">\n",
       "        <p><b>Synopsis:</b> When Kasumi Toyama was out camping as a child, she heard the rhythm of the \"Star Beat\" while admiring the starry night sky. This sparkling, heart-pounding sound left a lasting impression on her, and since then, she has constantly been seeking to rediscover that exciting thrill.\n",
       "\n",
       "Now, as a newly enrolled student of Hanasakigawa Girls' High School, Kasumi is more determined than ever to find that long-lost sensation again. She attempts a myriad of school club activities, and even considers taking up a part-time job, but none of these feel suitable for her. That is, until she chances upon a star-shaped guitar in the storage room of an old pawn shop. It leads her to a live house, where she is captivated by watching a live performance for the first time. Spurred from the adrenaline, she instantly decides to form a band without even really knowing why. However, such a venture requires her to confront various hurdles with new friends she makes along the way, all in her pursuit to encounter that twinkling, heart-throbbing ardor once more.</p>\n",
       "        <p><b>Score:</b> 6.99</p>\n",
       "        <p><b>Type:</b> TV</p>\n",
       "        <p><b>Episodes:</b> 13.0</p>\n",
       "        <p><b>Genres:</b> </p>\n",
       "        <p><b>Themes:</b> CGDCT, Music, School</p>\n",
       "        \n",
       "        <p><b>Season:</b> Winter 2017</p>\n",
       "        <p><b>MAL Page:</b> <a href=\"https://myanimelist.net/anime/33573/BanG_Dream\" target=\"_blank\">Link to MyAnimeList</a></p>\n",
       "        "
      ],
      "text/plain": [
       "<IPython.core.display.HTML object>"
      ]
     },
     "metadata": {},
     "output_type": "display_data"
    },
    {
     "data": {
      "text/html": [
       "<p><b>Trailer:</b> <a href=\"https://www.youtube.com/watch?v=yNMj1ZwB9QY\" target=\"_blank\">Watch Trailer</a></p>"
      ],
      "text/plain": [
       "<IPython.core.display.HTML object>"
      ]
     },
     "metadata": {},
     "output_type": "display_data"
    },
    {
     "data": {
      "text/html": [
       "<hr>"
      ],
      "text/plain": [
       "<IPython.core.display.HTML object>"
      ]
     },
     "metadata": {},
     "output_type": "display_data"
    },
    {
     "data": {
      "text/html": [
       "\n",
       "        <h1 style=\"font-family:Arial;\">Full Metal Panic! The Second Raid: Wari to Hima na Sentaichou no Ichinichi</h1>\n",
       "        <h3 style=\"font-family:Arial;\">Because you watched: K-On!: Live House!</h3>\n",
       "        <img src=\"https://cdn.myanimelist.net/images/anime/3/23458.jpg\" alt=\"Full Metal Panic! The Second Raid: Wari to Hima na Sentaichou no Ichinichi\" style=\"width:225px;height:auto;float:left;margin-right:15px;\">\n",
       "        <p><b>Synopsis:</b> On her day off, Tessa wakes up in her commander chair. After regaining her composure, she notices that her favorite stuffed animal is missing and thus tries to remember what actually transpired the night before. To do so, she will spend time with all the main characters of the Danaan crew, and eventually recalls the events of the previous night.</p>\n",
       "        <p><b>Score:</b> 7.65</p>\n",
       "        <p><b>Type:</b> Special</p>\n",
       "        <p><b>Episodes:</b> 1.0</p>\n",
       "        <p><b>Genres:</b> Comedy</p>\n",
       "        \n",
       "        \n",
       "        <p><b>Season:</b> May 26 2006</p>\n",
       "        <p><b>MAL Page:</b> <a href=\"https://myanimelist.net/anime/1015/Full_Metal_Panic_The_Second_Raid__Wari_to_Hima_na_Sentaichou_no_Ichinichi\" target=\"_blank\">Link to MyAnimeList</a></p>\n",
       "        "
      ],
      "text/plain": [
       "<IPython.core.display.HTML object>"
      ]
     },
     "metadata": {},
     "output_type": "display_data"
    },
    {
     "data": {
      "text/html": [
       "<p><b>Trailer:</b> <a href=\"nan\" target=\"_blank\">Watch Trailer</a></p>"
      ],
      "text/plain": [
       "<IPython.core.display.HTML object>"
      ]
     },
     "metadata": {},
     "output_type": "display_data"
    },
    {
     "data": {
      "text/html": [
       "<hr>"
      ],
      "text/plain": [
       "<IPython.core.display.HTML object>"
      ]
     },
     "metadata": {},
     "output_type": "display_data"
    },
    {
     "data": {
      "text/html": [
       "\n",
       "        <h1 style=\"font-family:Arial;\">Chuunibyou demo Koi ga Shitai! Ren Specials</h1>\n",
       "        <h3 style=\"font-family:Arial;\">Because you watched: K-On!: Live House!</h3>\n",
       "        <img src=\"https://cdn.myanimelist.net/images/anime/13/60351.jpg\" alt=\"Chuunibyou demo Koi ga Shitai! Ren Specials\" style=\"width:225px;height:auto;float:left;margin-right:15px;\">\n",
       "        <p><b>Synopsis:</b> The charming cast consisting of Rikka Takanashi and her friends continues spending time together through seven short episodes of fun games and idle chatter. Discover what is hidden inside Sanae Dekomori's hair buns, as well as other useless but fun facts about the beloved characters in Chuunibyou demo Koi ga Shitai! Ren Specials.</p>\n",
       "        <p><b>Score:</b> 7.14</p>\n",
       "        <p><b>Type:</b> Special</p>\n",
       "        <p><b>Episodes:</b> 7.0</p>\n",
       "        <p><b>Genres:</b> Comedy</p>\n",
       "        \n",
       "        \n",
       "        <p><b>Season:</b> Mar 19 2014</p>\n",
       "        <p><b>MAL Page:</b> <a href=\"https://myanimelist.net/anime/23237/Chuunibyou_demo_Koi_ga_Shitai_Ren_Specials\" target=\"_blank\">Link to MyAnimeList</a></p>\n",
       "        "
      ],
      "text/plain": [
       "<IPython.core.display.HTML object>"
      ]
     },
     "metadata": {},
     "output_type": "display_data"
    },
    {
     "data": {
      "text/html": [
       "<p><b>Trailer:</b> <a href=\"nan\" target=\"_blank\">Watch Trailer</a></p>"
      ],
      "text/plain": [
       "<IPython.core.display.HTML object>"
      ]
     },
     "metadata": {},
     "output_type": "display_data"
    },
    {
     "data": {
      "text/html": [
       "<hr>"
      ],
      "text/plain": [
       "<IPython.core.display.HTML object>"
      ]
     },
     "metadata": {},
     "output_type": "display_data"
    },
    {
     "data": {
      "text/html": [
       "\n",
       "        <h1 style=\"font-family:Arial;\">Holo no Graffiti</h1>\n",
       "        <h3 style=\"font-family:Arial;\">Because you watched: K-On!: Live House!</h3>\n",
       "        <img src=\"https://cdn.myanimelist.net/images/anime/1259/110227.jpg\" alt=\"Holo no Graffiti\" style=\"width:225px;height:auto;float:left;margin-right:15px;\">\n",
       "        <p><b>Synopsis:</b> From unraveling the secrets of opening and closing doors to defusing surprise packages more commonly known as bombs, there is never a dull day at the Hololive Production office! Holo no Graffiti follows an eccentric cast of Virtual YouTubers, also known as \"VTubers,\" going about their absurd yet hilarious daily lives, detailing all their cute moments and mishaps.</p>\n",
       "        <p><b>Score:</b> 8.18</p>\n",
       "        <p><b>Type:</b> ONA</p>\n",
       "        <p><b>Episodes:</b> nan</p>\n",
       "        <p><b>Genres:</b> Comedy</p>\n",
       "        \n",
       "        \n",
       "        <p><b>Season:</b> May 5 ?</p>\n",
       "        <p><b>MAL Page:</b> <a href=\"https://myanimelist.net/anime/44042/Holo_no_Graffiti\" target=\"_blank\">Link to MyAnimeList</a></p>\n",
       "        "
      ],
      "text/plain": [
       "<IPython.core.display.HTML object>"
      ]
     },
     "metadata": {},
     "output_type": "display_data"
    },
    {
     "data": {
      "text/html": [
       "<p><b>Trailer:</b> <a href=\"nan\" target=\"_blank\">Watch Trailer</a></p>"
      ],
      "text/plain": [
       "<IPython.core.display.HTML object>"
      ]
     },
     "metadata": {},
     "output_type": "display_data"
    },
    {
     "data": {
      "text/html": [
       "<hr>"
      ],
      "text/plain": [
       "<IPython.core.display.HTML object>"
      ]
     },
     "metadata": {},
     "output_type": "display_data"
    },
    {
     "data": {
      "text/html": [
       "\n",
       "        <h1 style=\"font-family:Arial;\">Saiki Kusuo no Ψ-nan</h1>\n",
       "        <h3 style=\"font-family:Arial;\">Because you watched: Kaguya-sama wa Kokurasetai: Tensai-tachi no Renai Zunousen</h3>\n",
       "        <img src=\"https://cdn.myanimelist.net/images/anime/1973/142750.jpg\" alt=\"Saiki Kusuo no Ψ-nan\" style=\"width:225px;height:auto;float:left;margin-right:15px;\">\n",
       "        <p><b>Synopsis:</b> To the average person, psychic abilities might seem a blessing; for Kusuo Saiki, however, this could not be further from the truth. Gifted with a wide assortment of supernatural abilities ranging from telepathy to x-ray vision, he finds this so-called blessing to be nothing but a curse. As all the inconveniences his powers cause constantly pile up, all Kusuo aims for is an ordinary, hassle-free life—a life where ignorance is bliss.\n",
       "\n",
       "Unfortunately, the life of a psychic is far from quiet. Though Kusuo tries to stay out of the spotlight by keeping his powers a secret from his classmates, he ends up inadvertently attracting the attention of many odd characters, such as the empty-headed Riki Nendou and the delusional Shun Kaidou. Forced to deal with the craziness of the people around him, Kusuo comes to learn that the ordinary life he has been striving for is a lot more difficult to achieve than expected.</p>\n",
       "        <p><b>Score:</b> 8.41</p>\n",
       "        <p><b>Type:</b> TV</p>\n",
       "        <p><b>Episodes:</b> 120.0</p>\n",
       "        <p><b>Genres:</b> Comedy</p>\n",
       "        <p><b>Themes:</b> Gag Humor, School, Super Power</p>\n",
       "        <p><b>Demographic:</b> Shounen</p>\n",
       "        <p><b>Season:</b> Summer 2016</p>\n",
       "        <p><b>MAL Page:</b> <a href=\"https://myanimelist.net/anime/33255/Saiki_Kusuo_no_Ψ-nan\" target=\"_blank\">Link to MyAnimeList</a></p>\n",
       "        "
      ],
      "text/plain": [
       "<IPython.core.display.HTML object>"
      ]
     },
     "metadata": {},
     "output_type": "display_data"
    },
    {
     "data": {
      "text/html": [
       "<p><b>Trailer:</b> <a href=\"https://www.youtube.com/watch?v=IAbl6zAxTBQ\" target=\"_blank\">Watch Trailer</a></p>"
      ],
      "text/plain": [
       "<IPython.core.display.HTML object>"
      ]
     },
     "metadata": {},
     "output_type": "display_data"
    },
    {
     "data": {
      "text/html": [
       "<hr>"
      ],
      "text/plain": [
       "<IPython.core.display.HTML object>"
      ]
     },
     "metadata": {},
     "output_type": "display_data"
    },
    {
     "data": {
      "text/html": [
       "\n",
       "        <h1 style=\"font-family:Arial;\">Tonari no Kaibutsu-kun</h1>\n",
       "        <h3 style=\"font-family:Arial;\">Because you watched: Kaguya-sama wa Kokurasetai: Ultra Romantic</h3>\n",
       "        <img src=\"https://cdn.myanimelist.net/images/anime/4/39779.jpg\" alt=\"Tonari no Kaibutsu-kun\" style=\"width:225px;height:auto;float:left;margin-right:15px;\">\n",
       "        <p><b>Synopsis:</b> Shizuku Mizutani is apathetic toward her classmates, only caring about her grades. However, her cold view of life begins to change when she meets Haru Yoshida, a violent troublemaker who stopped attending class after getting into a fight early in the school year. He is not much different from her, though—he too understands little about human nature and does not have any friends. Much to Shizuku's surprise, he proclaims that she will be his friend and immediately confesses his feelings toward her upon meeting her.\n",
       " \n",
       "Because of her lack of friends and social interaction, Shizuku has a hard time understanding her relationship with Haru. But slowly, their friendship begins to progress, and she discovers that there is more to Haru than violence. She begins to  develop feelings for him, but is unsure what kind of emotions she is experiencing. Together, Shizuku and Haru explore the true nature of their relationship and emotions.</p>\n",
       "        <p><b>Score:</b> 7.46</p>\n",
       "        <p><b>Type:</b> TV</p>\n",
       "        <p><b>Episodes:</b> 13.0</p>\n",
       "        <p><b>Genres:</b> Comedy, Romance</p>\n",
       "        <p><b>Themes:</b> School</p>\n",
       "        <p><b>Demographic:</b> Shoujo</p>\n",
       "        <p><b>Season:</b> Fall 2012</p>\n",
       "        <p><b>MAL Page:</b> <a href=\"https://myanimelist.net/anime/14227/Tonari_no_Kaibutsu-kun\" target=\"_blank\">Link to MyAnimeList</a></p>\n",
       "        "
      ],
      "text/plain": [
       "<IPython.core.display.HTML object>"
      ]
     },
     "metadata": {},
     "output_type": "display_data"
    },
    {
     "data": {
      "text/html": [
       "<p><b>Trailer:</b> <a href=\"https://www.youtube.com/watch?v=SlD-8h96pDw\" target=\"_blank\">Watch Trailer</a></p>"
      ],
      "text/plain": [
       "<IPython.core.display.HTML object>"
      ]
     },
     "metadata": {},
     "output_type": "display_data"
    },
    {
     "data": {
      "text/html": [
       "<hr>"
      ],
      "text/plain": [
       "<IPython.core.display.HTML object>"
      ]
     },
     "metadata": {},
     "output_type": "display_data"
    },
    {
     "data": {
      "text/html": [
       "\n",
       "        <h1 style=\"font-family:Arial;\">Chuunibyou demo Koi ga Shitai! Ren</h1>\n",
       "        <h3 style=\"font-family:Arial;\">Because you watched: Kaguya-sama wa Kokurasetai: Ultra Romantic</h3>\n",
       "        <img src=\"https://cdn.myanimelist.net/images/anime/7/56643.jpg\" alt=\"Chuunibyou demo Koi ga Shitai! Ren\" style=\"width:225px;height:auto;float:left;margin-right:15px;\">\n",
       "        <p><b>Synopsis:</b> The awkward lovebirds, Yuuta Togashi and Rikka Takanashi are now living together as they enter a new school year, but their adorable relationship remains stagnant. Yuuta struggles to adapt to having a chuuni girlfriend while the gang—Sanae Dekomori, Shinka Nibutani and Kumin Tsuyuri—are still keeping up with their quirks despite having advanced a grade. Making matters worse, another chuuni girl from Yuuta's middle school, Satone Shichimiya, appears...\n",
       "\n",
       "With the various events revolving around Yuuta, will he be able to develop his relationship with Rikka?</p>\n",
       "        <p><b>Score:</b> 7.55</p>\n",
       "        <p><b>Type:</b> TV</p>\n",
       "        <p><b>Episodes:</b> 12.0</p>\n",
       "        <p><b>Genres:</b> Comedy, Romance</p>\n",
       "        <p><b>Themes:</b> School</p>\n",
       "        \n",
       "        <p><b>Season:</b> Winter 2014</p>\n",
       "        <p><b>MAL Page:</b> <a href=\"https://myanimelist.net/anime/18671/Chuunibyou_demo_Koi_ga_Shitai_Ren\" target=\"_blank\">Link to MyAnimeList</a></p>\n",
       "        "
      ],
      "text/plain": [
       "<IPython.core.display.HTML object>"
      ]
     },
     "metadata": {},
     "output_type": "display_data"
    },
    {
     "data": {
      "text/html": [
       "<p><b>Trailer:</b> <a href=\"https://www.youtube.com/watch?v=3ZZgn8xNdJs\" target=\"_blank\">Watch Trailer</a></p>"
      ],
      "text/plain": [
       "<IPython.core.display.HTML object>"
      ]
     },
     "metadata": {},
     "output_type": "display_data"
    },
    {
     "data": {
      "text/html": [
       "<hr>"
      ],
      "text/plain": [
       "<IPython.core.display.HTML object>"
      ]
     },
     "metadata": {},
     "output_type": "display_data"
    },
    {
     "data": {
      "text/html": [
       "\n",
       "        <h1 style=\"font-family:Arial;\">Kaichou wa Maid-sama!</h1>\n",
       "        <h3 style=\"font-family:Arial;\">Because you watched: Kaguya-sama wa Kokurasetai: Ultra Romantic</h3>\n",
       "        <img src=\"https://cdn.myanimelist.net/images/anime/6/25254.jpg\" alt=\"Kaichou wa Maid-sama!\" style=\"width:225px;height:auto;float:left;margin-right:15px;\">\n",
       "        <p><b>Synopsis:</b> Misaki Ayuzawa is a unique phenomenon within Seika High School. In a predominantly male institution, she became the first-ever female student council president through her honesty and diligence. Ever since Misaki got promoted to the position, she has been working tirelessly to ensure a better school life for all girls. Despite that, Misaki is very strict with the boys, which has earned her the title \"Demon President.\" \n",
       "\n",
       "One day, after hearing a girl cry in the hallway, Misaki encounters Takumi Usui—the most popular boy in the school—as he rejects a love confession. Enraged at what she is seeing, Misaki reprimands him for making the girl cry. However, Usui is indifferent and brushes it off as nothing.\n",
       "\n",
       "Unexpectedly, Misaki soon runs into Usui again, but this time when she is working at a maid cafe! Embarrassed that someone has found out about her secret occupation, Misaki promises herself not to let Usui destroy her reputation. However, the mysterious boy now begins to visit the same cafe regularly to observe and tease Misaki. When push comes to shove, will Usui still be able to keep the president's secret?</p>\n",
       "        <p><b>Score:</b> 8.0</p>\n",
       "        <p><b>Type:</b> TV</p>\n",
       "        <p><b>Episodes:</b> 26.0</p>\n",
       "        <p><b>Genres:</b> Comedy, Romance</p>\n",
       "        <p><b>Themes:</b> School</p>\n",
       "        <p><b>Demographic:</b> Shoujo</p>\n",
       "        <p><b>Season:</b> Spring 2010</p>\n",
       "        <p><b>MAL Page:</b> <a href=\"https://myanimelist.net/anime/7054/Kaichou_wa_Maid-sama\" target=\"_blank\">Link to MyAnimeList</a></p>\n",
       "        "
      ],
      "text/plain": [
       "<IPython.core.display.HTML object>"
      ]
     },
     "metadata": {},
     "output_type": "display_data"
    },
    {
     "data": {
      "text/html": [
       "<p><b>Trailer:</b> <a href=\"nan\" target=\"_blank\">Watch Trailer</a></p>"
      ],
      "text/plain": [
       "<IPython.core.display.HTML object>"
      ]
     },
     "metadata": {},
     "output_type": "display_data"
    },
    {
     "data": {
      "text/html": [
       "<hr>"
      ],
      "text/plain": [
       "<IPython.core.display.HTML object>"
      ]
     },
     "metadata": {},
     "output_type": "display_data"
    },
    {
     "data": {
      "text/html": [
       "\n",
       "        <h1 style=\"font-family:Arial;\">Chuunibyou demo Koi ga Shitai!</h1>\n",
       "        <h3 style=\"font-family:Arial;\">Because you watched: Kaguya-sama wa Kokurasetai: Ultra Romantic</h3>\n",
       "        <img src=\"https://cdn.myanimelist.net/images/anime/1905/142840.jpg\" alt=\"Chuunibyou demo Koi ga Shitai!\" style=\"width:225px;height:auto;float:left;margin-right:15px;\">\n",
       "        <p><b>Synopsis:</b> Everybody has had that stage in their life where they have thought themselves to be special, different from the masses of ordinary humans. They might go as far as seeing themselves capable of wielding mystical powers, or maybe even believe themselves to have descended from a fantasy realm. This \"disease\" is known as \"chuunibyou\" and is often the source of some of the most embarrassing moments of a person's life.\n",
       "\n",
       "For Yuuta Togashi, the scars that his chuunibyou has left behind are still fresh. Having posed as the \"Dark Flame Master\" during his middle school years, he looks back at those times with extreme embarrassment, so much so that he decides to attend a high school far away where nobody will recognize him. Putting his dark history behind him, he longs to live a normal high school life.\n",
       "\n",
       "Unfortunately, he hasn't escaped his past yet: enter Rikka Takanashi, Yuuta's new classmate and self-declared vessel of the \"Wicked Eye.\" As this eccentric young girl crashes into Yuuta's life, his dream of an ordinary, chuunibyou-free life quickly crumbles away. In this hilarious and heartwarming story of a boy who just wants to leave his embarrassing memories behind, the delusions of old are far from a thing of the past.</p>\n",
       "        <p><b>Score:</b> 7.7</p>\n",
       "        <p><b>Type:</b> TV</p>\n",
       "        <p><b>Episodes:</b> 12.0</p>\n",
       "        <p><b>Genres:</b> Comedy, Romance</p>\n",
       "        <p><b>Themes:</b> School</p>\n",
       "        \n",
       "        <p><b>Season:</b> Fall 2012</p>\n",
       "        <p><b>MAL Page:</b> <a href=\"https://myanimelist.net/anime/14741/Chuunibyou_demo_Koi_ga_Shitai\" target=\"_blank\">Link to MyAnimeList</a></p>\n",
       "        "
      ],
      "text/plain": [
       "<IPython.core.display.HTML object>"
      ]
     },
     "metadata": {},
     "output_type": "display_data"
    },
    {
     "data": {
      "text/html": [
       "<p><b>Trailer:</b> <a href=\"https://www.youtube.com/watch?v=USgrD2Dqsa0\" target=\"_blank\">Watch Trailer</a></p>"
      ],
      "text/plain": [
       "<IPython.core.display.HTML object>"
      ]
     },
     "metadata": {},
     "output_type": "display_data"
    },
    {
     "data": {
      "text/html": [
       "<hr>"
      ],
      "text/plain": [
       "<IPython.core.display.HTML object>"
      ]
     },
     "metadata": {},
     "output_type": "display_data"
    },
    {
     "data": {
      "text/html": [
       "\n",
       "        <h1 style=\"font-family:Arial;\">Great Teacher Onizuka</h1>\n",
       "        <h3 style=\"font-family:Arial;\">Because you watched: Kaguya-sama wa Kokurasetai? Tensai-tachi no Renai Zunousen</h3>\n",
       "        <img src=\"https://cdn.myanimelist.net/images/anime/13/11460.jpg\" alt=\"Great Teacher Onizuka\" style=\"width:225px;height:auto;float:left;margin-right:15px;\">\n",
       "        <p><b>Synopsis:</b> Twenty-two-year-old Eikichi Onizuka—ex-biker gang leader, conqueror of Shonan, and virgin—has a dream: to become the greatest high school teacher in all of Japan. This isn't because of a passion for teaching, but because he wants a loving teenage wife when he's old and gray. Still, for a perverted, greedy, and lazy delinquent, there is more to Onizuka than meets the eye. So when he lands a job as the homeroom teacher of the Class 3-4 at the prestigious Holy Forest Academy—despite suplexing the Vice Principal—all of his talents are put to the test, as this class is particularly infamous.\n",
       "\n",
       "Due to their utter contempt for all teachers, the class' students use psychological warfare to mentally break any new homeroom teacher they get, forcing them to quit and leave school. However, Onizuka isn't your average teacher, and he's ready for any challenge in his way.\n",
       "\n",
       "Bullying, suicide, and sexual harassment are just a few of the issues his students face daily. By tackling the roots of their problems, Onizuka supports them with his unpredictable and unconventional methods—even if it means jumping off a building to save a suicidal child. Thanks to his eccentric charm and fun-loving nature, Class 3-4 slowly learns just how enjoyable school can be when you're the pupils of the Great Teacher Onizuka.</p>\n",
       "        <p><b>Score:</b> 8.68</p>\n",
       "        <p><b>Type:</b> TV</p>\n",
       "        <p><b>Episodes:</b> 43.0</p>\n",
       "        <p><b>Genres:</b> Comedy</p>\n",
       "        <p><b>Themes:</b> Delinquents, School, Workplace</p>\n",
       "        <p><b>Demographic:</b> Shounen</p>\n",
       "        <p><b>Season:</b> Summer 1999</p>\n",
       "        <p><b>MAL Page:</b> <a href=\"https://myanimelist.net/anime/245/Great_Teacher_Onizuka\" target=\"_blank\">Link to MyAnimeList</a></p>\n",
       "        "
      ],
      "text/plain": [
       "<IPython.core.display.HTML object>"
      ]
     },
     "metadata": {},
     "output_type": "display_data"
    },
    {
     "data": {
      "text/html": [
       "<p><b>Trailer:</b> <a href=\"nan\" target=\"_blank\">Watch Trailer</a></p>"
      ],
      "text/plain": [
       "<IPython.core.display.HTML object>"
      ]
     },
     "metadata": {},
     "output_type": "display_data"
    },
    {
     "data": {
      "text/html": [
       "<hr>"
      ],
      "text/plain": [
       "<IPython.core.display.HTML object>"
      ]
     },
     "metadata": {},
     "output_type": "display_data"
    },
    {
     "data": {
      "text/html": [
       "\n",
       "        <h1 style=\"font-family:Arial;\">Kakegurui Twin</h1>\n",
       "        <h3 style=\"font-family:Arial;\">Because you watched: Kakegurui××</h3>\n",
       "        <img src=\"https://cdn.myanimelist.net/images/anime/1851/124275.jpg\" alt=\"Kakegurui Twin\" style=\"width:225px;height:auto;float:left;margin-right:15px;\">\n",
       "        <p><b>Synopsis:</b> Her name is Mary Saotome—she is brazen, insolent, and defiant, yet highly intelligent. Upon transferring to Hyakkaou Private Academy, where a student's worth is determined by their wits through gambling, she seizes a glorious win against a classmate and immediately captures the attention of the devious student council members.\n",
       "\n",
       "With the bottom of Hyakkaou's rigorous hierarchy determined by least gambling winnings, the future for Tsuzura Hanatemari looks grim. As Tsuzura's childhood friend, Mary resolves to rise through the ranks and secure enough money to free Tsuzura from the shackles of the unjust system. Mary's perseverance and refusal to lose drive her to surpass and humiliate even the strongest opponents, but certain student council members seem to have greater plans for her.</p>\n",
       "        <p><b>Score:</b> 7.19</p>\n",
       "        <p><b>Type:</b> ONA</p>\n",
       "        <p><b>Episodes:</b> 6.0</p>\n",
       "        <p><b>Genres:</b> Drama, Mystery, Suspense</p>\n",
       "        <p><b>Themes:</b> Psychological, School</p>\n",
       "        <p><b>Demographic:</b> Shounen</p>\n",
       "        <p><b>Season:</b> Aug 4 2022</p>\n",
       "        <p><b>MAL Page:</b> <a href=\"https://myanimelist.net/anime/50339/Kakegurui_Twin\" target=\"_blank\">Link to MyAnimeList</a></p>\n",
       "        "
      ],
      "text/plain": [
       "<IPython.core.display.HTML object>"
      ]
     },
     "metadata": {},
     "output_type": "display_data"
    },
    {
     "data": {
      "text/html": [
       "<p><b>Trailer:</b> <a href=\"https://www.youtube.com/watch?v=zYXWDfQGDEs\" target=\"_blank\">Watch Trailer</a></p>"
      ],
      "text/plain": [
       "<IPython.core.display.HTML object>"
      ]
     },
     "metadata": {},
     "output_type": "display_data"
    },
    {
     "data": {
      "text/html": [
       "<hr>"
      ],
      "text/plain": [
       "<IPython.core.display.HTML object>"
      ]
     },
     "metadata": {},
     "output_type": "display_data"
    },
    {
     "data": {
      "text/html": [
       "\n",
       "        <h1 style=\"font-family:Arial;\">Black Jack</h1>\n",
       "        <h3 style=\"font-family:Arial;\">Because you watched: Kakegurui××</h3>\n",
       "        <img src=\"https://cdn.myanimelist.net/images/anime/5/12978.jpg\" alt=\"Black Jack\" style=\"width:225px;height:auto;float:left;margin-right:15px;\">\n",
       "        <p><b>Synopsis:</b> Kuroo Hazama, also known as \"Black Jack,\" is a legend in the medical world. Famous for being one of the best, as well as not having a license, Hazama and his assistant Pinoko save countless lives that other doctors cannot... for a price; an exorbitant price, in fact, which causes many to view the genius as greedy and heartless. Despite these claims, however, none can deny his skill and the lengths that he will go to treat his patients. This dark medical drama tells the story of the ominous and mysterious world of underground medicine as Black Jack risks his life to cure some of the most bizarre diseases imaginable, even if it means breaking every law in the process.</p>\n",
       "        <p><b>Score:</b> 7.73</p>\n",
       "        <p><b>Type:</b> OVA</p>\n",
       "        <p><b>Episodes:</b> 12.0</p>\n",
       "        <p><b>Genres:</b> Drama, Mystery, Suspense</p>\n",
       "        <p><b>Themes:</b> Medical, Psychological</p>\n",
       "        <p><b>Demographic:</b> Shounen</p>\n",
       "        <p><b>Season:</b> Dec 21 2011</p>\n",
       "        <p><b>MAL Page:</b> <a href=\"https://myanimelist.net/anime/1520/Black_Jack\" target=\"_blank\">Link to MyAnimeList</a></p>\n",
       "        "
      ],
      "text/plain": [
       "<IPython.core.display.HTML object>"
      ]
     },
     "metadata": {},
     "output_type": "display_data"
    },
    {
     "data": {
      "text/html": [
       "<p><b>Trailer:</b> <a href=\"nan\" target=\"_blank\">Watch Trailer</a></p>"
      ],
      "text/plain": [
       "<IPython.core.display.HTML object>"
      ]
     },
     "metadata": {},
     "output_type": "display_data"
    },
    {
     "data": {
      "text/html": [
       "<hr>"
      ],
      "text/plain": [
       "<IPython.core.display.HTML object>"
      ]
     },
     "metadata": {},
     "output_type": "display_data"
    },
    {
     "data": {
      "text/html": [
       "\n",
       "        <h1 style=\"font-family:Arial;\">Benriya Saitou-san, Isekai ni Iku</h1>\n",
       "        <h3 style=\"font-family:Arial;\">Because you watched: Kono Subarashii Sekai ni Shukufuku wo! 2: Kono Subarashii Geijutsu ni Shukufuku wo!</h3>\n",
       "        <img src=\"https://cdn.myanimelist.net/images/anime/1805/132335.jpg\" alt=\"Benriya Saitou-san, Isekai ni Iku\" style=\"width:225px;height:auto;float:left;margin-right:15px;\">\n",
       "        <p><b>Synopsis:</b> Despite being a handyman with a wide range of skills, Saitou is severely undervalued and underpaid. When he complains, his boss fires him, claiming that he is easily replaceable. As if his luck was not bad enough, Saitou soon finds himself about to be run over by a truck on his way home.\n",
       "\n",
       "Surprisingly enough, Saitou does not die; instead, he is transported to another world. There, he meets a party composed of the female knight Raelza, the moonlight fairy Lafanpan, and the mage Morlock, who are all coincidentally looking to recruit a new member with a skill set like Saitou's.\n",
       "\n",
       "Throughout their time together, Saitou uses his expertise to assist his fellow party members and soon comes to receive the recognition he never thought was possible. However, Saitou's presence may just be the catalyst that will connect a diverse cast of people from different places, slowly uncovering the fate that could bring a great change to this world.</p>\n",
       "        <p><b>Score:</b> 7.4</p>\n",
       "        <p><b>Type:</b> TV</p>\n",
       "        <p><b>Episodes:</b> 12.0</p>\n",
       "        <p><b>Genres:</b> Adventure, Comedy, Fantasy</p>\n",
       "        <p><b>Themes:</b> Isekai</p>\n",
       "        \n",
       "        <p><b>Season:</b> Winter 2023</p>\n",
       "        <p><b>MAL Page:</b> <a href=\"https://myanimelist.net/anime/50854/Benriya_Saitou-san_Isekai_ni_Iku\" target=\"_blank\">Link to MyAnimeList</a></p>\n",
       "        "
      ],
      "text/plain": [
       "<IPython.core.display.HTML object>"
      ]
     },
     "metadata": {},
     "output_type": "display_data"
    },
    {
     "data": {
      "text/html": [
       "<p><b>Trailer:</b> <a href=\"https://www.youtube.com/watch?v=6R542qtKQIA\" target=\"_blank\">Watch Trailer</a></p>"
      ],
      "text/plain": [
       "<IPython.core.display.HTML object>"
      ]
     },
     "metadata": {},
     "output_type": "display_data"
    },
    {
     "data": {
      "text/html": [
       "<hr>"
      ],
      "text/plain": [
       "<IPython.core.display.HTML object>"
      ]
     },
     "metadata": {},
     "output_type": "display_data"
    },
    {
     "data": {
      "text/html": [
       "\n",
       "        <h1 style=\"font-family:Arial;\">Claymore</h1>\n",
       "        <h3 style=\"font-family:Arial;\">Because you watched: Made in Abyss</h3>\n",
       "        <img src=\"https://cdn.myanimelist.net/images/anime/3/21834.jpg\" alt=\"Claymore\" style=\"width:225px;height:auto;float:left;margin-right:15px;\">\n",
       "        <p><b>Synopsis:</b> When a shapeshifting demon with a thirst for human flesh, known as \"youma,\" arrives in Raki's village, a lone woman with silver eyes walks into town with only a sword upon her back. She is a \"Claymore,\" a being manufactured as half-human and half-youma, for the express purpose of exterminating these monsters. After Raki's family is killed, the Claymore saves his life, but he is subsequently banished from his home. With nowhere else to go, Raki finds the Claymore, known as Clare, and decides to follow her on her journeys.\n",
       "\n",
       "As the pair travel from town to town, defeating youma along the way, more about Clare's organization and her fellow warriors comes to light. With every town cleansed and every demon destroyed, they come closer to the youma on which Clare has sought vengeance ever since she chose to become a Claymore.</p>\n",
       "        <p><b>Score:</b> 7.73</p>\n",
       "        <p><b>Type:</b> TV</p>\n",
       "        <p><b>Episodes:</b> 26.0</p>\n",
       "        <p><b>Genres:</b> Action, Adventure, Fantasy</p>\n",
       "        <p><b>Themes:</b> Gore</p>\n",
       "        <p><b>Demographic:</b> Shounen</p>\n",
       "        <p><b>Season:</b> Spring 2007</p>\n",
       "        <p><b>MAL Page:</b> <a href=\"https://myanimelist.net/anime/1818/Claymore\" target=\"_blank\">Link to MyAnimeList</a></p>\n",
       "        "
      ],
      "text/plain": [
       "<IPython.core.display.HTML object>"
      ]
     },
     "metadata": {},
     "output_type": "display_data"
    },
    {
     "data": {
      "text/html": [
       "<p><b>Trailer:</b> <a href=\"https://www.youtube.com/watch?v=c5DDD0ofspk\" target=\"_blank\">Watch Trailer</a></p>"
      ],
      "text/plain": [
       "<IPython.core.display.HTML object>"
      ]
     },
     "metadata": {},
     "output_type": "display_data"
    },
    {
     "data": {
      "text/html": [
       "<hr>"
      ],
      "text/plain": [
       "<IPython.core.display.HTML object>"
      ]
     },
     "metadata": {},
     "output_type": "display_data"
    },
    {
     "data": {
      "text/html": [
       "\n",
       "        <h1 style=\"font-family:Arial;\">Ajin</h1>\n",
       "        <h3 style=\"font-family:Arial;\">Because you watched: Made in Abyss</h3>\n",
       "        <img src=\"https://cdn.myanimelist.net/images/anime/13/77968.jpg\" alt=\"Ajin\" style=\"width:225px;height:auto;float:left;margin-right:15px;\">\n",
       "        <p><b>Synopsis:</b> Mysterious immortal humans known as \"Ajin\" first appeared 17 years ago in Africa. Upon their discovery, they were labeled as a threat to mankind, as they might use their powers for evil and were incapable of being destroyed. Since then, whenever an Ajin is found within society, they are to be arrested and taken into custody immediately.\n",
       "\n",
       "Studying hard to become a doctor, Kei Nagai is a high schooler who knows very little about Ajin, only having seen them appear in the news every now and then. Students are taught that these creatures are not considered to be human, but Kei doesn't pay much attention in class. As a result, his perilously little grasp on this subject proves to be completely irrelevant when he survives an accident that was supposed to claim his life, signaling his rebirth as an Ajin and the start of his days of torment. However, as he finds himself alone on the run from the entire world, Kei soon realizes that more of his species may be a lot closer than he thinks.</p>\n",
       "        <p><b>Score:</b> 7.38</p>\n",
       "        <p><b>Type:</b> TV</p>\n",
       "        <p><b>Episodes:</b> 13.0</p>\n",
       "        <p><b>Genres:</b> Action, Horror, Mystery, Supernatural</p>\n",
       "        <p><b>Themes:</b> Gore</p>\n",
       "        <p><b>Demographic:</b> Seinen</p>\n",
       "        <p><b>Season:</b> Winter 2016</p>\n",
       "        <p><b>MAL Page:</b> <a href=\"https://myanimelist.net/anime/31580/Ajin\" target=\"_blank\">Link to MyAnimeList</a></p>\n",
       "        "
      ],
      "text/plain": [
       "<IPython.core.display.HTML object>"
      ]
     },
     "metadata": {},
     "output_type": "display_data"
    },
    {
     "data": {
      "text/html": [
       "<p><b>Trailer:</b> <a href=\"https://www.youtube.com/watch?v=V62kcgCXNJU\" target=\"_blank\">Watch Trailer</a></p>"
      ],
      "text/plain": [
       "<IPython.core.display.HTML object>"
      ]
     },
     "metadata": {},
     "output_type": "display_data"
    },
    {
     "data": {
      "text/html": [
       "<hr>"
      ],
      "text/plain": [
       "<IPython.core.display.HTML object>"
      ]
     },
     "metadata": {},
     "output_type": "display_data"
    },
    {
     "data": {
      "text/html": [
       "\n",
       "        <h1 style=\"font-family:Arial;\">UQ Holder! Mahou Sensei Negima! 2</h1>\n",
       "        <h3 style=\"font-family:Arial;\">Because you watched: NieR:Automata Ver1.1a</h3>\n",
       "        <img src=\"https://cdn.myanimelist.net/images/anime/6/88354.jpg\" alt=\"UQ Holder! Mahou Sensei Negima! 2\" style=\"width:225px;height:auto;float:left;margin-right:15px;\">\n",
       "        <p><b>Synopsis:</b> Touta Konoe is an ordinary boy raised in a small rural town. His mundane life suddenly changes when his mentor, Yukihime, reveals herself to be a vampire; after saving Touta from a mortal wound, she causes him to become immortal as well.\n",
       "\n",
       "Already yearning to explore the world, young Touta finally puts his dream to ascend to the top of Amanomihashira—a tower that leads to outer space—into realization. Along the way, he finds a secret society filled with immortals just like him called \"UQ Holders.\" Gaining new comrades and mentorship along the way, Touta embarks on his own unique, magical adventure.</p>\n",
       "        <p><b>Score:</b> 6.91</p>\n",
       "        <p><b>Type:</b> TV</p>\n",
       "        <p><b>Episodes:</b> 12.0</p>\n",
       "        <p><b>Genres:</b> Action, Fantasy, Sci-Fi</p>\n",
       "        \n",
       "        <p><b>Demographic:</b> Shounen</p>\n",
       "        <p><b>Season:</b> Fall 2017</p>\n",
       "        <p><b>MAL Page:</b> <a href=\"https://myanimelist.net/anime/33478/UQ_Holder_Mahou_Sensei_Negima_2\" target=\"_blank\">Link to MyAnimeList</a></p>\n",
       "        "
      ],
      "text/plain": [
       "<IPython.core.display.HTML object>"
      ]
     },
     "metadata": {},
     "output_type": "display_data"
    },
    {
     "data": {
      "text/html": [
       "<p><b>Trailer:</b> <a href=\"https://www.youtube.com/watch?v=XtPWh1KeAmA\" target=\"_blank\">Watch Trailer</a></p>"
      ],
      "text/plain": [
       "<IPython.core.display.HTML object>"
      ]
     },
     "metadata": {},
     "output_type": "display_data"
    },
    {
     "data": {
      "text/html": [
       "<hr>"
      ],
      "text/plain": [
       "<IPython.core.display.HTML object>"
      ]
     },
     "metadata": {},
     "output_type": "display_data"
    },
    {
     "data": {
      "text/html": [
       "\n",
       "        <h1 style=\"font-family:Arial;\">Kyoukaisenjou no Horizon</h1>\n",
       "        <h3 style=\"font-family:Arial;\">Because you watched: NieR:Automata Ver1.1a</h3>\n",
       "        <img src=\"https://cdn.myanimelist.net/images/anime/6/79598.jpg\" alt=\"Kyoukaisenjou no Horizon\" style=\"width:225px;height:auto;float:left;margin-right:15px;\">\n",
       "        <p><b>Synopsis:</b> In the far future, humans abandon a devastated Earth and traveled to outer space. However, due to unknown phenomenon that prevents them from traveling into space, humanity returns to Earth only to find it inhospitable except for Japan.\n",
       "\n",
       "To accommodate the entire human population, pocket dimensions are created around Japan to house in the populace. In order to find a way to return to outer space, the humans began reenacting human history according to the Holy book Testament. But in the year 1413 of the Testament Era, the nations of the pocket dimensions invade and conquer Japan, dividing the territory into feudal fiefdoms and forcing the original inhabitants of Japan to leave.\n",
       "\n",
       "It is now the year 1648 of the Testament Era, the refugees of Japan now live in the city ship Musashi, where it constantly travels around Japan while being watched by the Testament Union, the authority that runs the re-enactment of history. However, rumors of an apocalypse and war begin to spread when the Testament stops revealing what happens next after 1648.\n",
       "\n",
       "Taking advantage of this situation, Toori Aoi, head of Musashi Ariadust Academy's Supreme Federation and President of the student council, leads his fellow classmates to use this opportunity to regain their homeland.\n",
       "\n",
       "(Source: Wikipedia)</p>\n",
       "        <p><b>Score:</b> 7.01</p>\n",
       "        <p><b>Type:</b> TV</p>\n",
       "        <p><b>Episodes:</b> 13.0</p>\n",
       "        <p><b>Genres:</b> Action, Fantasy, Sci-Fi</p>\n",
       "        \n",
       "        \n",
       "        <p><b>Season:</b> Fall 2011</p>\n",
       "        <p><b>MAL Page:</b> <a href=\"https://myanimelist.net/anime/10456/Kyoukaisenjou_no_Horizon\" target=\"_blank\">Link to MyAnimeList</a></p>\n",
       "        "
      ],
      "text/plain": [
       "<IPython.core.display.HTML object>"
      ]
     },
     "metadata": {},
     "output_type": "display_data"
    },
    {
     "data": {
      "text/html": [
       "<p><b>Trailer:</b> <a href=\"https://www.youtube.com/watch?v=lgwFB5pgvq8\" target=\"_blank\">Watch Trailer</a></p>"
      ],
      "text/plain": [
       "<IPython.core.display.HTML object>"
      ]
     },
     "metadata": {},
     "output_type": "display_data"
    },
    {
     "data": {
      "text/html": [
       "<hr>"
      ],
      "text/plain": [
       "<IPython.core.display.HTML object>"
      ]
     },
     "metadata": {},
     "output_type": "display_data"
    },
    {
     "data": {
      "text/html": [
       "\n",
       "        <h1 style=\"font-family:Arial;\">Digimon Adventure Movie</h1>\n",
       "        <h3 style=\"font-family:Arial;\">Because you watched: NieR:Automata Ver1.1a</h3>\n",
       "        <img src=\"https://cdn.myanimelist.net/images/anime/3/72452.jpg\" alt=\"Digimon Adventure Movie\" style=\"width:225px;height:auto;float:left;margin-right:15px;\">\n",
       "        <p><b>Synopsis:</b> A brother and sister discover the digital world is more than 1s and 0s when a living creature arrives out of the family computer. The adventures of a group of children start with the appearance of a Digital Monster in the real world.\n",
       "\n",
       "(Source: ANN)</p>\n",
       "        <p><b>Score:</b> 7.6</p>\n",
       "        <p><b>Type:</b> Movie</p>\n",
       "        <p><b>Episodes:</b> 1.0</p>\n",
       "        <p><b>Genres:</b> Action, Fantasy, Sci-Fi</p>\n",
       "        \n",
       "        <p><b>Demographic:</b> Kids</p>\n",
       "        <p><b>Season:</b> Mar 6 1999</p>\n",
       "        <p><b>MAL Page:</b> <a href=\"https://myanimelist.net/anime/2961/Digimon_Adventure_Movie\" target=\"_blank\">Link to MyAnimeList</a></p>\n",
       "        "
      ],
      "text/plain": [
       "<IPython.core.display.HTML object>"
      ]
     },
     "metadata": {},
     "output_type": "display_data"
    },
    {
     "data": {
      "text/html": [
       "<p><b>Trailer:</b> <a href=\"https://www.youtube.com/watch?v=uhJxILWAnFI\" target=\"_blank\">Watch Trailer</a></p>"
      ],
      "text/plain": [
       "<IPython.core.display.HTML object>"
      ]
     },
     "metadata": {},
     "output_type": "display_data"
    },
    {
     "data": {
      "text/html": [
       "<hr>"
      ],
      "text/plain": [
       "<IPython.core.display.HTML object>"
      ]
     },
     "metadata": {},
     "output_type": "display_data"
    },
    {
     "data": {
      "text/html": [
       "\n",
       "        <h1 style=\"font-family:Arial;\">Naze Boku no Sekai wo Daremo Oboeteinai no ka?</h1>\n",
       "        <h3 style=\"font-family:Arial;\">Because you watched: NieR:Automata Ver1.1a</h3>\n",
       "        <img src=\"https://cdn.myanimelist.net/images/anime/1664/144272.jpg\" alt=\"Naze Boku no Sekai wo Daremo Oboeteinai no ka?\" style=\"width:225px;height:auto;float:left;margin-right:15px;\">\n",
       "        <p><b>Synopsis:</b> In a war against four overpowered races—angels, demons, undeads, and humanoid beasts—humanity could only prevail thanks to its champion Sid, who defeated the other races' champions and sealed away their armies in four pyramids. In an age where Sid's existence has become but a legend of the past, Kai Sakura Vento is one of the many conscripts tasked with monitoring the pyramids in fear that these old foes would escape.\n",
       "\n",
       "On a peaceful day while spending time with his friend Jeanne E. Anise, the world is suddenly \"overwritten,\" transporting Kai to an alternate reality where humanity has nearly been annihilated by the demons and forced into hiding. To make matters worse, his very existence has been erased from this world; all of his friends, including Jeanne, who leads the local resistance efforts in this world, have forgotten about him.\n",
       "\n",
       "Trying to investigate the remains of his former world, Kai encounters Rinne, an enigmatic young woman trapped in a pyramid. Mysteriously inheriting Sid's legendary sword Codeholder, Kai manages to free Rinne from her imprisonment. Determined to fix this reality, Kai joins forces with Rinne and Jeanne to free humanity from demonic rule. But if the valiant soldier wants to have a chance at returning to his original world, he will first have to uncover the cause behind the mysterious alteration of reality.</p>\n",
       "        <p><b>Score:</b> 6.3</p>\n",
       "        <p><b>Type:</b> TV</p>\n",
       "        <p><b>Episodes:</b> 12.0</p>\n",
       "        <p><b>Genres:</b> Action, Fantasy, Sci-Fi</p>\n",
       "        \n",
       "        \n",
       "        <p><b>Season:</b> Summer 2024</p>\n",
       "        <p><b>MAL Page:</b> <a href=\"https://myanimelist.net/anime/56062/Naze_Boku_no_Sekai_wo_Daremo_Oboeteinai_no_ka\" target=\"_blank\">Link to MyAnimeList</a></p>\n",
       "        "
      ],
      "text/plain": [
       "<IPython.core.display.HTML object>"
      ]
     },
     "metadata": {},
     "output_type": "display_data"
    },
    {
     "data": {
      "text/html": [
       "<p><b>Trailer:</b> <a href=\"https://www.youtube.com/watch?v=JGOKdkWUIAA\" target=\"_blank\">Watch Trailer</a></p>"
      ],
      "text/plain": [
       "<IPython.core.display.HTML object>"
      ]
     },
     "metadata": {},
     "output_type": "display_data"
    },
    {
     "data": {
      "text/html": [
       "<hr>"
      ],
      "text/plain": [
       "<IPython.core.display.HTML object>"
      ]
     },
     "metadata": {},
     "output_type": "display_data"
    },
    {
     "data": {
      "text/html": [
       "\n",
       "        <h1 style=\"font-family:Arial;\">Kyoukaisenjou no Horizon II</h1>\n",
       "        <h3 style=\"font-family:Arial;\">Because you watched: NieR:Automata Ver1.1a</h3>\n",
       "        <img src=\"https://cdn.myanimelist.net/images/anime/6/38227.jpg\" alt=\"Kyoukaisenjou no Horizon II\" style=\"width:225px;height:auto;float:left;margin-right:15px;\">\n",
       "        <p><b>Synopsis:</b> Taking advantage of the opportunity that the Mikawa Conflict provides, Tori and his comrades attempt to rescue Horizon from the Testament Union. But even as the Floating City Musashi speeds towards its next destination, the Floating Island England, Tres España is preparing its own armada for war against the British Islanders. Now, as the quest of Horizon's emotions builds to its climax, Tori's new battle is about to begin in the land ruled by the Fairy Queen! The reenactment of the history described in the mysterious Testament continues as the secret of the Armor of Deadly Sins is unleashed in the spectacular second season of Horizon in the Middle of Nowhere! \n",
       "\n",
       "(Source: Sentai Filmworks)</p>\n",
       "        <p><b>Score:</b> 7.47</p>\n",
       "        <p><b>Type:</b> TV</p>\n",
       "        <p><b>Episodes:</b> 13.0</p>\n",
       "        <p><b>Genres:</b> Action, Fantasy, Sci-Fi</p>\n",
       "        \n",
       "        \n",
       "        <p><b>Season:</b> Summer 2012</p>\n",
       "        <p><b>MAL Page:</b> <a href=\"https://myanimelist.net/anime/12487/Kyoukaisenjou_no_Horizon_II\" target=\"_blank\">Link to MyAnimeList</a></p>\n",
       "        "
      ],
      "text/plain": [
       "<IPython.core.display.HTML object>"
      ]
     },
     "metadata": {},
     "output_type": "display_data"
    },
    {
     "data": {
      "text/html": [
       "<p><b>Trailer:</b> <a href=\"https://www.youtube.com/watch?v=KEzZ0gCA244\" target=\"_blank\">Watch Trailer</a></p>"
      ],
      "text/plain": [
       "<IPython.core.display.HTML object>"
      ]
     },
     "metadata": {},
     "output_type": "display_data"
    },
    {
     "data": {
      "text/html": [
       "<hr>"
      ],
      "text/plain": [
       "<IPython.core.display.HTML object>"
      ]
     },
     "metadata": {},
     "output_type": "display_data"
    },
    {
     "data": {
      "text/html": [
       "\n",
       "        <h1 style=\"font-family:Arial;\">Odd Taxi Movie: In the Woods</h1>\n",
       "        <h3 style=\"font-family:Arial;\">Because you watched: Odd Taxi</h3>\n",
       "        <img src=\"https://cdn.myanimelist.net/images/anime/1390/120708.jpg\" alt=\"Odd Taxi Movie: In the Woods\" style=\"width:225px;height:auto;float:left;margin-right:15px;\">\n",
       "        <p><b>Synopsis:</b> October 4 marks the fateful day when a high school girl vanished, triggering an unpredictable series of events. In order to unravel the mystery behind the girl's disappearance, all of the key witnesses connected to the case recount the events leading up to and following the crime. As the pieces to the story come together, they all seem to be connected to one individual—taxi driver Hiroshi Odokawa.</p>\n",
       "        <p><b>Score:</b> 6.32</p>\n",
       "        <p><b>Type:</b> Movie</p>\n",
       "        <p><b>Episodes:</b> 1.0</p>\n",
       "        <p><b>Genres:</b> Drama, Mystery, Suspense</p>\n",
       "        <p><b>Themes:</b> Adult Cast, Anthropomorphic, Organized Crime</p>\n",
       "        \n",
       "        <p><b>Season:</b> Apr 1 2022</p>\n",
       "        <p><b>MAL Page:</b> <a href=\"https://myanimelist.net/anime/50653/Odd_Taxi_Movie__In_the_Woods\" target=\"_blank\">Link to MyAnimeList</a></p>\n",
       "        "
      ],
      "text/plain": [
       "<IPython.core.display.HTML object>"
      ]
     },
     "metadata": {},
     "output_type": "display_data"
    },
    {
     "data": {
      "text/html": [
       "<p><b>Trailer:</b> <a href=\"https://www.youtube.com/watch?v=eDd8Kq0s7HU\" target=\"_blank\">Watch Trailer</a></p>"
      ],
      "text/plain": [
       "<IPython.core.display.HTML object>"
      ]
     },
     "metadata": {},
     "output_type": "display_data"
    },
    {
     "data": {
      "text/html": [
       "<hr>"
      ],
      "text/plain": [
       "<IPython.core.display.HTML object>"
      ]
     },
     "metadata": {},
     "output_type": "display_data"
    },
    {
     "data": {
      "text/html": [
       "\n",
       "        <h1 style=\"font-family:Arial;\">Doupo Cangqiong: San Nian Zhi Yue</h1>\n",
       "        <h3 style=\"font-family:Arial;\">Because you watched: Odd Taxi</h3>\n",
       "        <img src=\"https://cdn.myanimelist.net/images/anime/1029/118861.jpg\" alt=\"Doupo Cangqiong: San Nian Zhi Yue\" style=\"width:225px;height:auto;float:left;margin-right:15px;\">\n",
       "        <p><b>Synopsis:</b> Three years ago, Na lan Yan Ran dropped her engagement, which made the Xiao family a laughing stock in the eyes of the Empire. Xiao Yan trained for three whole years through mountains and deserts to regain his honor. He will prove by himself that everything in this world can be changed, so do not underestimate the young. Today he will put an end to the history of his past, because the future awaits him!</p>\n",
       "        <p><b>Score:</b> 8.57</p>\n",
       "        <p><b>Type:</b> ONA</p>\n",
       "        <p><b>Episodes:</b> 13.0</p>\n",
       "        <p><b>Genres:</b> Action, Fantasy</p>\n",
       "        <p><b>Themes:</b> Martial Arts</p>\n",
       "        \n",
       "        <p><b>Season:</b> Oct 31 2022</p>\n",
       "        <p><b>MAL Page:</b> <a href=\"https://myanimelist.net/anime/49701/Doupo_Cangqiong__San_Nian_Zhi_Yue\" target=\"_blank\">Link to MyAnimeList</a></p>\n",
       "        "
      ],
      "text/plain": [
       "<IPython.core.display.HTML object>"
      ]
     },
     "metadata": {},
     "output_type": "display_data"
    },
    {
     "data": {
      "text/html": [
       "<p><b>Trailer:</b> <a href=\"nan\" target=\"_blank\">Watch Trailer</a></p>"
      ],
      "text/plain": [
       "<IPython.core.display.HTML object>"
      ]
     },
     "metadata": {},
     "output_type": "display_data"
    },
    {
     "data": {
      "text/html": [
       "<hr>"
      ],
      "text/plain": [
       "<IPython.core.display.HTML object>"
      ]
     },
     "metadata": {},
     "output_type": "display_data"
    },
    {
     "data": {
      "text/html": [
       "\n",
       "        <h1 style=\"font-family:Arial;\">Ramayana: The Legend of Prince Rama</h1>\n",
       "        <h3 style=\"font-family:Arial;\">Because you watched: Odd Taxi</h3>\n",
       "        <img src=\"https://cdn.myanimelist.net/images/anime/1070/104671.jpg\" alt=\"Ramayana: The Legend of Prince Rama\" style=\"width:225px;height:auto;float:left;margin-right:15px;\">\n",
       "        <p><b>Synopsis:</b> Rama, the eldest prince of the Kingdom of Ayodhya, is beloved by all and the natural successor to his father's throne. However, when one of his father's wives conspires to get her son on the throne instead, Rama ends up being banished into the woods for 14 years. Accompanied by his wife, Sita, and his brother, Lakshman—Rama tries to make the most of life in exile despite his challenges.\n",
       "\n",
       "The trio's life in the forest is interrupted, however, when Demon King Ravan sets his sights on Sita. Using a crafty plan, he manages to distract Rama and steal Sita away to his castle. Heartbroken and distraught, Rama searches every corner of the world for his wife, unaware of the lengths he will have to go to rescue her.</p>\n",
       "        <p><b>Score:</b> 8.38</p>\n",
       "        <p><b>Type:</b> Movie</p>\n",
       "        <p><b>Episodes:</b> 1.0</p>\n",
       "        <p><b>Genres:</b> Adventure</p>\n",
       "        \n",
       "        \n",
       "        <p><b>Season:</b> Jan 15 1993</p>\n",
       "        <p><b>MAL Page:</b> <a href=\"https://myanimelist.net/anime/4921/Ramayana__The_Legend_of_Prince_Rama\" target=\"_blank\">Link to MyAnimeList</a></p>\n",
       "        "
      ],
      "text/plain": [
       "<IPython.core.display.HTML object>"
      ]
     },
     "metadata": {},
     "output_type": "display_data"
    },
    {
     "data": {
      "text/html": [
       "<p><b>Trailer:</b> <a href=\"https://www.youtube.com/watch?v=42tDHKICVOM\" target=\"_blank\">Watch Trailer</a></p>"
      ],
      "text/plain": [
       "<IPython.core.display.HTML object>"
      ]
     },
     "metadata": {},
     "output_type": "display_data"
    },
    {
     "data": {
      "text/html": [
       "<hr>"
      ],
      "text/plain": [
       "<IPython.core.display.HTML object>"
      ]
     },
     "metadata": {},
     "output_type": "display_data"
    },
    {
     "data": {
      "text/html": [
       "\n",
       "        <h1 style=\"font-family:Arial;\">Shoujo☆Kageki Revue Starlight Movie</h1>\n",
       "        <h3 style=\"font-family:Arial;\">Because you watched: Odd Taxi</h3>\n",
       "        <img src=\"https://cdn.myanimelist.net/images/anime/1378/119190.jpg\" alt=\"Shoujo☆Kageki Revue Starlight Movie\" style=\"width:225px;height:auto;float:left;margin-right:15px;\">\n",
       "        <p><b>Synopsis:</b> With the arrival of a new generation of talented girls, another lively year at Seishou Music Academy begins. The graduating 99th class is already preparing for the much-anticipated rendition of Starlight, a bittersweet story about the parting of two girls.\n",
       "\n",
       "It seems like all students in the Actor Training Department have their post-graduation future figured out—except for the cheerful Karen Aijou. Having fulfilled her promise of performing in a play with Hikari Kagura, her ambitious childhood friend, Karen struggles to find her purpose. What lies beyond their promise is a mystery to Karen, as Hikari was the fuel that kept her passion for performing aflame. Now alone, Karen must confront the reality of stage girls and find her way toward the future—her very own stage.</p>\n",
       "        <p><b>Score:</b> 8.52</p>\n",
       "        <p><b>Type:</b> Movie</p>\n",
       "        <p><b>Episodes:</b> 1.0</p>\n",
       "        <p><b>Genres:</b> Drama</p>\n",
       "        <p><b>Themes:</b> Music, Performing Arts, School</p>\n",
       "        \n",
       "        <p><b>Season:</b> Jun 4 2021</p>\n",
       "        <p><b>MAL Page:</b> <a href=\"https://myanimelist.net/anime/40664/Shoujo☆Kageki_Revue_Starlight_Movie\" target=\"_blank\">Link to MyAnimeList</a></p>\n",
       "        "
      ],
      "text/plain": [
       "<IPython.core.display.HTML object>"
      ]
     },
     "metadata": {},
     "output_type": "display_data"
    },
    {
     "data": {
      "text/html": [
       "<p><b>Trailer:</b> <a href=\"https://www.youtube.com/watch?v=z5hfWlnhTqk\" target=\"_blank\">Watch Trailer</a></p>"
      ],
      "text/plain": [
       "<IPython.core.display.HTML object>"
      ]
     },
     "metadata": {},
     "output_type": "display_data"
    },
    {
     "data": {
      "text/html": [
       "<hr>"
      ],
      "text/plain": [
       "<IPython.core.display.HTML object>"
      ]
     },
     "metadata": {},
     "output_type": "display_data"
    },
    {
     "data": {
      "text/html": [
       "\n",
       "        <h1 style=\"font-family:Arial;\">Wu Shan Wu Xing: Xichuan Huan Zi Lin</h1>\n",
       "        <h3 style=\"font-family:Arial;\">Because you watched: Odd Taxi</h3>\n",
       "        <img src=\"https://cdn.myanimelist.net/images/anime/1433/119529.jpg\" alt=\"Wu Shan Wu Xing: Xichuan Huan Zi Lin\" style=\"width:225px;height:auto;float:left;margin-right:15px;\">\n",
       "        <p><b>Synopsis:</b> Second season of Wu Shan Wu Xing.</p>\n",
       "        <p><b>Score:</b> 8.34</p>\n",
       "        <p><b>Type:</b> ONA</p>\n",
       "        <p><b>Episodes:</b> 4.0</p>\n",
       "        <p><b>Genres:</b> Action, Fantasy, Supernatural</p>\n",
       "        <p><b>Themes:</b> Historical, Martial Arts</p>\n",
       "        \n",
       "        <p><b>Season:</b> Jul 26 2023</p>\n",
       "        <p><b>MAL Page:</b> <a href=\"https://myanimelist.net/anime/50407/Wu_Shan_Wu_Xing__Xichuan_Huan_Zi_Lin\" target=\"_blank\">Link to MyAnimeList</a></p>\n",
       "        "
      ],
      "text/plain": [
       "<IPython.core.display.HTML object>"
      ]
     },
     "metadata": {},
     "output_type": "display_data"
    },
    {
     "data": {
      "text/html": [
       "<p><b>Trailer:</b> <a href=\"https://www.youtube.com/watch?v=BsTEjWAn330\" target=\"_blank\">Watch Trailer</a></p>"
      ],
      "text/plain": [
       "<IPython.core.display.HTML object>"
      ]
     },
     "metadata": {},
     "output_type": "display_data"
    },
    {
     "data": {
      "text/html": [
       "<hr>"
      ],
      "text/plain": [
       "<IPython.core.display.HTML object>"
      ]
     },
     "metadata": {},
     "output_type": "display_data"
    },
    {
     "data": {
      "text/html": [
       "\n",
       "        <h1 style=\"font-family:Arial;\">Death Parade</h1>\n",
       "        <h3 style=\"font-family:Arial;\">Because you watched: Re:Zero kara Hajimeru Isekai Seikatsu</h3>\n",
       "        <img src=\"https://cdn.myanimelist.net/images/anime/5/71553.jpg\" alt=\"Death Parade\" style=\"width:225px;height:auto;float:left;margin-right:15px;\">\n",
       "        <p><b>Synopsis:</b> After death, either Heaven or Hell awaits most humans. But for a select few, death brings them to Quindecim—a bar where only pairs of people who die at the same time can enter. Attending the bar is an enigmatic figure known as Decim, who also acts as the arbiter. He passes judgment on those who wind up at Quindecim by challenging them to a life-threatening game. These games determine if the patron's soul will reincarnate into a new life, or be sent into the void, never to be seen again.\n",
       "\n",
       "From darts and bowling to fighting games, the true nature of each patron slowly comes to light as they wager their souls. Though his methods remain unchanged, the sudden appearance of a black-haired amnesiac causes Decim to reevaluate his own rulings.</p>\n",
       "        <p><b>Score:</b> 8.14</p>\n",
       "        <p><b>Type:</b> TV</p>\n",
       "        <p><b>Episodes:</b> 12.0</p>\n",
       "        <p><b>Genres:</b> Drama, Fantasy, Suspense</p>\n",
       "        <p><b>Themes:</b> Adult Cast, High Stakes Game, Psychological</p>\n",
       "        \n",
       "        <p><b>Season:</b> Winter 2015</p>\n",
       "        <p><b>MAL Page:</b> <a href=\"https://myanimelist.net/anime/28223/Death_Parade\" target=\"_blank\">Link to MyAnimeList</a></p>\n",
       "        "
      ],
      "text/plain": [
       "<IPython.core.display.HTML object>"
      ]
     },
     "metadata": {},
     "output_type": "display_data"
    },
    {
     "data": {
      "text/html": [
       "<p><b>Trailer:</b> <a href=\"https://www.youtube.com/watch?v=O1X6czI74UQ\" target=\"_blank\">Watch Trailer</a></p>"
      ],
      "text/plain": [
       "<IPython.core.display.HTML object>"
      ]
     },
     "metadata": {},
     "output_type": "display_data"
    },
    {
     "data": {
      "text/html": [
       "<hr>"
      ],
      "text/plain": [
       "<IPython.core.display.HTML object>"
      ]
     },
     "metadata": {},
     "output_type": "display_data"
    },
    {
     "data": {
      "text/html": [
       "\n",
       "        <h1 style=\"font-family:Arial;\">Mahou Shoujo Madoka★Magica Movie 2: Eien no Monogatari</h1>\n",
       "        <h3 style=\"font-family:Arial;\">Because you watched: Re:Zero kara Hajimeru Isekai Seikatsu 2nd Season Part 2</h3>\n",
       "        <img src=\"https://cdn.myanimelist.net/images/anime/6/42265.jpg\" alt=\"Mahou Shoujo Madoka★Magica Movie 2: Eien no Monogatari\" style=\"width:225px;height:auto;float:left;margin-right:15px;\">\n",
       "        <p><b>Synopsis:</b> Though Sayaka Miki's wish was fulfilled, the unforeseen consequences that came with it overwhelm her, causing her soul gem to become tainted as she succumbs to despair and eventually loses her humanity. Homura Akemi reveals to Kyouko Sakura and Madoka Kaname the ultimate fate of magical girls: once their soul gem becomes tainted, it transforms into a Grief Seed, and they are reborn as witches—a truth Homura learned only through repeating history countless times in a bid to prevent Madoka's tragedy.\n",
       "\n",
       "Kyuubey only compounds their despair when he confesses his true intentions: to harness the energy created from magical girls and use it to prolong the life of the universe. As the threat of Walpurgisnacht, a powerful witch, looms overhead, Homura once again vows to protect Madoka and the world from a grim fate.  \n",
       "\n",
       "Caught between honoring Homura's wish and saving the world, which one will Madoka choose in the end?\n",
       "Mahou Shoujo Madoka★Magica Movie 2: Eien no Monogatari is a story of inescapable destiny, and an unlikely hero who could change it all.</p>\n",
       "        <p><b>Score:</b> 8.37</p>\n",
       "        <p><b>Type:</b> Movie</p>\n",
       "        <p><b>Episodes:</b> 1.0</p>\n",
       "        <p><b>Genres:</b> Drama, Fantasy, Suspense</p>\n",
       "        <p><b>Themes:</b> Mahou Shoujo, Psychological</p>\n",
       "        \n",
       "        <p><b>Season:</b> Oct 13 2012</p>\n",
       "        <p><b>MAL Page:</b> <a href=\"https://myanimelist.net/anime/11979/Mahou_Shoujo_Madoka★Magica_Movie_2__Eien_no_Monogatari\" target=\"_blank\">Link to MyAnimeList</a></p>\n",
       "        "
      ],
      "text/plain": [
       "<IPython.core.display.HTML object>"
      ]
     },
     "metadata": {},
     "output_type": "display_data"
    },
    {
     "data": {
      "text/html": [
       "<p><b>Trailer:</b> <a href=\"https://www.youtube.com/watch?v=wfsX27B5Gxk\" target=\"_blank\">Watch Trailer</a></p>"
      ],
      "text/plain": [
       "<IPython.core.display.HTML object>"
      ]
     },
     "metadata": {},
     "output_type": "display_data"
    },
    {
     "data": {
      "text/html": [
       "<hr>"
      ],
      "text/plain": [
       "<IPython.core.display.HTML object>"
      ]
     },
     "metadata": {},
     "output_type": "display_data"
    },
    {
     "data": {
      "text/html": [
       "\n",
       "        <h1 style=\"font-family:Arial;\">Clannad</h1>\n",
       "        <h3 style=\"font-family:Arial;\">Because you watched: Seishun Buta Yarou wa Bunny Girl Senpai no Yume wo Minai</h3>\n",
       "        <img src=\"https://cdn.myanimelist.net/images/anime/1804/95033.jpg\" alt=\"Clannad\" style=\"width:225px;height:auto;float:left;margin-right:15px;\">\n",
       "        <p><b>Synopsis:</b> Tomoya Okazaki is a delinquent who finds life dull and believes he'll never amount to anything. Along with his friend Youhei Sunohara, he skips school and plans to waste his high school days away.\n",
       "\n",
       "One day while walking to school, Tomoya passes a young girl muttering quietly to herself. Without warning she exclaims \"Anpan!\" (a popular Japanese food) which catches Tomoya's attention. He soon discovers the girl's name is Nagisa Furukawa and that she exclaims things she likes in order to motivate herself. Nagisa claims they are now friends, but Tomoya walks away passing the encounter off as nothing.\n",
       "\n",
       "However, Tomoya finds he is noticing Nagisa more and more around school. Eventually he concedes and befriends her. Tomoya learns Nagisa has been held back a year due to a severe illness and that her dream is to revive the school's drama club. Claiming he has nothing better to do, he decides to help her achieve this goal along with the help of four other girls.\n",
       "\n",
       "As Tomoya spends more time with the girls, he learns more about them and their problems. As he attempts to help each girl overcome her respective obstacle, he begins to realize life isn't as dull as he once thought.</p>\n",
       "        <p><b>Score:</b> 7.99</p>\n",
       "        <p><b>Type:</b> TV</p>\n",
       "        <p><b>Episodes:</b> 23.0</p>\n",
       "        <p><b>Genres:</b> Drama, Romance, Supernatural</p>\n",
       "        <p><b>Themes:</b> School</p>\n",
       "        \n",
       "        <p><b>Season:</b> Fall 2007</p>\n",
       "        <p><b>MAL Page:</b> <a href=\"https://myanimelist.net/anime/2167/Clannad\" target=\"_blank\">Link to MyAnimeList</a></p>\n",
       "        "
      ],
      "text/plain": [
       "<IPython.core.display.HTML object>"
      ]
     },
     "metadata": {},
     "output_type": "display_data"
    },
    {
     "data": {
      "text/html": [
       "<p><b>Trailer:</b> <a href=\"https://www.youtube.com/watch?v=pTTsmwHxHns\" target=\"_blank\">Watch Trailer</a></p>"
      ],
      "text/plain": [
       "<IPython.core.display.HTML object>"
      ]
     },
     "metadata": {},
     "output_type": "display_data"
    },
    {
     "data": {
      "text/html": [
       "<hr>"
      ],
      "text/plain": [
       "<IPython.core.display.HTML object>"
      ]
     },
     "metadata": {},
     "output_type": "display_data"
    },
    {
     "data": {
      "text/html": [
       "\n",
       "        <h1 style=\"font-family:Arial;\">Hyouka</h1>\n",
       "        <h3 style=\"font-family:Arial;\">Because you watched: Seishun Buta Yarou wa Bunny Girl Senpai no Yume wo Minai</h3>\n",
       "        <img src=\"https://cdn.myanimelist.net/images/anime/13/50521.jpg\" alt=\"Hyouka\" style=\"width:225px;height:auto;float:left;margin-right:15px;\">\n",
       "        <p><b>Synopsis:</b> High school freshman Houtarou Oreki has but one goal: to lead a gray life while conserving as much energy as he can. Unfortunately, his peaceful days come to an end when his older sister, Tomoe, forces him to save the memberless Classics Club from disbandment.\n",
       "\n",
       "Luckily, Oreki's predicament seems to be over when he heads to the clubroom and discovers that his fellow first-year, Eru Chitanda, has already become a member. However, despite his obligation being fulfilled, Oreki finds himself entangled by Chitanda's curious and bubbly personality, soon joining the club of his own volition.\n",
       "\n",
       "Hyouka follows the four members of the Classics Club—including Oreki's friends Satoshi Fukube and Mayaka Ibara—as they, driven by Chitanda's insatiable curiosity, solve the trivial yet intriguing mysteries that permeate their daily lives.</p>\n",
       "        <p><b>Score:</b> 8.06</p>\n",
       "        <p><b>Type:</b> TV</p>\n",
       "        <p><b>Episodes:</b> 22.0</p>\n",
       "        <p><b>Genres:</b> Mystery, Slice of Life</p>\n",
       "        <p><b>Themes:</b> School</p>\n",
       "        \n",
       "        <p><b>Season:</b> Spring 2012</p>\n",
       "        <p><b>MAL Page:</b> <a href=\"https://myanimelist.net/anime/12189/Hyouka\" target=\"_blank\">Link to MyAnimeList</a></p>\n",
       "        "
      ],
      "text/plain": [
       "<IPython.core.display.HTML object>"
      ]
     },
     "metadata": {},
     "output_type": "display_data"
    },
    {
     "data": {
      "text/html": [
       "<p><b>Trailer:</b> <a href=\"https://www.youtube.com/watch?v=N5nNKAVB4O4\" target=\"_blank\">Watch Trailer</a></p>"
      ],
      "text/plain": [
       "<IPython.core.display.HTML object>"
      ]
     },
     "metadata": {},
     "output_type": "display_data"
    },
    {
     "data": {
      "text/html": [
       "<hr>"
      ],
      "text/plain": [
       "<IPython.core.display.HTML object>"
      ]
     },
     "metadata": {},
     "output_type": "display_data"
    },
    {
     "data": {
      "text/html": [
       "\n",
       "        <h1 style=\"font-family:Arial;\">Kokoro Connect: Michi Random</h1>\n",
       "        <h3 style=\"font-family:Arial;\">Because you watched: Seishun Buta Yarou wa Yumemiru Shoujo no Yume wo Minai</h3>\n",
       "        <img src=\"https://cdn.myanimelist.net/images/anime/10/45526.jpg\" alt=\"Kokoro Connect: Michi Random\" style=\"width:225px;height:auto;float:left;margin-right:15px;\">\n",
       "        <p><b>Synopsis:</b> Not long after putting the previous supernatural incident behind them, the members of Yamaboshi Academy's Student Cultural Society (StuCS) must deal with Fuusenkazura's newest trial—emotion transmission. This phenomenon allows the club members to hear each others' true thoughts, but with one catch: the timing, sender, and recipient are all completely random. To make matters worse, the club's supervisor, Ryuuzen Gotou, may have to step down due to his responsibilities for the upcoming school year. With emotions running high and Valentine's Day around the corner, the seemingly close bonds of the StuCS will be tested when their true feelings for each other are laid bare.</p>\n",
       "        <p><b>Score:</b> 7.91</p>\n",
       "        <p><b>Type:</b> Special</p>\n",
       "        <p><b>Episodes:</b> 4.0</p>\n",
       "        <p><b>Genres:</b> Drama, Romance, Supernatural</p>\n",
       "        <p><b>Themes:</b> School</p>\n",
       "        \n",
       "        <p><b>Season:</b> Nov 19 2012</p>\n",
       "        <p><b>MAL Page:</b> <a href=\"https://myanimelist.net/anime/16001/Kokoro_Connect__Michi_Random\" target=\"_blank\">Link to MyAnimeList</a></p>\n",
       "        "
      ],
      "text/plain": [
       "<IPython.core.display.HTML object>"
      ]
     },
     "metadata": {},
     "output_type": "display_data"
    },
    {
     "data": {
      "text/html": [
       "<p><b>Trailer:</b> <a href=\"nan\" target=\"_blank\">Watch Trailer</a></p>"
      ],
      "text/plain": [
       "<IPython.core.display.HTML object>"
      ]
     },
     "metadata": {},
     "output_type": "display_data"
    },
    {
     "data": {
      "text/html": [
       "<hr>"
      ],
      "text/plain": [
       "<IPython.core.display.HTML object>"
      ]
     },
     "metadata": {},
     "output_type": "display_data"
    },
    {
     "data": {
      "text/html": [
       "\n",
       "        <h1 style=\"font-family:Arial;\">Clannad Movie</h1>\n",
       "        <h3 style=\"font-family:Arial;\">Because you watched: Seishun Buta Yarou wa Yumemiru Shoujo no Yume wo Minai</h3>\n",
       "        <img src=\"https://cdn.myanimelist.net/images/anime/13/75650.jpg\" alt=\"Clannad Movie\" style=\"width:225px;height:auto;float:left;margin-right:15px;\">\n",
       "        <p><b>Synopsis:</b> Tomoya Okazaki is a cynical delinquent who lacks ambition as he apathetically labors through high school. During his childhood, a tragedy had caused his father to seek solace in alcoholism and neglect his son. Yet, meaningful human interaction can be a benediction, as Tomoya learns when he meets the enigmatic Nagisa Furukawa. The odd girl offers a gesture of friendship to Tomoya, but he rejects the request, dismissing it as a trivial incident. However, as he soon realizes that he is encountering Nagisa more and more often during school, Tomoya drops his discompassions and befriends the girl.\n",
       "\n",
       "When he learns that Nagisa's dream is to revive the Drama Club, Tomoya decides to shed his detachment from the ordinary pleasures of life and dedicate himself to helping his new friend achieve her ambition. But what starts as a simple friendship may progress into something far more deep, intimate, and life-changing. As the pair face various hardships and afflictions, Tomoya and Nagisa gradually come to terms with the challenges of life.</p>\n",
       "        <p><b>Score:</b> 7.24</p>\n",
       "        <p><b>Type:</b> Movie</p>\n",
       "        <p><b>Episodes:</b> 1.0</p>\n",
       "        <p><b>Genres:</b> Drama, Romance, Supernatural</p>\n",
       "        <p><b>Themes:</b> School</p>\n",
       "        \n",
       "        <p><b>Season:</b> Sep 15 2007</p>\n",
       "        <p><b>MAL Page:</b> <a href=\"https://myanimelist.net/anime/1723/Clannad_Movie\" target=\"_blank\">Link to MyAnimeList</a></p>\n",
       "        "
      ],
      "text/plain": [
       "<IPython.core.display.HTML object>"
      ]
     },
     "metadata": {},
     "output_type": "display_data"
    },
    {
     "data": {
      "text/html": [
       "<p><b>Trailer:</b> <a href=\"https://www.youtube.com/watch?v=lOWFsJpC7z8\" target=\"_blank\">Watch Trailer</a></p>"
      ],
      "text/plain": [
       "<IPython.core.display.HTML object>"
      ]
     },
     "metadata": {},
     "output_type": "display_data"
    },
    {
     "data": {
      "text/html": [
       "<hr>"
      ],
      "text/plain": [
       "<IPython.core.display.HTML object>"
      ]
     },
     "metadata": {},
     "output_type": "display_data"
    },
    {
     "data": {
      "text/html": [
       "\n",
       "        <h1 style=\"font-family:Arial;\">Seishun Buta Yarou wa Odekake Sister no Yume wo Minai</h1>\n",
       "        <h3 style=\"font-family:Arial;\">Because you watched: Seishun Buta Yarou wa Yumemiru Shoujo no Yume wo Minai</h3>\n",
       "        <img src=\"https://cdn.myanimelist.net/images/anime/1540/134808.jpg\" alt=\"Seishun Buta Yarou wa Odekake Sister no Yume wo Minai\" style=\"width:225px;height:auto;float:left;margin-right:15px;\">\n",
       "        <p><b>Synopsis:</b> Sakuta Azusagawa's little sister, Kaede, is wrapping up middle school and needs to make an important decision. The school counselor believes it is in Kaede's best interest to attend an online high school, given her history of being a shut-in and her crippling phobia of traditional classrooms. However, Kaede wishes to enroll in Minegahara High School, just like her brother, as she desperately hopes for a typical high school experience. She pleads with Sakuta; his girlfriend, Mai Sakurajima; and Mai's half-sister, Nodoka Toyohama, to help her study for the entrance exam—and they enthusiastically agree. But her envisioned high school life does not unfold as planned. With her unresolved trauma coming to a head, Kaede grapples with the conflict of determining what sort of future path she truly wants to embark upon.</p>\n",
       "        <p><b>Score:</b> 7.75</p>\n",
       "        <p><b>Type:</b> Movie</p>\n",
       "        <p><b>Episodes:</b> 1.0</p>\n",
       "        <p><b>Genres:</b> Drama, Romance, Supernatural</p>\n",
       "        <p><b>Themes:</b> School</p>\n",
       "        \n",
       "        <p><b>Season:</b> Jun 23 2023</p>\n",
       "        <p><b>MAL Page:</b> <a href=\"https://myanimelist.net/anime/53129/Seishun_Buta_Yarou_wa_Odekake_Sister_no_Yume_wo_Minai\" target=\"_blank\">Link to MyAnimeList</a></p>\n",
       "        "
      ],
      "text/plain": [
       "<IPython.core.display.HTML object>"
      ]
     },
     "metadata": {},
     "output_type": "display_data"
    },
    {
     "data": {
      "text/html": [
       "<p><b>Trailer:</b> <a href=\"https://www.youtube.com/watch?v=Chwh1IboZWg\" target=\"_blank\">Watch Trailer</a></p>"
      ],
      "text/plain": [
       "<IPython.core.display.HTML object>"
      ]
     },
     "metadata": {},
     "output_type": "display_data"
    },
    {
     "data": {
      "text/html": [
       "<hr>"
      ],
      "text/plain": [
       "<IPython.core.display.HTML object>"
      ]
     },
     "metadata": {},
     "output_type": "display_data"
    },
    {
     "data": {
      "text/html": [
       "\n",
       "        <h1 style=\"font-family:Arial;\">Golden Time</h1>\n",
       "        <h3 style=\"font-family:Arial;\">Because you watched: Shigatsu wa Kimi no Uso</h3>\n",
       "        <img src=\"https://cdn.myanimelist.net/images/anime/12/52091.jpg\" alt=\"Golden Time\" style=\"width:225px;height:auto;float:left;margin-right:15px;\">\n",
       "        <p><b>Synopsis:</b> Due to a tragic accident, Banri Tada is struck with amnesia, dissolving the memories of his hometown and past. However, after befriending Mitsuo Yanagisawa, he decides to move on and begin a new life at law school in Tokyo. But just as he is beginning to adjust to his college life, the beautiful Kouko Kaga dramatically barges into Banri's life, and their chance meeting marks the beginning of an unforgettable year. \n",
       "\n",
       "After having a glimpse of college life, Banri learns that he is in a new place and a new world—a place where he can be reborn, have new friends, fall in love, make mistakes, and grow. And as he begins to discover who he was, the path he has chosen leads him towards a blindingly bright life that he will never want to forget.</p>\n",
       "        <p><b>Score:</b> 7.74</p>\n",
       "        <p><b>Type:</b> TV</p>\n",
       "        <p><b>Episodes:</b> 24.0</p>\n",
       "        <p><b>Genres:</b> Drama, Romance</p>\n",
       "        <p><b>Themes:</b> Adult Cast, Love Polygon</p>\n",
       "        \n",
       "        <p><b>Season:</b> Fall 2013</p>\n",
       "        <p><b>MAL Page:</b> <a href=\"https://myanimelist.net/anime/17895/Golden_Time\" target=\"_blank\">Link to MyAnimeList</a></p>\n",
       "        "
      ],
      "text/plain": [
       "<IPython.core.display.HTML object>"
      ]
     },
     "metadata": {},
     "output_type": "display_data"
    },
    {
     "data": {
      "text/html": [
       "<p><b>Trailer:</b> <a href=\"https://www.youtube.com/watch?v=44njDYJ5OJA\" target=\"_blank\">Watch Trailer</a></p>"
      ],
      "text/plain": [
       "<IPython.core.display.HTML object>"
      ]
     },
     "metadata": {},
     "output_type": "display_data"
    },
    {
     "data": {
      "text/html": [
       "<hr>"
      ],
      "text/plain": [
       "<IPython.core.display.HTML object>"
      ]
     },
     "metadata": {},
     "output_type": "display_data"
    },
    {
     "data": {
      "text/html": [
       "\n",
       "        <h1 style=\"font-family:Arial;\">Shingeki no Kyojin: Chronicle</h1>\n",
       "        <h3 style=\"font-family:Arial;\">Because you watched: Shingeki no Kyojin: The Final Season - Kanketsu-hen</h3>\n",
       "        <img src=\"https://cdn.myanimelist.net/images/anime/1786/110717.jpg\" alt=\"Shingeki no Kyojin: Chronicle\" style=\"width:225px;height:auto;float:left;margin-right:15px;\">\n",
       "        <p><b>Synopsis:</b> The compilation film will recap the anime's 59 episodes from seasons one to three.</p>\n",
       "        <p><b>Score:</b> 7.78</p>\n",
       "        <p><b>Type:</b> Movie</p>\n",
       "        <p><b>Episodes:</b> 1.0</p>\n",
       "        <p><b>Genres:</b> Action, Drama, Suspense</p>\n",
       "        <p><b>Themes:</b> Gore, Military, Survival</p>\n",
       "        <p><b>Demographic:</b> Shounen</p>\n",
       "        <p><b>Season:</b> Jul 17 2020</p>\n",
       "        <p><b>MAL Page:</b> <a href=\"https://myanimelist.net/anime/42091/Shingeki_no_Kyojin__Chronicle\" target=\"_blank\">Link to MyAnimeList</a></p>\n",
       "        "
      ],
      "text/plain": [
       "<IPython.core.display.HTML object>"
      ]
     },
     "metadata": {},
     "output_type": "display_data"
    },
    {
     "data": {
      "text/html": [
       "<p><b>Trailer:</b> <a href=\"https://www.youtube.com/watch?v=7wBiYV0oy1I\" target=\"_blank\">Watch Trailer</a></p>"
      ],
      "text/plain": [
       "<IPython.core.display.HTML object>"
      ]
     },
     "metadata": {},
     "output_type": "display_data"
    },
    {
     "data": {
      "text/html": [
       "<hr>"
      ],
      "text/plain": [
       "<IPython.core.display.HTML object>"
      ]
     },
     "metadata": {},
     "output_type": "display_data"
    },
    {
     "data": {
      "text/html": [
       "\n",
       "        <h1 style=\"font-family:Arial;\">Shingeki no Kyojin: Ano Hi Kara</h1>\n",
       "        <h3 style=\"font-family:Arial;\">Because you watched: Shingeki no Kyojin: The Final Season - Kanketsu-hen</h3>\n",
       "        <img src=\"https://cdn.myanimelist.net/images/anime/3/51715.jpg\" alt=\"Shingeki no Kyojin: Ano Hi Kara\" style=\"width:225px;height:auto;float:left;margin-right:15px;\">\n",
       "        <p><b>Synopsis:</b> Recap of the events in Shingeki no Kyojin that happened prior to episode 14.</p>\n",
       "        <p><b>Score:</b> 7.4</p>\n",
       "        <p><b>Type:</b> TV Special</p>\n",
       "        <p><b>Episodes:</b> 1.0</p>\n",
       "        <p><b>Genres:</b> Action, Drama, Suspense</p>\n",
       "        <p><b>Themes:</b> Gore, Survival</p>\n",
       "        <p><b>Demographic:</b> Shounen</p>\n",
       "        <p><b>Season:</b> Jul 7 2013</p>\n",
       "        <p><b>MAL Page:</b> <a href=\"https://myanimelist.net/anime/19285/Shingeki_no_Kyojin__Ano_Hi_Kara\" target=\"_blank\">Link to MyAnimeList</a></p>\n",
       "        "
      ],
      "text/plain": [
       "<IPython.core.display.HTML object>"
      ]
     },
     "metadata": {},
     "output_type": "display_data"
    },
    {
     "data": {
      "text/html": [
       "<p><b>Trailer:</b> <a href=\"nan\" target=\"_blank\">Watch Trailer</a></p>"
      ],
      "text/plain": [
       "<IPython.core.display.HTML object>"
      ]
     },
     "metadata": {},
     "output_type": "display_data"
    },
    {
     "data": {
      "text/html": [
       "<hr>"
      ],
      "text/plain": [
       "<IPython.core.display.HTML object>"
      ]
     },
     "metadata": {},
     "output_type": "display_data"
    },
    {
     "data": {
      "text/html": [
       "\n",
       "        <h1 style=\"font-family:Arial;\">Shingeki no Kyojin Movie 2: Jiyuu no Tsubasa</h1>\n",
       "        <h3 style=\"font-family:Arial;\">Because you watched: Shingeki no Kyojin: The Final Season - Kanketsu-hen</h3>\n",
       "        <img src=\"https://cdn.myanimelist.net/images/anime/2/72510.jpg\" alt=\"Shingeki no Kyojin Movie 2: Jiyuu no Tsubasa\" style=\"width:225px;height:auto;float:left;margin-right:15px;\">\n",
       "        <p><b>Synopsis:</b> Recap of episodes 14-25.</p>\n",
       "        <p><b>Score:</b> 7.92</p>\n",
       "        <p><b>Type:</b> Movie</p>\n",
       "        <p><b>Episodes:</b> 1.0</p>\n",
       "        <p><b>Genres:</b> Action, Drama, Suspense</p>\n",
       "        <p><b>Themes:</b> Gore, Survival</p>\n",
       "        <p><b>Demographic:</b> Shounen</p>\n",
       "        <p><b>Season:</b> Jun 27 2015</p>\n",
       "        <p><b>MAL Page:</b> <a href=\"https://myanimelist.net/anime/23777/Shingeki_no_Kyojin_Movie_2__Jiyuu_no_Tsubasa\" target=\"_blank\">Link to MyAnimeList</a></p>\n",
       "        "
      ],
      "text/plain": [
       "<IPython.core.display.HTML object>"
      ]
     },
     "metadata": {},
     "output_type": "display_data"
    },
    {
     "data": {
      "text/html": [
       "<p><b>Trailer:</b> <a href=\"https://www.youtube.com/watch?v=O8-wUG7sjSk\" target=\"_blank\">Watch Trailer</a></p>"
      ],
      "text/plain": [
       "<IPython.core.display.HTML object>"
      ]
     },
     "metadata": {},
     "output_type": "display_data"
    },
    {
     "data": {
      "text/html": [
       "<hr>"
      ],
      "text/plain": [
       "<IPython.core.display.HTML object>"
      ]
     },
     "metadata": {},
     "output_type": "display_data"
    },
    {
     "data": {
      "text/html": [
       "\n",
       "        <h1 style=\"font-family:Arial;\">Urara Meirochou</h1>\n",
       "        <h3 style=\"font-family:Arial;\">Because you watched: Sora yori mo Tooi Basho</h3>\n",
       "        <img src=\"https://cdn.myanimelist.net/images/anime/6/84119.jpg\" alt=\"Urara Meirochou\" style=\"width:225px;height:auto;float:left;margin-right:15px;\">\n",
       "        <p><b>Synopsis:</b> Labyrinth Town is a legendary city composed of ten districts, home to witches and diviners alike. In the outermost district of this maze, many young girls begin training to join the ranks of the \"Urara,\" a group of women known far and wide for their ability to divine the answers to the world's most difficult questions. Chiya, a wild girl raised amongst the animals in the mountains, is invited to take her rightful place as a first rank urara. By joining them, she hopes to divine the location of her long-lost mother.\n",
       "\n",
       "Chiya quickly makes three friends: studious Kon Tatsumi, aspiring witch Koume Yukimi, and reticent Nono Natsume. Armed with only their own ingenuity and a vague connection to the gods, they begin their journey in the way of the urara.</p>\n",
       "        <p><b>Score:</b> 7.11</p>\n",
       "        <p><b>Type:</b> TV</p>\n",
       "        <p><b>Episodes:</b> 12.0</p>\n",
       "        <p><b>Genres:</b> Comedy, Fantasy</p>\n",
       "        <p><b>Themes:</b> CGDCT</p>\n",
       "        <p><b>Demographic:</b> Seinen</p>\n",
       "        <p><b>Season:</b> Winter 2017</p>\n",
       "        <p><b>MAL Page:</b> <a href=\"https://myanimelist.net/anime/32924/Urara_Meirochou\" target=\"_blank\">Link to MyAnimeList</a></p>\n",
       "        "
      ],
      "text/plain": [
       "<IPython.core.display.HTML object>"
      ]
     },
     "metadata": {},
     "output_type": "display_data"
    },
    {
     "data": {
      "text/html": [
       "<p><b>Trailer:</b> <a href=\"https://www.youtube.com/watch?v=Pigjvmkklyk\" target=\"_blank\">Watch Trailer</a></p>"
      ],
      "text/plain": [
       "<IPython.core.display.HTML object>"
      ]
     },
     "metadata": {},
     "output_type": "display_data"
    },
    {
     "data": {
      "text/html": [
       "<hr>"
      ],
      "text/plain": [
       "<IPython.core.display.HTML object>"
      ]
     },
     "metadata": {},
     "output_type": "display_data"
    },
    {
     "data": {
      "text/html": [
       "\n",
       "        <h1 style=\"font-family:Arial;\">Koufuku Graffiti</h1>\n",
       "        <h3 style=\"font-family:Arial;\">Because you watched: Sora yori mo Tooi Basho</h3>\n",
       "        <img src=\"https://cdn.myanimelist.net/images/anime/4/71963.jpg\" alt=\"Koufuku Graffiti\" style=\"width:225px;height:auto;float:left;margin-right:15px;\">\n",
       "        <p><b>Synopsis:</b> The path to becoming a fine wife begins with being an accomplished cook—at least, that is what Ryou Machiko's late grandmother had led her to believe. For a middle schooler, Ryou's cooking skills are incomparable; but recently, though Ryou's food looks appetizing and smells inviting, the taste has not been delicious. Just when the dejected art student comes to terms with the possibility that she might continue living alone for the rest of her life, her aunt tells her that Kirin Morino—Ryou's second cousin—will begin staying with her every weekend since the younger girl has joined a cram school in Tokyo and aims to attend the same school as Ryou.\n",
       "\n",
       "Surprisingly, with her cousin's arrival, Ryou finds that her cooking has vastly improved—apparently, it is not her prowess in the kitchen, but the sharing of the experience with those closest to her that seems to make the flavors shine.</p>\n",
       "        <p><b>Score:</b> 6.8</p>\n",
       "        <p><b>Type:</b> TV</p>\n",
       "        <p><b>Episodes:</b> 12.0</p>\n",
       "        <p><b>Genres:</b> Gourmet, Slice of Life</p>\n",
       "        <p><b>Themes:</b> CGDCT</p>\n",
       "        <p><b>Demographic:</b> Seinen</p>\n",
       "        <p><b>Season:</b> Winter 2015</p>\n",
       "        <p><b>MAL Page:</b> <a href=\"https://myanimelist.net/anime/24629/Koufuku_Graffiti\" target=\"_blank\">Link to MyAnimeList</a></p>\n",
       "        "
      ],
      "text/plain": [
       "<IPython.core.display.HTML object>"
      ]
     },
     "metadata": {},
     "output_type": "display_data"
    },
    {
     "data": {
      "text/html": [
       "<p><b>Trailer:</b> <a href=\"https://www.youtube.com/watch?v=KIvmE6cFLj0\" target=\"_blank\">Watch Trailer</a></p>"
      ],
      "text/plain": [
       "<IPython.core.display.HTML object>"
      ]
     },
     "metadata": {},
     "output_type": "display_data"
    },
    {
     "data": {
      "text/html": [
       "<hr>"
      ],
      "text/plain": [
       "<IPython.core.display.HTML object>"
      ]
     },
     "metadata": {},
     "output_type": "display_data"
    },
    {
     "data": {
      "text/html": [
       "\n",
       "        <h1 style=\"font-family:Arial;\">Endro~!</h1>\n",
       "        <h3 style=\"font-family:Arial;\">Because you watched: Sora yori mo Tooi Basho</h3>\n",
       "        <img src=\"https://cdn.myanimelist.net/images/anime/1300/111361.jpg\" alt=\"Endro~!\" style=\"width:225px;height:auto;float:left;margin-right:15px;\">\n",
       "        <p><b>Synopsis:</b> In a world of adventurers and magic lies Naral Island. Every generation, a Demon Lord rises to plague the land, and every generation, a Hero is born to subdue him. For countless centuries, the cycle has repeated with no end in sight. The latest Hero, Juulia \"Yusha\" Charldetto, has almost completed her valiant campaign alongside her party members: responsible priest Seiran \"Seira\" Élénoir, enigmatic mage Meiza \"Mei\" Endust, and hyper-energetic warrior Fai Fai.\n",
       "\n",
       "In the final battle against the Demon Lord, Yusha's party attempt a risky spell to cast their enemy into the drifts of time. But the incantation goes awry, sending Yusha and her friends back to a time before the Demon Lord, before Yusha becomes the Hero, and before the party had even graduated as adventurers. With their memories of the future erased, the four girls restart their ambitions to become the Hero's Party, aspiring to defeat the Demon Lord.\n",
       "\n",
       "However, in a sudden twist of fate, the Demon Lord was also sent back in time with her memories intact. Reduced to the form of a little girl, the Demon Lord takes the name Mao and infiltrates the adventurers' school as a teacher, planning to stop Yusha before she becomes a hero. Thus begins the story of Yusha and her friends, in their quest to defeat the Demon Lord, not knowing that the one they seek is right by their side.</p>\n",
       "        <p><b>Score:</b> 6.9</p>\n",
       "        <p><b>Type:</b> TV</p>\n",
       "        <p><b>Episodes:</b> 12.0</p>\n",
       "        <p><b>Genres:</b> Fantasy, Slice of Life</p>\n",
       "        <p><b>Themes:</b> CGDCT</p>\n",
       "        \n",
       "        <p><b>Season:</b> Winter 2019</p>\n",
       "        <p><b>MAL Page:</b> <a href=\"https://myanimelist.net/anime/38062/Endro\" target=\"_blank\">Link to MyAnimeList</a></p>\n",
       "        "
      ],
      "text/plain": [
       "<IPython.core.display.HTML object>"
      ]
     },
     "metadata": {},
     "output_type": "display_data"
    },
    {
     "data": {
      "text/html": [
       "<p><b>Trailer:</b> <a href=\"https://www.youtube.com/watch?v=XSUjn_dn6uQ\" target=\"_blank\">Watch Trailer</a></p>"
      ],
      "text/plain": [
       "<IPython.core.display.HTML object>"
      ]
     },
     "metadata": {},
     "output_type": "display_data"
    },
    {
     "data": {
      "text/html": [
       "<hr>"
      ],
      "text/plain": [
       "<IPython.core.display.HTML object>"
      ]
     },
     "metadata": {},
     "output_type": "display_data"
    },
    {
     "data": {
      "text/html": [
       "\n",
       "        <h1 style=\"font-family:Arial;\">Ramen Daisuki Koizumi-san</h1>\n",
       "        <h3 style=\"font-family:Arial;\">Because you watched: Sora yori mo Tooi Basho</h3>\n",
       "        <img src=\"https://cdn.myanimelist.net/images/anime/5/89876.jpg\" alt=\"Ramen Daisuki Koizumi-san\" style=\"width:225px;height:auto;float:left;margin-right:15px;\">\n",
       "        <p><b>Synopsis:</b> From standing in the sun for hours to traveling miles away from home, gorgeous high school student Koizumi stops at nothing to fulfill her desire for ramen. But these previously solo trips soon change when Koizumi's classmate Yuu Oosawa develops an infatuation with her, and begins to join Koizumi uninvitedly on her adventures. As Yuu continues to be shocked by Koizumi's enormous appetite, she learns about the endless variety of ramen from, arguably, its greatest connoisseur ever!</p>\n",
       "        <p><b>Score:</b> 6.56</p>\n",
       "        <p><b>Type:</b> TV</p>\n",
       "        <p><b>Episodes:</b> 12.0</p>\n",
       "        <p><b>Genres:</b> Comedy, Gourmet</p>\n",
       "        <p><b>Themes:</b> CGDCT</p>\n",
       "        \n",
       "        <p><b>Season:</b> Winter 2018</p>\n",
       "        <p><b>MAL Page:</b> <a href=\"https://myanimelist.net/anime/35298/Ramen_Daisuki_Koizumi-san\" target=\"_blank\">Link to MyAnimeList</a></p>\n",
       "        "
      ],
      "text/plain": [
       "<IPython.core.display.HTML object>"
      ]
     },
     "metadata": {},
     "output_type": "display_data"
    },
    {
     "data": {
      "text/html": [
       "<p><b>Trailer:</b> <a href=\"nan\" target=\"_blank\">Watch Trailer</a></p>"
      ],
      "text/plain": [
       "<IPython.core.display.HTML object>"
      ]
     },
     "metadata": {},
     "output_type": "display_data"
    },
    {
     "data": {
      "text/html": [
       "<hr>"
      ],
      "text/plain": [
       "<IPython.core.display.HTML object>"
      ]
     },
     "metadata": {},
     "output_type": "display_data"
    },
    {
     "data": {
      "text/html": [
       "\n",
       "        <h1 style=\"font-family:Arial;\">Hotarubi no Mori e</h1>\n",
       "        <h3 style=\"font-family:Arial;\">Because you watched: Tenki no Ko</h3>\n",
       "        <img src=\"https://cdn.myanimelist.net/images/anime/1599/112267.jpg\" alt=\"Hotarubi no Mori e\" style=\"width:225px;height:auto;float:left;margin-right:15px;\">\n",
       "        <p><b>Synopsis:</b> During a summer vacation at her grandfather’s house, six-year-old Hotaru Takegawa gets lost in a forest rumored to be inhabited by spirits. While crying out in desperation, Hotaru is approached by Gin—a mysterious boy wearing a mask—who offers to help her.\n",
       "\n",
       "Overjoyed at the sight of another person, Hotaru runs to Gin with open arms only to be rudely fended off. However, she quickly learns the grave reason behind his behavior: a dreadful curse has been cast upon Gin. Should he ever be touched by a human being, he will disappear forever.\n",
       "\n",
       "Though Gin urges her to never return, Hotaru does the exact opposite, and before too long, the two become close friends despite his delicate situation. Nonetheless, as years pass and their mutual feelings grow stronger, Hotaru and Gin start struggling with the boundaries that destiny has set between them.</p>\n",
       "        <p><b>Score:</b> 8.27</p>\n",
       "        <p><b>Type:</b> Movie</p>\n",
       "        <p><b>Episodes:</b> 1.0</p>\n",
       "        <p><b>Genres:</b> Award Winning, Drama, Romance, Supernatural</p>\n",
       "        \n",
       "        <p><b>Demographic:</b> Shoujo</p>\n",
       "        <p><b>Season:</b> Sep 17 2011</p>\n",
       "        <p><b>MAL Page:</b> <a href=\"https://myanimelist.net/anime/10408/Hotarubi_no_Mori_e\" target=\"_blank\">Link to MyAnimeList</a></p>\n",
       "        "
      ],
      "text/plain": [
       "<IPython.core.display.HTML object>"
      ]
     },
     "metadata": {},
     "output_type": "display_data"
    },
    {
     "data": {
      "text/html": [
       "<p><b>Trailer:</b> <a href=\"https://www.youtube.com/watch?v=qXLSRH31Yao\" target=\"_blank\">Watch Trailer</a></p>"
      ],
      "text/plain": [
       "<IPython.core.display.HTML object>"
      ]
     },
     "metadata": {},
     "output_type": "display_data"
    },
    {
     "data": {
      "text/html": [
       "<hr>"
      ],
      "text/plain": [
       "<IPython.core.display.HTML object>"
      ]
     },
     "metadata": {},
     "output_type": "display_data"
    },
    {
     "data": {
      "text/html": [
       "\n",
       "        <h1 style=\"font-family:Arial;\">Ousama Ranking</h1>\n",
       "        <h3 style=\"font-family:Arial;\">Because you watched: Tenki no Ko</h3>\n",
       "        <img src=\"https://cdn.myanimelist.net/images/anime/1347/117616.jpg\" alt=\"Ousama Ranking\" style=\"width:225px;height:auto;float:left;margin-right:15px;\">\n",
       "        <p><b>Synopsis:</b> The people of the kingdom look down on the young Prince Bojji, who can neither hear nor speak. They call him \"The Useless Prince\" while jeering at his supposed foolishness.\n",
       "\n",
       "However, while Bojji may not be physically strong, he is certainly not weak of heart. When a chance encounter with a shadow creature should have left him traumatized, it instead makes him believe that he has found a friend amidst those who only choose to notice his shortcomings. He starts meeting with Kage, the shadow, regularly, to the point where even the otherwise abrasive creature begins to warm up to him.\n",
       "\n",
       "Kage and Bojji's unlikely friendship lays the budding foundations of the prince's journey, one where he intends to conquer his fears and insecurities. Despite the constant ridicule he faces, Bojji resolves to fulfill his desire of becoming the best king he can be.</p>\n",
       "        <p><b>Score:</b> 8.5</p>\n",
       "        <p><b>Type:</b> TV</p>\n",
       "        <p><b>Episodes:</b> 23.0</p>\n",
       "        <p><b>Genres:</b> Adventure, Fantasy</p>\n",
       "        \n",
       "        \n",
       "        <p><b>Season:</b> Fall 2021</p>\n",
       "        <p><b>MAL Page:</b> <a href=\"https://myanimelist.net/anime/40834/Ousama_Ranking\" target=\"_blank\">Link to MyAnimeList</a></p>\n",
       "        "
      ],
      "text/plain": [
       "<IPython.core.display.HTML object>"
      ]
     },
     "metadata": {},
     "output_type": "display_data"
    },
    {
     "data": {
      "text/html": [
       "<p><b>Trailer:</b> <a href=\"https://www.youtube.com/watch?v=c1HHoucIxRg\" target=\"_blank\">Watch Trailer</a></p>"
      ],
      "text/plain": [
       "<IPython.core.display.HTML object>"
      ]
     },
     "metadata": {},
     "output_type": "display_data"
    },
    {
     "data": {
      "text/html": [
       "<hr>"
      ],
      "text/plain": [
       "<IPython.core.display.HTML object>"
      ]
     },
     "metadata": {},
     "output_type": "display_data"
    },
    {
     "data": {
      "text/html": [
       "\n",
       "        <h1 style=\"font-family:Arial;\">Nisemonogatari</h1>\n",
       "        <h3 style=\"font-family:Arial;\">Because you watched: Tenki no Ko</h3>\n",
       "        <img src=\"https://cdn.myanimelist.net/images/anime/1044/103654.jpg\" alt=\"Nisemonogatari\" style=\"width:225px;height:auto;float:left;margin-right:15px;\">\n",
       "        <p><b>Synopsis:</b> Koyomi Araragi has recently survived a vampire attack and met several girls plagued by supernatural entities. On top of all this, he wakes up one morning to find himself kidnapped and tied up by his girlfriend Hitagi Senjougahara. Araragi's sister Karen has run afoul of Deishuu Kaiki, a swindler who once conned Senjougahara's family. As a result, Senjougahara has imprisoned Araragi to keep him safe from the devious Kaiki. But when Araragi receives a frantic message from Karen, he sets out to rescue her.\n",
       "\n",
       "Along with Karen's troubles, Tsukihi, Araragi's other server, faces issues of her own. And when two mysterious women step into their lives, not even Araragi can anticipate their true goals, nor the catastrophic truths about his family soon to be revealed.</p>\n",
       "        <p><b>Score:</b> 8.13</p>\n",
       "        <p><b>Type:</b> TV</p>\n",
       "        <p><b>Episodes:</b> 11.0</p>\n",
       "        <p><b>Genres:</b> Comedy, Mystery, Supernatural, Ecchi</p>\n",
       "        \n",
       "        \n",
       "        <p><b>Season:</b> Winter 2012</p>\n",
       "        <p><b>MAL Page:</b> <a href=\"https://myanimelist.net/anime/11597/Nisemonogatari\" target=\"_blank\">Link to MyAnimeList</a></p>\n",
       "        "
      ],
      "text/plain": [
       "<IPython.core.display.HTML object>"
      ]
     },
     "metadata": {},
     "output_type": "display_data"
    },
    {
     "data": {
      "text/html": [
       "<p><b>Trailer:</b> <a href=\"https://www.youtube.com/watch?v=NnInguACMbw\" target=\"_blank\">Watch Trailer</a></p>"
      ],
      "text/plain": [
       "<IPython.core.display.HTML object>"
      ]
     },
     "metadata": {},
     "output_type": "display_data"
    },
    {
     "data": {
      "text/html": [
       "<hr>"
      ],
      "text/plain": [
       "<IPython.core.display.HTML object>"
      ]
     },
     "metadata": {},
     "output_type": "display_data"
    },
    {
     "data": {
      "text/html": [
       "\n",
       "        <h1 style=\"font-family:Arial;\">Ore no Kanojo to Osananajimi ga Shuraba Sugiru</h1>\n",
       "        <h3 style=\"font-family:Arial;\">Because you watched: 5-toubun no Hanayome ∬</h3>\n",
       "        <img src=\"https://cdn.myanimelist.net/images/anime/13/44187.jpg\" alt=\"Ore no Kanojo to Osananajimi ga Shuraba Sugiru\" style=\"width:225px;height:auto;float:left;margin-right:15px;\">\n",
       "        <p><b>Synopsis:</b> The infidelity of Eita Kidou's parents not only made his family fall apart, but also made him skeptic of love. Having no intention to delve into romance, Eita devotes his entire high school life to his studies in order to become a doctor.\n",
       "\n",
       "It did not take long for the beautiful and popular Masuzu Natsukawa to notice Eita's apathy. Tired of being the object of people's affection, she asks him to pretend to be her boyfriend, as she too feels disgusted at the notion of love. Eita, however, refuses—yet Masuzu has one trick left up her sleeve: Eita’s journal and threatening to post the embarrassing content online if he does not comply.\n",
       "\n",
       "Now entangled in a fake romance with the most desired girl at school, Eita's life is turned upside down. Whether envied by his peers or receiving a confession, he must cope with his newfound relationship and all the troubles that come along with it.</p>\n",
       "        <p><b>Score:</b> 6.9</p>\n",
       "        <p><b>Type:</b> TV</p>\n",
       "        <p><b>Episodes:</b> 13.0</p>\n",
       "        <p><b>Genres:</b> Comedy, Romance</p>\n",
       "        <p><b>Themes:</b> Harem, School</p>\n",
       "        \n",
       "        <p><b>Season:</b> Winter 2013</p>\n",
       "        <p><b>MAL Page:</b> <a href=\"https://myanimelist.net/anime/14749/Ore_no_Kanojo_to_Osananajimi_ga_Shuraba_Sugiru\" target=\"_blank\">Link to MyAnimeList</a></p>\n",
       "        "
      ],
      "text/plain": [
       "<IPython.core.display.HTML object>"
      ]
     },
     "metadata": {},
     "output_type": "display_data"
    },
    {
     "data": {
      "text/html": [
       "<p><b>Trailer:</b> <a href=\"https://www.youtube.com/watch?v=Qxf-PCLJr-Q\" target=\"_blank\">Watch Trailer</a></p>"
      ],
      "text/plain": [
       "<IPython.core.display.HTML object>"
      ]
     },
     "metadata": {},
     "output_type": "display_data"
    },
    {
     "data": {
      "text/html": [
       "<hr>"
      ],
      "text/plain": [
       "<IPython.core.display.HTML object>"
      ]
     },
     "metadata": {},
     "output_type": "display_data"
    },
    {
     "data": {
      "text/html": [
       "\n",
       "        <h1 style=\"font-family:Arial;\">Masamune-kun no Revenge</h1>\n",
       "        <h3 style=\"font-family:Arial;\">Because you watched: 5-toubun no Hanayome ∬</h3>\n",
       "        <img src=\"https://cdn.myanimelist.net/images/anime/12/83709.jpg\" alt=\"Masamune-kun no Revenge\" style=\"width:225px;height:auto;float:left;margin-right:15px;\">\n",
       "        <p><b>Synopsis:</b> When Masamune Makabe was a child, he was rejected by a rich, beautiful girl named Aki Adagaki, who gave him the nickname ''Piggy'' for being overweight. Devastated, Masamune put great effort into working out to improve his appearance. Now a handsome yet narcissistic high school student, Masamune is determined to exact revenge—he will have Aki fall madly in love with him and ultimately reject her the next time they meet.\n",
       "\n",
       "To his surprise, Masamune discovers he has transferred into Aki's school. Setting his plan into motion, Masamune first begins to form a relationship with the ''Brutal Princess'' but, despite his efforts, fails miserably at his initial attempts. Shockingly, when Masamune finally progresses towards his vengeance, he receives a mysterious letter addressing him by his old nickname. Unless Masamune discovers the sender's identity, his plan is doomed before it even starts!</p>\n",
       "        <p><b>Score:</b> 6.75</p>\n",
       "        <p><b>Type:</b> TV</p>\n",
       "        <p><b>Episodes:</b> 12.0</p>\n",
       "        <p><b>Genres:</b> Comedy, Romance</p>\n",
       "        <p><b>Themes:</b> Harem, School</p>\n",
       "        <p><b>Demographic:</b> Shounen</p>\n",
       "        <p><b>Season:</b> Winter 2017</p>\n",
       "        <p><b>MAL Page:</b> <a href=\"https://myanimelist.net/anime/33487/Masamune-kun_no_Revenge\" target=\"_blank\">Link to MyAnimeList</a></p>\n",
       "        "
      ],
      "text/plain": [
       "<IPython.core.display.HTML object>"
      ]
     },
     "metadata": {},
     "output_type": "display_data"
    },
    {
     "data": {
      "text/html": [
       "<p><b>Trailer:</b> <a href=\"https://www.youtube.com/watch?v=XmfXcVLA1d8\" target=\"_blank\">Watch Trailer</a></p>"
      ],
      "text/plain": [
       "<IPython.core.display.HTML object>"
      ]
     },
     "metadata": {},
     "output_type": "display_data"
    },
    {
     "data": {
      "text/html": [
       "<hr>"
      ],
      "text/plain": [
       "<IPython.core.display.HTML object>"
      ]
     },
     "metadata": {},
     "output_type": "display_data"
    },
    {
     "data": {
      "text/html": [
       "\n",
       "        <h1 style=\"font-family:Arial;\">Bokutachi wa Benkyou ga Dekinai</h1>\n",
       "        <h3 style=\"font-family:Arial;\">Because you watched: 5-toubun no Hanayome ∬</h3>\n",
       "        <img src=\"https://cdn.myanimelist.net/images/anime/1602/100510.jpg\" alt=\"Bokutachi wa Benkyou ga Dekinai\" style=\"width:225px;height:auto;float:left;margin-right:15px;\">\n",
       "        <p><b>Synopsis:</b> Nariyuki Yuiga, an impoverished third-year high school student, works tirelessly to receive the VIP nomination, a scholarship that would cover all of his college tuition fees. In recognition of his hard work, the headmaster awards him the renowned scholarship.\n",
       "\n",
       "However, this scholarship is given under one condition: he must tutor the school's geniuses in their weakest subjects! Joining his new brigade of pupils are the math maestro Rizu Ogata, who wants to study humanities; the literature legend Fumino Furuhashi, who wants to study science; and Yuiga's sports-savvy childhood friend, Uruka Takemoto, who is hopeless at everything else.\n",
       "\n",
       "Bokutachi wa Benkyou ga Dekinai follows Yuiga as he tries to teach his three eccentric tutees in a series of strange and comedic antics. But as Ogata's and Furuhashi's ambitions conflict with their talents, will Yuiga be able to help his students achieve their dreams?</p>\n",
       "        <p><b>Score:</b> 7.27</p>\n",
       "        <p><b>Type:</b> TV</p>\n",
       "        <p><b>Episodes:</b> 13.0</p>\n",
       "        <p><b>Genres:</b> Comedy, Romance</p>\n",
       "        <p><b>Themes:</b> Harem, School</p>\n",
       "        <p><b>Demographic:</b> Shounen</p>\n",
       "        <p><b>Season:</b> Spring 2019</p>\n",
       "        <p><b>MAL Page:</b> <a href=\"https://myanimelist.net/anime/38186/Bokutachi_wa_Benkyou_ga_Dekinai\" target=\"_blank\">Link to MyAnimeList</a></p>\n",
       "        "
      ],
      "text/plain": [
       "<IPython.core.display.HTML object>"
      ]
     },
     "metadata": {},
     "output_type": "display_data"
    },
    {
     "data": {
      "text/html": [
       "<p><b>Trailer:</b> <a href=\"https://www.youtube.com/watch?v=CXQdqp6JFxI\" target=\"_blank\">Watch Trailer</a></p>"
      ],
      "text/plain": [
       "<IPython.core.display.HTML object>"
      ]
     },
     "metadata": {},
     "output_type": "display_data"
    },
    {
     "data": {
      "text/html": [
       "<hr>"
      ],
      "text/plain": [
       "<IPython.core.display.HTML object>"
      ]
     },
     "metadata": {},
     "output_type": "display_data"
    },
    {
     "data": {
      "text/html": [
       "\n",
       "        <h1 style=\"font-family:Arial;\">Myself; Yourself</h1>\n",
       "        <h3 style=\"font-family:Arial;\">Because you watched: Araburu Kisetsu no Otome-domo yo.</h3>\n",
       "        <img src=\"https://cdn.myanimelist.net/images/anime/13/75247.jpg\" alt=\"Myself; Yourself\" style=\"width:225px;height:auto;float:left;margin-right:15px;\">\n",
       "        <p><b>Synopsis:</b> In the peaceful little town of Sakuranomori, a group of young friends are about to bid farewell to one of their own. Due to his parents’ business plans, Sana Hidaka has to move away from his quiet childhood home to the boisterous city of Tokyo. Though it pains him, he must say goodbye to his precious friends—the kind-hearted Aoi Oribe, the spunky Wakatsuki twins, Shuri and Shuusuke, and the cheerful and upbeat Nanaka Yatsushiro. But even though he is reluctant to leave them behind, he believes that no matter how far apart they are, they will always cherish the memories of their friendship.\n",
       "\n",
       "Five years later, Sana, now a 16-year-old high school student, returns to his hometown with the hope of restoring his old life. However, he quickly realizes that although his town may not have changed drastically, the friends he left behind are not who they used to be. Unsettling shadows loom over Sakuranomori as his friends hold new secrets and bear burdens that threaten the bonds they once shared.</p>\n",
       "        <p><b>Score:</b> 7.1</p>\n",
       "        <p><b>Type:</b> TV</p>\n",
       "        <p><b>Episodes:</b> 13.0</p>\n",
       "        <p><b>Genres:</b> Drama, Romance</p>\n",
       "        <p><b>Themes:</b> School</p>\n",
       "        \n",
       "        <p><b>Season:</b> Fall 2007</p>\n",
       "        <p><b>MAL Page:</b> <a href=\"https://myanimelist.net/anime/2926/Myself__Yourself\" target=\"_blank\">Link to MyAnimeList</a></p>\n",
       "        "
      ],
      "text/plain": [
       "<IPython.core.display.HTML object>"
      ]
     },
     "metadata": {},
     "output_type": "display_data"
    },
    {
     "data": {
      "text/html": [
       "<p><b>Trailer:</b> <a href=\"nan\" target=\"_blank\">Watch Trailer</a></p>"
      ],
      "text/plain": [
       "<IPython.core.display.HTML object>"
      ]
     },
     "metadata": {},
     "output_type": "display_data"
    },
    {
     "data": {
      "text/html": [
       "<hr>"
      ],
      "text/plain": [
       "<IPython.core.display.HTML object>"
      ]
     },
     "metadata": {},
     "output_type": "display_data"
    },
    {
     "data": {
      "text/html": [
       "\n",
       "        <h1 style=\"font-family:Arial;\">Atarashii Joushi wa Do Tennen</h1>\n",
       "        <h3 style=\"font-family:Arial;\">Because you watched: Comic Girls</h3>\n",
       "        <img src=\"https://cdn.myanimelist.net/images/anime/1630/138388.jpg\" alt=\"Atarashii Joushi wa Do Tennen\" style=\"width:225px;height:auto;float:left;margin-right:15px;\">\n",
       "        <p><b>Synopsis:</b> After 26-year-old Kentarou Momose develops health problems due to his boss' abuse, he quits his job and joins a different company. Now, he hopes to start anew under the care of his mentor and direct supervisor, 34-year-old Yuusei Shirosaki.\n",
       "\n",
       "Shirosaki is a capable boss admired by his coworkers, which makes Momose fear letting him down and reliving the past traumas. However, Momose can rest easy, as Shirosaki is always delighted to help—even if he looks absolutely ridiculous doing it. Although it may take some adjusting, Momose realizes that there is no need for caution around his new, endearingly eccentric boss after all.</p>\n",
       "        <p><b>Score:</b> 7.94</p>\n",
       "        <p><b>Type:</b> TV</p>\n",
       "        <p><b>Episodes:</b> 12.0</p>\n",
       "        <p><b>Genres:</b> Slice of Life</p>\n",
       "        <p><b>Themes:</b> Adult Cast, Iyashikei, Workplace</p>\n",
       "        \n",
       "        <p><b>Season:</b> Fall 2023</p>\n",
       "        <p><b>MAL Page:</b> <a href=\"https://myanimelist.net/anime/55310/Atarashii_Joushi_wa_Do_Tennen\" target=\"_blank\">Link to MyAnimeList</a></p>\n",
       "        "
      ],
      "text/plain": [
       "<IPython.core.display.HTML object>"
      ]
     },
     "metadata": {},
     "output_type": "display_data"
    },
    {
     "data": {
      "text/html": [
       "<p><b>Trailer:</b> <a href=\"https://www.youtube.com/watch?v=Qb9YyEvdkEc\" target=\"_blank\">Watch Trailer</a></p>"
      ],
      "text/plain": [
       "<IPython.core.display.HTML object>"
      ]
     },
     "metadata": {},
     "output_type": "display_data"
    },
    {
     "data": {
      "text/html": [
       "<hr>"
      ],
      "text/plain": [
       "<IPython.core.display.HTML object>"
      ]
     },
     "metadata": {},
     "output_type": "display_data"
    },
    {
     "data": {
      "text/html": [
       "\n",
       "        <h1 style=\"font-family:Arial;\">Yuru Camp△ Specials</h1>\n",
       "        <h3 style=\"font-family:Arial;\">Because you watched: Comic Girls</h3>\n",
       "        <img src=\"https://cdn.myanimelist.net/images/anime/1258/91059.jpg\" alt=\"Yuru Camp△ Specials\" style=\"width:225px;height:auto;float:left;margin-right:15px;\">\n",
       "        <p><b>Synopsis:</b> When Chiaki Oogaki and Aoi Inuyama start the Outdoor Activities Club at their school, it is only the two of them and an array of ambitious plans. Things do not change much even after a new member—Nadeshiko Kagamihara—joins. And yet, the cheerful, cozy atmosphere seems to bring many curious visitors to their small headquarters. \n",
       "\n",
       "As the three girls set out on a camping trip to Australia alongside their friends Rin Shima and Ena Saitou, an unexpected incident turns the relaxing event into quite an adventure.</p>\n",
       "        <p><b>Score:</b> 7.57</p>\n",
       "        <p><b>Type:</b> Special</p>\n",
       "        <p><b>Episodes:</b> 3.0</p>\n",
       "        <p><b>Genres:</b> Slice of Life</p>\n",
       "        <p><b>Themes:</b> CGDCT, Iyashikei</p>\n",
       "        \n",
       "        <p><b>Season:</b> Mar 28 2018</p>\n",
       "        <p><b>MAL Page:</b> <a href=\"https://myanimelist.net/anime/37341/Yuru_Camp△_Specials\" target=\"_blank\">Link to MyAnimeList</a></p>\n",
       "        "
      ],
      "text/plain": [
       "<IPython.core.display.HTML object>"
      ]
     },
     "metadata": {},
     "output_type": "display_data"
    },
    {
     "data": {
      "text/html": [
       "<p><b>Trailer:</b> <a href=\"nan\" target=\"_blank\">Watch Trailer</a></p>"
      ],
      "text/plain": [
       "<IPython.core.display.HTML object>"
      ]
     },
     "metadata": {},
     "output_type": "display_data"
    },
    {
     "data": {
      "text/html": [
       "<hr>"
      ],
      "text/plain": [
       "<IPython.core.display.HTML object>"
      ]
     },
     "metadata": {},
     "output_type": "display_data"
    },
    {
     "data": {
      "text/html": [
       "\n",
       "        <h1 style=\"font-family:Arial;\">Wakaba*Girl</h1>\n",
       "        <h3 style=\"font-family:Arial;\">Because you watched: Comic Girls</h3>\n",
       "        <img src=\"https://cdn.myanimelist.net/images/anime/2/74878.jpg\" alt=\"Wakaba*Girl\" style=\"width:225px;height:auto;float:left;margin-right:15px;\">\n",
       "        <p><b>Synopsis:</b> Wakaba Kohashi, a sheltered rich girl, dreams of becoming a fashionable and trendy gyaru because she admires their outgoing and carefree nature. With this goal in mind, Wakaba begins the school year hoping to make her high school debut as a gyaru. On the first day of class, she meets the pure Moeko Tokita, the serious Nao Mashiba, and the eccentric Mao Kurokawa, and the four of them quickly become friends as they learn about and imitate each other's lifestyles.\n",
       "\n",
       "Wakaba*Girl follows the adventures of these four friends while they experience events like school festivals, waterpark trips, and gym class tests. Along the way, Wakaba discovers what it is like to live as a regular student while Nao, Moeka, and Mao catch a glimpse into the life of a rich family. With never a dull moment in their lives, the four girls make sure to live each day to the fullest.</p>\n",
       "        <p><b>Score:</b> 6.88</p>\n",
       "        <p><b>Type:</b> TV</p>\n",
       "        <p><b>Episodes:</b> 13.0</p>\n",
       "        <p><b>Genres:</b> Slice of Life</p>\n",
       "        <p><b>Themes:</b> CGDCT, School</p>\n",
       "        \n",
       "        <p><b>Season:</b> Summer 2015</p>\n",
       "        <p><b>MAL Page:</b> <a href=\"https://myanimelist.net/anime/30355/WakabaGirl\" target=\"_blank\">Link to MyAnimeList</a></p>\n",
       "        "
      ],
      "text/plain": [
       "<IPython.core.display.HTML object>"
      ]
     },
     "metadata": {},
     "output_type": "display_data"
    },
    {
     "data": {
      "text/html": [
       "<p><b>Trailer:</b> <a href=\"https://www.youtube.com/watch?v=zKdguZl3_tc\" target=\"_blank\">Watch Trailer</a></p>"
      ],
      "text/plain": [
       "<IPython.core.display.HTML object>"
      ]
     },
     "metadata": {},
     "output_type": "display_data"
    },
    {
     "data": {
      "text/html": [
       "<hr>"
      ],
      "text/plain": [
       "<IPython.core.display.HTML object>"
      ]
     },
     "metadata": {},
     "output_type": "display_data"
    },
    {
     "data": {
      "text/html": [
       "\n",
       "        <h1 style=\"font-family:Arial;\">Love Live! Sunshine!! The School Idol Movie: Over the Rainbow</h1>\n",
       "        <h3 style=\"font-family:Arial;\">Because you watched: Comic Girls</h3>\n",
       "        <img src=\"https://cdn.myanimelist.net/images/anime/1859/100474.jpg\" alt=\"Love Live! Sunshine!! The School Idol Movie: Over the Rainbow\" style=\"width:225px;height:auto;float:left;margin-right:15px;\">\n",
       "        <p><b>Synopsis:</b> Following the closure of Uranohoshi Girls' High School, the third-year students—Dia Kurosawa, Kanan Matsuura, and Mari Ohara—have just graduated, leaving Aqours with solely the first and second-years. While searching for a new place the remaining members can use to practice, they decide to visit the new school they will soon enroll in. However, to their surprise, the building seems to be abandoned! It turns out that due to the school board's worries regarding how the freshly transferred Uranohoshi students may burden the clubs, they were instead sent to a branch school. This sets Aqours on a new goal—to prove that Uranohoshi students are serious in their clubs as well. Meanwhile, another problem arises: the third-years have unexpectedly gone missing during their graduation trip! \n",
       "\n",
       "Love Live! Sunshine!! The School Idol Movie: Over the Rainbow revolves around the remaining Aqours members as they venture out to search for their missing seniors and, at the same time, try to figure out a way to change the new school's mind.</p>\n",
       "        <p><b>Score:</b> 7.61</p>\n",
       "        <p><b>Type:</b> Movie</p>\n",
       "        <p><b>Episodes:</b> 1.0</p>\n",
       "        <p><b>Genres:</b> Slice of Life</p>\n",
       "        <p><b>Themes:</b> Idols (Female), Music, School</p>\n",
       "        \n",
       "        <p><b>Season:</b> Jan 4 2019</p>\n",
       "        <p><b>MAL Page:</b> <a href=\"https://myanimelist.net/anime/37027/Love_Live_Sunshine_The_School_Idol_Movie__Over_the_Rainbow\" target=\"_blank\">Link to MyAnimeList</a></p>\n",
       "        "
      ],
      "text/plain": [
       "<IPython.core.display.HTML object>"
      ]
     },
     "metadata": {},
     "output_type": "display_data"
    },
    {
     "data": {
      "text/html": [
       "<p><b>Trailer:</b> <a href=\"https://www.youtube.com/watch?v=1haB_uUpbUY\" target=\"_blank\">Watch Trailer</a></p>"
      ],
      "text/plain": [
       "<IPython.core.display.HTML object>"
      ]
     },
     "metadata": {},
     "output_type": "display_data"
    },
    {
     "data": {
      "text/html": [
       "<hr>"
      ],
      "text/plain": [
       "<IPython.core.display.HTML object>"
      ]
     },
     "metadata": {},
     "output_type": "display_data"
    },
    {
     "data": {
      "text/html": [
       "\n",
       "        <h1 style=\"font-family:Arial;\">Tamayura: Hitotose</h1>\n",
       "        <h3 style=\"font-family:Arial;\">Because you watched: Comic Girls</h3>\n",
       "        <img src=\"https://cdn.myanimelist.net/images/anime/13/45368.jpg\" alt=\"Tamayura: Hitotose\" style=\"width:225px;height:auto;float:left;margin-right:15px;\">\n",
       "        <p><b>Synopsis:</b> In her last year of middle school, Fuu Sawatari had trouble dealing with her emotions following the sudden death of her father. Through the help of her brother and childhood friend, she rediscovered her love for photography, an activity she and her father often did together. In addition, she decided to attend high school in Takehara, her father's hometown and a place they often visited when she was younger.\n",
       "\n",
       "It has been one month now since Fuu moved to Takehara and became close with her current group of friends: carefree Kaoru Hanawa, excitable Norie Okazaki, and quiet Maon Sakurada. Together with them and several acquaintances around town and abroad, Fuu continues her mission of capturing the joys of everyday life using her father's camera, while also helping her friends discover their own passions.</p>\n",
       "        <p><b>Score:</b> 7.32</p>\n",
       "        <p><b>Type:</b> TV</p>\n",
       "        <p><b>Episodes:</b> 12.0</p>\n",
       "        <p><b>Genres:</b> Slice of Life</p>\n",
       "        <p><b>Themes:</b> CGDCT, Iyashikei</p>\n",
       "        \n",
       "        <p><b>Season:</b> Fall 2011</p>\n",
       "        <p><b>MAL Page:</b> <a href=\"https://myanimelist.net/anime/10232/Tamayura__Hitotose\" target=\"_blank\">Link to MyAnimeList</a></p>\n",
       "        "
      ],
      "text/plain": [
       "<IPython.core.display.HTML object>"
      ]
     },
     "metadata": {},
     "output_type": "display_data"
    },
    {
     "data": {
      "text/html": [
       "<p><b>Trailer:</b> <a href=\"nan\" target=\"_blank\">Watch Trailer</a></p>"
      ],
      "text/plain": [
       "<IPython.core.display.HTML object>"
      ]
     },
     "metadata": {},
     "output_type": "display_data"
    },
    {
     "data": {
      "text/html": [
       "<hr>"
      ],
      "text/plain": [
       "<IPython.core.display.HTML object>"
      ]
     },
     "metadata": {},
     "output_type": "display_data"
    },
    {
     "data": {
      "text/html": [
       "\n",
       "        <h1 style=\"font-family:Arial;\">Aldnoah.Zero</h1>\n",
       "        <h3 style=\"font-family:Arial;\">Because you watched: Cyberpunk: Edgerunners</h3>\n",
       "        <img src=\"https://cdn.myanimelist.net/images/anime/7/60263.jpg\" alt=\"Aldnoah.Zero\" style=\"width:225px;height:auto;float:left;margin-right:15px;\">\n",
       "        <p><b>Synopsis:</b> The discovery of a hypergate on the Moon once allowed the human race to teleport to Mars. Those who chose to settle there unearthed a technology far more advanced than that of their home planet, which they named \"Aldnoah.\" This discovery led to the founding of the Vers Empire of Mars and a declaration of war against the \"Terrans,\" those who stayed behind on Earth. However, a battle on the moon—later called \"Heaven's Fall\"—caused the hypergate to explode, destroying the moon and leading the two planets to establish an uneasy ceasefire.\n",
       "\n",
       "Their peace was a fragile one, however. Fifteen years later, high school student Inaho Kaizuka witnesses the plotted assassination of the Vers Empire's Princess Asseylum Vers Allusia, who had come to Earth in hopes of repairing the relationship between the empire and its homeland. The ceasefire is shattered, and the Martians declare war on the Terrans once again. In the face of this insurmountable enemy, Inaho and his friends must now fight against the Vers Empire to settle the war once and for all.</p>\n",
       "        <p><b>Score:</b> 7.39</p>\n",
       "        <p><b>Type:</b> TV</p>\n",
       "        <p><b>Episodes:</b> 12.0</p>\n",
       "        <p><b>Genres:</b> Action, Sci-Fi</p>\n",
       "        <p><b>Themes:</b> Mecha, Military</p>\n",
       "        \n",
       "        <p><b>Season:</b> Summer 2014</p>\n",
       "        <p><b>MAL Page:</b> <a href=\"https://myanimelist.net/anime/22729/AldnoahZero\" target=\"_blank\">Link to MyAnimeList</a></p>\n",
       "        "
      ],
      "text/plain": [
       "<IPython.core.display.HTML object>"
      ]
     },
     "metadata": {},
     "output_type": "display_data"
    },
    {
     "data": {
      "text/html": [
       "<p><b>Trailer:</b> <a href=\"https://www.youtube.com/watch?v=D6XOSJyJtk8\" target=\"_blank\">Watch Trailer</a></p>"
      ],
      "text/plain": [
       "<IPython.core.display.HTML object>"
      ]
     },
     "metadata": {},
     "output_type": "display_data"
    },
    {
     "data": {
      "text/html": [
       "<hr>"
      ],
      "text/plain": [
       "<IPython.core.display.HTML object>"
      ]
     },
     "metadata": {},
     "output_type": "display_data"
    },
    {
     "data": {
      "text/html": [
       "\n",
       "        <h1 style=\"font-family:Arial;\">Kaijuu 8-gou</h1>\n",
       "        <h3 style=\"font-family:Arial;\">Because you watched: Cyberpunk: Edgerunners</h3>\n",
       "        <img src=\"https://cdn.myanimelist.net/images/anime/1370/140362.jpg\" alt=\"Kaijuu 8-gou\" style=\"width:225px;height:auto;float:left;margin-right:15px;\">\n",
       "        <p><b>Synopsis:</b> After the destruction of their hometown, childhood friends Kafka Hibino and Mina Ashiro make a pact to become officers in the Defense Force—a militarized organization tasked with protecting Japan from colossal monsters known as \"kaijuu.\" Decades later, the 32-year-old Kafka has all but given up on his dreams of heroism. Instead, he cleans up the remains of the slaughtered kaijuu after they are defeated by valiant soldiers—including Mina, who has successfully achieved their shared goal.\n",
       "\n",
       "Upon meeting his new coworker, Reno Ichikawa, Kafka faces a mirror of his past self: an ambitious young man whose one desire is to fight as a member of the Defense Force. Unfortunately, the two are soon involved in a freak encounter with a rogue kaijuu. Though Kafka demonstrates his innate heroic nature and rescues Reno from certain doom, he is left gravely injured.\n",
       "\n",
       "While both men recover in a hospital, Kafka is seemingly attacked by another one of the beasts. As a result, he gains the ability to transform into a humanoid kaijuu with the strength and powers of the massive monsters menacing Japan. Dubbed \"Kaijuu No. 8\" by the military, Kafka resolves to use his newfound gifts for the greater good. Tied together by mutual respect, Kafka and Reno set out to join warriors like Mina at the forefront of the Defense Force.</p>\n",
       "        <p><b>Score:</b> 8.32</p>\n",
       "        <p><b>Type:</b> TV</p>\n",
       "        <p><b>Episodes:</b> 12.0</p>\n",
       "        <p><b>Genres:</b> Action, Sci-Fi</p>\n",
       "        <p><b>Themes:</b> Adult Cast, Military</p>\n",
       "        <p><b>Demographic:</b> Shounen</p>\n",
       "        <p><b>Season:</b> Spring 2024</p>\n",
       "        <p><b>MAL Page:</b> <a href=\"https://myanimelist.net/anime/52588/Kaijuu_8-gou\" target=\"_blank\">Link to MyAnimeList</a></p>\n",
       "        "
      ],
      "text/plain": [
       "<IPython.core.display.HTML object>"
      ]
     },
     "metadata": {},
     "output_type": "display_data"
    },
    {
     "data": {
      "text/html": [
       "<p><b>Trailer:</b> <a href=\"https://www.youtube.com/watch?v=7n_mFVPeApw\" target=\"_blank\">Watch Trailer</a></p>"
      ],
      "text/plain": [
       "<IPython.core.display.HTML object>"
      ]
     },
     "metadata": {},
     "output_type": "display_data"
    },
    {
     "data": {
      "text/html": [
       "<hr>"
      ],
      "text/plain": [
       "<IPython.core.display.HTML object>"
      ]
     },
     "metadata": {},
     "output_type": "display_data"
    },
    {
     "data": {
      "text/html": [
       "\n",
       "        <h1 style=\"font-family:Arial;\">World Trigger</h1>\n",
       "        <h3 style=\"font-family:Arial;\">Because you watched: Cyberpunk: Edgerunners</h3>\n",
       "        <img src=\"https://cdn.myanimelist.net/images/anime/1783/106843.jpg\" alt=\"World Trigger\" style=\"width:225px;height:auto;float:left;margin-right:15px;\">\n",
       "        <p><b>Synopsis:</b> When a gate to another world suddenly opens on Earth, Mikado City is invaded by strange creatures known as \"Neighbors,\" malicious beings impervious to traditional weaponry. In response to their arrival, an organization called the Border Defense Agency has been established to combat the Neighbor menace through special weapons called \"Triggers.\" Even though several years have passed after the gate first opened, Neighbors are still a threat and members of Border remain on guard to ensure the safety of the planet.\n",
       "\n",
       "Despite this delicate situation, members-in-training, such as Osamu Mikumo, are not permitted to use their Triggers outside of headquarters. But when the mysterious new student in his class is dragged into a forbidden area by bullies, they are attacked by Neighbors, and Osamu has no choice but to do what he believes is right. Much to his surprise, however, the transfer student Yuuma Kuga makes short work of the aliens, revealing that he is a humanoid Neighbor in disguise.</p>\n",
       "        <p><b>Score:</b> 7.58</p>\n",
       "        <p><b>Type:</b> TV</p>\n",
       "        <p><b>Episodes:</b> 73.0</p>\n",
       "        <p><b>Genres:</b> Action, Sci-Fi</p>\n",
       "        \n",
       "        <p><b>Demographic:</b> Shounen</p>\n",
       "        <p><b>Season:</b> Fall 2014</p>\n",
       "        <p><b>MAL Page:</b> <a href=\"https://myanimelist.net/anime/24405/World_Trigger\" target=\"_blank\">Link to MyAnimeList</a></p>\n",
       "        "
      ],
      "text/plain": [
       "<IPython.core.display.HTML object>"
      ]
     },
     "metadata": {},
     "output_type": "display_data"
    },
    {
     "data": {
      "text/html": [
       "<p><b>Trailer:</b> <a href=\"https://www.youtube.com/watch?v=2oui7JLlBpk\" target=\"_blank\">Watch Trailer</a></p>"
      ],
      "text/plain": [
       "<IPython.core.display.HTML object>"
      ]
     },
     "metadata": {},
     "output_type": "display_data"
    },
    {
     "data": {
      "text/html": [
       "<hr>"
      ],
      "text/plain": [
       "<IPython.core.display.HTML object>"
      ]
     },
     "metadata": {},
     "output_type": "display_data"
    },
    {
     "data": {
      "text/html": [
       "\n",
       "        <h1 style=\"font-family:Arial;\">Redline</h1>\n",
       "        <h3 style=\"font-family:Arial;\">Because you watched: Cyberpunk: Edgerunners</h3>\n",
       "        <img src=\"https://cdn.myanimelist.net/images/anime/12/28553.jpg\" alt=\"Redline\" style=\"width:225px;height:auto;float:left;margin-right:15px;\">\n",
       "        <p><b>Synopsis:</b> Every five years, an exhilarating race called Redline is held, and the universe's most anticipated competition has only one rule: that there are none. Racers are pushed to their absolute limit—a feeling that daredevil driver JP knows all too well. Having just qualified to participate in Redline, he is eager to battle against the other highly skilled drivers, particularly the beautiful rising star and the only other human that qualified, Sonoshee McLaren.\n",
       "\n",
       "But this year's Redline may be far more dangerous than usual—it has been announced to take place on the planet Roboworld with its trigger-happy military and criminals who look to turn the race to their own advantage. However, the potential danger doesn't stop the racers; in fact, it only adds to the thrill. Relying solely on his vehicle's speed, JP prepares for the event to come, aiming to take first place in the biggest race of his life.</p>\n",
       "        <p><b>Score:</b> 8.28</p>\n",
       "        <p><b>Type:</b> Movie</p>\n",
       "        <p><b>Episodes:</b> 1.0</p>\n",
       "        <p><b>Genres:</b> Action, Sci-Fi</p>\n",
       "        <p><b>Themes:</b> Adult Cast, Racing</p>\n",
       "        \n",
       "        <p><b>Season:</b> Aug 14 2009</p>\n",
       "        <p><b>MAL Page:</b> <a href=\"https://myanimelist.net/anime/6675/Redline\" target=\"_blank\">Link to MyAnimeList</a></p>\n",
       "        "
      ],
      "text/plain": [
       "<IPython.core.display.HTML object>"
      ]
     },
     "metadata": {},
     "output_type": "display_data"
    },
    {
     "data": {
      "text/html": [
       "<p><b>Trailer:</b> <a href=\"https://www.youtube.com/watch?v=RB-2Hjj_eEg\" target=\"_blank\">Watch Trailer</a></p>"
      ],
      "text/plain": [
       "<IPython.core.display.HTML object>"
      ]
     },
     "metadata": {},
     "output_type": "display_data"
    },
    {
     "data": {
      "text/html": [
       "<hr>"
      ],
      "text/plain": [
       "<IPython.core.display.HTML object>"
      ]
     },
     "metadata": {},
     "output_type": "display_data"
    },
    {
     "data": {
      "text/html": [
       "\n",
       "        <h1 style=\"font-family:Arial;\">Cowboy Bebop: Tengoku no Tobira</h1>\n",
       "        <h3 style=\"font-family:Arial;\">Because you watched: Cyberpunk: Edgerunners</h3>\n",
       "        <img src=\"https://cdn.myanimelist.net/images/anime/1439/93480.jpg\" alt=\"Cowboy Bebop: Tengoku no Tobira\" style=\"width:225px;height:auto;float:left;margin-right:15px;\">\n",
       "        <p><b>Synopsis:</b> Another day, another bounty—such is the life of the often unlucky crew of the Bebop. However, this routine is interrupted when Faye, who is chasing a fairly worthless target on Mars, witnesses an oil tanker suddenly explode, causing mass hysteria. As casualties mount due to a strange disease spreading through the smoke from the blast, a whopping three hundred million woolong price is placed on the head of the supposed perpetrator.\n",
       "\n",
       "With lives at stake and a solution to their money problems in sight, the Bebop crew springs into action. Spike, Jet, Faye, and Edward, followed closely by Ein, split up to pursue different leads across Alba City. Through their individual investigations, they discover a cover-up scheme involving a pharmaceutical company, revealing a plot that reaches much further than the ragtag team of bounty hunters could have realized.</p>\n",
       "        <p><b>Score:</b> 8.38</p>\n",
       "        <p><b>Type:</b> Movie</p>\n",
       "        <p><b>Episodes:</b> 1.0</p>\n",
       "        <p><b>Genres:</b> Action, Sci-Fi</p>\n",
       "        <p><b>Themes:</b> Adult Cast, Space</p>\n",
       "        \n",
       "        <p><b>Season:</b> Sep 1 2001</p>\n",
       "        <p><b>MAL Page:</b> <a href=\"https://myanimelist.net/anime/5/Cowboy_Bebop__Tengoku_no_Tobira\" target=\"_blank\">Link to MyAnimeList</a></p>\n",
       "        "
      ],
      "text/plain": [
       "<IPython.core.display.HTML object>"
      ]
     },
     "metadata": {},
     "output_type": "display_data"
    },
    {
     "data": {
      "text/html": [
       "<p><b>Trailer:</b> <a href=\"nan\" target=\"_blank\">Watch Trailer</a></p>"
      ],
      "text/plain": [
       "<IPython.core.display.HTML object>"
      ]
     },
     "metadata": {},
     "output_type": "display_data"
    },
    {
     "data": {
      "text/html": [
       "<hr>"
      ],
      "text/plain": [
       "<IPython.core.display.HTML object>"
      ]
     },
     "metadata": {},
     "output_type": "display_data"
    },
    {
     "data": {
      "text/html": [
       "\n",
       "        <h1 style=\"font-family:Arial;\">MM!</h1>\n",
       "        <h3 style=\"font-family:Arial;\">Because you watched: Dumbbell Nan Kilo Moteru?</h3>\n",
       "        <img src=\"https://cdn.myanimelist.net/images/anime/8/85871.jpg\" alt=\"MM!\" style=\"width:225px;height:auto;float:left;margin-right:15px;\">\n",
       "        <p><b>Synopsis:</b> Taro Sado is a high school student who lives his day to day life with a big secret—he's a masochist! Encouraged by his cross-dressing best friend Tatsukichi Hayama, Taro asks the Second Voluntary Club for help with his problem and ends up joining the club after they vow to \"fix\" him.\n",
       "\n",
       "However, it turns out that all of the members of the club have some serious issues. The club leader Mio Isurugi is a self-designated god who is afraid of cats, Arashiko Yuuno has a severe fear of men, and the club advisor Michiru Onigawara is a sadist who enjoys making people cosplay. \n",
       "\n",
       "Together with other wacky characters such as Yumi Mamiya, a talented masseuse and Yuuno's best friend, and Noa Hiiragi, the president of the invention club, they all learn about the importance of acceptance and kindness.</p>\n",
       "        <p><b>Score:</b> 7.02</p>\n",
       "        <p><b>Type:</b> TV</p>\n",
       "        <p><b>Episodes:</b> 12.0</p>\n",
       "        <p><b>Genres:</b> Comedy, Ecchi</p>\n",
       "        <p><b>Themes:</b> Harem, School</p>\n",
       "        \n",
       "        <p><b>Season:</b> Fall 2010</p>\n",
       "        <p><b>MAL Page:</b> <a href=\"https://myanimelist.net/anime/8424/MM\" target=\"_blank\">Link to MyAnimeList</a></p>\n",
       "        "
      ],
      "text/plain": [
       "<IPython.core.display.HTML object>"
      ]
     },
     "metadata": {},
     "output_type": "display_data"
    },
    {
     "data": {
      "text/html": [
       "<p><b>Trailer:</b> <a href=\"https://www.youtube.com/watch?v=YAIn8wNFJ6Q\" target=\"_blank\">Watch Trailer</a></p>"
      ],
      "text/plain": [
       "<IPython.core.display.HTML object>"
      ]
     },
     "metadata": {},
     "output_type": "display_data"
    },
    {
     "data": {
      "text/html": [
       "<hr>"
      ],
      "text/plain": [
       "<IPython.core.display.HTML object>"
      ]
     },
     "metadata": {},
     "output_type": "display_data"
    },
    {
     "data": {
      "text/html": [
       "\n",
       "        <h1 style=\"font-family:Arial;\">Murenase! Seton Gakuen</h1>\n",
       "        <h3 style=\"font-family:Arial;\">Because you watched: Dumbbell Nan Kilo Moteru?</h3>\n",
       "        <img src=\"https://cdn.myanimelist.net/images/anime/1558/104666.jpg\" alt=\"Murenase! Seton Gakuen\" style=\"width:225px;height:auto;float:left;margin-right:15px;\">\n",
       "        <p><b>Synopsis:</b> Seton Academy is a place attended by a plethora of interesting and diverse animal species. Jin Mazama is one of the few humans there, who also happens to vehemently hate animals from the bottom of his heart! One day, he stumbles upon the rowdy and assertive girl Ranka Ookami, a small \"lone wolf\" without a pack, who has not a single friend.\n",
       "\n",
       "The desperate Ranka tries to invite Jin into joining her pack; Jin, who hates animals, naturally refuses. Amid this situation, Jin meets Hitomi Hino, a fellow human, and promptly becomes infatuated with her. After getting to know each other, the two decide to create a cooking club, and after a few bad-blooded misunderstandings, Ranka soon joins the club as well.\n",
       "\n",
       "Thus begins the howl-some and howl-arious story of two normal humans; an adorable wolf; a cheerful koala; a sluggish, blonde sloth; and a feline with cattitude in their newfound club—in a story that teaches that friendship can be forged by creatures of different kinds.</p>\n",
       "        <p><b>Score:</b> 6.92</p>\n",
       "        <p><b>Type:</b> TV</p>\n",
       "        <p><b>Episodes:</b> 12.0</p>\n",
       "        <p><b>Genres:</b> Comedy, Ecchi</p>\n",
       "        <p><b>Themes:</b> Anthropomorphic, School</p>\n",
       "        \n",
       "        <p><b>Season:</b> Winter 2020</p>\n",
       "        <p><b>MAL Page:</b> <a href=\"https://myanimelist.net/anime/40483/Murenase_Seton_Gakuen\" target=\"_blank\">Link to MyAnimeList</a></p>\n",
       "        "
      ],
      "text/plain": [
       "<IPython.core.display.HTML object>"
      ]
     },
     "metadata": {},
     "output_type": "display_data"
    },
    {
     "data": {
      "text/html": [
       "<p><b>Trailer:</b> <a href=\"https://www.youtube.com/watch?v=4HIgQWVcGoE\" target=\"_blank\">Watch Trailer</a></p>"
      ],
      "text/plain": [
       "<IPython.core.display.HTML object>"
      ]
     },
     "metadata": {},
     "output_type": "display_data"
    },
    {
     "data": {
      "text/html": [
       "<hr>"
      ],
      "text/plain": [
       "<IPython.core.display.HTML object>"
      ]
     },
     "metadata": {},
     "output_type": "display_data"
    },
    {
     "data": {
      "text/html": [
       "\n",
       "        <h1 style=\"font-family:Arial;\">Mangaka-san to Assistant-san to The Animation</h1>\n",
       "        <h3 style=\"font-family:Arial;\">Because you watched: Dumbbell Nan Kilo Moteru?</h3>\n",
       "        <img src=\"https://cdn.myanimelist.net/images/anime/11/62219.jpg\" alt=\"Mangaka-san to Assistant-san to The Animation\" style=\"width:225px;height:auto;float:left;margin-right:15px;\">\n",
       "        <p><b>Synopsis:</b> Yuuki Aito is a perverted manga artist who appreciates panties, wishing to draw as many as he can. Being surrounded by numerous female assistants, he is constantly asking to use them as references for the manga he draws.\n",
       " \n",
       "Although Aito has an extremely degenerate mind, he can also be a very kind, generous, and helpful person. The duality of his behavior confuses his assistants—do they love the considerate side of him that he rarely displays, or do they hate him for the perverted thoughts he has most of the time?</p>\n",
       "        <p><b>Score:</b> 7.09</p>\n",
       "        <p><b>Type:</b> TV</p>\n",
       "        <p><b>Episodes:</b> 12.0</p>\n",
       "        <p><b>Genres:</b> Comedy, Ecchi</p>\n",
       "        <p><b>Themes:</b> Harem</p>\n",
       "        <p><b>Demographic:</b> Seinen</p>\n",
       "        <p><b>Season:</b> Spring 2014</p>\n",
       "        <p><b>MAL Page:</b> <a href=\"https://myanimelist.net/anime/21863/Mangaka-san_to_Assistant-san_to_The_Animation\" target=\"_blank\">Link to MyAnimeList</a></p>\n",
       "        "
      ],
      "text/plain": [
       "<IPython.core.display.HTML object>"
      ]
     },
     "metadata": {},
     "output_type": "display_data"
    },
    {
     "data": {
      "text/html": [
       "<p><b>Trailer:</b> <a href=\"https://www.youtube.com/watch?v=euti9PHLOKc\" target=\"_blank\">Watch Trailer</a></p>"
      ],
      "text/plain": [
       "<IPython.core.display.HTML object>"
      ]
     },
     "metadata": {},
     "output_type": "display_data"
    },
    {
     "data": {
      "text/html": [
       "<hr>"
      ],
      "text/plain": [
       "<IPython.core.display.HTML object>"
      ]
     },
     "metadata": {},
     "output_type": "display_data"
    },
    {
     "data": {
      "text/html": [
       "\n",
       "        <h1 style=\"font-family:Arial;\">Prison School: Mad Wax</h1>\n",
       "        <h3 style=\"font-family:Arial;\">Because you watched: Dumbbell Nan Kilo Moteru?</h3>\n",
       "        <img src=\"https://cdn.myanimelist.net/images/anime/1216/122467.jpg\" alt=\"Prison School: Mad Wax\" style=\"width:225px;height:auto;float:left;margin-right:15px;\">\n",
       "        <p><b>Synopsis:</b> Hachimitsu Private Academy's five male students have been released from their oppressive prison captors, allowing them to return to their ideal school lives surrounded by short-skirted girls.\n",
       "\n",
       "With their freedom restored, things could not be going better for the gang. Kiyoshi Fujino and Shingo Wakamoto have formed close bonds with their female classmates; Reiji Andou is the center of attention due to his masochistic quirks; and even Takehito \"Gakuto\" Morokuzu—notorious for defecating himself during class—befriends the klutzy yet like-minded Mitsuko Yokoyama. \n",
       "\n",
       "However, in contrast to his fellow ex-convicts, Jouji \"Joe\" Nezu struggles to readjust to student life, and the unlikely romantic success of his friend Gakuto pushes him to his wit's end. Feeling ostracized, he begins to wonder if life was better behind bars.</p>\n",
       "        <p><b>Score:</b> 7.36</p>\n",
       "        <p><b>Type:</b> OVA</p>\n",
       "        <p><b>Episodes:</b> 1.0</p>\n",
       "        <p><b>Genres:</b> Comedy, Ecchi</p>\n",
       "        <p><b>Themes:</b> Gag Humor, School</p>\n",
       "        <p><b>Demographic:</b> Seinen</p>\n",
       "        <p><b>Season:</b> Mar 4 2016</p>\n",
       "        <p><b>MAL Page:</b> <a href=\"https://myanimelist.net/anime/32485/Prison_School__Mad_Wax\" target=\"_blank\">Link to MyAnimeList</a></p>\n",
       "        "
      ],
      "text/plain": [
       "<IPython.core.display.HTML object>"
      ]
     },
     "metadata": {},
     "output_type": "display_data"
    },
    {
     "data": {
      "text/html": [
       "<p><b>Trailer:</b> <a href=\"https://www.youtube.com/watch?v=V979_JMNYIg\" target=\"_blank\">Watch Trailer</a></p>"
      ],
      "text/plain": [
       "<IPython.core.display.HTML object>"
      ]
     },
     "metadata": {},
     "output_type": "display_data"
    },
    {
     "data": {
      "text/html": [
       "<hr>"
      ],
      "text/plain": [
       "<IPython.core.display.HTML object>"
      ]
     },
     "metadata": {},
     "output_type": "display_data"
    },
    {
     "data": {
      "text/html": [
       "\n",
       "        <h1 style=\"font-family:Arial;\">Fumetsu no Anata e: Fushi no Tabiji</h1>\n",
       "        <h3 style=\"font-family:Arial;\">Because you watched: Fumetsu no Anata e Season 2</h3>\n",
       "        <img src=\"https://cdn.myanimelist.net/images/anime/1130/116106.jpg\" alt=\"Fumetsu no Anata e: Fushi no Tabiji\" style=\"width:225px;height:auto;float:left;margin-right:15px;\">\n",
       "        <p><b>Synopsis:</b> Recap of episodes 1 to 12 of Fumetsu no Anata e.</p>\n",
       "        <p><b>Score:</b> 6.81</p>\n",
       "        <p><b>Type:</b> TV Special</p>\n",
       "        <p><b>Episodes:</b> 1.0</p>\n",
       "        <p><b>Genres:</b> Adventure, Drama, Supernatural</p>\n",
       "        \n",
       "        <p><b>Demographic:</b> Shounen</p>\n",
       "        <p><b>Season:</b> Jul 5 2021</p>\n",
       "        <p><b>MAL Page:</b> <a href=\"https://myanimelist.net/anime/49287/Fumetsu_no_Anata_e__Fushi_no_Tabiji\" target=\"_blank\">Link to MyAnimeList</a></p>\n",
       "        "
      ],
      "text/plain": [
       "<IPython.core.display.HTML object>"
      ]
     },
     "metadata": {},
     "output_type": "display_data"
    },
    {
     "data": {
      "text/html": [
       "<p><b>Trailer:</b> <a href=\"nan\" target=\"_blank\">Watch Trailer</a></p>"
      ],
      "text/plain": [
       "<IPython.core.display.HTML object>"
      ]
     },
     "metadata": {},
     "output_type": "display_data"
    },
    {
     "data": {
      "text/html": [
       "<hr>"
      ],
      "text/plain": [
       "<IPython.core.display.HTML object>"
      ]
     },
     "metadata": {},
     "output_type": "display_data"
    },
    {
     "data": {
      "text/html": [
       "\n",
       "        <h1 style=\"font-family:Arial;\">Hunter x Hunter: Greed Island Final</h1>\n",
       "        <h3 style=\"font-family:Arial;\">Because you watched: Fumetsu no Anata e Season 2</h3>\n",
       "        <img src=\"https://cdn.myanimelist.net/images/anime/1/139.jpg\" alt=\"Hunter x Hunter: Greed Island Final\" style=\"width:225px;height:auto;float:left;margin-right:15px;\">\n",
       "        <p><b>Synopsis:</b> Continuing with their adventure at Greed Island, Gon and Killua train furiously under the guidance of Biscuit for better preparation at attempting the game. With their abilities vastly improving and the threat of player killers menacing Greed Island, Gon and company continue the game despite the dangers that they will face with the game activities and encounters with other players. Based on the manga by Togashi Yoshihiro.</p>\n",
       "        <p><b>Score:</b> 8.25</p>\n",
       "        <p><b>Type:</b> OVA</p>\n",
       "        <p><b>Episodes:</b> 14.0</p>\n",
       "        <p><b>Genres:</b> Action, Adventure, Fantasy</p>\n",
       "        \n",
       "        <p><b>Demographic:</b> Shounen</p>\n",
       "        <p><b>Season:</b> Mar 3 2004</p>\n",
       "        <p><b>MAL Page:</b> <a href=\"https://myanimelist.net/anime/139/Hunter_x_Hunter__Greed_Island_Final\" target=\"_blank\">Link to MyAnimeList</a></p>\n",
       "        "
      ],
      "text/plain": [
       "<IPython.core.display.HTML object>"
      ]
     },
     "metadata": {},
     "output_type": "display_data"
    },
    {
     "data": {
      "text/html": [
       "<p><b>Trailer:</b> <a href=\"nan\" target=\"_blank\">Watch Trailer</a></p>"
      ],
      "text/plain": [
       "<IPython.core.display.HTML object>"
      ]
     },
     "metadata": {},
     "output_type": "display_data"
    },
    {
     "data": {
      "text/html": [
       "<hr>"
      ],
      "text/plain": [
       "<IPython.core.display.HTML object>"
      ]
     },
     "metadata": {},
     "output_type": "display_data"
    },
    {
     "data": {
      "text/html": [
       "\n",
       "        <h1 style=\"font-family:Arial;\">Hunter x Hunter: Greed Island</h1>\n",
       "        <h3 style=\"font-family:Arial;\">Because you watched: Fumetsu no Anata e Season 2</h3>\n",
       "        <img src=\"https://cdn.myanimelist.net/images/anime/1902/122320.jpg\" alt=\"Hunter x Hunter: Greed Island\" style=\"width:225px;height:auto;float:left;margin-right:15px;\">\n",
       "        <p><b>Synopsis:</b> After the battle with the Spiders, the search for Ging continues as Gon and Killua decided to once again attempt to purchase the rare game \"Greed Island.\" However, Gon came up with a better plan, which was to volunteer to complete the game for the billionaire who owned it. But some training must be done, as Gon and Killua's abilities are still at a developing stage and \"Greed Island\" is no simple game for anyone to play with. It is the infamous game that could easily lead to one's death. Based on the manga by Togashi Yoshihiro.</p>\n",
       "        <p><b>Score:</b> 8.18</p>\n",
       "        <p><b>Type:</b> OVA</p>\n",
       "        <p><b>Episodes:</b> 8.0</p>\n",
       "        <p><b>Genres:</b> Action, Adventure, Fantasy</p>\n",
       "        \n",
       "        <p><b>Demographic:</b> Shounen</p>\n",
       "        <p><b>Season:</b> Feb 5 2003</p>\n",
       "        <p><b>MAL Page:</b> <a href=\"https://myanimelist.net/anime/138/Hunter_x_Hunter__Greed_Island\" target=\"_blank\">Link to MyAnimeList</a></p>\n",
       "        "
      ],
      "text/plain": [
       "<IPython.core.display.HTML object>"
      ]
     },
     "metadata": {},
     "output_type": "display_data"
    },
    {
     "data": {
      "text/html": [
       "<p><b>Trailer:</b> <a href=\"nan\" target=\"_blank\">Watch Trailer</a></p>"
      ],
      "text/plain": [
       "<IPython.core.display.HTML object>"
      ]
     },
     "metadata": {},
     "output_type": "display_data"
    },
    {
     "data": {
      "text/html": [
       "<hr>"
      ],
      "text/plain": [
       "<IPython.core.display.HTML object>"
      ]
     },
     "metadata": {},
     "output_type": "display_data"
    },
    {
     "data": {
      "text/html": [
       "\n",
       "        <h1 style=\"font-family:Arial;\">World Trigger 2nd Season</h1>\n",
       "        <h3 style=\"font-family:Arial;\">Because you watched: Fumetsu no Anata e Season 2</h3>\n",
       "        <img src=\"https://cdn.myanimelist.net/images/anime/1598/110462.jpg\" alt=\"World Trigger 2nd Season\" style=\"width:225px;height:auto;float:left;margin-right:15px;\">\n",
       "        <p><b>Synopsis:</b> After successfully holding off the invasion by Aftokrator, the Border Defense Agency prepares an away mission into the Neighbor's dimension. However, like in previous scouting expeditions, only A-rank teams are certain to secure a spot. As the B-rank wars continue, Osamu Mikumo and the rest of Tamakoma-2 quickly fight to the top in an attempt to obtain a promotion before the operation begins.\n",
       "\n",
       "Meanwhile, a new Neighbor ship approaches Border Headquarters. Noticing that the attackers are targeting the Border Expedition Ship, forces are hastily sent to combat them. However, with fewer squads available due to the proceeding rank wars, the organization is sent into disarray. This latest offensive from the Neighbors shrouds the fate of the all-important expedition ship in uncertainty.</p>\n",
       "        <p><b>Score:</b> 8.05</p>\n",
       "        <p><b>Type:</b> TV</p>\n",
       "        <p><b>Episodes:</b> 12.0</p>\n",
       "        <p><b>Genres:</b> Action, Sci-Fi</p>\n",
       "        \n",
       "        <p><b>Demographic:</b> Shounen</p>\n",
       "        <p><b>Season:</b> Winter 2021</p>\n",
       "        <p><b>MAL Page:</b> <a href=\"https://myanimelist.net/anime/40907/World_Trigger_2nd_Season\" target=\"_blank\">Link to MyAnimeList</a></p>\n",
       "        "
      ],
      "text/plain": [
       "<IPython.core.display.HTML object>"
      ]
     },
     "metadata": {},
     "output_type": "display_data"
    },
    {
     "data": {
      "text/html": [
       "<p><b>Trailer:</b> <a href=\"https://www.youtube.com/watch?v=iQkrKjQ7qn4\" target=\"_blank\">Watch Trailer</a></p>"
      ],
      "text/plain": [
       "<IPython.core.display.HTML object>"
      ]
     },
     "metadata": {},
     "output_type": "display_data"
    },
    {
     "data": {
      "text/html": [
       "<hr>"
      ],
      "text/plain": [
       "<IPython.core.display.HTML object>"
      ]
     },
     "metadata": {},
     "output_type": "display_data"
    },
    {
     "data": {
      "text/html": [
       "\n",
       "        <h1 style=\"font-family:Arial;\">Kyoukai no Rinne 3rd Season</h1>\n",
       "        <h3 style=\"font-family:Arial;\">Because you watched: Gabriel DropOut Specials</h3>\n",
       "        <img src=\"https://cdn.myanimelist.net/images/anime/13/85289.jpg\" alt=\"Kyoukai no Rinne 3rd Season\" style=\"width:225px;height:auto;float:left;margin-right:15px;\">\n",
       "        <p><b>Synopsis:</b> The third season of Kyoukai no Rinne.</p>\n",
       "        <p><b>Score:</b> 7.06</p>\n",
       "        <p><b>Type:</b> TV</p>\n",
       "        <p><b>Episodes:</b> 25.0</p>\n",
       "        <p><b>Genres:</b> Comedy, Supernatural</p>\n",
       "        <p><b>Themes:</b> Mythology, School</p>\n",
       "        <p><b>Demographic:</b> Shounen</p>\n",
       "        <p><b>Season:</b> Spring 2017</p>\n",
       "        <p><b>MAL Page:</b> <a href=\"https://myanimelist.net/anime/34106/Kyoukai_no_Rinne_3rd_Season\" target=\"_blank\">Link to MyAnimeList</a></p>\n",
       "        "
      ],
      "text/plain": [
       "<IPython.core.display.HTML object>"
      ]
     },
     "metadata": {},
     "output_type": "display_data"
    },
    {
     "data": {
      "text/html": [
       "<p><b>Trailer:</b> <a href=\"https://www.youtube.com/watch?v=0RnNvVSweTA\" target=\"_blank\">Watch Trailer</a></p>"
      ],
      "text/plain": [
       "<IPython.core.display.HTML object>"
      ]
     },
     "metadata": {},
     "output_type": "display_data"
    },
    {
     "data": {
      "text/html": [
       "<hr>"
      ],
      "text/plain": [
       "<IPython.core.display.HTML object>"
      ]
     },
     "metadata": {},
     "output_type": "display_data"
    },
    {
     "data": {
      "text/html": [
       "\n",
       "        <h1 style=\"font-family:Arial;\">GS Mikami</h1>\n",
       "        <h3 style=\"font-family:Arial;\">Because you watched: Gabriel DropOut Specials</h3>\n",
       "        <img src=\"https://cdn.myanimelist.net/images/anime/1630/94116.jpg\" alt=\"GS Mikami\" style=\"width:225px;height:auto;float:left;margin-right:15px;\">\n",
       "        <p><b>Synopsis:</b> In a world plagued with malicious ghosts, how is it possible to combat the existence of such evil spirits? The answer is to hire a \"Ghost Sweeper\"—a professional exorcist, whose duty is to exterminate any unwanted ghoul or poltergeist.\n",
       "\n",
       "When it comes to Ghost Sweepers, Reiko Mikami is considered to be a cut above the rest. After receiving an offer to examine a haunting near Jinkotsu Hot Spring, she sets off to put her skills to work. Accompanied by her assistants, the underpaid and perverted high school student Tadao Yokoshima and the friendly teenage ghost Kinu Himuro, GS Mikami details the wacky exploits and adventures of these three as they go about investigating paranormal activities.</p>\n",
       "        <p><b>Score:</b> 7.23</p>\n",
       "        <p><b>Type:</b> TV</p>\n",
       "        <p><b>Episodes:</b> 45.0</p>\n",
       "        <p><b>Genres:</b> Comedy, Supernatural</p>\n",
       "        \n",
       "        <p><b>Demographic:</b> Shounen</p>\n",
       "        <p><b>Season:</b> Spring 1993</p>\n",
       "        <p><b>MAL Page:</b> <a href=\"https://myanimelist.net/anime/2400/GS_Mikami\" target=\"_blank\">Link to MyAnimeList</a></p>\n",
       "        "
      ],
      "text/plain": [
       "<IPython.core.display.HTML object>"
      ]
     },
     "metadata": {},
     "output_type": "display_data"
    },
    {
     "data": {
      "text/html": [
       "<p><b>Trailer:</b> <a href=\"nan\" target=\"_blank\">Watch Trailer</a></p>"
      ],
      "text/plain": [
       "<IPython.core.display.HTML object>"
      ]
     },
     "metadata": {},
     "output_type": "display_data"
    },
    {
     "data": {
      "text/html": [
       "<hr>"
      ],
      "text/plain": [
       "<IPython.core.display.HTML object>"
      ]
     },
     "metadata": {},
     "output_type": "display_data"
    },
    {
     "data": {
      "text/html": [
       "\n",
       "        <h1 style=\"font-family:Arial;\">Aa! Megami-sama!: Chichaitte Koto wa Benri da ne</h1>\n",
       "        <h3 style=\"font-family:Arial;\">Because you watched: Gabriel DropOut Specials</h3>\n",
       "        <img src=\"https://cdn.myanimelist.net/images/anime/1/303.jpg\" alt=\"Aa! Megami-sama!: Chichaitte Koto wa Benri da ne\" style=\"width:225px;height:auto;float:left;margin-right:15px;\">\n",
       "        <p><b>Synopsis:</b> A large collection consisting of the adventures of the Goddesses featured in the anime and manga series Ah My Goddess. Parodies of other works, and a large number of jokes pervade this series of shorts in which the Goddesses torture and hang out with their friend Gan the rat.</p>\n",
       "        <p><b>Score:</b> 6.88</p>\n",
       "        <p><b>Type:</b> TV</p>\n",
       "        <p><b>Episodes:</b> 48.0</p>\n",
       "        <p><b>Genres:</b> Comedy, Supernatural</p>\n",
       "        \n",
       "        \n",
       "        <p><b>Season:</b> Spring 1998</p>\n",
       "        <p><b>MAL Page:</b> <a href=\"https://myanimelist.net/anime/303/Aa_Megami-sama__Chichaitte_Koto_wa_Benri_da_ne\" target=\"_blank\">Link to MyAnimeList</a></p>\n",
       "        "
      ],
      "text/plain": [
       "<IPython.core.display.HTML object>"
      ]
     },
     "metadata": {},
     "output_type": "display_data"
    },
    {
     "data": {
      "text/html": [
       "<p><b>Trailer:</b> <a href=\"nan\" target=\"_blank\">Watch Trailer</a></p>"
      ],
      "text/plain": [
       "<IPython.core.display.HTML object>"
      ]
     },
     "metadata": {},
     "output_type": "display_data"
    },
    {
     "data": {
      "text/html": [
       "<hr>"
      ],
      "text/plain": [
       "<IPython.core.display.HTML object>"
      ]
     },
     "metadata": {},
     "output_type": "display_data"
    },
    {
     "data": {
      "text/html": [
       "\n",
       "        <h1 style=\"font-family:Arial;\">Jashin-chan Dropkick': Chitose-hen</h1>\n",
       "        <h3 style=\"font-family:Arial;\">Because you watched: Gabriel DropOut Specials</h3>\n",
       "        <img src=\"https://cdn.myanimelist.net/images/anime/1035/107866.jpg\" alt=\"Jashin-chan Dropkick': Chitose-hen\" style=\"width:225px;height:auto;float:left;margin-right:15px;\">\n",
       "        <p><b>Synopsis:</b> After the devils see a television advertisement for Chitose, Hokkaido, Yurine Hanazono suggests that they all take a trip there. Everyone readily agrees to the excursion except for Jashin-chan; however, she is forced to tag along under the threat of Yurine's chainsaw.\n",
       "\n",
       "As the group begins to wrap up their sightseeing for the day, Jashin-chan accidentally lets a stray deer eat the ticket they need to check in to their hotel. Coincidentally, the fallen angels are also on a Hokkaido trip and happen to be staying at the same hotel. Running into them, Jashin-chan has no choice but to initiate a battle for the angels' ticket by racing around Lake Shikotsu.</p>\n",
       "        <p><b>Score:</b> 7.25</p>\n",
       "        <p><b>Type:</b> Special</p>\n",
       "        <p><b>Episodes:</b> 1.0</p>\n",
       "        <p><b>Genres:</b> Comedy, Supernatural</p>\n",
       "        <p><b>Themes:</b> Gag Humor, Mythology</p>\n",
       "        \n",
       "        <p><b>Season:</b> Apr 30 2020</p>\n",
       "        <p><b>MAL Page:</b> <a href=\"https://myanimelist.net/anime/40661/Jashin-chan_Dropkick__Chitose-hen\" target=\"_blank\">Link to MyAnimeList</a></p>\n",
       "        "
      ],
      "text/plain": [
       "<IPython.core.display.HTML object>"
      ]
     },
     "metadata": {},
     "output_type": "display_data"
    },
    {
     "data": {
      "text/html": [
       "<p><b>Trailer:</b> <a href=\"nan\" target=\"_blank\">Watch Trailer</a></p>"
      ],
      "text/plain": [
       "<IPython.core.display.HTML object>"
      ]
     },
     "metadata": {},
     "output_type": "display_data"
    },
    {
     "data": {
      "text/html": [
       "<hr>"
      ],
      "text/plain": [
       "<IPython.core.display.HTML object>"
      ]
     },
     "metadata": {},
     "output_type": "display_data"
    },
    {
     "data": {
      "text/html": [
       "\n",
       "        <h1 style=\"font-family:Arial;\">Super Senko-san Time Episode 12</h1>\n",
       "        <h3 style=\"font-family:Arial;\">Because you watched: Gabriel DropOut Specials</h3>\n",
       "        <img src=\"https://cdn.myanimelist.net/images/anime/1861/101663.jpg\" alt=\"Super Senko-san Time Episode 12\" style=\"width:225px;height:auto;float:left;margin-right:15px;\">\n",
       "        <p><b>Synopsis:</b> Unaired episode 12 of the special segment \"Super Senko-san Time\" included in the 3rd BD volume of Sewayaki Kitsune no Senko-san.</p>\n",
       "        <p><b>Score:</b> 7.02</p>\n",
       "        <p><b>Type:</b> Special</p>\n",
       "        <p><b>Episodes:</b> 1.0</p>\n",
       "        <p><b>Genres:</b> Comedy, Supernatural</p>\n",
       "        \n",
       "        \n",
       "        <p><b>Season:</b> Sep 25 2019</p>\n",
       "        <p><b>MAL Page:</b> <a href=\"https://myanimelist.net/anime/39995/Super_Senko-san_Time_Episode_12\" target=\"_blank\">Link to MyAnimeList</a></p>\n",
       "        "
      ],
      "text/plain": [
       "<IPython.core.display.HTML object>"
      ]
     },
     "metadata": {},
     "output_type": "display_data"
    },
    {
     "data": {
      "text/html": [
       "<p><b>Trailer:</b> <a href=\"nan\" target=\"_blank\">Watch Trailer</a></p>"
      ],
      "text/plain": [
       "<IPython.core.display.HTML object>"
      ]
     },
     "metadata": {},
     "output_type": "display_data"
    },
    {
     "data": {
      "text/html": [
       "<hr>"
      ],
      "text/plain": [
       "<IPython.core.display.HTML object>"
      ]
     },
     "metadata": {},
     "output_type": "display_data"
    },
    {
     "data": {
      "text/html": [
       "\n",
       "        <h1 style=\"font-family:Arial;\">Minami-ke</h1>\n",
       "        <h3 style=\"font-family:Arial;\">Because you watched: Hitoribocchi no Marumaru Seikatsu</h3>\n",
       "        <img src=\"https://cdn.myanimelist.net/images/anime/2/75279.jpg\" alt=\"Minami-ke\" style=\"width:225px;height:auto;float:left;margin-right:15px;\">\n",
       "        <p><b>Synopsis:</b> The Minami residence is home to three sisters: the strict and diligent eldest sister Haruka; air-headed and lively Kana; and the youngest, Chiaki, whose sharp tongue spares no one. Living without adult supervision, the sisters share the workload of cooking and laundry, as well as the occasional romantic adventure. From combating chronic laziness to hanging out with friends, there is never a boring day in the Minami household.</p>\n",
       "        <p><b>Score:</b> 7.64</p>\n",
       "        <p><b>Type:</b> TV</p>\n",
       "        <p><b>Episodes:</b> 13.0</p>\n",
       "        <p><b>Genres:</b> Comedy</p>\n",
       "        <p><b>Themes:</b> CGDCT, School</p>\n",
       "        <p><b>Demographic:</b> Seinen</p>\n",
       "        <p><b>Season:</b> Fall 2007</p>\n",
       "        <p><b>MAL Page:</b> <a href=\"https://myanimelist.net/anime/2963/Minami-ke\" target=\"_blank\">Link to MyAnimeList</a></p>\n",
       "        "
      ],
      "text/plain": [
       "<IPython.core.display.HTML object>"
      ]
     },
     "metadata": {},
     "output_type": "display_data"
    },
    {
     "data": {
      "text/html": [
       "<p><b>Trailer:</b> <a href=\"https://www.youtube.com/watch?v=SPKY_xH15GU\" target=\"_blank\">Watch Trailer</a></p>"
      ],
      "text/plain": [
       "<IPython.core.display.HTML object>"
      ]
     },
     "metadata": {},
     "output_type": "display_data"
    },
    {
     "data": {
      "text/html": [
       "<hr>"
      ],
      "text/plain": [
       "<IPython.core.display.HTML object>"
      ]
     },
     "metadata": {},
     "output_type": "display_data"
    },
    {
     "data": {
      "text/html": [
       "\n",
       "        <h1 style=\"font-family:Arial;\">A-Channel</h1>\n",
       "        <h3 style=\"font-family:Arial;\">Because you watched: Hitoribocchi no Marumaru Seikatsu</h3>\n",
       "        <img src=\"https://cdn.myanimelist.net/images/anime/1333/110595.jpg\" alt=\"A-Channel\" style=\"width:225px;height:auto;float:left;margin-right:15px;\">\n",
       "        <p><b>Synopsis:</b> Forgetful and good-natured Run Momoki has been best friends with Tooru Ichii since childhood. Despite Run being one year older, her carefree attitude and popularity with the boys is a constant headache for the overprotective Tooru. To complicate matters further, when Tooru applies to the same high school as Run, she finds out that their little circle of two has grown into a quartet.\n",
       "\n",
       "Their new acquaintances—Nagisa Tennouji and Yuuko Nishi—are classmates of Run and, in Tooru's eyes, the two must prove they are trustworthy. As a new high school year begins, the girls balance their friendship with the exhilarating opportunities of school life.</p>\n",
       "        <p><b>Score:</b> 6.93</p>\n",
       "        <p><b>Type:</b> TV</p>\n",
       "        <p><b>Episodes:</b> 12.0</p>\n",
       "        <p><b>Genres:</b> Comedy</p>\n",
       "        <p><b>Themes:</b> CGDCT, School</p>\n",
       "        \n",
       "        <p><b>Season:</b> Spring 2011</p>\n",
       "        <p><b>MAL Page:</b> <a href=\"https://myanimelist.net/anime/9776/A-Channel\" target=\"_blank\">Link to MyAnimeList</a></p>\n",
       "        "
      ],
      "text/plain": [
       "<IPython.core.display.HTML object>"
      ]
     },
     "metadata": {},
     "output_type": "display_data"
    },
    {
     "data": {
      "text/html": [
       "<p><b>Trailer:</b> <a href=\"nan\" target=\"_blank\">Watch Trailer</a></p>"
      ],
      "text/plain": [
       "<IPython.core.display.HTML object>"
      ]
     },
     "metadata": {},
     "output_type": "display_data"
    },
    {
     "data": {
      "text/html": [
       "<hr>"
      ],
      "text/plain": [
       "<IPython.core.display.HTML object>"
      ]
     },
     "metadata": {},
     "output_type": "display_data"
    },
    {
     "data": {
      "text/html": [
       "\n",
       "        <h1 style=\"font-family:Arial;\">Slow Start</h1>\n",
       "        <h3 style=\"font-family:Arial;\">Because you watched: Hitoribocchi no Marumaru Seikatsu</h3>\n",
       "        <img src=\"https://cdn.myanimelist.net/images/anime/4/89982.jpg\" alt=\"Slow Start\" style=\"width:225px;height:auto;float:left;margin-right:15px;\">\n",
       "        <p><b>Synopsis:</b> Hana Ichinose, a 17-year-old high school student who is not only introverted, but also insecure and timid, has just moved and will be attending a new school. To make her situation more difficult,  Hana is a \"slow start,\" which means that she missed a year and worries about attending a class where everyone is younger than her.\n",
       "\n",
       "During her introduction, the teacher reveals it is Hana's birthday, which gives her the jumping-off point  to meet three of her classmates: Tamate Momochi, a charismatic and extroverted girl; Kanmuri Sengoku, who is shy and small; and the popular and pretty Eiko Tokura. Not wanting to lose the chance to make new friends, Hana's interactions with these three mark the beginning of some beautiful relationships that will change her life.</p>\n",
       "        <p><b>Score:</b> 7.02</p>\n",
       "        <p><b>Type:</b> TV</p>\n",
       "        <p><b>Episodes:</b> 12.0</p>\n",
       "        <p><b>Genres:</b> Comedy</p>\n",
       "        <p><b>Themes:</b> CGDCT, School</p>\n",
       "        \n",
       "        <p><b>Season:</b> Winter 2018</p>\n",
       "        <p><b>MAL Page:</b> <a href=\"https://myanimelist.net/anime/35540/Slow_Start\" target=\"_blank\">Link to MyAnimeList</a></p>\n",
       "        "
      ],
      "text/plain": [
       "<IPython.core.display.HTML object>"
      ]
     },
     "metadata": {},
     "output_type": "display_data"
    },
    {
     "data": {
      "text/html": [
       "<p><b>Trailer:</b> <a href=\"https://www.youtube.com/watch?v=vXasQ2JTDew\" target=\"_blank\">Watch Trailer</a></p>"
      ],
      "text/plain": [
       "<IPython.core.display.HTML object>"
      ]
     },
     "metadata": {},
     "output_type": "display_data"
    },
    {
     "data": {
      "text/html": [
       "<hr>"
      ],
      "text/plain": [
       "<IPython.core.display.HTML object>"
      ]
     },
     "metadata": {},
     "output_type": "display_data"
    },
    {
     "data": {
      "text/html": [
       "\n",
       "        <h1 style=\"font-family:Arial;\">Minami-ke Okawari</h1>\n",
       "        <h3 style=\"font-family:Arial;\">Because you watched: Hitoribocchi no Marumaru Seikatsu</h3>\n",
       "        <img src=\"https://cdn.myanimelist.net/images/anime/10/73556.jpg\" alt=\"Minami-ke Okawari\" style=\"width:225px;height:auto;float:left;margin-right:15px;\">\n",
       "        <p><b>Synopsis:</b> The second season of Minami-Ke. It picks up where the first season left off, and just like the first season, it's about the daily lives of the three Minami sisters, Haruka, Kana and Chiaki, and their school friends.</p>\n",
       "        <p><b>Score:</b> 7.32</p>\n",
       "        <p><b>Type:</b> TV</p>\n",
       "        <p><b>Episodes:</b> 13.0</p>\n",
       "        <p><b>Genres:</b> Comedy</p>\n",
       "        <p><b>Themes:</b> CGDCT, School</p>\n",
       "        <p><b>Demographic:</b> Seinen</p>\n",
       "        <p><b>Season:</b> Winter 2008</p>\n",
       "        <p><b>MAL Page:</b> <a href=\"https://myanimelist.net/anime/3225/Minami-ke_Okawari\" target=\"_blank\">Link to MyAnimeList</a></p>\n",
       "        "
      ],
      "text/plain": [
       "<IPython.core.display.HTML object>"
      ]
     },
     "metadata": {},
     "output_type": "display_data"
    },
    {
     "data": {
      "text/html": [
       "<p><b>Trailer:</b> <a href=\"https://www.youtube.com/watch?v=3tb6Z-kQep0\" target=\"_blank\">Watch Trailer</a></p>"
      ],
      "text/plain": [
       "<IPython.core.display.HTML object>"
      ]
     },
     "metadata": {},
     "output_type": "display_data"
    },
    {
     "data": {
      "text/html": [
       "<hr>"
      ],
      "text/plain": [
       "<IPython.core.display.HTML object>"
      ]
     },
     "metadata": {},
     "output_type": "display_data"
    },
    {
     "data": {
      "text/html": [
       "\n",
       "        <h1 style=\"font-family:Arial;\">Minami-ke Okaeri</h1>\n",
       "        <h3 style=\"font-family:Arial;\">Because you watched: Hitoribocchi no Marumaru Seikatsu</h3>\n",
       "        <img src=\"https://cdn.myanimelist.net/images/anime/10/11458.jpg\" alt=\"Minami-ke Okaeri\" style=\"width:225px;height:auto;float:left;margin-right:15px;\">\n",
       "        <p><b>Synopsis:</b> A year has passed since Okawari and the three sisters have grown up. Their likings and moods are almost the same. Haruka, the older sister, is a love-giving mother to the younger sisters and a discipline follower. Kana, the middle one, leaves everything to the last possible moment and always gives trouble to the trio. Chiaki, the little one, is the calculating and manipulating one; she likes to be admired and loved by Haruka and always gives trouble to the less blessed Kana. Despite being an unbalanced family, they love each other with all their heart. The family's daily life is as funny as ever; trouble and love are always present. Now it's time to see if they'll survive this age change since Haruka is now a young adult; she has even more responsibilities, having to watch over the young while integrating into the adult life.\n",
       "\n",
       "(Source: ANN)</p>\n",
       "        <p><b>Score:</b> 7.54</p>\n",
       "        <p><b>Type:</b> TV</p>\n",
       "        <p><b>Episodes:</b> 13.0</p>\n",
       "        <p><b>Genres:</b> Comedy</p>\n",
       "        <p><b>Themes:</b> CGDCT, School</p>\n",
       "        <p><b>Demographic:</b> Seinen</p>\n",
       "        <p><b>Season:</b> Winter 2009</p>\n",
       "        <p><b>MAL Page:</b> <a href=\"https://myanimelist.net/anime/5162/Minami-ke_Okaeri\" target=\"_blank\">Link to MyAnimeList</a></p>\n",
       "        "
      ],
      "text/plain": [
       "<IPython.core.display.HTML object>"
      ]
     },
     "metadata": {},
     "output_type": "display_data"
    },
    {
     "data": {
      "text/html": [
       "<p><b>Trailer:</b> <a href=\"https://www.youtube.com/watch?v=2iZa79sclmo\" target=\"_blank\">Watch Trailer</a></p>"
      ],
      "text/plain": [
       "<IPython.core.display.HTML object>"
      ]
     },
     "metadata": {},
     "output_type": "display_data"
    },
    {
     "data": {
      "text/html": [
       "<hr>"
      ],
      "text/plain": [
       "<IPython.core.display.HTML object>"
      ]
     },
     "metadata": {},
     "output_type": "display_data"
    },
    {
     "data": {
      "text/html": [
       "\n",
       "        <h1 style=\"font-family:Arial;\">Romeo x Juliet</h1>\n",
       "        <h3 style=\"font-family:Arial;\">Because you watched: Irozuku Sekai no Ashita kara</h3>\n",
       "        <img src=\"https://cdn.myanimelist.net/images/anime/12/75159.jpg\" alt=\"Romeo x Juliet\" style=\"width:225px;height:auto;float:left;margin-right:15px;\">\n",
       "        <p><b>Synopsis:</b> On the floating continent of Neo Verona, the Montague family slaughters the entire Capulet family and seizes control of the kingdom. The true heir to the throne, Juliet Fiammata Asto Capulet, manages to escape the onslaught and is hidden away by loyalists for 14 years with hope that she may one day overthrow the cruel Montague regime. \n",
       "\n",
       "Despite having forgotten the murder of her entire family, Juliet now secretly protects the oppressed citizens of Neo Verona as a vigilante called the Red Whirlwind. During one of her escapades she meets Romeo Candorebanto Montague, the kind and selfless son of the tyrannical Prince Laertes Montague, and without knowledge of each other's background, they both fall in love at first sight. \n",
       "\n",
       "Unfortunately, however, their destiny is a cursed one: not only does each of the two families wish to obliterate the other, but an ancient secret hidden beneath Neo Verona also threatens their undying love for each other. Will they be able to defy the stars, or is this truly a love that can never be?</p>\n",
       "        <p><b>Score:</b> 7.58</p>\n",
       "        <p><b>Type:</b> TV</p>\n",
       "        <p><b>Episodes:</b> 24.0</p>\n",
       "        <p><b>Genres:</b> Drama, Fantasy, Romance</p>\n",
       "        <p><b>Themes:</b> Historical</p>\n",
       "        \n",
       "        <p><b>Season:</b> Spring 2007</p>\n",
       "        <p><b>MAL Page:</b> <a href=\"https://myanimelist.net/anime/1699/Romeo_x_Juliet\" target=\"_blank\">Link to MyAnimeList</a></p>\n",
       "        "
      ],
      "text/plain": [
       "<IPython.core.display.HTML object>"
      ]
     },
     "metadata": {},
     "output_type": "display_data"
    },
    {
     "data": {
      "text/html": [
       "<p><b>Trailer:</b> <a href=\"https://www.youtube.com/watch?v=xQmLbQm2EOI\" target=\"_blank\">Watch Trailer</a></p>"
      ],
      "text/plain": [
       "<IPython.core.display.HTML object>"
      ]
     },
     "metadata": {},
     "output_type": "display_data"
    },
    {
     "data": {
      "text/html": [
       "<hr>"
      ],
      "text/plain": [
       "<IPython.core.display.HTML object>"
      ]
     },
     "metadata": {},
     "output_type": "display_data"
    },
    {
     "data": {
      "text/html": [
       "\n",
       "        <h1 style=\"font-family:Arial;\">RDG: Red Data Girl</h1>\n",
       "        <h3 style=\"font-family:Arial;\">Because you watched: Irozuku Sekai no Ashita kara</h3>\n",
       "        <img src=\"https://cdn.myanimelist.net/images/anime/12/47053.jpg\" alt=\"RDG: Red Data Girl\" style=\"width:225px;height:auto;float:left;margin-right:15px;\">\n",
       "        <p><b>Synopsis:</b> Fifteen-year-old Izumiko Suzuhara just wants to be a normal girl, but that is easier said than done. Raised in a shrine deep in the mountains, she grew up extremely sheltered and painfully shy. She also has the unfortunate tendency to destroy any electronic device simply by touching it.\n",
       "\n",
       "Despite this, she still wants to try and change her life. To mark her determination to follow through on this transformation, Izumiko begins by cutting her bangs, which shocks both her classmates and protectors. And that's only the start! Her guardian, Yukimasa Sagara, forces his son, Miyuki, to come to the mountain shrine and become Izumiko's lifelong servant and protector. Too bad Izumiko and Miyuki cannot stand each other. They have known each other since they were children, and Miyuki bullied her terribly. He simply does not understand what is so special about Izumiko. His father calls Izumiko a goddess, but that cannot be true…can it? Will Izumiko and Miyuki work past their differences? Is she actually a literal goddess? Find out in RDG: Red Data Girl!</p>\n",
       "        <p><b>Score:</b> 6.56</p>\n",
       "        <p><b>Type:</b> TV</p>\n",
       "        <p><b>Episodes:</b> 12.0</p>\n",
       "        <p><b>Genres:</b> Drama, Fantasy, Romance</p>\n",
       "        <p><b>Themes:</b> Mythology, School</p>\n",
       "        \n",
       "        <p><b>Season:</b> Spring 2013</p>\n",
       "        <p><b>MAL Page:</b> <a href=\"https://myanimelist.net/anime/14921/RDG__Red_Data_Girl\" target=\"_blank\">Link to MyAnimeList</a></p>\n",
       "        "
      ],
      "text/plain": [
       "<IPython.core.display.HTML object>"
      ]
     },
     "metadata": {},
     "output_type": "display_data"
    },
    {
     "data": {
      "text/html": [
       "<p><b>Trailer:</b> <a href=\"https://www.youtube.com/watch?v=J9-mLrm-anM\" target=\"_blank\">Watch Trailer</a></p>"
      ],
      "text/plain": [
       "<IPython.core.display.HTML object>"
      ]
     },
     "metadata": {},
     "output_type": "display_data"
    },
    {
     "data": {
      "text/html": [
       "<hr>"
      ],
      "text/plain": [
       "<IPython.core.display.HTML object>"
      ]
     },
     "metadata": {},
     "output_type": "display_data"
    },
    {
     "data": {
      "text/html": [
       "\n",
       "        <h1 style=\"font-family:Arial;\">Mahoutsukai no Yome Season 2 Part 2</h1>\n",
       "        <h3 style=\"font-family:Arial;\">Because you watched: Irozuku Sekai no Ashita kara</h3>\n",
       "        <img src=\"https://cdn.myanimelist.net/images/anime/1518/136823.jpg\" alt=\"Mahoutsukai no Yome Season 2 Part 2\" style=\"width:225px;height:auto;float:left;margin-right:15px;\">\n",
       "        <p><b>Synopsis:</b> Following a series of attacks that have left teachers and students alike sapped of their magic, headmistress Liza Quillyn decides to seal off the College, rendering it impossible to enter or leave the premises. As a result, Philomela Sargant is unable to comply with her grandmother Lizbeth's order to withdraw from the school.\n",
       "\n",
       "Trapped inside the College, Chise Hatori and her classmates begin to adjust to their novel and stressful circumstances. But as time goes on, Philomela's condition only gets worse—both mentally and physically. Meanwhile, details about the tragic past of Chise's roommate, Lucy Webster, continue to resurface. As Chise grapples with worries about her friends and with her evolving self, the identity of the mysterious magic-draining culprit plaguing the College may finally come to light.</p>\n",
       "        <p><b>Score:</b> 7.89</p>\n",
       "        <p><b>Type:</b> TV</p>\n",
       "        <p><b>Episodes:</b> 12.0</p>\n",
       "        <p><b>Genres:</b> Drama, Fantasy, Romance</p>\n",
       "        <p><b>Themes:</b> Mythology, School</p>\n",
       "        <p><b>Demographic:</b> Shounen</p>\n",
       "        <p><b>Season:</b> Fall 2023</p>\n",
       "        <p><b>MAL Page:</b> <a href=\"https://myanimelist.net/anime/55742/Mahoutsukai_no_Yome_Season_2_Part_2\" target=\"_blank\">Link to MyAnimeList</a></p>\n",
       "        "
      ],
      "text/plain": [
       "<IPython.core.display.HTML object>"
      ]
     },
     "metadata": {},
     "output_type": "display_data"
    },
    {
     "data": {
      "text/html": [
       "<p><b>Trailer:</b> <a href=\"https://www.youtube.com/watch?v=izcEpq2Eu_M\" target=\"_blank\">Watch Trailer</a></p>"
      ],
      "text/plain": [
       "<IPython.core.display.HTML object>"
      ]
     },
     "metadata": {},
     "output_type": "display_data"
    },
    {
     "data": {
      "text/html": [
       "<hr>"
      ],
      "text/plain": [
       "<IPython.core.display.HTML object>"
      ]
     },
     "metadata": {},
     "output_type": "display_data"
    },
    {
     "data": {
      "text/html": [
       "\n",
       "        <h1 style=\"font-family:Arial;\">Akagami no Shirayuki-hime: Nandemonai Takaramono, Kono Page</h1>\n",
       "        <h3 style=\"font-family:Arial;\">Because you watched: Irozuku Sekai no Ashita kara</h3>\n",
       "        <img src=\"https://cdn.myanimelist.net/images/anime/10/77943.jpg\" alt=\"Akagami no Shirayuki-hime: Nandemonai Takaramono, Kono Page\" style=\"width:225px;height:auto;float:left;margin-right:15px;\">\n",
       "        <p><b>Synopsis:</b> Bundled with the limited edition 15th volume of the manga.</p>\n",
       "        <p><b>Score:</b> 7.71</p>\n",
       "        <p><b>Type:</b> OVA</p>\n",
       "        <p><b>Episodes:</b> 1.0</p>\n",
       "        <p><b>Genres:</b> Drama, Fantasy, Romance</p>\n",
       "        \n",
       "        <p><b>Demographic:</b> Shoujo</p>\n",
       "        <p><b>Season:</b> Jan 5 2016</p>\n",
       "        <p><b>MAL Page:</b> <a href=\"https://myanimelist.net/anime/31483/Akagami_no_Shirayuki-hime__Nandemonai_Takaramono_Kono_Page\" target=\"_blank\">Link to MyAnimeList</a></p>\n",
       "        "
      ],
      "text/plain": [
       "<IPython.core.display.HTML object>"
      ]
     },
     "metadata": {},
     "output_type": "display_data"
    },
    {
     "data": {
      "text/html": [
       "<p><b>Trailer:</b> <a href=\"https://www.youtube.com/watch?v=G2aAl0bbU04\" target=\"_blank\">Watch Trailer</a></p>"
      ],
      "text/plain": [
       "<IPython.core.display.HTML object>"
      ]
     },
     "metadata": {},
     "output_type": "display_data"
    },
    {
     "data": {
      "text/html": [
       "<hr>"
      ],
      "text/plain": [
       "<IPython.core.display.HTML object>"
      ]
     },
     "metadata": {},
     "output_type": "display_data"
    },
    {
     "data": {
      "text/html": [
       "\n",
       "        <h1 style=\"font-family:Arial;\">Angel Beats!</h1>\n",
       "        <h3 style=\"font-family:Arial;\">Because you watched: Jujutsu Kaisen</h3>\n",
       "        <img src=\"https://cdn.myanimelist.net/images/anime/1244/111115.jpg\" alt=\"Angel Beats!\" style=\"width:225px;height:auto;float:left;margin-right:15px;\">\n",
       "        <p><b>Synopsis:</b> Death is one of many mysteries that has left humanity in the dark since the dawn of time. However, the burning question of what happens to the soul after one dies is soon answered to 17-year-old Yuzuru Otonashi. Waking up with no previous memories in a dimension between life and death, he discovers the unsettling truth of the afterlife.  \n",
       "\n",
       "Taking the form of a high school, this bizarre dimension is designated to shelter those who died unwanted deaths. Feeling wronged by God during their earthly lives, the school's residents have decided to form the Afterlife Battlefront—a rebellious faction determined to oppose their god-like student council president, Kanade \"Angel\" Tachibana. The group's leader, Yuri Nakamura, recruits Otonashi in their fight against Angel in order to take control of their own lives. However, questioning the morality behind their actions, Otonashi takes a step behind the enemy lines to understand the opposing side of their common fate.</p>\n",
       "        <p><b>Score:</b> 8.05</p>\n",
       "        <p><b>Type:</b> TV</p>\n",
       "        <p><b>Episodes:</b> 13.0</p>\n",
       "        <p><b>Genres:</b> Drama, Fantasy</p>\n",
       "        <p><b>Themes:</b> School</p>\n",
       "        \n",
       "        <p><b>Season:</b> Spring 2010</p>\n",
       "        <p><b>MAL Page:</b> <a href=\"https://myanimelist.net/anime/6547/Angel_Beats\" target=\"_blank\">Link to MyAnimeList</a></p>\n",
       "        "
      ],
      "text/plain": [
       "<IPython.core.display.HTML object>"
      ]
     },
     "metadata": {},
     "output_type": "display_data"
    },
    {
     "data": {
      "text/html": [
       "<p><b>Trailer:</b> <a href=\"https://www.youtube.com/watch?v=zkY-sG6crKI\" target=\"_blank\">Watch Trailer</a></p>"
      ],
      "text/plain": [
       "<IPython.core.display.HTML object>"
      ]
     },
     "metadata": {},
     "output_type": "display_data"
    },
    {
     "data": {
      "text/html": [
       "<hr>"
      ],
      "text/plain": [
       "<IPython.core.display.HTML object>"
      ]
     },
     "metadata": {},
     "output_type": "display_data"
    },
    {
     "data": {
      "text/html": [
       "\n",
       "        <h1 style=\"font-family:Arial;\">Soul Eater</h1>\n",
       "        <h3 style=\"font-family:Arial;\">Because you watched: Jujutsu Kaisen</h3>\n",
       "        <img src=\"https://cdn.myanimelist.net/images/anime/9/7804.jpg\" alt=\"Soul Eater\" style=\"width:225px;height:auto;float:left;margin-right:15px;\">\n",
       "        <p><b>Synopsis:</b> Death City is home to the famous Death Weapon Meister Academy, a technical academy headed by the Shinigami—Lord Death himself. Its mission: to raise \"Death Scythes\" for the Shinigami to wield against the many evils of their fantastical world. These Death Scythes, however, are not made from physical weapons; rather, they are born from human hybrids who have the ability to transform their bodies into Demon Weapons, and only after they have consumed the souls of 99 evil beings and one witch's soul.\n",
       "\n",
       "Soul Eater Evans, a Demon Scythe who only seems to care about what's cool, aims to become a Death Scythe with the help of his straight-laced wielder, or meister, Maka Albarn. The contrasting duo work and study alongside the hot headed Black☆Star and his caring weapon Tsubaki, as well as the Shinigami's own son, Death the Kid, an obsessive-compulsive dual wielder of twin pistols Patty and Liz.\n",
       "\n",
       "Soul Eater follows these students of Shibusen as they take on missions to collect souls and protect the city from the world's threats while working together under the snickering sun to become sounder in mind, body, and soul.</p>\n",
       "        <p><b>Score:</b> 7.84</p>\n",
       "        <p><b>Type:</b> TV</p>\n",
       "        <p><b>Episodes:</b> 51.0</p>\n",
       "        <p><b>Genres:</b> Action, Comedy, Fantasy</p>\n",
       "        <p><b>Themes:</b> School</p>\n",
       "        <p><b>Demographic:</b> Shounen</p>\n",
       "        <p><b>Season:</b> Spring 2008</p>\n",
       "        <p><b>MAL Page:</b> <a href=\"https://myanimelist.net/anime/3588/Soul_Eater\" target=\"_blank\">Link to MyAnimeList</a></p>\n",
       "        "
      ],
      "text/plain": [
       "<IPython.core.display.HTML object>"
      ]
     },
     "metadata": {},
     "output_type": "display_data"
    },
    {
     "data": {
      "text/html": [
       "<p><b>Trailer:</b> <a href=\"https://www.youtube.com/watch?v=ZJyKOEabFdo\" target=\"_blank\">Watch Trailer</a></p>"
      ],
      "text/plain": [
       "<IPython.core.display.HTML object>"
      ]
     },
     "metadata": {},
     "output_type": "display_data"
    },
    {
     "data": {
      "text/html": [
       "<hr>"
      ],
      "text/plain": [
       "<IPython.core.display.HTML object>"
      ]
     },
     "metadata": {},
     "output_type": "display_data"
    },
    {
     "data": {
      "text/html": [
       "\n",
       "        <h1 style=\"font-family:Arial;\">Kyoukai no Kanata</h1>\n",
       "        <h3 style=\"font-family:Arial;\">Because you watched: Jujutsu Kaisen 0 Movie</h3>\n",
       "        <img src=\"https://cdn.myanimelist.net/images/anime/3/85468.jpg\" alt=\"Kyoukai no Kanata\" style=\"width:225px;height:auto;float:left;margin-right:15px;\">\n",
       "        <p><b>Synopsis:</b> Mirai Kuriyama is the sole survivor of a clan of Spirit World warriors with the power to employ their blood as weapons. As such, Mirai is tasked with hunting down and killing \"youmu\"—creatures said to be the manifestation of negative human emotions. One day, while deep in thought on the school roof, Mirai comes across Akihito Kanbara, a rare half-breed of youmu in human form. In a panicked state, she plunges her blood saber into him only to realize that he's an immortal being. From then on, the two form an impromptu friendship that revolves around Mirai constantly trying to kill Akihito, in an effort to boost her own wavering confidence as a Spirit World warrior. Eventually, Akihito also manages to convince her to join the Literary Club, which houses two other powerful Spirit World warriors, Hiroomi and Mitsuki Nase.\n",
       "\n",
       "As the group's bond strengthens, however, so does the tenacity of the youmu around them. Their misadventures will soon turn into a fight for survival as the inevitable release of the most powerful youmu, Beyond the Boundary, approaches.</p>\n",
       "        <p><b>Score:</b> 7.72</p>\n",
       "        <p><b>Type:</b> TV</p>\n",
       "        <p><b>Episodes:</b> 12.0</p>\n",
       "        <p><b>Genres:</b> Action, Supernatural</p>\n",
       "        <p><b>Themes:</b> School</p>\n",
       "        \n",
       "        <p><b>Season:</b> Fall 2013</p>\n",
       "        <p><b>MAL Page:</b> <a href=\"https://myanimelist.net/anime/18153/Kyoukai_no_Kanata\" target=\"_blank\">Link to MyAnimeList</a></p>\n",
       "        "
      ],
      "text/plain": [
       "<IPython.core.display.HTML object>"
      ]
     },
     "metadata": {},
     "output_type": "display_data"
    },
    {
     "data": {
      "text/html": [
       "<p><b>Trailer:</b> <a href=\"https://www.youtube.com/watch?v=BnfeVrAAS2k\" target=\"_blank\">Watch Trailer</a></p>"
      ],
      "text/plain": [
       "<IPython.core.display.HTML object>"
      ]
     },
     "metadata": {},
     "output_type": "display_data"
    },
    {
     "data": {
      "text/html": [
       "<hr>"
      ],
      "text/plain": [
       "<IPython.core.display.HTML object>"
      ]
     },
     "metadata": {},
     "output_type": "display_data"
    },
    {
     "data": {
      "text/html": [
       "\n",
       "        <h1 style=\"font-family:Arial;\">Shokugeki no Souma: San no Sara - Tootsuki Ressha-hen</h1>\n",
       "        <h3 style=\"font-family:Arial;\">Because you watched: Jujutsu Kaisen 0 Movie</h3>\n",
       "        <img src=\"https://cdn.myanimelist.net/images/anime/1604/93531.jpg\" alt=\"Shokugeki no Souma: San no Sara - Tootsuki Ressha-hen\" style=\"width:225px;height:auto;float:left;margin-right:15px;\">\n",
       "        <p><b>Synopsis:</b> A dark age of cooking befalls Tootsuki Culinary Academy. With the Elite Ten's devastating coup d'état, Azami Nakiri is now the director of the prestigious school. Students must now conform to Azami's ideology of \"true gourmet food\" and are forbidden to express creativity, or else face expulsion.\n",
       "\n",
       "However, Souma Yukihira and the members of the Polar Star Dormitory refuse to accept these changes. Aided by other rebellious first-years, including the tenth seat, Erina Nakiri, Souma and his allies band together to fight off supporters of Azami's regime. But corrupt instructors and the menacing Central organization stand in their way, and so they must work together, harder than ever before, to survive every underhanded plot designed to banish them from the school.</p>\n",
       "        <p><b>Score:</b> 7.94</p>\n",
       "        <p><b>Type:</b> TV</p>\n",
       "        <p><b>Episodes:</b> 12.0</p>\n",
       "        <p><b>Genres:</b> Gourmet, Ecchi</p>\n",
       "        <p><b>Themes:</b> School</p>\n",
       "        <p><b>Demographic:</b> Shounen</p>\n",
       "        <p><b>Season:</b> Spring 2018</p>\n",
       "        <p><b>MAL Page:</b> <a href=\"https://myanimelist.net/anime/36949/Shokugeki_no_Souma__San_no_Sara_-_Tootsuki_Ressha-hen\" target=\"_blank\">Link to MyAnimeList</a></p>\n",
       "        "
      ],
      "text/plain": [
       "<IPython.core.display.HTML object>"
      ]
     },
     "metadata": {},
     "output_type": "display_data"
    },
    {
     "data": {
      "text/html": [
       "<p><b>Trailer:</b> <a href=\"https://www.youtube.com/watch?v=8uEl3f8On1U\" target=\"_blank\">Watch Trailer</a></p>"
      ],
      "text/plain": [
       "<IPython.core.display.HTML object>"
      ]
     },
     "metadata": {},
     "output_type": "display_data"
    },
    {
     "data": {
      "text/html": [
       "<hr>"
      ],
      "text/plain": [
       "<IPython.core.display.HTML object>"
      ]
     },
     "metadata": {},
     "output_type": "display_data"
    },
    {
     "data": {
      "text/html": [
       "\n",
       "        <h1 style=\"font-family:Arial;\">Takanashi Rikka Kai: Chuunibyou demo Koi ga Shitai! Movie Lite</h1>\n",
       "        <h3 style=\"font-family:Arial;\">Because you watched: K-On!!: Keikaku!</h3>\n",
       "        <img src=\"https://cdn.myanimelist.net/images/anime/8/59343.jpg\" alt=\"Takanashi Rikka Kai: Chuunibyou demo Koi ga Shitai! Movie Lite\" style=\"width:225px;height:auto;float:left;margin-right:15px;\">\n",
       "        <p><b>Synopsis:</b> Special episode included with the Blu-ray/DVD release of Chuunibyou demo Koi ga Shitai! Movie.</p>\n",
       "        <p><b>Score:</b> 7.19</p>\n",
       "        <p><b>Type:</b> Special</p>\n",
       "        <p><b>Episodes:</b> 1.0</p>\n",
       "        <p><b>Genres:</b> Comedy</p>\n",
       "        \n",
       "        \n",
       "        <p><b>Season:</b> Feb 19 2014</p>\n",
       "        <p><b>MAL Page:</b> <a href=\"https://myanimelist.net/anime/22859/Takanashi_Rikka_Kai__Chuunibyou_demo_Koi_ga_Shitai_Movie_Lite\" target=\"_blank\">Link to MyAnimeList</a></p>\n",
       "        "
      ],
      "text/plain": [
       "<IPython.core.display.HTML object>"
      ]
     },
     "metadata": {},
     "output_type": "display_data"
    },
    {
     "data": {
      "text/html": [
       "<p><b>Trailer:</b> <a href=\"nan\" target=\"_blank\">Watch Trailer</a></p>"
      ],
      "text/plain": [
       "<IPython.core.display.HTML object>"
      ]
     },
     "metadata": {},
     "output_type": "display_data"
    },
    {
     "data": {
      "text/html": [
       "<hr>"
      ],
      "text/plain": [
       "<IPython.core.display.HTML object>"
      ]
     },
     "metadata": {},
     "output_type": "display_data"
    },
    {
     "data": {
      "text/html": [
       "\n",
       "        <h1 style=\"font-family:Arial;\">Amagi Brilliant Park: Wakuwaku Mini Theater - Rakugaki Backstage</h1>\n",
       "        <h3 style=\"font-family:Arial;\">Because you watched: K-On!!: Keikaku!</h3>\n",
       "        <img src=\"https://cdn.myanimelist.net/images/anime/1911/121807.jpg\" alt=\"Amagi Brilliant Park: Wakuwaku Mini Theater - Rakugaki Backstage\" style=\"width:225px;height:auto;float:left;margin-right:15px;\">\n",
       "        <p><b>Synopsis:</b> Mini-theater specials bundled with Blu-ray/DVD volumes of Amagi Brilliant Park.</p>\n",
       "        <p><b>Score:</b> 6.66</p>\n",
       "        <p><b>Type:</b> Special</p>\n",
       "        <p><b>Episodes:</b> 7.0</p>\n",
       "        <p><b>Genres:</b> Comedy</p>\n",
       "        <p><b>Themes:</b> Workplace</p>\n",
       "        \n",
       "        <p><b>Season:</b> Dec 26 2015</p>\n",
       "        <p><b>MAL Page:</b> <a href=\"https://myanimelist.net/anime/30056/Amagi_Brilliant_Park__Wakuwaku_Mini_Theater_-_Rakugaki_Backstage\" target=\"_blank\">Link to MyAnimeList</a></p>\n",
       "        "
      ],
      "text/plain": [
       "<IPython.core.display.HTML object>"
      ]
     },
     "metadata": {},
     "output_type": "display_data"
    },
    {
     "data": {
      "text/html": [
       "<p><b>Trailer:</b> <a href=\"nan\" target=\"_blank\">Watch Trailer</a></p>"
      ],
      "text/plain": [
       "<IPython.core.display.HTML object>"
      ]
     },
     "metadata": {},
     "output_type": "display_data"
    },
    {
     "data": {
      "text/html": [
       "<hr>"
      ],
      "text/plain": [
       "<IPython.core.display.HTML object>"
      ]
     },
     "metadata": {},
     "output_type": "display_data"
    },
    {
     "data": {
      "text/html": [
       "\n",
       "        <h1 style=\"font-family:Arial;\">Poputepipikku 2nd Season</h1>\n",
       "        <h3 style=\"font-family:Arial;\">Because you watched: K-On!!: Keikaku!</h3>\n",
       "        <img src=\"https://cdn.myanimelist.net/images/anime/1237/128067.jpg\" alt=\"Poputepipikku 2nd Season\" style=\"width:225px;height:auto;float:left;margin-right:15px;\">\n",
       "        <p><b>Synopsis:</b> High school girl duo Popuko and Pipimi are back and more unhinged than ever after their initial efforts to create a full-fledged anime production were met with a great reception. With no regard for their audience, they continue to live their reckless everyday lives consisting of comedy skits and parodies of epic proportions. No one is immune to the effects of their antics—including hapless live actor Shouta Aoi, who is on the run and stuck trying to be a hero in the wrong series.</p>\n",
       "        <p><b>Score:</b> 7.52</p>\n",
       "        <p><b>Type:</b> TV</p>\n",
       "        <p><b>Episodes:</b> 11.0</p>\n",
       "        <p><b>Genres:</b> Comedy</p>\n",
       "        <p><b>Themes:</b> Gag Humor, Parody</p>\n",
       "        \n",
       "        <p><b>Season:</b> Fall 2022</p>\n",
       "        <p><b>MAL Page:</b> <a href=\"https://myanimelist.net/anime/50663/Poputepipikku_2nd_Season\" target=\"_blank\">Link to MyAnimeList</a></p>\n",
       "        "
      ],
      "text/plain": [
       "<IPython.core.display.HTML object>"
      ]
     },
     "metadata": {},
     "output_type": "display_data"
    },
    {
     "data": {
      "text/html": [
       "<p><b>Trailer:</b> <a href=\"https://www.youtube.com/watch?v=ZPV_toAr1ZU\" target=\"_blank\">Watch Trailer</a></p>"
      ],
      "text/plain": [
       "<IPython.core.display.HTML object>"
      ]
     },
     "metadata": {},
     "output_type": "display_data"
    },
    {
     "data": {
      "text/html": [
       "<hr>"
      ],
      "text/plain": [
       "<IPython.core.display.HTML object>"
      ]
     },
     "metadata": {},
     "output_type": "display_data"
    },
    {
     "data": {
      "text/html": [
       "\n",
       "        <h1 style=\"font-family:Arial;\">Monster</h1>\n",
       "        <h3 style=\"font-family:Arial;\">Because you watched: Kakegurui</h3>\n",
       "        <img src=\"https://cdn.myanimelist.net/images/anime/10/18793.jpg\" alt=\"Monster\" style=\"width:225px;height:auto;float:left;margin-right:15px;\">\n",
       "        <p><b>Synopsis:</b> Dr. Kenzou Tenma, an elite neurosurgeon recently engaged to his hospital director's daughter, is well on his way to ascending the hospital hierarchy. That is until one night, a seemingly small event changes Dr. Tenma's life forever. While preparing to perform surgery on someone, he gets a call from the hospital director telling him to switch patients and instead perform life-saving brain surgery on a famous performer. His fellow doctors, fiancée, and the hospital director applaud his accomplishment; but because of the switch, a poor immigrant worker is dead, causing Dr. Tenma to have a crisis of conscience.\n",
       "\n",
       "So when a similar situation arises, Dr. Tenma stands his ground and chooses to perform surgery on the young boy Johan Liebert instead of the town's mayor. Unfortunately, this choice leads to serious ramifications for Dr. Tenma—losing his social standing being one of them. However, with the mysterious death of the director and two other doctors, Dr. Tenma's position is restored. With no evidence to convict him, he is released and goes on to attain the position of hospital director. \n",
       "\n",
       "Nine years later when Dr. Tenma saves the life of a criminal, his past comes back to haunt him—once again, he comes face to face with the monster he operated on. He must now embark on a quest of pursuit to make amends for the havoc spread by the one he saved.</p>\n",
       "        <p><b>Score:</b> 8.88</p>\n",
       "        <p><b>Type:</b> TV</p>\n",
       "        <p><b>Episodes:</b> 74.0</p>\n",
       "        <p><b>Genres:</b> Drama, Mystery, Suspense</p>\n",
       "        <p><b>Themes:</b> Adult Cast, Psychological</p>\n",
       "        <p><b>Demographic:</b> Seinen</p>\n",
       "        <p><b>Season:</b> Spring 2004</p>\n",
       "        <p><b>MAL Page:</b> <a href=\"https://myanimelist.net/anime/19/Monster\" target=\"_blank\">Link to MyAnimeList</a></p>\n",
       "        "
      ],
      "text/plain": [
       "<IPython.core.display.HTML object>"
      ]
     },
     "metadata": {},
     "output_type": "display_data"
    },
    {
     "data": {
      "text/html": [
       "<p><b>Trailer:</b> <a href=\"nan\" target=\"_blank\">Watch Trailer</a></p>"
      ],
      "text/plain": [
       "<IPython.core.display.HTML object>"
      ]
     },
     "metadata": {},
     "output_type": "display_data"
    },
    {
     "data": {
      "text/html": [
       "<hr>"
      ],
      "text/plain": [
       "<IPython.core.display.HTML object>"
      ]
     },
     "metadata": {},
     "output_type": "display_data"
    },
    {
     "data": {
      "text/html": [
       "\n",
       "        <h1 style=\"font-family:Arial;\">Hotaru no Haka</h1>\n",
       "        <h3 style=\"font-family:Arial;\">Because you watched: Kimetsu no Yaiba</h3>\n",
       "        <img src=\"https://cdn.myanimelist.net/images/anime/1485/141208.jpg\" alt=\"Hotaru no Haka\" style=\"width:225px;height:auto;float:left;margin-right:15px;\">\n",
       "        <p><b>Synopsis:</b> As World War II reaches its conclusion in 1945, Japan faces widespread destruction in the form of American bombings, devastating city after city. Hotaru no Haka, also known as Grave of the Fireflies, is the story of Seita and his sister Setsuko, two Japanese children whose lives are ravaged by the brutal war. They have lost their mother, their father, their home, and the prospect of a bright future—all tragic consequences of the war.\n",
       "\n",
       "Now orphaned and homeless, Seita and Setsuko have no choice but to drift across the countryside, beset by starvation and disease. Met with the apathy of adults along the way, they find that desperate circumstances can turn even the kindest of people cruel yet their youthful hope shines brightly in the face of unrelenting hardship, preventing the siblings from swiftly succumbing to an inevitable fate.</p>\n",
       "        <p><b>Score:</b> 8.52</p>\n",
       "        <p><b>Type:</b> Movie</p>\n",
       "        <p><b>Episodes:</b> 1.0</p>\n",
       "        <p><b>Genres:</b> Drama</p>\n",
       "        <p><b>Themes:</b> Historical</p>\n",
       "        \n",
       "        <p><b>Season:</b> Apr 16 1988</p>\n",
       "        <p><b>MAL Page:</b> <a href=\"https://myanimelist.net/anime/578/Hotaru_no_Haka\" target=\"_blank\">Link to MyAnimeList</a></p>\n",
       "        "
      ],
      "text/plain": [
       "<IPython.core.display.HTML object>"
      ]
     },
     "metadata": {},
     "output_type": "display_data"
    },
    {
     "data": {
      "text/html": [
       "<p><b>Trailer:</b> <a href=\"https://www.youtube.com/watch?v=4vPeTSRd580\" target=\"_blank\">Watch Trailer</a></p>"
      ],
      "text/plain": [
       "<IPython.core.display.HTML object>"
      ]
     },
     "metadata": {},
     "output_type": "display_data"
    },
    {
     "data": {
      "text/html": [
       "<hr>"
      ],
      "text/plain": [
       "<IPython.core.display.HTML object>"
      ]
     },
     "metadata": {},
     "output_type": "display_data"
    },
    {
     "data": {
      "text/html": [
       "\n",
       "        <h1 style=\"font-family:Arial;\">Durarara!!x2 Shou: Watashi no Kokoro wa Nabe Moyou</h1>\n",
       "        <h3 style=\"font-family:Arial;\">Because you watched: Kishibe Rohan wa Ugokanai</h3>\n",
       "        <img src=\"https://cdn.myanimelist.net/images/anime/9/72248.jpg\" alt=\"Durarara!!x2 Shou: Watashi no Kokoro wa Nabe Moyou\" style=\"width:225px;height:auto;float:left;margin-right:15px;\">\n",
       "        <p><b>Synopsis:</b> One night, Mikado Ryuugamine accepts an invitation to Shinra Kishitani's apartment, eager to talk to Celty as quite some time has passed since the two last spoke. But, much to his astonishment, he finds that a large group of Ikebukuro's finest has gathered there for a hot pot party.\n",
       " \n",
       "Already confused with the current situation, Mikado is further surprised to see that his friend and fellow Raira Academy student Anri Sonohara is there as well. As the two decide to take a seat together, a few members of the group begin reminiscing over events from days past: Mikado recalls an adventure from his childhood with Masaomi Kida, Anri explains how she came to be friends with Mika Harima, and Shizuo Heiwajima tells of his first meeting with Tom Tanaka.</p>\n",
       "        <p><b>Score:</b> 7.66</p>\n",
       "        <p><b>Type:</b> Special</p>\n",
       "        <p><b>Episodes:</b> 1.0</p>\n",
       "        <p><b>Genres:</b> Action, Mystery, Supernatural</p>\n",
       "        \n",
       "        \n",
       "        <p><b>Season:</b> Jul 22 2015</p>\n",
       "        <p><b>MAL Page:</b> <a href=\"https://myanimelist.net/anime/30191/Durararax2_Shou__Watashi_no_Kokoro_wa_Nabe_Moyou\" target=\"_blank\">Link to MyAnimeList</a></p>\n",
       "        "
      ],
      "text/plain": [
       "<IPython.core.display.HTML object>"
      ]
     },
     "metadata": {},
     "output_type": "display_data"
    },
    {
     "data": {
      "text/html": [
       "<p><b>Trailer:</b> <a href=\"https://www.youtube.com/watch?v=CTjE8VKGDjo\" target=\"_blank\">Watch Trailer</a></p>"
      ],
      "text/plain": [
       "<IPython.core.display.HTML object>"
      ]
     },
     "metadata": {},
     "output_type": "display_data"
    },
    {
     "data": {
      "text/html": [
       "<hr>"
      ],
      "text/plain": [
       "<IPython.core.display.HTML object>"
      ]
     },
     "metadata": {},
     "output_type": "display_data"
    },
    {
     "data": {
      "text/html": [
       "\n",
       "        <h1 style=\"font-family:Arial;\">Durarara!!x2 Ketsu: Dufufufu!!</h1>\n",
       "        <h3 style=\"font-family:Arial;\">Because you watched: Kishibe Rohan wa Ugokanai</h3>\n",
       "        <img src=\"https://cdn.myanimelist.net/images/anime/2/78979.jpg\" alt=\"Durarara!!x2 Ketsu: Dufufufu!!\" style=\"width:225px;height:auto;float:left;margin-right:15px;\">\n",
       "        <p><b>Synopsis:</b> With his handsome slim-fit suit, characteristic glossy shades, and a casual cigarette in mouth, word is that the remarkably strong Shizuo Heiwajima rules Ikebukoro's streets. When ordinary bartender Shizuo Nobusuma hears these rumors, he realizes he could make his own life a bit easier: as a con artist. \n",
       "\n",
       "Donning a blond wig and venturing into Ikebukuro assuming Shizuo's identity, the impostor is confident he is fooling everyone into doing his bidding. But as the district's residents either take pity or tease him before the actual Shizuo inevitably finds out, his luck plummets when he encounters Izaya Orihara—an information broker whose favorite activity in the world is messing with Shizuo.</p>\n",
       "        <p><b>Score:</b> 7.55</p>\n",
       "        <p><b>Type:</b> Special</p>\n",
       "        <p><b>Episodes:</b> 1.0</p>\n",
       "        <p><b>Genres:</b> Action, Mystery, Supernatural</p>\n",
       "        \n",
       "        \n",
       "        <p><b>Season:</b> Jul 27 2016</p>\n",
       "        <p><b>MAL Page:</b> <a href=\"https://myanimelist.net/anime/32915/Durararax2_Ketsu__Dufufufu\" target=\"_blank\">Link to MyAnimeList</a></p>\n",
       "        "
      ],
      "text/plain": [
       "<IPython.core.display.HTML object>"
      ]
     },
     "metadata": {},
     "output_type": "display_data"
    },
    {
     "data": {
      "text/html": [
       "<p><b>Trailer:</b> <a href=\"nan\" target=\"_blank\">Watch Trailer</a></p>"
      ],
      "text/plain": [
       "<IPython.core.display.HTML object>"
      ]
     },
     "metadata": {},
     "output_type": "display_data"
    },
    {
     "data": {
      "text/html": [
       "<hr>"
      ],
      "text/plain": [
       "<IPython.core.display.HTML object>"
      ]
     },
     "metadata": {},
     "output_type": "display_data"
    },
    {
     "data": {
      "text/html": [
       "\n",
       "        <h1 style=\"font-family:Arial;\">Durarara!!x2 Ten: Onoroke Chakapoko</h1>\n",
       "        <h3 style=\"font-family:Arial;\">Because you watched: Kishibe Rohan wa Ugokanai</h3>\n",
       "        <img src=\"https://cdn.myanimelist.net/images/anime/3/76082.jpg\" alt=\"Durarara!!x2 Ten: Onoroke Chakapoko\" style=\"width:225px;height:auto;float:left;margin-right:15px;\">\n",
       "        <p><b>Synopsis:</b> In spite of the mayhem that has been taking place in Ikebukuro, Shinra Kishitani and Celty Sturluson have decided to go on a short trip. Excited to finally be going out with the one he loves, the underground doctor makes it his priority to give Celty his undivided attention, even if it means rejecting phone calls from his good friend Izaya Orihara.\n",
       "\n",
       "However, despite his hopes of having a peaceful holiday, Ikebukuro's various residents continue trying to reach him. Furthermore, just as Shinra begins to enjoy reminiscing about old memories on a carriage ride together with his beloved, Celty starts to notice a strange presence...</p>\n",
       "        <p><b>Score:</b> 7.52</p>\n",
       "        <p><b>Type:</b> Special</p>\n",
       "        <p><b>Episodes:</b> 1.0</p>\n",
       "        <p><b>Genres:</b> Action, Mystery, Supernatural</p>\n",
       "        \n",
       "        \n",
       "        <p><b>Season:</b> Jan 27 2016</p>\n",
       "        <p><b>MAL Page:</b> <a href=\"https://myanimelist.net/anime/31552/Durararax2_Ten__Onoroke_Chakapoko\" target=\"_blank\">Link to MyAnimeList</a></p>\n",
       "        "
      ],
      "text/plain": [
       "<IPython.core.display.HTML object>"
      ]
     },
     "metadata": {},
     "output_type": "display_data"
    },
    {
     "data": {
      "text/html": [
       "<p><b>Trailer:</b> <a href=\"https://www.youtube.com/watch?v=jTtE_niwTzc\" target=\"_blank\">Watch Trailer</a></p>"
      ],
      "text/plain": [
       "<IPython.core.display.HTML object>"
      ]
     },
     "metadata": {},
     "output_type": "display_data"
    },
    {
     "data": {
      "text/html": [
       "<hr>"
      ],
      "text/plain": [
       "<IPython.core.display.HTML object>"
      ]
     },
     "metadata": {},
     "output_type": "display_data"
    },
    {
     "data": {
      "text/html": [
       "\n",
       "        <h1 style=\"font-family:Arial;\">Skull Man</h1>\n",
       "        <h3 style=\"font-family:Arial;\">Because you watched: Kishibe Rohan wa Ugokanai</h3>\n",
       "        <img src=\"https://cdn.myanimelist.net/images/anime/1273/115661.jpg\" alt=\"Skull Man\" style=\"width:225px;height:auto;float:left;margin-right:15px;\">\n",
       "        <p><b>Synopsis:</b> Otomo City: where freedom and justice have atrophied to the bone; where conspiracy rules the day and death stalks the night... Death in the form of the Skull Man, a literal Grim Reaper whose skeletal grin presages grisly mayhem and murder, even to the monstrous mutants that haunt the city's underworlds! \n",
       "\n",
       "To investigate a bizarre slaying, journalist Minagami Hayato and photographer Kiriko Mamiya must stalk this ultimate predator, through a festering cadaver of a city where the corruption flows in rivers as deep and foul as the sins of the reigning elite, and unearth a secret so shocking that an entire city has been turned into a tomb to contain! In a nightmarish necropolis where nothing is as it seems, vengeance comes in the form of a living Death's-Head! \n",
       "\n",
       "(Source: Sentai Filmworks)</p>\n",
       "        <p><b>Score:</b> 6.59</p>\n",
       "        <p><b>Type:</b> TV</p>\n",
       "        <p><b>Episodes:</b> 13.0</p>\n",
       "        <p><b>Genres:</b> Action, Mystery, Supernatural</p>\n",
       "        \n",
       "        \n",
       "        <p><b>Season:</b> Spring 2007</p>\n",
       "        <p><b>MAL Page:</b> <a href=\"https://myanimelist.net/anime/2161/Skull_Man\" target=\"_blank\">Link to MyAnimeList</a></p>\n",
       "        "
      ],
      "text/plain": [
       "<IPython.core.display.HTML object>"
      ]
     },
     "metadata": {},
     "output_type": "display_data"
    },
    {
     "data": {
      "text/html": [
       "<p><b>Trailer:</b> <a href=\"nan\" target=\"_blank\">Watch Trailer</a></p>"
      ],
      "text/plain": [
       "<IPython.core.display.HTML object>"
      ]
     },
     "metadata": {},
     "output_type": "display_data"
    },
    {
     "data": {
      "text/html": [
       "<hr>"
      ],
      "text/plain": [
       "<IPython.core.display.HTML object>"
      ]
     },
     "metadata": {},
     "output_type": "display_data"
    },
    {
     "data": {
      "text/html": [
       "\n",
       "        <h1 style=\"font-family:Arial;\">Li Shi</h1>\n",
       "        <h3 style=\"font-family:Arial;\">Because you watched: Kishibe Rohan wa Ugokanai</h3>\n",
       "        <img src=\"https://cdn.myanimelist.net/images/anime/1477/108710.jpg\" alt=\"Li Shi\" style=\"width:225px;height:auto;float:left;margin-right:15px;\">\n",
       "        <p><b>Synopsis:</b> Huangli Shi, according to legends, refers to a Fangshi who can alter the effects of seasonal solstices, solar terms, and festivals, and is able to predict each day's fortune. Xiao Nanzhu, an unemployed young man, decided to take on his usual job that has been passed down for generations, after being inspired by his childhood friend. Now he just wants to call 110. Chuxi: What are you looking at? You don't want to live past new year's eve? Chuba: Today's fortune is terrible, nothing's going to turn out right. I'm afraid there might be a… bloody disaster.</p>\n",
       "        <p><b>Score:</b> 6.31</p>\n",
       "        <p><b>Type:</b> ONA</p>\n",
       "        <p><b>Episodes:</b> 16.0</p>\n",
       "        <p><b>Genres:</b> Action, Mystery, Supernatural</p>\n",
       "        \n",
       "        \n",
       "        <p><b>Season:</b> May 7 2020</p>\n",
       "        <p><b>MAL Page:</b> <a href=\"https://myanimelist.net/anime/39736/Li_Shi\" target=\"_blank\">Link to MyAnimeList</a></p>\n",
       "        "
      ],
      "text/plain": [
       "<IPython.core.display.HTML object>"
      ]
     },
     "metadata": {},
     "output_type": "display_data"
    },
    {
     "data": {
      "text/html": [
       "<p><b>Trailer:</b> <a href=\"nan\" target=\"_blank\">Watch Trailer</a></p>"
      ],
      "text/plain": [
       "<IPython.core.display.HTML object>"
      ]
     },
     "metadata": {},
     "output_type": "display_data"
    },
    {
     "data": {
      "text/html": [
       "<hr>"
      ],
      "text/plain": [
       "<IPython.core.display.HTML object>"
      ]
     },
     "metadata": {},
     "output_type": "display_data"
    },
    {
     "data": {
      "text/html": [
       "\n",
       "        <h1 style=\"font-family:Arial;\">Koi to Uso</h1>\n",
       "        <h3 style=\"font-family:Arial;\">Because you watched: Kuzu no Honkai</h3>\n",
       "        <img src=\"https://cdn.myanimelist.net/images/anime/5/86663.jpg\" alt=\"Koi to Uso\" style=\"width:225px;height:auto;float:left;margin-right:15px;\">\n",
       "        <p><b>Synopsis:</b> In a futuristic society, Japan has implemented a complex system referred to as \"The Red Threads of Science\" to encourage successful marriages and combat increasingly low birthrates. Based on a compatibility calculation, young people at the age of 16 are assigned marriage partners by the government, with severe repercussions awaiting those who disobey the arrangement. For Yukari Nejima, a teen that considers himself average in every way, this system might be his best shot at living a fulfilling life.\n",
       "\n",
       "However, spurred by his infatuation for his classmate and long-time crush, Misaki Takasaki, Yukari defies the system and confesses his love. After some initial reluctance, Misaki reciprocates his feelings in a moment of passion. Unfortunately, before the two can further their relationship, Yukari receives his marriage notice. He is then thrown into a confusing web of love and lies when his less-than-thrilled assigned partner, Ririna Sanada, becomes fascinated with his illicit romance.</p>\n",
       "        <p><b>Score:</b> 6.48</p>\n",
       "        <p><b>Type:</b> TV</p>\n",
       "        <p><b>Episodes:</b> 12.0</p>\n",
       "        <p><b>Genres:</b> Drama, Romance</p>\n",
       "        <p><b>Themes:</b> Love Polygon, School</p>\n",
       "        \n",
       "        <p><b>Season:</b> Summer 2017</p>\n",
       "        <p><b>MAL Page:</b> <a href=\"https://myanimelist.net/anime/34934/Koi_to_Uso\" target=\"_blank\">Link to MyAnimeList</a></p>\n",
       "        "
      ],
      "text/plain": [
       "<IPython.core.display.HTML object>"
      ]
     },
     "metadata": {},
     "output_type": "display_data"
    },
    {
     "data": {
      "text/html": [
       "<p><b>Trailer:</b> <a href=\"https://www.youtube.com/watch?v=_fZyv_ESidk\" target=\"_blank\">Watch Trailer</a></p>"
      ],
      "text/plain": [
       "<IPython.core.display.HTML object>"
      ]
     },
     "metadata": {},
     "output_type": "display_data"
    },
    {
     "data": {
      "text/html": [
       "<hr>"
      ],
      "text/plain": [
       "<IPython.core.display.HTML object>"
      ]
     },
     "metadata": {},
     "output_type": "display_data"
    },
    {
     "data": {
      "text/html": [
       "\n",
       "        <h1 style=\"font-family:Arial;\">Just Because!</h1>\n",
       "        <h3 style=\"font-family:Arial;\">Because you watched: Kuzu no Honkai</h3>\n",
       "        <img src=\"https://cdn.myanimelist.net/images/anime/10/88234.jpg\" alt=\"Just Because!\" style=\"width:225px;height:auto;float:left;margin-right:15px;\">\n",
       "        <p><b>Synopsis:</b> As another school year begins drawing to a close, the third-year high school students move steadily toward the next milestone of their lives: graduation. Among them are Mio Natsume, a girl burdened with lingering feelings; Hazuki Morikawa, a member of the concert band but distant from the others; and Haruto Souma, an athlete obsessed with baseball. Meanwhile, second-year student Ena Komiya seeks to revive the photography club to its former glory, refusing to let the organization be disbanded. Though this group lacks a strong connection with one another, their lives suddenly cross paths with the arrival of a third-year transfer student.\n",
       "\n",
       "While a transfer so close to graduation is unusual for most, it is business as usual for Eita Izumi. Due to his father's work, he has never been able to stay in one place for very long. But as luck would have it, their most recent relocation has returned Eita to his hometown for his final semester of high school. For better or worse, it also sparks the rekindling of old relationships left behind in the past.\n",
       "\n",
       "With graduation already causing its own share of anxieties, Eita's sudden arrival brings these students' carefree days to an abrupt end. Long-forgotten memories, deeply buried emotions, and inspiring new passions—everything is brought to light in their bittersweet final semester.</p>\n",
       "        <p><b>Score:</b> 7.23</p>\n",
       "        <p><b>Type:</b> TV</p>\n",
       "        <p><b>Episodes:</b> 12.0</p>\n",
       "        <p><b>Genres:</b> Drama, Romance</p>\n",
       "        <p><b>Themes:</b> Love Polygon, School</p>\n",
       "        \n",
       "        <p><b>Season:</b> Fall 2017</p>\n",
       "        <p><b>MAL Page:</b> <a href=\"https://myanimelist.net/anime/35639/Just_Because\" target=\"_blank\">Link to MyAnimeList</a></p>\n",
       "        "
      ],
      "text/plain": [
       "<IPython.core.display.HTML object>"
      ]
     },
     "metadata": {},
     "output_type": "display_data"
    },
    {
     "data": {
      "text/html": [
       "<p><b>Trailer:</b> <a href=\"https://www.youtube.com/watch?v=l5ladXDtjdU\" target=\"_blank\">Watch Trailer</a></p>"
      ],
      "text/plain": [
       "<IPython.core.display.HTML object>"
      ]
     },
     "metadata": {},
     "output_type": "display_data"
    },
    {
     "data": {
      "text/html": [
       "<hr>"
      ],
      "text/plain": [
       "<IPython.core.display.HTML object>"
      ]
     },
     "metadata": {},
     "output_type": "display_data"
    },
    {
     "data": {
      "text/html": [
       "\n",
       "        <h1 style=\"font-family:Arial;\">True Tears</h1>\n",
       "        <h3 style=\"font-family:Arial;\">Because you watched: Kuzu no Honkai</h3>\n",
       "        <img src=\"https://cdn.myanimelist.net/images/anime/1733/134118.jpg\" alt=\"True Tears\" style=\"width:225px;height:auto;float:left;margin-right:15px;\">\n",
       "        <p><b>Synopsis:</b> Shinichirou Nakagami was living the life other boys from his grade could only dream of—staying under the same roof as prodigal student Hiromi Yuasa. However, the bright and cheerful Hiromi has been depressed and cold at home ever since her mother passed away. While he is the subject of the ignorant jealousy of his peers, rumors begin to spread when Shinichirou meets Noe Isurugi—a girl known for cursing classmates, curses which always end up becoming reality.\n",
       "\n",
       "Noe curses Shinichirou as well, but two pits are created when you curse someone, and her curse on Shinichirou comes back to bite her in the form of a raccoon to her beloved chicken, Raigomaru. Despite this, she does not shed a single tear; Noe had had her tears stolen. For Noe to be able to cry again, she would need the tears of another, and Shinichirou knows a person whose tears he wants to take away.</p>\n",
       "        <p><b>Score:</b> 7.27</p>\n",
       "        <p><b>Type:</b> TV</p>\n",
       "        <p><b>Episodes:</b> 13.0</p>\n",
       "        <p><b>Genres:</b> Drama, Romance</p>\n",
       "        <p><b>Themes:</b> Love Polygon, School</p>\n",
       "        \n",
       "        <p><b>Season:</b> Winter 2008</p>\n",
       "        <p><b>MAL Page:</b> <a href=\"https://myanimelist.net/anime/2129/True_Tears\" target=\"_blank\">Link to MyAnimeList</a></p>\n",
       "        "
      ],
      "text/plain": [
       "<IPython.core.display.HTML object>"
      ]
     },
     "metadata": {},
     "output_type": "display_data"
    },
    {
     "data": {
      "text/html": [
       "<p><b>Trailer:</b> <a href=\"https://www.youtube.com/watch?v=hpOvxMER1gs\" target=\"_blank\">Watch Trailer</a></p>"
      ],
      "text/plain": [
       "<IPython.core.display.HTML object>"
      ]
     },
     "metadata": {},
     "output_type": "display_data"
    },
    {
     "data": {
      "text/html": [
       "<hr>"
      ],
      "text/plain": [
       "<IPython.core.display.HTML object>"
      ]
     },
     "metadata": {},
     "output_type": "display_data"
    },
    {
     "data": {
      "text/html": [
       "\n",
       "        <h1 style=\"font-family:Arial;\">Umi ga Kikoeru</h1>\n",
       "        <h3 style=\"font-family:Arial;\">Because you watched: Kuzu no Honkai</h3>\n",
       "        <img src=\"https://cdn.myanimelist.net/images/anime/1498/131411.jpg\" alt=\"Umi ga Kikoeru\" style=\"width:225px;height:auto;float:left;margin-right:15px;\">\n",
       "        <p><b>Synopsis:</b> In the city of Kouchi, high school student Taku Morisaki is going about his work when his friend Yutaka Matsuno calls and asks him to get to their school as soon as possible. Taku arrives, and Matsuno introduces him to Rikako Muto, a beautiful girl from Tokyo who recently transferred to their school. Although Rikako is academically and athletically gifted, her generally unpleasant attitude leaves her with virtually no friends outside of Matsuno and another girl from her class.\n",
       "\n",
       "After a chance encounter during their class trip, Taku suddenly finds himself more involved in Rikako's personal life, much to Matsuno's dismay. Struggling to balance his friendship with Matsuno and his own budding infatuation for Rikako, Taku must come to terms with his feelings and understand how a girl with a troubled past is having such a massive effect on his life.</p>\n",
       "        <p><b>Score:</b> 6.53</p>\n",
       "        <p><b>Type:</b> TV Special</p>\n",
       "        <p><b>Episodes:</b> 1.0</p>\n",
       "        <p><b>Genres:</b> Drama, Romance</p>\n",
       "        <p><b>Themes:</b> Love Polygon, School</p>\n",
       "        \n",
       "        <p><b>Season:</b> May 5 1993</p>\n",
       "        <p><b>MAL Page:</b> <a href=\"https://myanimelist.net/anime/743/Umi_ga_Kikoeru\" target=\"_blank\">Link to MyAnimeList</a></p>\n",
       "        "
      ],
      "text/plain": [
       "<IPython.core.display.HTML object>"
      ]
     },
     "metadata": {},
     "output_type": "display_data"
    },
    {
     "data": {
      "text/html": [
       "<p><b>Trailer:</b> <a href=\"https://www.youtube.com/watch?v=tfkHiHjrqa8\" target=\"_blank\">Watch Trailer</a></p>"
      ],
      "text/plain": [
       "<IPython.core.display.HTML object>"
      ]
     },
     "metadata": {},
     "output_type": "display_data"
    },
    {
     "data": {
      "text/html": [
       "<hr>"
      ],
      "text/plain": [
       "<IPython.core.display.HTML object>"
      ]
     },
     "metadata": {},
     "output_type": "display_data"
    },
    {
     "data": {
      "text/html": [
       "\n",
       "        <h1 style=\"font-family:Arial;\">One Punch Man 2nd Season</h1>\n",
       "        <h3 style=\"font-family:Arial;\">Because you watched: One Punch Man</h3>\n",
       "        <img src=\"https://cdn.myanimelist.net/images/anime/1247/122044.jpg\" alt=\"One Punch Man 2nd Season\" style=\"width:225px;height:auto;float:left;margin-right:15px;\">\n",
       "        <p><b>Synopsis:</b> In the wake of defeating Boros and his mighty army, Saitama has returned to his unremarkable everyday life in Z-City. However, unbeknownst to him, the number of monsters appearing is still continuously on the rise, putting a strain on the Hero Association's resources. Their top executives decide on the bold move of recruiting hoodlums in order to help in their battle. But during the first meeting with these potential newcomers, a mysterious man calling himself Garou makes his appearance. Claiming to be a monster, he starts mercilessly attacking the crowd.\n",
       "\n",
       "The mysterious Garou continues his rampage against the Hero Association, crushing every hero he encounters. He turns out to be the legendary martial artist Silverfang's best former disciple and seems driven by unknown motives. Regardless, this beast of a man seems unstoppable. Intrigued by this puzzling new foe and with an insatiable thirst for money, Saitama decides to seize the opportunity and joins the interesting martial arts competition.\n",
       "\n",
       "As the tournament commences and Garou continues his rampage, a new great menace reveals itself, threatening the entire human world. Could this finally be the earth-shattering catastrophe predicted by the great seer Madame Shibabawa?</p>\n",
       "        <p><b>Score:</b> 7.53</p>\n",
       "        <p><b>Type:</b> TV</p>\n",
       "        <p><b>Episodes:</b> 12.0</p>\n",
       "        <p><b>Genres:</b> Action, Comedy</p>\n",
       "        <p><b>Themes:</b> Adult Cast, Parody, Super Power</p>\n",
       "        <p><b>Demographic:</b> Seinen</p>\n",
       "        <p><b>Season:</b> Spring 2019</p>\n",
       "        <p><b>MAL Page:</b> <a href=\"https://myanimelist.net/anime/34134/One_Punch_Man_2nd_Season\" target=\"_blank\">Link to MyAnimeList</a></p>\n",
       "        "
      ],
      "text/plain": [
       "<IPython.core.display.HTML object>"
      ]
     },
     "metadata": {},
     "output_type": "display_data"
    },
    {
     "data": {
      "text/html": [
       "<p><b>Trailer:</b> <a href=\"https://www.youtube.com/watch?v=NezvLw2gRAY\" target=\"_blank\">Watch Trailer</a></p>"
      ],
      "text/plain": [
       "<IPython.core.display.HTML object>"
      ]
     },
     "metadata": {},
     "output_type": "display_data"
    },
    {
     "data": {
      "text/html": [
       "<hr>"
      ],
      "text/plain": [
       "<IPython.core.display.HTML object>"
      ]
     },
     "metadata": {},
     "output_type": "display_data"
    },
    {
     "data": {
      "text/html": [
       "\n",
       "        <h1 style=\"font-family:Arial;\">Ansatsu Kyoushitsu 2nd Season</h1>\n",
       "        <h3 style=\"font-family:Arial;\">Because you watched: One Punch Man</h3>\n",
       "        <img src=\"https://cdn.myanimelist.net/images/anime/8/77966.jpg\" alt=\"Ansatsu Kyoushitsu 2nd Season\" style=\"width:225px;height:auto;float:left;margin-right:15px;\">\n",
       "        <p><b>Synopsis:</b> Returning from their summer vacation, the students of Class 3-E at the prestigious Kunugigaoka Middle School find themselves up against unbeatable odds. Faced with the possibility of world annihilation, the students must come up with increasingly elaborate and creative ways to kill their teacher, the cunning yet optimistic and helpful Koro-sensei.\n",
       " \n",
       "However, eliminating Koro-sensei is not the only objective the students need to worry about. Gakuhou Asano, the academy's merciless and cruel principal, seeks to prevent Class 3-E's success by brainwashing his other hard-working pupils into ruthlessly competitive studying machines. Hostility begins to linger in the air as traitors and killers alike attempt to claim the bounty on Koro-sensei's head for themselves.\n",
       " \n",
       "Nagisa Shiota, one of Class 3-E's most skilled assassins, finds himself in the middle of the conflict. While he works to maintain his academic standing and prevent the end of the world, domestic affairs jeopardize his place in Class 3-E. Together with his dedicated classmates, he must now face the threats head-on.</p>\n",
       "        <p><b>Score:</b> 8.48</p>\n",
       "        <p><b>Type:</b> TV</p>\n",
       "        <p><b>Episodes:</b> 25.0</p>\n",
       "        <p><b>Genres:</b> Action, Comedy</p>\n",
       "        <p><b>Themes:</b> School</p>\n",
       "        <p><b>Demographic:</b> Shounen</p>\n",
       "        <p><b>Season:</b> Winter 2016</p>\n",
       "        <p><b>MAL Page:</b> <a href=\"https://myanimelist.net/anime/30654/Ansatsu_Kyoushitsu_2nd_Season\" target=\"_blank\">Link to MyAnimeList</a></p>\n",
       "        "
      ],
      "text/plain": [
       "<IPython.core.display.HTML object>"
      ]
     },
     "metadata": {},
     "output_type": "display_data"
    },
    {
     "data": {
      "text/html": [
       "<p><b>Trailer:</b> <a href=\"https://www.youtube.com/watch?v=tZiHgr0kd7E\" target=\"_blank\">Watch Trailer</a></p>"
      ],
      "text/plain": [
       "<IPython.core.display.HTML object>"
      ]
     },
     "metadata": {},
     "output_type": "display_data"
    },
    {
     "data": {
      "text/html": [
       "<hr>"
      ],
      "text/plain": [
       "<IPython.core.display.HTML object>"
      ]
     },
     "metadata": {},
     "output_type": "display_data"
    },
    {
     "data": {
      "text/html": [
       "\n",
       "        <h1 style=\"font-family:Arial;\">One Punch Man Specials</h1>\n",
       "        <h3 style=\"font-family:Arial;\">Because you watched: One Punch Man</h3>\n",
       "        <img src=\"https://cdn.myanimelist.net/images/anime/1452/97840.jpg\" alt=\"One Punch Man Specials\" style=\"width:225px;height:auto;float:left;margin-right:15px;\">\n",
       "        <p><b>Synopsis:</b> Specials included in the Blu-ray and DVD releases of One Punch Man.</p>\n",
       "        <p><b>Score:</b> 7.7</p>\n",
       "        <p><b>Type:</b> Special</p>\n",
       "        <p><b>Episodes:</b> 6.0</p>\n",
       "        <p><b>Genres:</b> Action, Comedy</p>\n",
       "        <p><b>Themes:</b> Adult Cast, Parody, Super Power</p>\n",
       "        <p><b>Demographic:</b> Seinen</p>\n",
       "        <p><b>Season:</b> Dec 24 2016</p>\n",
       "        <p><b>MAL Page:</b> <a href=\"https://myanimelist.net/anime/31772/One_Punch_Man_Specials\" target=\"_blank\">Link to MyAnimeList</a></p>\n",
       "        "
      ],
      "text/plain": [
       "<IPython.core.display.HTML object>"
      ]
     },
     "metadata": {},
     "output_type": "display_data"
    },
    {
     "data": {
      "text/html": [
       "<p><b>Trailer:</b> <a href=\"https://www.youtube.com/watch?v=xVy62_GaACE\" target=\"_blank\">Watch Trailer</a></p>"
      ],
      "text/plain": [
       "<IPython.core.display.HTML object>"
      ]
     },
     "metadata": {},
     "output_type": "display_data"
    },
    {
     "data": {
      "text/html": [
       "<hr>"
      ],
      "text/plain": [
       "<IPython.core.display.HTML object>"
      ]
     },
     "metadata": {},
     "output_type": "display_data"
    },
    {
     "data": {
      "text/html": [
       "\n",
       "        <h1 style=\"font-family:Arial;\">Ano Natsu de Matteru</h1>\n",
       "        <h3 style=\"font-family:Arial;\">Because you watched: Orange</h3>\n",
       "        <img src=\"https://cdn.myanimelist.net/images/anime/12/59405.jpg\" alt=\"Ano Natsu de Matteru\" style=\"width:225px;height:auto;float:left;margin-right:15px;\">\n",
       "        <p><b>Synopsis:</b> While testing out his camera on a bridge one summer night, Kaito Kirishima sees a blue light streaking across the sky, only to be blown off the railing seconds later. Just before succumbing to unconsciousness, a hand reaches down to grab ahold of his own. Dazed and confused, Kaito wakes up the next morning wondering how he ended up back in his own room with no apparent injuries or any recollection of the night before. As he proceeds with his normal school life, Kaito and his friends discuss what to do with his camera, finally deciding to make a film with it over their upcoming summer break. Noticing that Kaito has an interest in the new upperclassmen Ichika Takatsuki, his friend Tetsurou Ishigaki decides to invite her, as well as her friend Remon Yamano, to join them in their movie project.\n",
       "\n",
       "In what becomes one of the most entertaining and exciting summers of their lives, Kaito and his friends find that their time spent together is not just about creating a film, but something much more meaningful that will force them to confront their true feelings and each other.</p>\n",
       "        <p><b>Score:</b> 7.4</p>\n",
       "        <p><b>Type:</b> TV</p>\n",
       "        <p><b>Episodes:</b> 12.0</p>\n",
       "        <p><b>Genres:</b> Drama, Romance, Sci-Fi</p>\n",
       "        <p><b>Themes:</b> Love Polygon</p>\n",
       "        \n",
       "        <p><b>Season:</b> Winter 2012</p>\n",
       "        <p><b>MAL Page:</b> <a href=\"https://myanimelist.net/anime/11433/Ano_Natsu_de_Matteru\" target=\"_blank\">Link to MyAnimeList</a></p>\n",
       "        "
      ],
      "text/plain": [
       "<IPython.core.display.HTML object>"
      ]
     },
     "metadata": {},
     "output_type": "display_data"
    },
    {
     "data": {
      "text/html": [
       "<p><b>Trailer:</b> <a href=\"https://www.youtube.com/watch?v=dM4fbripgWA\" target=\"_blank\">Watch Trailer</a></p>"
      ],
      "text/plain": [
       "<IPython.core.display.HTML object>"
      ]
     },
     "metadata": {},
     "output_type": "display_data"
    },
    {
     "data": {
      "text/html": [
       "<hr>"
      ],
      "text/plain": [
       "<IPython.core.display.HTML object>"
      ]
     },
     "metadata": {},
     "output_type": "display_data"
    },
    {
     "data": {
      "text/html": [
       "\n",
       "        <h1 style=\"font-family:Arial;\">Hello World</h1>\n",
       "        <h3 style=\"font-family:Arial;\">Because you watched: Orange</h3>\n",
       "        <img src=\"https://cdn.myanimelist.net/images/anime/1147/112650.jpg\" alt=\"Hello World\" style=\"width:225px;height:auto;float:left;margin-right:15px;\">\n",
       "        <p><b>Synopsis:</b> The year is 2027, and the city of Kyoto has undergone tremendous technological advancement. Within the city live two classmates: Naomi Katagaki, a socially awkward and introverted boy; and Ruri Ichigyou, a girl with a cold personality who is often blunt with people. Despite sharing Ruri's love of reading, Naomi is afraid to approach her due to her unfriendly nature.\n",
       "\n",
       "One day, while out on a walk, Naomi witnesses a crimson aurora pierce through the sky for a brief moment before vanishing. Shortly after, he encounters a three-legged crow and a mysterious hooded man, who reveals himself to be Naomi from 10 years in the future, explaining that he has come to change an imminent tragic event that happens to Ruri soon after they start dating. Initially taking his words with a grain of salt, present-day Naomi follows his future self's instructions and starts getting closer to Ruri, determined to save her. Will he be able to change the future?</p>\n",
       "        <p><b>Score:</b> 7.49</p>\n",
       "        <p><b>Type:</b> Movie</p>\n",
       "        <p><b>Episodes:</b> 1.0</p>\n",
       "        <p><b>Genres:</b> Drama, Romance, Sci-Fi</p>\n",
       "        \n",
       "        \n",
       "        <p><b>Season:</b> Sep 20 2019</p>\n",
       "        <p><b>MAL Page:</b> <a href=\"https://myanimelist.net/anime/38816/Hello_World\" target=\"_blank\">Link to MyAnimeList</a></p>\n",
       "        "
      ],
      "text/plain": [
       "<IPython.core.display.HTML object>"
      ]
     },
     "metadata": {},
     "output_type": "display_data"
    },
    {
     "data": {
      "text/html": [
       "<p><b>Trailer:</b> <a href=\"https://www.youtube.com/watch?v=shoWFRnNoWw\" target=\"_blank\">Watch Trailer</a></p>"
      ],
      "text/plain": [
       "<IPython.core.display.HTML object>"
      ]
     },
     "metadata": {},
     "output_type": "display_data"
    },
    {
     "data": {
      "text/html": [
       "<hr>"
      ],
      "text/plain": [
       "<IPython.core.display.HTML object>"
      ]
     },
     "metadata": {},
     "output_type": "display_data"
    },
    {
     "data": {
      "text/html": [
       "\n",
       "        <h1 style=\"font-family:Arial;\">Onegai☆Teacher</h1>\n",
       "        <h3 style=\"font-family:Arial;\">Because you watched: Orange</h3>\n",
       "        <img src=\"https://cdn.myanimelist.net/images/anime/1371/138517.jpg\" alt=\"Onegai☆Teacher\" style=\"width:225px;height:auto;float:left;margin-right:15px;\">\n",
       "        <p><b>Synopsis:</b> One day, Kei Kusanagi notices a strange glowing woman by the lake. He discovers that the woman is actually an alien officer from the Galaxy Federation named Mizuho Kazami, and even more shocking—she's also his teacher! In spite of this setback, he and his teacher gradually get to know each other and a romance blossoms between them. However, soon enough, the principal of the school finds out about their relationship. The solution? Get married!\n",
       "\n",
       "Together, the newlyweds must keep their marriage a secret, not only from Kei's high school friends, but also the Galaxy Federation. Onegai☆Teacher is the fragile but comedic love story of an alien and her student.</p>\n",
       "        <p><b>Score:</b> 7.09</p>\n",
       "        <p><b>Type:</b> TV</p>\n",
       "        <p><b>Episodes:</b> 12.0</p>\n",
       "        <p><b>Genres:</b> Drama, Romance, Sci-Fi</p>\n",
       "        <p><b>Themes:</b> School</p>\n",
       "        \n",
       "        <p><b>Season:</b> Winter 2002</p>\n",
       "        <p><b>MAL Page:</b> <a href=\"https://myanimelist.net/anime/195/Onegai☆Teacher\" target=\"_blank\">Link to MyAnimeList</a></p>\n",
       "        "
      ],
      "text/plain": [
       "<IPython.core.display.HTML object>"
      ]
     },
     "metadata": {},
     "output_type": "display_data"
    },
    {
     "data": {
      "text/html": [
       "<p><b>Trailer:</b> <a href=\"https://www.youtube.com/watch?v=edAOr7fhjAI\" target=\"_blank\">Watch Trailer</a></p>"
      ],
      "text/plain": [
       "<IPython.core.display.HTML object>"
      ]
     },
     "metadata": {},
     "output_type": "display_data"
    },
    {
     "data": {
      "text/html": [
       "<hr>"
      ],
      "text/plain": [
       "<IPython.core.display.HTML object>"
      ]
     },
     "metadata": {},
     "output_type": "display_data"
    },
    {
     "data": {
      "text/html": [
       "\n",
       "        <h1 style=\"font-family:Arial;\">Hal</h1>\n",
       "        <h3 style=\"font-family:Arial;\">Because you watched: Orange</h3>\n",
       "        <img src=\"https://cdn.myanimelist.net/images/anime/6/46549.jpg\" alt=\"Hal\" style=\"width:225px;height:auto;float:left;margin-right:15px;\">\n",
       "        <p><b>Synopsis:</b> Kurumi is a beautiful young woman whose beloved boyfriend, Hal, died in a sudden airplane accident. Left heartbroken and gloomy, she isolates herself in a small house. But this soon comes to change when her grandfather requests the help of a humanoid robot named Q01.\n",
       "\n",
       "Taking on the appearance of Hal, Q01 is sent to Kurumi's house in order to save her from her state of despair. As Hal returns day after day and increases his efforts, Kurumi, despite her initial reluctance, slowly begins to open up to him and break free from her depression. But there is more to Hal than meets the eye, and these two will soon learn an unexpected truth about this relationship between a human and an android.</p>\n",
       "        <p><b>Score:</b> 7.38</p>\n",
       "        <p><b>Type:</b> Movie</p>\n",
       "        <p><b>Episodes:</b> 1.0</p>\n",
       "        <p><b>Genres:</b> Drama, Romance, Sci-Fi</p>\n",
       "        \n",
       "        \n",
       "        <p><b>Season:</b> Jun 8 2013</p>\n",
       "        <p><b>MAL Page:</b> <a href=\"https://myanimelist.net/anime/16528/Hal\" target=\"_blank\">Link to MyAnimeList</a></p>\n",
       "        "
      ],
      "text/plain": [
       "<IPython.core.display.HTML object>"
      ]
     },
     "metadata": {},
     "output_type": "display_data"
    },
    {
     "data": {
      "text/html": [
       "<p><b>Trailer:</b> <a href=\"https://www.youtube.com/watch?v=OS43cCcWU0A\" target=\"_blank\">Watch Trailer</a></p>"
      ],
      "text/plain": [
       "<IPython.core.display.HTML object>"
      ]
     },
     "metadata": {},
     "output_type": "display_data"
    },
    {
     "data": {
      "text/html": [
       "<hr>"
      ],
      "text/plain": [
       "<IPython.core.display.HTML object>"
      ]
     },
     "metadata": {},
     "output_type": "display_data"
    },
    {
     "data": {
      "text/html": [
       "\n",
       "        <h1 style=\"font-family:Arial;\">Rougo ni Sonaete Isekai de 8-manmai no Kinka wo Tamemasu</h1>\n",
       "        <h3 style=\"font-family:Arial;\">Because you watched: Re:Zero kara Hajimeru Isekai Seikatsu - Memory Snow</h3>\n",
       "        <img src=\"https://cdn.myanimelist.net/images/anime/1890/131473.jpg\" alt=\"Rougo ni Sonaete Isekai de 8-manmai no Kinka wo Tamemasu\" style=\"width:225px;height:auto;float:left;margin-right:15px;\">\n",
       "        <p><b>Synopsis:</b> Mitsuha Yamano could not have had it worse. After failing to enter her university of choice and losing her entire family in an accident, she finds herself plummeting off a cliff due to an especially fragile guardrail. Through what seems to be the only bit of the fortune left in her life, Mitsuha's firm unwillingness to die allows her to be transported to another world, where she ends up surviving.\n",
       "\n",
       "In this foreign land, Mitsuha wanders around for days before collapsing from exhaustion and being rescued by a little girl named Colette. Not long after, she finds herself in yet another life-threatening situation, and her indomitable will shines once more, granting her an audience with a divine cosmic being. The entity reveals to Mitsuha that she has acquired not only superhuman regeneration but also the ability to transport between worlds at will.\n",
       "\n",
       "Armed with this new information, Mitsuha brainstorms ways to utilize her newfound power to its full potential. Realizing that she can take goods from Earth and resell them to the other world at a higher price, she resolves to save up eighty thousand gold coins to be able to retire comfortably.</p>\n",
       "        <p><b>Score:</b> 6.94</p>\n",
       "        <p><b>Type:</b> TV</p>\n",
       "        <p><b>Episodes:</b> 12.0</p>\n",
       "        <p><b>Genres:</b> Fantasy</p>\n",
       "        <p><b>Themes:</b> Isekai</p>\n",
       "        \n",
       "        <p><b>Season:</b> Winter 2023</p>\n",
       "        <p><b>MAL Page:</b> <a href=\"https://myanimelist.net/anime/52461/Rougo_ni_Sonaete_Isekai_de_8-manmai_no_Kinka_wo_Tamemasu\" target=\"_blank\">Link to MyAnimeList</a></p>\n",
       "        "
      ],
      "text/plain": [
       "<IPython.core.display.HTML object>"
      ]
     },
     "metadata": {},
     "output_type": "display_data"
    },
    {
     "data": {
      "text/html": [
       "<p><b>Trailer:</b> <a href=\"https://www.youtube.com/watch?v=XcHBxoPGMYg\" target=\"_blank\">Watch Trailer</a></p>"
      ],
      "text/plain": [
       "<IPython.core.display.HTML object>"
      ]
     },
     "metadata": {},
     "output_type": "display_data"
    },
    {
     "data": {
      "text/html": [
       "<hr>"
      ],
      "text/plain": [
       "<IPython.core.display.HTML object>"
      ]
     },
     "metadata": {},
     "output_type": "display_data"
    },
    {
     "data": {
      "text/html": [
       "\n",
       "        <h1 style=\"font-family:Arial;\">Re:Zero kara Hajimeru Isekai Seikatsu - Memory Snow - Manner Movie</h1>\n",
       "        <h3 style=\"font-family:Arial;\">Because you watched: Re:Zero kara Hajimeru Isekai Seikatsu - Memory Snow</h3>\n",
       "        <img src=\"https://cdn.myanimelist.net/images/anime/1018/122070.jpg\" alt=\"Re:Zero kara Hajimeru Isekai Seikatsu - Memory Snow - Manner Movie\" style=\"width:225px;height:auto;float:left;margin-right:15px;\">\n",
       "        <p><b>Synopsis:</b> Subaru Natsuki finally gets to take a breather, but he does not waste any time as he prepares for a date with his beloved Emilia. He scouts the nearby village for the right dating spot, and with the help of the village children, he finds a wonderful location. With that, he is well prepared for his date! Unfortunately for Subaru, cold weather suddenly sweeps across Roswaal's mansion on his important day, leaving him with no choice but to postpone the date. Overnight, it becomes even colder and unbearable. Subaru must get to the bottom of this because, at this rate, his date will be the least of his worries.\n",
       "\n",
       "(Source: Apple TV)</p>\n",
       "        <p><b>Score:</b> 7.51</p>\n",
       "        <p><b>Type:</b> Movie</p>\n",
       "        <p><b>Episodes:</b> 1.0</p>\n",
       "        <p><b>Genres:</b> Fantasy</p>\n",
       "        <p><b>Themes:</b> Isekai</p>\n",
       "        \n",
       "        <p><b>Season:</b> Oct 6 2018</p>\n",
       "        <p><b>MAL Page:</b> <a href=\"https://myanimelist.net/anime/39921/Re_Zero_kara_Hajimeru_Isekai_Seikatsu_-_Memory_Snow_-_Manner_Movie\" target=\"_blank\">Link to MyAnimeList</a></p>\n",
       "        "
      ],
      "text/plain": [
       "<IPython.core.display.HTML object>"
      ]
     },
     "metadata": {},
     "output_type": "display_data"
    },
    {
     "data": {
      "text/html": [
       "<p><b>Trailer:</b> <a href=\"nan\" target=\"_blank\">Watch Trailer</a></p>"
      ],
      "text/plain": [
       "<IPython.core.display.HTML object>"
      ]
     },
     "metadata": {},
     "output_type": "display_data"
    },
    {
     "data": {
      "text/html": [
       "<hr>"
      ],
      "text/plain": [
       "<IPython.core.display.HTML object>"
      ]
     },
     "metadata": {},
     "output_type": "display_data"
    },
    {
     "data": {
      "text/html": [
       "\n",
       "        <h1 style=\"font-family:Arial;\">Juuni Kokuki</h1>\n",
       "        <h3 style=\"font-family:Arial;\">Because you watched: Re:Zero kara Hajimeru Isekai Seikatsu - Memory Snow</h3>\n",
       "        <img src=\"https://cdn.myanimelist.net/images/anime/6/50859.jpg\" alt=\"Juuni Kokuki\" style=\"width:225px;height:auto;float:left;margin-right:15px;\">\n",
       "        <p><b>Synopsis:</b> Youko Nakajima has only ever wanted to be normal. She does what she is asked, gets good grades, is the class president, and even helps her classmates whenever she can—but because of her red hair, she has never fit in. With her pushover attitude, Youko lets classmates take advantage of her, so she has nobody she can really call a friend.\n",
       "\n",
       "But on an otherwise ordinary day, a man who claims to be from another world barges into Youko's classroom and bows before her. This elegant blond-haired man, Keiki, claims that Youko is his master and belongs on the throne of his kingdom. However, their first meeting is cut short as Keiki has been followed by otherworldly beasts called youma. He is able to escape with Youko into his own realm, but two other classmates—Ikuya Asano and Yuka Sugimoto—are caught up in the madness as well. Unfortunately, their troubles have only just begun, as the youma attack leaves them separated from Keiki. Alone in this strange new land, these ordinary students must learn to fend for themselves or die.</p>\n",
       "        <p><b>Score:</b> 8.01</p>\n",
       "        <p><b>Type:</b> TV</p>\n",
       "        <p><b>Episodes:</b> 45.0</p>\n",
       "        <p><b>Genres:</b> Action, Adventure, Fantasy</p>\n",
       "        <p><b>Themes:</b> Isekai</p>\n",
       "        \n",
       "        <p><b>Season:</b> Spring 2002</p>\n",
       "        <p><b>MAL Page:</b> <a href=\"https://myanimelist.net/anime/153/Juuni_Kokuki\" target=\"_blank\">Link to MyAnimeList</a></p>\n",
       "        "
      ],
      "text/plain": [
       "<IPython.core.display.HTML object>"
      ]
     },
     "metadata": {},
     "output_type": "display_data"
    },
    {
     "data": {
      "text/html": [
       "<p><b>Trailer:</b> <a href=\"nan\" target=\"_blank\">Watch Trailer</a></p>"
      ],
      "text/plain": [
       "<IPython.core.display.HTML object>"
      ]
     },
     "metadata": {},
     "output_type": "display_data"
    },
    {
     "data": {
      "text/html": [
       "<hr>"
      ],
      "text/plain": [
       "<IPython.core.display.HTML object>"
      ]
     },
     "metadata": {},
     "output_type": "display_data"
    },
    {
     "data": {
      "text/html": [
       "\n",
       "        <h1 style=\"font-family:Arial;\">Honzuki no Gekokujou: Shisho ni Naru Tame ni wa Shudan wo Erandeiraremasen 3rd Season</h1>\n",
       "        <h3 style=\"font-family:Arial;\">Because you watched: Re:Zero kara Hajimeru Isekai Seikatsu - Memory Snow</h3>\n",
       "        <img src=\"https://cdn.myanimelist.net/images/anime/1976/122302.jpg\" alt=\"Honzuki no Gekokujou: Shisho ni Naru Tame ni wa Shudan wo Erandeiraremasen 3rd Season\" style=\"width:225px;height:auto;float:left;margin-right:15px;\">\n",
       "        <p><b>Synopsis:</b> Winter is approaching, and Myne—now an apprentice priestess—must prepare for her stay at the church and the upcoming Dedication Ceremony. However, due to her immense knowledge and extraordinary amount of mana, she has garnered the attention of many dangerous people, who are willing to do anything to get their hands on Myne.\n",
       "\n",
       "To keep her safe, the Head Priest assigns Myne a bodyguard and advises her to be adopted by a noble, a decision that will force her to leave her family behind. As Myne is opposed to the idea, the Head Priest gives her an ultimatum: she can be with her family until she turns 10, but if she is deemed too unstable, she will immediately be dealt with.\n",
       "\n",
       "Placed in a tough position, Myne is uncertain about her future. Despite the twists that may lie ahead, she will do whatever she can to protect those that she loves—even if it means giving up on her dream.</p>\n",
       "        <p><b>Score:</b> 8.07</p>\n",
       "        <p><b>Type:</b> TV</p>\n",
       "        <p><b>Episodes:</b> 10.0</p>\n",
       "        <p><b>Genres:</b> Fantasy</p>\n",
       "        <p><b>Themes:</b> Isekai, Reincarnation</p>\n",
       "        \n",
       "        <p><b>Season:</b> Spring 2022</p>\n",
       "        <p><b>MAL Page:</b> <a href=\"https://myanimelist.net/anime/42429/Honzuki_no_Gekokujou__Shisho_ni_Naru_Tame_ni_wa_Shudan_wo_Erandeiraremasen_3rd_Season\" target=\"_blank\">Link to MyAnimeList</a></p>\n",
       "        "
      ],
      "text/plain": [
       "<IPython.core.display.HTML object>"
      ]
     },
     "metadata": {},
     "output_type": "display_data"
    },
    {
     "data": {
      "text/html": [
       "<p><b>Trailer:</b> <a href=\"https://www.youtube.com/watch?v=b21XZo55TNw\" target=\"_blank\">Watch Trailer</a></p>"
      ],
      "text/plain": [
       "<IPython.core.display.HTML object>"
      ]
     },
     "metadata": {},
     "output_type": "display_data"
    },
    {
     "data": {
      "text/html": [
       "<hr>"
      ],
      "text/plain": [
       "<IPython.core.display.HTML object>"
      ]
     },
     "metadata": {},
     "output_type": "display_data"
    },
    {
     "data": {
      "text/html": [
       "\n",
       "        <h1 style=\"font-family:Arial;\">Tsuki to Laika to Nosferatu</h1>\n",
       "        <h3 style=\"font-family:Arial;\">Because you watched: Re:Zero kara Hajimeru Isekai Seikatsu - Memory Snow</h3>\n",
       "        <img src=\"https://cdn.myanimelist.net/images/anime/1393/118374.jpg\" alt=\"Tsuki to Laika to Nosferatu\" style=\"width:225px;height:auto;float:left;margin-right:15px;\">\n",
       "        <p><b>Synopsis:</b> On November 23, 1957, the whole world witnessed the Federal Republic of Zirnitra's monumental achievement of sending the first live animal—a dog—to outer space. Since then, the space race between the confederacy and its competitor, the United Kingdom of Arnack, has intensified; the two countries hope to one day send humans to the cosmos above.\n",
       "\n",
       "As a dog's biology is inherently different from a human's anatomy, there is no way to perfectly identify the risks involving space travel and its effects on an individual's body without actually sending someone for observation. However, Zirnitra's government has a potential solution: to experiment on vampires, whose biological similarity to humans is too significant to ignore.\n",
       "\n",
       "Despite being forcibly taken from her home in the mountains, vampire Irina Luminesk shows no resistance and is even willing to train as a test subject. Lev Leps, a former top candidate to become the first human cosmonaut, is designated to accompany Irina and act as her guide. Through their time together, Irina and Lev begin to develop a mutual love for outer space, bringing them closer together.</p>\n",
       "        <p><b>Score:</b> 7.31</p>\n",
       "        <p><b>Type:</b> TV</p>\n",
       "        <p><b>Episodes:</b> 12.0</p>\n",
       "        <p><b>Genres:</b> Fantasy</p>\n",
       "        <p><b>Themes:</b> Historical, Military, Space, Vampire</p>\n",
       "        \n",
       "        <p><b>Season:</b> Fall 2021</p>\n",
       "        <p><b>MAL Page:</b> <a href=\"https://myanimelist.net/anime/48471/Tsuki_to_Laika_to_Nosferatu\" target=\"_blank\">Link to MyAnimeList</a></p>\n",
       "        "
      ],
      "text/plain": [
       "<IPython.core.display.HTML object>"
      ]
     },
     "metadata": {},
     "output_type": "display_data"
    },
    {
     "data": {
      "text/html": [
       "<p><b>Trailer:</b> <a href=\"https://www.youtube.com/watch?v=AqE9QwSYJNw\" target=\"_blank\">Watch Trailer</a></p>"
      ],
      "text/plain": [
       "<IPython.core.display.HTML object>"
      ]
     },
     "metadata": {},
     "output_type": "display_data"
    },
    {
     "data": {
      "text/html": [
       "<hr>"
      ],
      "text/plain": [
       "<IPython.core.display.HTML object>"
      ]
     },
     "metadata": {},
     "output_type": "display_data"
    },
    {
     "data": {
      "text/html": [
       "\n",
       "        <h1 style=\"font-family:Arial;\">Kamisama no Inai Nichiyoubi: Kioku</h1>\n",
       "        <h3 style=\"font-family:Arial;\">Because you watched: Shadows House</h3>\n",
       "        <img src=\"https://cdn.myanimelist.net/images/anime/6/59029.jpg\" alt=\"Kamisama no Inai Nichiyoubi: Kioku\" style=\"width:225px;height:auto;float:left;margin-right:15px;\">\n",
       "        <p><b>Synopsis:</b> Episode 13 of Kamisama no Inai Nichiyoubi, included in the final Blu-ray/DVD volume of the series.\n",
       "\n",
       "This bonus episode is separated into three parts.\n",
       "\n",
       "In the first part, taking place before the characters reach Ostia, Ai and the others visit a hot spring.\n",
       "\n",
       "In the second part, Alice remembers the times he killed his classmates and encounters Hampnie Hambart. A battle ensues.\n",
       "\n",
       "In the third and final part, Hampnie dreams of when he first met Hana and is then woken up by Ai.\n",
       "\n",
       "(Source: Wikipedia)</p>\n",
       "        <p><b>Score:</b> 6.87</p>\n",
       "        <p><b>Type:</b> Special</p>\n",
       "        <p><b>Episodes:</b> 1.0</p>\n",
       "        <p><b>Genres:</b> Fantasy, Mystery</p>\n",
       "        \n",
       "        \n",
       "        <p><b>Season:</b> Feb 5 2014</p>\n",
       "        <p><b>MAL Page:</b> <a href=\"https://myanimelist.net/anime/20423/Kamisama_no_Inai_Nichiyoubi__Kioku\" target=\"_blank\">Link to MyAnimeList</a></p>\n",
       "        "
      ],
      "text/plain": [
       "<IPython.core.display.HTML object>"
      ]
     },
     "metadata": {},
     "output_type": "display_data"
    },
    {
     "data": {
      "text/html": [
       "<p><b>Trailer:</b> <a href=\"nan\" target=\"_blank\">Watch Trailer</a></p>"
      ],
      "text/plain": [
       "<IPython.core.display.HTML object>"
      ]
     },
     "metadata": {},
     "output_type": "display_data"
    },
    {
     "data": {
      "text/html": [
       "<hr>"
      ],
      "text/plain": [
       "<IPython.core.display.HTML object>"
      ]
     },
     "metadata": {},
     "output_type": "display_data"
    },
    {
     "data": {
      "text/html": [
       "\n",
       "        <h1 style=\"font-family:Arial;\">Chio-chan no Tsuugakuro</h1>\n",
       "        <h3 style=\"font-family:Arial;\">Because you watched: Shadows House</h3>\n",
       "        <img src=\"https://cdn.myanimelist.net/images/anime/1073/95042.jpg\" alt=\"Chio-chan no Tsuugakuro\" style=\"width:225px;height:auto;float:left;margin-right:15px;\">\n",
       "        <p><b>Synopsis:</b> For the average Japanese high school student, walking to school can be a chore, but for first-year Chio Miyamo, it's always an adventure. Constantly running late due to her long night sessions playing video games, she is forced to come up with new routes to make it to Samejima Private Academy on time. \n",
       "\n",
       "On her many bizarre journeys to school, Chio contends with obstacles like street-blocking detours, overzealous kabaddi players, and befuddled motorcycle gang leaders. But these minor hindrances are no match for the special ops training that Chio, AKA the legendary assassin \"Bloody Butterfly,\" has received from her extensive gaming obsession. Together with her best friends Manana Nonomura and Yuki Hosokawa, Chio will do whatever it takes to avoid her school's harsh penalties for tardiness.</p>\n",
       "        <p><b>Score:</b> 7.45</p>\n",
       "        <p><b>Type:</b> TV</p>\n",
       "        <p><b>Episodes:</b> 12.0</p>\n",
       "        <p><b>Genres:</b> Comedy</p>\n",
       "        \n",
       "        <p><b>Demographic:</b> Seinen</p>\n",
       "        <p><b>Season:</b> Summer 2018</p>\n",
       "        <p><b>MAL Page:</b> <a href=\"https://myanimelist.net/anime/35821/Chio-chan_no_Tsuugakuro\" target=\"_blank\">Link to MyAnimeList</a></p>\n",
       "        "
      ],
      "text/plain": [
       "<IPython.core.display.HTML object>"
      ]
     },
     "metadata": {},
     "output_type": "display_data"
    },
    {
     "data": {
      "text/html": [
       "<p><b>Trailer:</b> <a href=\"https://www.youtube.com/watch?v=gcwaJq9pDYs\" target=\"_blank\">Watch Trailer</a></p>"
      ],
      "text/plain": [
       "<IPython.core.display.HTML object>"
      ]
     },
     "metadata": {},
     "output_type": "display_data"
    },
    {
     "data": {
      "text/html": [
       "<hr>"
      ],
      "text/plain": [
       "<IPython.core.display.HTML object>"
      ]
     },
     "metadata": {},
     "output_type": "display_data"
    },
    {
     "data": {
      "text/html": [
       "\n",
       "        <h1 style=\"font-family:Arial;\">World Trigger 3rd Season</h1>\n",
       "        <h3 style=\"font-family:Arial;\">Because you watched: Shadows House</h3>\n",
       "        <img src=\"https://cdn.myanimelist.net/images/anime/1617/117474.jpg\" alt=\"World Trigger 3rd Season\" style=\"width:225px;height:auto;float:left;margin-right:15px;\">\n",
       "        <p><b>Synopsis:</b> At the Border Defense Agency's headquarters, the B-Rank Wars are underway as each team fights intensely to secure a spot in the upcoming Away Mission. Though Osamu Mikumo and the rest of Tamakoma-2 have pulled through thus far, the final rounds will require them to push far beyond the limits of their current abilities. Taking in a talented new member, the squad begins to train and develop new strategies, but, amid these efforts, the team is shaken by a heated dispute—one that could jeopardize their ticket to the Neighbor's dimension.</p>\n",
       "        <p><b>Score:</b> 8.25</p>\n",
       "        <p><b>Type:</b> TV</p>\n",
       "        <p><b>Episodes:</b> 14.0</p>\n",
       "        <p><b>Genres:</b> Action, Sci-Fi</p>\n",
       "        \n",
       "        <p><b>Demographic:</b> Shounen</p>\n",
       "        <p><b>Season:</b> Fall 2021</p>\n",
       "        <p><b>MAL Page:</b> <a href=\"https://myanimelist.net/anime/44940/World_Trigger_3rd_Season\" target=\"_blank\">Link to MyAnimeList</a></p>\n",
       "        "
      ],
      "text/plain": [
       "<IPython.core.display.HTML object>"
      ]
     },
     "metadata": {},
     "output_type": "display_data"
    },
    {
     "data": {
      "text/html": [
       "<p><b>Trailer:</b> <a href=\"https://www.youtube.com/watch?v=zps4vghwaVk\" target=\"_blank\">Watch Trailer</a></p>"
      ],
      "text/plain": [
       "<IPython.core.display.HTML object>"
      ]
     },
     "metadata": {},
     "output_type": "display_data"
    },
    {
     "data": {
      "text/html": [
       "<hr>"
      ],
      "text/plain": [
       "<IPython.core.display.HTML object>"
      ]
     },
     "metadata": {},
     "output_type": "display_data"
    },
    {
     "data": {
      "text/html": [
       "\n",
       "        <h1 style=\"font-family:Arial;\">3D Kanojo: Real Girl</h1>\n",
       "        <h3 style=\"font-family:Arial;\">Because you watched: Sono Bisque Doll wa Koi wo Suru</h3>\n",
       "        <img src=\"https://cdn.myanimelist.net/images/anime/1327/93616.jpg\" alt=\"3D Kanojo: Real Girl\" style=\"width:225px;height:auto;float:left;margin-right:15px;\">\n",
       "        <p><b>Synopsis:</b> For Hikari Tsutsui, life within the two-dimensional realm is much simpler. Socially inept and awkward, he immerses himself in video games and anime, only to be relentlessly ridiculed and ostracized by his classmates. Sharing his misery is Yuuto Itou, his only friend, who wears cat ears and is equally obsessed with the world of games. \n",
       "\n",
       "After being forced to clean the pool as punishment for arriving late, Tsutsui meets Iroha Igarashi, but he attempts to steer clear of her, as her notoriety precedes her. Brazenly blunt, loathed by female classmates, and infamous for messing around with boys, Tsutsui believes that getting involved with her would cause nothing but problems. \n",
       "\n",
       "3D Kanojo: Real Girl is a story revolving around these two outcasts—a boy full of emotions he has never experienced before, struggling to lay them bare, and a girl who strives to break him out of his shell.</p>\n",
       "        <p><b>Score:</b> 6.86</p>\n",
       "        <p><b>Type:</b> TV</p>\n",
       "        <p><b>Episodes:</b> 12.0</p>\n",
       "        <p><b>Genres:</b> Romance</p>\n",
       "        <p><b>Themes:</b> Otaku Culture, School</p>\n",
       "        <p><b>Demographic:</b> Shoujo</p>\n",
       "        <p><b>Season:</b> Spring 2018</p>\n",
       "        <p><b>MAL Page:</b> <a href=\"https://myanimelist.net/anime/36793/3D_Kanojo__Real_Girl\" target=\"_blank\">Link to MyAnimeList</a></p>\n",
       "        "
      ],
      "text/plain": [
       "<IPython.core.display.HTML object>"
      ]
     },
     "metadata": {},
     "output_type": "display_data"
    },
    {
     "data": {
      "text/html": [
       "<p><b>Trailer:</b> <a href=\"https://www.youtube.com/watch?v=NIHvbYdxdfo\" target=\"_blank\">Watch Trailer</a></p>"
      ],
      "text/plain": [
       "<IPython.core.display.HTML object>"
      ]
     },
     "metadata": {},
     "output_type": "display_data"
    },
    {
     "data": {
      "text/html": [
       "<hr>"
      ],
      "text/plain": [
       "<IPython.core.display.HTML object>"
      ]
     },
     "metadata": {},
     "output_type": "display_data"
    },
    {
     "data": {
      "text/html": [
       "\n",
       "        <h1 style=\"font-family:Arial;\">Himouto! Umaru-chan</h1>\n",
       "        <h3 style=\"font-family:Arial;\">Because you watched: Sono Bisque Doll wa Koi wo Suru</h3>\n",
       "        <img src=\"https://cdn.myanimelist.net/images/anime/12/75086.jpg\" alt=\"Himouto! Umaru-chan\" style=\"width:225px;height:auto;float:left;margin-right:15px;\">\n",
       "        <p><b>Synopsis:</b> People are not always who they appear to be, as is the case with Umaru Doma, the perfect high school girl—that is, until she gets home! Once the front door closes, the real fun begins. When she dons her hamster hoodie, she transforms from a refined, over-achieving student into a lazy, junk food-eating otaku, leaving all the housework to her responsible older brother Taihei. Whether she's hanging out with her friends Nana Ebina and Kirie Motoba, or competing with her self-proclaimed \"rival\" Sylphinford Tachibana, Umaru knows how to kick back and have some fun!\n",
       "\n",
       "Himouto! Umaru-chan is a cute story that follows the daily adventures of Umaru and Taihei, as they take care of—and put up with—each other the best they can, as well as the unbreakable bonds between friends and siblings.</p>\n",
       "        <p><b>Score:</b> 7.1</p>\n",
       "        <p><b>Type:</b> TV</p>\n",
       "        <p><b>Episodes:</b> 12.0</p>\n",
       "        <p><b>Genres:</b> Comedy</p>\n",
       "        <p><b>Themes:</b> Otaku Culture, School</p>\n",
       "        <p><b>Demographic:</b> Seinen</p>\n",
       "        <p><b>Season:</b> Summer 2015</p>\n",
       "        <p><b>MAL Page:</b> <a href=\"https://myanimelist.net/anime/28825/Himouto_Umaru-chan\" target=\"_blank\">Link to MyAnimeList</a></p>\n",
       "        "
      ],
      "text/plain": [
       "<IPython.core.display.HTML object>"
      ]
     },
     "metadata": {},
     "output_type": "display_data"
    },
    {
     "data": {
      "text/html": [
       "<p><b>Trailer:</b> <a href=\"https://www.youtube.com/watch?v=PJ10D-q8kLw\" target=\"_blank\">Watch Trailer</a></p>"
      ],
      "text/plain": [
       "<IPython.core.display.HTML object>"
      ]
     },
     "metadata": {},
     "output_type": "display_data"
    },
    {
     "data": {
      "text/html": [
       "<hr>"
      ],
      "text/plain": [
       "<IPython.core.display.HTML object>"
      ]
     },
     "metadata": {},
     "output_type": "display_data"
    },
    {
     "data": {
      "text/html": [
       "\n",
       "        <h1 style=\"font-family:Arial;\">Watashi ga Motenai no wa Dou Kangaetemo Omaera ga Warui!</h1>\n",
       "        <h3 style=\"font-family:Arial;\">Because you watched: Sono Bisque Doll wa Koi wo Suru</h3>\n",
       "        <img src=\"https://cdn.myanimelist.net/images/anime/12/51619.jpg\" alt=\"Watashi ga Motenai no wa Dou Kangaetemo Omaera ga Warui!\" style=\"width:225px;height:auto;float:left;margin-right:15px;\">\n",
       "        <p><b>Synopsis:</b> After living 50 simulated high school lives and dating over 100 virtual boys, Tomoko Kuroki believes that she is ready to conquer her first year of high school. Little does she know that she is much less prepared than she would like to think. In reality, Tomoko is an introverted and awkward young girl, and she herself is the only one who doesn't realize it! With the help of her best friend, Yuu Naruse, and the support and love of her brother Tomoki, Tomoko attempts to brave the new world of high school life.\n",
       "\n",
       "Watashi ga Motenai no wa Dou Kangaetemo Omaera ga Warui! chronicles the life of a socially awkward and relatively friendless high school otaku as she attempts to overcome her personal barriers in order to live a fulfilling life.</p>\n",
       "        <p><b>Score:</b> 6.99</p>\n",
       "        <p><b>Type:</b> TV</p>\n",
       "        <p><b>Episodes:</b> 12.0</p>\n",
       "        <p><b>Genres:</b> Comedy</p>\n",
       "        <p><b>Themes:</b> Otaku Culture, School</p>\n",
       "        \n",
       "        <p><b>Season:</b> Summer 2013</p>\n",
       "        <p><b>MAL Page:</b> <a href=\"https://myanimelist.net/anime/16742/Watashi_ga_Motenai_no_wa_Dou_Kangaetemo_Omaera_ga_Warui\" target=\"_blank\">Link to MyAnimeList</a></p>\n",
       "        "
      ],
      "text/plain": [
       "<IPython.core.display.HTML object>"
      ]
     },
     "metadata": {},
     "output_type": "display_data"
    },
    {
     "data": {
      "text/html": [
       "<p><b>Trailer:</b> <a href=\"https://www.youtube.com/watch?v=IJjsjU0Dwpo\" target=\"_blank\">Watch Trailer</a></p>"
      ],
      "text/plain": [
       "<IPython.core.display.HTML object>"
      ]
     },
     "metadata": {},
     "output_type": "display_data"
    },
    {
     "data": {
      "text/html": [
       "<hr>"
      ],
      "text/plain": [
       "<IPython.core.display.HTML object>"
      ]
     },
     "metadata": {},
     "output_type": "display_data"
    },
    {
     "data": {
      "text/html": [
       "\n",
       "        <h1 style=\"font-family:Arial;\">Gekkan Shoujo Nozaki-kun</h1>\n",
       "        <h3 style=\"font-family:Arial;\">Because you watched: Sono Bisque Doll wa Koi wo Suru</h3>\n",
       "        <img src=\"https://cdn.myanimelist.net/images/anime/5/66083.jpg\" alt=\"Gekkan Shoujo Nozaki-kun\" style=\"width:225px;height:auto;float:left;margin-right:15px;\">\n",
       "        <p><b>Synopsis:</b> Chiyo Sakura is a cheerful high school girl who has fallen head over heels for the oblivious Umetarou Nozaki. Much to Chiyo's confusion, when she confesses to her beloved Nozaki, he hands her an unfamiliar autograph. As it turns out, the stoic teenage boy is actually a respected shoujo manga artist, publishing under the pen name Sakiko Yumeno! A series of misunderstandings leads to Chiyo becoming one of Nozaki's manga assistants.\n",
       "\n",
       "Throughout the hilarious events that ensue, she befriends many of her quirky schoolmates, including her seemingly shameless fellow assistant, Mikoto Mikoshiba, and the \"Prince of the School,\" Yuu Kashima. Gekkan Shoujo Nozaki-kun follows Chiyo as she strives to help Nozaki with his manga and hopes that he will eventually notice her feelings.</p>\n",
       "        <p><b>Score:</b> 7.82</p>\n",
       "        <p><b>Type:</b> TV</p>\n",
       "        <p><b>Episodes:</b> 12.0</p>\n",
       "        <p><b>Genres:</b> Comedy, Romance</p>\n",
       "        <p><b>Themes:</b> Otaku Culture, School</p>\n",
       "        \n",
       "        <p><b>Season:</b> Summer 2014</p>\n",
       "        <p><b>MAL Page:</b> <a href=\"https://myanimelist.net/anime/23289/Gekkan_Shoujo_Nozaki-kun\" target=\"_blank\">Link to MyAnimeList</a></p>\n",
       "        "
      ],
      "text/plain": [
       "<IPython.core.display.HTML object>"
      ]
     },
     "metadata": {},
     "output_type": "display_data"
    },
    {
     "data": {
      "text/html": [
       "<p><b>Trailer:</b> <a href=\"https://www.youtube.com/watch?v=8FGsSpcZ-FI\" target=\"_blank\">Watch Trailer</a></p>"
      ],
      "text/plain": [
       "<IPython.core.display.HTML object>"
      ]
     },
     "metadata": {},
     "output_type": "display_data"
    },
    {
     "data": {
      "text/html": [
       "<hr>"
      ],
      "text/plain": [
       "<IPython.core.display.HTML object>"
      ]
     },
     "metadata": {},
     "output_type": "display_data"
    },
    {
     "data": {
      "text/html": [
       "\n",
       "        <h1 style=\"font-family:Arial;\">Ao Haru Ride</h1>\n",
       "        <h3 style=\"font-family:Arial;\">Because you watched: Sono Bisque Doll wa Koi wo Suru</h3>\n",
       "        <img src=\"https://cdn.myanimelist.net/images/anime/8/64813.jpg\" alt=\"Ao Haru Ride\" style=\"width:225px;height:auto;float:left;margin-right:15px;\">\n",
       "        <p><b>Synopsis:</b> While most young girls make an effort to show off their feminine charms, Futaba Yoshioka deliberately behaves like she wants to repel anyone who might be attracted to her. Ostracized by her female classmates in middle school for being a little too popular with the boys, she desperately strives to avoid a similar situation in high school by being unnecessarily noisy and graceless.\n",
       "\n",
       "Nevertheless, scattered among Futaba's unpleasant memories are the treasured moments with the boy she had a crush on, Kou Tanaka. Unfortunately, that spell abruptly ended on a sour note when he suddenly stopped attending school and never came back. When Futaba finds out that Kou has returned—with a different last name this time—she can already feel the butterflies in her stomach. However, Kou Mabuchi is not the warm boy that she remembers from her days in middle school; he is now taller, more charismatic and withdrawn—making him far less approachable.\n",
       "\n",
       "Futaba believes that if she returns to her former self, Kou will begin to take notice of her again. But is she prepared to sacrifice her bubble of normalcy and risk losing her friends in the process?</p>\n",
       "        <p><b>Score:</b> 7.63</p>\n",
       "        <p><b>Type:</b> TV</p>\n",
       "        <p><b>Episodes:</b> 12.0</p>\n",
       "        <p><b>Genres:</b> Romance</p>\n",
       "        <p><b>Themes:</b> Love Polygon, School</p>\n",
       "        <p><b>Demographic:</b> Shoujo</p>\n",
       "        <p><b>Season:</b> Summer 2014</p>\n",
       "        <p><b>MAL Page:</b> <a href=\"https://myanimelist.net/anime/21995/Ao_Haru_Ride\" target=\"_blank\">Link to MyAnimeList</a></p>\n",
       "        "
      ],
      "text/plain": [
       "<IPython.core.display.HTML object>"
      ]
     },
     "metadata": {},
     "output_type": "display_data"
    },
    {
     "data": {
      "text/html": [
       "<p><b>Trailer:</b> <a href=\"https://www.youtube.com/watch?v=lgGUEEaIMaQ\" target=\"_blank\">Watch Trailer</a></p>"
      ],
      "text/plain": [
       "<IPython.core.display.HTML object>"
      ]
     },
     "metadata": {},
     "output_type": "display_data"
    },
    {
     "data": {
      "text/html": [
       "<hr>"
      ],
      "text/plain": [
       "<IPython.core.display.HTML object>"
      ]
     },
     "metadata": {},
     "output_type": "display_data"
    },
    {
     "data": {
      "text/html": [
       "\n",
       "        <h1 style=\"font-family:Arial;\">Ookami Kodomo no Ame to Yuki</h1>\n",
       "        <h3 style=\"font-family:Arial;\">Because you watched: Spy x Family</h3>\n",
       "        <img src=\"https://cdn.myanimelist.net/images/anime/9/35721.jpg\" alt=\"Ookami Kodomo no Ame to Yuki\" style=\"width:225px;height:auto;float:left;margin-right:15px;\">\n",
       "        <p><b>Synopsis:</b> Hana, a hard-working college student, falls in love with a mysterious man who attends one of her classes though he is not an actual student. As it turns out, he is not truly human either. On a full moon night, he transforms, revealing that he is the last werewolf alive. Despite this, Hana's love remains strong, and the two ultimately decide to start a family.\n",
       "\n",
       "Hana gives birth to two healthy children—Ame, born during rainfall, and Yuki, born during snowfall—both possessing the ability to turn into wolves, a trait inherited from their father. All too soon, however, the sudden death of her lover devastates Hana's life, leaving her to raise a peculiar family completely on her own. The stress of raising her wild-natured children in a densely populated city, all while keeping their identity a secret, culminates in a decision to move to the countryside, where she hopes Ame and Yuki can live a life free from the judgments of society. Wolf Children is the heartwarming story about the challenges of being a single mother in an unforgiving modern world.</p>\n",
       "        <p><b>Score:</b> 8.56</p>\n",
       "        <p><b>Type:</b> Movie</p>\n",
       "        <p><b>Episodes:</b> 1.0</p>\n",
       "        <p><b>Genres:</b> Award Winning, Fantasy, Slice of Life</p>\n",
       "        <p><b>Themes:</b> Childcare</p>\n",
       "        \n",
       "        <p><b>Season:</b> Jul 21 2012</p>\n",
       "        <p><b>MAL Page:</b> <a href=\"https://myanimelist.net/anime/12355/Ookami_Kodomo_no_Ame_to_Yuki\" target=\"_blank\">Link to MyAnimeList</a></p>\n",
       "        "
      ],
      "text/plain": [
       "<IPython.core.display.HTML object>"
      ]
     },
     "metadata": {},
     "output_type": "display_data"
    },
    {
     "data": {
      "text/html": [
       "<p><b>Trailer:</b> <a href=\"https://www.youtube.com/watch?v=8xLji7WsW0w\" target=\"_blank\">Watch Trailer</a></p>"
      ],
      "text/plain": [
       "<IPython.core.display.HTML object>"
      ]
     },
     "metadata": {},
     "output_type": "display_data"
    },
    {
     "data": {
      "text/html": [
       "<hr>"
      ],
      "text/plain": [
       "<IPython.core.display.HTML object>"
      ]
     },
     "metadata": {},
     "output_type": "display_data"
    },
    {
     "data": {
      "text/html": [
       "\n",
       "        <h1 style=\"font-family:Arial;\">Spy x Family Season 2</h1>\n",
       "        <h3 style=\"font-family:Arial;\">Because you watched: Spy x Family</h3>\n",
       "        <img src=\"https://cdn.myanimelist.net/images/anime/1506/138982.jpg\" alt=\"Spy x Family Season 2\" style=\"width:225px;height:auto;float:left;margin-right:15px;\">\n",
       "        <p><b>Synopsis:</b> With her ability to read minds, Anya Forger is the only one who knows the true identities of her unconventional family. Her pretend father Loid operates as an elite spy code-named Twilight; her mother Yor kills on demand as the assassin Thorn Princess; and their dog, Bond, possesses the gift of precognition. Although they hide the truth from each other, this pretense of a perfectly ordinary family provides Anya with the genuine love and warmth that she longed for as an orphan.\n",
       "\n",
       "Operation Strix—Loid's special mission to avoid potential war by gathering vital information and getting close to the powerful political figure, Donovan Desmond—is only possible if Anya plays her part right. She can either excel academically and become an Imperial Scholar at her prestigious school or make friends with Donovan's son, Damian. Neither is exactly easy, but with her adventurous attitude, Anya throws herself wholeheartedly into her mission as a Forger—all for the sake of international peace.</p>\n",
       "        <p><b>Score:</b> 8.07</p>\n",
       "        <p><b>Type:</b> TV</p>\n",
       "        <p><b>Episodes:</b> 12.0</p>\n",
       "        <p><b>Genres:</b> Action, Comedy</p>\n",
       "        <p><b>Themes:</b> Childcare</p>\n",
       "        <p><b>Demographic:</b> Shounen</p>\n",
       "        <p><b>Season:</b> Fall 2023</p>\n",
       "        <p><b>MAL Page:</b> <a href=\"https://myanimelist.net/anime/53887/Spy_x_Family_Season_2\" target=\"_blank\">Link to MyAnimeList</a></p>\n",
       "        "
      ],
      "text/plain": [
       "<IPython.core.display.HTML object>"
      ]
     },
     "metadata": {},
     "output_type": "display_data"
    },
    {
     "data": {
      "text/html": [
       "<p><b>Trailer:</b> <a href=\"https://www.youtube.com/watch?v=75LyKY6AV4U\" target=\"_blank\">Watch Trailer</a></p>"
      ],
      "text/plain": [
       "<IPython.core.display.HTML object>"
      ]
     },
     "metadata": {},
     "output_type": "display_data"
    },
    {
     "data": {
      "text/html": [
       "<hr>"
      ],
      "text/plain": [
       "<IPython.core.display.HTML object>"
      ]
     },
     "metadata": {},
     "output_type": "display_data"
    },
    {
     "data": {
      "text/html": [
       "\n",
       "        <h1 style=\"font-family:Arial;\">Tokyo Godfathers</h1>\n",
       "        <h3 style=\"font-family:Arial;\">Because you watched: Spy x Family</h3>\n",
       "        <img src=\"https://cdn.myanimelist.net/images/anime/1480/132791.jpg\" alt=\"Tokyo Godfathers\" style=\"width:225px;height:auto;float:left;margin-right:15px;\">\n",
       "        <p><b>Synopsis:</b> One Christmas Eve, Hana, Gin, and Miyuki are rummaging for presents through heaps of garbage when they chance upon an abandoned baby in the cold winter night. Appalled at the pitiful sight, Hana's maternal instincts kick in and she insists on finding the baby's biological mother to demand an explanation. Naming the baby Kiyoko—meaning pure child—they begin their search using the possible clues left alongside her: a mysterious key and a single note. However, their plans are soon thrown into disarray as they get caught up in a series of unprecedented events.\n",
       "\n",
       "Tokyo Godfathers follows the journey of the trio as they stick together through thick and thin, hoping to deliver Kiyoko to her true home, and find their very own Christmas miracle.</p>\n",
       "        <p><b>Score:</b> 8.28</p>\n",
       "        <p><b>Type:</b> Movie</p>\n",
       "        <p><b>Episodes:</b> 1.0</p>\n",
       "        <p><b>Genres:</b> Award Winning, Comedy, Drama</p>\n",
       "        <p><b>Themes:</b> Childcare</p>\n",
       "        \n",
       "        <p><b>Season:</b> Nov 8 2003</p>\n",
       "        <p><b>MAL Page:</b> <a href=\"https://myanimelist.net/anime/759/Tokyo_Godfathers\" target=\"_blank\">Link to MyAnimeList</a></p>\n",
       "        "
      ],
      "text/plain": [
       "<IPython.core.display.HTML object>"
      ]
     },
     "metadata": {},
     "output_type": "display_data"
    },
    {
     "data": {
      "text/html": [
       "<p><b>Trailer:</b> <a href=\"https://www.youtube.com/watch?v=_5nfwQ9OWXY\" target=\"_blank\">Watch Trailer</a></p>"
      ],
      "text/plain": [
       "<IPython.core.display.HTML object>"
      ]
     },
     "metadata": {},
     "output_type": "display_data"
    },
    {
     "data": {
      "text/html": [
       "<hr>"
      ],
      "text/plain": [
       "<IPython.core.display.HTML object>"
      ]
     },
     "metadata": {},
     "output_type": "display_data"
    },
    {
     "data": {
      "text/html": [
       "\n",
       "        <h1 style=\"font-family:Arial;\">Uchi no Ko no Tame naraba, Ore wa Moshikashitara Maou mo Taoseru kamo Shirenai.</h1>\n",
       "        <h3 style=\"font-family:Arial;\">Because you watched: Spy x Family</h3>\n",
       "        <img src=\"https://cdn.myanimelist.net/images/anime/1568/101203.jpg\" alt=\"Uchi no Ko no Tame naraba, Ore wa Moshikashitara Maou mo Taoseru kamo Shirenai.\" style=\"width:225px;height:auto;float:left;margin-right:15px;\">\n",
       "        <p><b>Synopsis:</b> Eighteen-year-old Dale Reki is a skilled, kind, and respected traveler, acknowledged as one of the leading adventurers in the city of Kreuz. One day while on the hunt for magical beasts, he comes across a sweet devil girl named Latina. She is alone, dressed in rags, and bears the devils' symbol of a criminal: a broken horn. Concerned for her wellbeing, Dale decides to ensure Latina's safety by bringing her to his home, eventually leading to him adopting her.\n",
       "\n",
       "Latina is sweet, innocent and compassionate, charming Dale beyond his expectations. He begins to enjoy the life of parenthood— experiencing the trials that come with raising a child and coping with the heartache he feels whenever his busy lifestyle as an adventurer parts him from her.\n",
       "\n",
       "Although work and life as a new parent become reassuring constants for Dale, the mysteries surrounding the girl remain. Why was Latina alone in the forest, and why does she harbor the symbol of a criminal? At the same time, Latina also begins to learn about the world and herself as she adjusts to her new life with Dale.</p>\n",
       "        <p><b>Score:</b> 7.09</p>\n",
       "        <p><b>Type:</b> TV</p>\n",
       "        <p><b>Episodes:</b> 12.0</p>\n",
       "        <p><b>Genres:</b> Fantasy, Slice of Life</p>\n",
       "        <p><b>Themes:</b> Childcare</p>\n",
       "        \n",
       "        <p><b>Season:</b> Summer 2019</p>\n",
       "        <p><b>MAL Page:</b> <a href=\"https://myanimelist.net/anime/39324/Uchi_no_Ko_no_Tame_naraba_Ore_wa_Moshikashitara_Maou_mo_Taoseru_kamo_Shirenai\" target=\"_blank\">Link to MyAnimeList</a></p>\n",
       "        "
      ],
      "text/plain": [
       "<IPython.core.display.HTML object>"
      ]
     },
     "metadata": {},
     "output_type": "display_data"
    },
    {
     "data": {
      "text/html": [
       "<p><b>Trailer:</b> <a href=\"https://www.youtube.com/watch?v=aJT6_qQBYs8\" target=\"_blank\">Watch Trailer</a></p>"
      ],
      "text/plain": [
       "<IPython.core.display.HTML object>"
      ]
     },
     "metadata": {},
     "output_type": "display_data"
    },
    {
     "data": {
      "text/html": [
       "<hr>"
      ],
      "text/plain": [
       "<IPython.core.display.HTML object>"
      ]
     },
     "metadata": {},
     "output_type": "display_data"
    },
    {
     "data": {
      "text/html": [
       "\n",
       "        <h1 style=\"font-family:Arial;\">Tate no Yuusha no Nariagari Season 3</h1>\n",
       "        <h3 style=\"font-family:Arial;\">Because you watched: Tate no Yuusha no Nariagari</h3>\n",
       "        <img src=\"https://cdn.myanimelist.net/images/anime/1317/139802.jpg\" alt=\"Tate no Yuusha no Nariagari Season 3\" style=\"width:225px;height:auto;float:left;margin-right:15px;\">\n",
       "        <p><b>Synopsis:</b> Though he has successfully repelled the latest Wave of Catastrophe, Naofumi Iwatani—the Shield Hero—has no time to rest. Naofumi is spurred back into action when Queen Mirelia Q Melromarc tells him that the three other Cardinal Heroes have disappeared without a trace, and she tasks him with finding them. \n",
       "\n",
       "With no clues regarding their whereabouts, Naofumi tackles a more pressing issue: the worsening slave trade of demi-humans. Determined to right this injustice, he and his friends find their way to Zeltoble, the country of mercenaries, where the illegal sale of demi-humans has become a lucrative business. To gather money to free the slaves, Naofumi and his comrades disguise themselves and take part in underground coliseum brawls, purposely throwing matches to manipulate the odds and eventually secure an enormous payout. However, with the threat of another Wave of Catastrophe looming on the horizon, the Shield Hero must stick to his mission of finding the missing heroes if he wants to protect those he loves.</p>\n",
       "        <p><b>Score:</b> 7.1</p>\n",
       "        <p><b>Type:</b> TV</p>\n",
       "        <p><b>Episodes:</b> 12.0</p>\n",
       "        <p><b>Genres:</b> Action, Adventure, Drama, Fantasy</p>\n",
       "        <p><b>Themes:</b> Isekai</p>\n",
       "        \n",
       "        <p><b>Season:</b> Fall 2023</p>\n",
       "        <p><b>MAL Page:</b> <a href=\"https://myanimelist.net/anime/40357/Tate_no_Yuusha_no_Nariagari_Season_3\" target=\"_blank\">Link to MyAnimeList</a></p>\n",
       "        "
      ],
      "text/plain": [
       "<IPython.core.display.HTML object>"
      ]
     },
     "metadata": {},
     "output_type": "display_data"
    },
    {
     "data": {
      "text/html": [
       "<p><b>Trailer:</b> <a href=\"https://www.youtube.com/watch?v=VW_LxM4tt-o\" target=\"_blank\">Watch Trailer</a></p>"
      ],
      "text/plain": [
       "<IPython.core.display.HTML object>"
      ]
     },
     "metadata": {},
     "output_type": "display_data"
    },
    {
     "data": {
      "text/html": [
       "<hr>"
      ],
      "text/plain": [
       "<IPython.core.display.HTML object>"
      ]
     },
     "metadata": {},
     "output_type": "display_data"
    },
    {
     "data": {
      "text/html": [
       "\n",
       "        <h1 style=\"font-family:Arial;\">Carnival Phantasm: HibiChika Special</h1>\n",
       "        <h3 style=\"font-family:Arial;\">Because you watched: Tonari no Kyuuketsuki-san</h3>\n",
       "        <img src=\"https://cdn.myanimelist.net/images/anime/13/64291.jpg\" alt=\"Carnival Phantasm: HibiChika Special\" style=\"width:225px;height:auto;float:left;margin-right:15px;\">\n",
       "        <p><b>Synopsis:</b> A new episode of Carnival Phantasm released on the Type-moon Fes - 10th Anniversary Event - Blu-ray.</p>\n",
       "        <p><b>Score:</b> 7.33</p>\n",
       "        <p><b>Type:</b> Special</p>\n",
       "        <p><b>Episodes:</b> 1.0</p>\n",
       "        <p><b>Genres:</b> Comedy, Supernatural</p>\n",
       "        \n",
       "        \n",
       "        <p><b>Season:</b> Jul 7 2012</p>\n",
       "        <p><b>MAL Page:</b> <a href=\"https://myanimelist.net/anime/15927/Carnival_Phantasm__HibiChika_Special\" target=\"_blank\">Link to MyAnimeList</a></p>\n",
       "        "
      ],
      "text/plain": [
       "<IPython.core.display.HTML object>"
      ]
     },
     "metadata": {},
     "output_type": "display_data"
    },
    {
     "data": {
      "text/html": [
       "<p><b>Trailer:</b> <a href=\"nan\" target=\"_blank\">Watch Trailer</a></p>"
      ],
      "text/plain": [
       "<IPython.core.display.HTML object>"
      ]
     },
     "metadata": {},
     "output_type": "display_data"
    },
    {
     "data": {
      "text/html": [
       "<hr>"
      ],
      "text/plain": [
       "<IPython.core.display.HTML object>"
      ]
     },
     "metadata": {},
     "output_type": "display_data"
    },
    {
     "data": {
      "text/html": [
       "\n",
       "        <h1 style=\"font-family:Arial;\">Jashin-chan Dropkick Episode 12</h1>\n",
       "        <h3 style=\"font-family:Arial;\">Because you watched: Tonari no Kyuuketsuki-san</h3>\n",
       "        <img src=\"https://cdn.myanimelist.net/images/anime/1969/95176.jpg\" alt=\"Jashin-chan Dropkick Episode 12\" style=\"width:225px;height:auto;float:left;margin-right:15px;\">\n",
       "        <p><b>Synopsis:</b> Making her grand return from space, Jashin-chan still seeks to kill Yurine Hanazono to get back into Hell. However, the attempted murder is put on hold when Yurine drags her out to the beach alongside the rest of her friends. Wasting valuable planning time, Jashin-chan instead finds herself spending the day doing what her summoner and her good friends do: swimming in the ocean, eating shaved ice, fighting a Kraken, and having a barbecue.</p>\n",
       "        <p><b>Score:</b> 7.18</p>\n",
       "        <p><b>Type:</b> ONA</p>\n",
       "        <p><b>Episodes:</b> 1.0</p>\n",
       "        <p><b>Genres:</b> Comedy, Supernatural</p>\n",
       "        <p><b>Themes:</b> Gag Humor, Mythology</p>\n",
       "        \n",
       "        <p><b>Season:</b> Oct 1 2018</p>\n",
       "        <p><b>MAL Page:</b> <a href=\"https://myanimelist.net/anime/38383/Jashin-chan_Dropkick_Episode_12\" target=\"_blank\">Link to MyAnimeList</a></p>\n",
       "        "
      ],
      "text/plain": [
       "<IPython.core.display.HTML object>"
      ]
     },
     "metadata": {},
     "output_type": "display_data"
    },
    {
     "data": {
      "text/html": [
       "<p><b>Trailer:</b> <a href=\"https://www.youtube.com/watch?v=UhmvlBlaGwA\" target=\"_blank\">Watch Trailer</a></p>"
      ],
      "text/plain": [
       "<IPython.core.display.HTML object>"
      ]
     },
     "metadata": {},
     "output_type": "display_data"
    },
    {
     "data": {
      "text/html": [
       "<hr>"
      ],
      "text/plain": [
       "<IPython.core.display.HTML object>"
      ]
     },
     "metadata": {},
     "output_type": "display_data"
    },
    {
     "data": {
      "text/html": [
       "\n",
       "        <h1 style=\"font-family:Arial;\">Jashin-chan Dropkick X</h1>\n",
       "        <h3 style=\"font-family:Arial;\">Because you watched: Tonari no Kyuuketsuki-san</h3>\n",
       "        <img src=\"https://cdn.myanimelist.net/images/anime/1530/124920.jpg\" alt=\"Jashin-chan Dropkick X\" style=\"width:225px;height:auto;float:left;margin-right:15px;\">\n",
       "        <p><b>Synopsis:</b> Ever since she was summoned from Hell by the witch Yurine Hanazono, Jashin-chan—a half-human, half-snake demon—has been searching for any way to go back. One of her options is to kill the one who summoned her, which is much easier said than done. Jashin-chan often finds herself getting violently beaten by Yurine after not only any failed murder attempt, but also when she is just causing mischief, destroying any hope of going back home to Hell.\n",
       "\n",
       "The demon is also terrible with money and tends to gamble all of it away at pachinko. In one of these gambling sessions, she loses the three million yen she received from Hell Financing, putting her into a lifelong debt. To avoid repaying it altogether, Jashin-chan flees to Hokkaido to try and hide for the rest of her days, but her wish of having her debts forgotten may just be a pipe dream when someone comes knocking for the money.</p>\n",
       "        <p><b>Score:</b> 7.42</p>\n",
       "        <p><b>Type:</b> TV</p>\n",
       "        <p><b>Episodes:</b> 12.0</p>\n",
       "        <p><b>Genres:</b> Comedy, Supernatural</p>\n",
       "        <p><b>Themes:</b> Gag Humor, Mythology</p>\n",
       "        \n",
       "        <p><b>Season:</b> Summer 2022</p>\n",
       "        <p><b>MAL Page:</b> <a href=\"https://myanimelist.net/anime/42994/Jashin-chan_Dropkick_X\" target=\"_blank\">Link to MyAnimeList</a></p>\n",
       "        "
      ],
      "text/plain": [
       "<IPython.core.display.HTML object>"
      ]
     },
     "metadata": {},
     "output_type": "display_data"
    },
    {
     "data": {
      "text/html": [
       "<p><b>Trailer:</b> <a href=\"https://www.youtube.com/watch?v=U5-rvcrxt7c\" target=\"_blank\">Watch Trailer</a></p>"
      ],
      "text/plain": [
       "<IPython.core.display.HTML object>"
      ]
     },
     "metadata": {},
     "output_type": "display_data"
    },
    {
     "data": {
      "text/html": [
       "<hr>"
      ],
      "text/plain": [
       "<IPython.core.display.HTML object>"
      ]
     },
     "metadata": {},
     "output_type": "display_data"
    },
    {
     "data": {
      "text/html": [
       "\n",
       "        <h1 style=\"font-family:Arial;\">Wasurenagumo</h1>\n",
       "        <h3 style=\"font-family:Arial;\">Because you watched: Tonari no Kyuuketsuki-san</h3>\n",
       "        <img src=\"https://cdn.myanimelist.net/images/anime/11/38877.jpg\" alt=\"Wasurenagumo\" style=\"width:225px;height:auto;float:left;margin-right:15px;\">\n",
       "        <p><b>Synopsis:</b> Legend says that centuries ago, a colossal spider ravaged Tokyo. Resistance was futile, as none could quell the havoc wrought upon the city by the beast. Fortunately, one man—the legendary exorcist—stopped the devastation. Using his divine powers, he sealed the monster away and the world has enjoyed peace ever since. \n",
       "\n",
       "Mizuki Henmi is an adolescent girl who is acquainted with Shu Suzuri, a dull young man who runs an old Japanese bookstore. During a routine visit to his store, Mizuki learns of a mysterious and valuable book that Shu is planning to sell. Unfortunately, the unrestrained Mizuki handles the book roughly, breaking the seal that kept it shut and revealing an odd entity—a cute spider. \n",
       "\n",
       "Wasurenagumo tells the story of Mizuki, Shu, and their seemingly harmless spider. However, ominous winds begin blowing. While Shu is infatuated with his arachnid friend, Mizuki becomes wary of its every move…</p>\n",
       "        <p><b>Score:</b> 7.02</p>\n",
       "        <p><b>Type:</b> TV Special</p>\n",
       "        <p><b>Episodes:</b> 1.0</p>\n",
       "        <p><b>Genres:</b> Comedy, Supernatural</p>\n",
       "        \n",
       "        \n",
       "        <p><b>Season:</b> Mar 12 2012</p>\n",
       "        <p><b>MAL Page:</b> <a href=\"https://myanimelist.net/anime/13171/Wasurenagumo\" target=\"_blank\">Link to MyAnimeList</a></p>\n",
       "        "
      ],
      "text/plain": [
       "<IPython.core.display.HTML object>"
      ]
     },
     "metadata": {},
     "output_type": "display_data"
    },
    {
     "data": {
      "text/html": [
       "<p><b>Trailer:</b> <a href=\"nan\" target=\"_blank\">Watch Trailer</a></p>"
      ],
      "text/plain": [
       "<IPython.core.display.HTML object>"
      ]
     },
     "metadata": {},
     "output_type": "display_data"
    },
    {
     "data": {
      "text/html": [
       "<hr>"
      ],
      "text/plain": [
       "<IPython.core.display.HTML object>"
      ]
     },
     "metadata": {},
     "output_type": "display_data"
    },
    {
     "data": {
      "text/html": [
       "\n",
       "        <h1 style=\"font-family:Arial;\">Mayonaka Punch</h1>\n",
       "        <h3 style=\"font-family:Arial;\">Because you watched: Tonari no Kyuuketsuki-san</h3>\n",
       "        <img src=\"https://cdn.myanimelist.net/images/anime/1700/143395.jpg\" alt=\"Mayonaka Punch\" style=\"width:225px;height:auto;float:left;margin-right:15px;\">\n",
       "        <p><b>Synopsis:</b> Masaki's career on NewTube ends abruptly when the Harikiri Sisters decide to kick her out of their group during a livestream. With her bad reputation, Masaki has a slim chance of returning to popularity with a solo channel and she is plagued by comments of hate.\n",
       "\n",
       "Masaki soon meets Live, a vampire who just woke up from her slumber in which she dreamed of Masaki and developed an obsession with her. Believing this discovery will be the next internet sensation, Masaki forms a pact with Live: in exchange for Masaki's blood, Live will help her reach the milestone of a million subscribers.\n",
       "\n",
       "Now, with the other vampires in Live's house on board with Masaki's ambitious plan, she and Live work together to film videos and restore her to career glory.</p>\n",
       "        <p><b>Score:</b> 7.38</p>\n",
       "        <p><b>Type:</b> TV</p>\n",
       "        <p><b>Episodes:</b> 12.0</p>\n",
       "        <p><b>Genres:</b> Comedy, Supernatural</p>\n",
       "        <p><b>Themes:</b> Vampire</p>\n",
       "        \n",
       "        <p><b>Season:</b> Summer 2024</p>\n",
       "        <p><b>MAL Page:</b> <a href=\"https://myanimelist.net/anime/57947/Mayonaka_Punch\" target=\"_blank\">Link to MyAnimeList</a></p>\n",
       "        "
      ],
      "text/plain": [
       "<IPython.core.display.HTML object>"
      ]
     },
     "metadata": {},
     "output_type": "display_data"
    },
    {
     "data": {
      "text/html": [
       "<p><b>Trailer:</b> <a href=\"https://www.youtube.com/watch?v=kFtO2xNyc_I\" target=\"_blank\">Watch Trailer</a></p>"
      ],
      "text/plain": [
       "<IPython.core.display.HTML object>"
      ]
     },
     "metadata": {},
     "output_type": "display_data"
    },
    {
     "data": {
      "text/html": [
       "<hr>"
      ],
      "text/plain": [
       "<IPython.core.display.HTML object>"
      ]
     },
     "metadata": {},
     "output_type": "display_data"
    },
    {
     "data": {
      "text/html": [
       "\n",
       "        <h1 style=\"font-family:Arial;\">Grisaia no Meikyuu: Caprice no Mayu 0</h1>\n",
       "        <h3 style=\"font-family:Arial;\">Because you watched: Violet Evergarden: Kitto \"Ai\" wo Shiru Hi ga Kuru no Darou</h3>\n",
       "        <img src=\"https://cdn.myanimelist.net/images/anime/1278/112633.jpg\" alt=\"Grisaia no Meikyuu: Caprice no Mayu 0\" style=\"width:225px;height:auto;float:left;margin-right:15px;\">\n",
       "        <p><b>Synopsis:</b> Having attended Mihama Academy for about a year, Yuuji Kazami has seemingly found his place within the school, but he suddenly decides to pursue a promotion in CIRS. After consulting JB about his intentions, they both thoroughly examine Yuuji's documents and dissect the events of his upbringing to determine if the job is fit for him.\n",
       "\n",
       "Meanwhile, unbeknownst to the two, the girls of Mihama uncover some torn documents in Yuuji's room. After restoring the papers, they discover the story that has formed—or perhaps broken—Yuuji into the man he is today. However, what was thought to be history has haunted him to the present, and the chains of the past begin to drag him back into the darkness...</p>\n",
       "        <p><b>Score:</b> 7.82</p>\n",
       "        <p><b>Type:</b> TV Special</p>\n",
       "        <p><b>Episodes:</b> 1.0</p>\n",
       "        <p><b>Genres:</b> Drama</p>\n",
       "        \n",
       "        \n",
       "        <p><b>Season:</b> Apr 12 2015</p>\n",
       "        <p><b>MAL Page:</b> <a href=\"https://myanimelist.net/anime/29093/Grisaia_no_Meikyuu__Caprice_no_Mayu_0\" target=\"_blank\">Link to MyAnimeList</a></p>\n",
       "        "
      ],
      "text/plain": [
       "<IPython.core.display.HTML object>"
      ]
     },
     "metadata": {},
     "output_type": "display_data"
    },
    {
     "data": {
      "text/html": [
       "<p><b>Trailer:</b> <a href=\"https://www.youtube.com/watch?v=cXI6Rb3RqSg\" target=\"_blank\">Watch Trailer</a></p>"
      ],
      "text/plain": [
       "<IPython.core.display.HTML object>"
      ]
     },
     "metadata": {},
     "output_type": "display_data"
    },
    {
     "data": {
      "text/html": [
       "<hr>"
      ],
      "text/plain": [
       "<IPython.core.display.HTML object>"
      ]
     },
     "metadata": {},
     "output_type": "display_data"
    },
    {
     "data": {
      "text/html": [
       "\n",
       "        <h1 style=\"font-family:Arial;\">Look Back</h1>\n",
       "        <h3 style=\"font-family:Arial;\">Because you watched: Violet Evergarden: Kitto \"Ai\" wo Shiru Hi ga Kuru no Darou</h3>\n",
       "        <img src=\"https://cdn.myanimelist.net/images/anime/1716/142633.jpg\" alt=\"Look Back\" style=\"width:225px;height:auto;float:left;margin-right:15px;\">\n",
       "        <p><b>Synopsis:</b> Fourth-grader Ayumu Fujino regularly draws four-panel manga for her school newspaper and is lauded as having the best artwork in her class. One day, she is asked by her teacher to turn over one of her manga slots in the school newspaper to a truant student named Kyomoto. When Kyomoto's manga pops up alongside Fujino's, it receives high praises for its detailed artwork, making Fujino furiously jealous.\n",
       "\n",
       "Refusing to be beaten by someone who barely attends school, Fujino devotes herself to learning to create manga. As time goes on though, her goal of outshining Kyomoto seems to only get further and further away, and Fujino, now in sixth grade, eventually gives up and quits making manga.\n",
       "\n",
       "Graduation day arrives, and Fujino is asked to deliver Kyomoto's graduation certificate to her. Through chance, the two end up coming face to face, and their unexpected meeting will end up having consequences far beyond what either of them could ever predict.</p>\n",
       "        <p><b>Score:</b> 8.78</p>\n",
       "        <p><b>Type:</b> Movie</p>\n",
       "        <p><b>Episodes:</b> 1.0</p>\n",
       "        <p><b>Genres:</b> Drama</p>\n",
       "        \n",
       "        <p><b>Demographic:</b> Shounen</p>\n",
       "        <p><b>Season:</b> Jun 28 2024</p>\n",
       "        <p><b>MAL Page:</b> <a href=\"https://myanimelist.net/anime/58125/Look_Back\" target=\"_blank\">Link to MyAnimeList</a></p>\n",
       "        "
      ],
      "text/plain": [
       "<IPython.core.display.HTML object>"
      ]
     },
     "metadata": {},
     "output_type": "display_data"
    },
    {
     "data": {
      "text/html": [
       "<p><b>Trailer:</b> <a href=\"https://www.youtube.com/watch?v=gH6zVJVHEaM\" target=\"_blank\">Watch Trailer</a></p>"
      ],
      "text/plain": [
       "<IPython.core.display.HTML object>"
      ]
     },
     "metadata": {},
     "output_type": "display_data"
    },
    {
     "data": {
      "text/html": [
       "<hr>"
      ],
      "text/plain": [
       "<IPython.core.display.HTML object>"
      ]
     },
     "metadata": {},
     "output_type": "display_data"
    },
    {
     "data": {
      "text/html": [
       "\n",
       "        <h1 style=\"font-family:Arial;\">Kimi no Koe wo Todoketai</h1>\n",
       "        <h3 style=\"font-family:Arial;\">Because you watched: Violet Evergarden: Kitto \"Ai\" wo Shiru Hi ga Kuru no Darou</h3>\n",
       "        <img src=\"https://cdn.myanimelist.net/images/anime/11/86704.jpg\" alt=\"Kimi no Koe wo Todoketai\" style=\"width:225px;height:auto;float:left;margin-right:15px;\">\n",
       "        <p><b>Synopsis:</b> The story focuses on high school girl Nagisa Yukiai who lives in a seaside town. She has believed her grandmother's story that spirits dwell in words and they are called \"kotodama\" (word spirit). One day, she strays into a mini FM station that has not been used for years. As an impulse of the moment, she tries to talk like a DJ using the facility. But her voice accidentally broadcasted reaches someone she has never expected.\n",
       "\n",
       "(Source: Crunchyroll)</p>\n",
       "        <p><b>Score:</b> 6.97</p>\n",
       "        <p><b>Type:</b> Movie</p>\n",
       "        <p><b>Episodes:</b> 1.0</p>\n",
       "        <p><b>Genres:</b> Drama</p>\n",
       "        \n",
       "        \n",
       "        <p><b>Season:</b> Aug 25 2017</p>\n",
       "        <p><b>MAL Page:</b> <a href=\"https://myanimelist.net/anime/33218/Kimi_no_Koe_wo_Todoketai\" target=\"_blank\">Link to MyAnimeList</a></p>\n",
       "        "
      ],
      "text/plain": [
       "<IPython.core.display.HTML object>"
      ]
     },
     "metadata": {},
     "output_type": "display_data"
    },
    {
     "data": {
      "text/html": [
       "<p><b>Trailer:</b> <a href=\"https://www.youtube.com/watch?v=MuZL3QPRtrQ\" target=\"_blank\">Watch Trailer</a></p>"
      ],
      "text/plain": [
       "<IPython.core.display.HTML object>"
      ]
     },
     "metadata": {},
     "output_type": "display_data"
    },
    {
     "data": {
      "text/html": [
       "<hr>"
      ],
      "text/plain": [
       "<IPython.core.display.HTML object>"
      ]
     },
     "metadata": {},
     "output_type": "display_data"
    },
    {
     "data": {
      "text/html": [
       "\n",
       "        <h1 style=\"font-family:Arial;\">Akudama Drive</h1>\n",
       "        <h3 style=\"font-family:Arial;\">Because you watched: Vivy: Fluorite Eye's Song</h3>\n",
       "        <img src=\"https://cdn.myanimelist.net/images/anime/1468/109172.jpg\" alt=\"Akudama Drive\" style=\"width:225px;height:auto;float:left;margin-right:15px;\">\n",
       "        <p><b>Synopsis:</b> The bustling metropolis of Kansai, where cybernetic screens litter the neon landscape, may seem like a technological utopia at first glance. But in the dark alleys around the brightly-lit buildings, an unforgiving criminal underbelly still exists in the form of fugitives known as \"Akudama.\" \n",
       "\n",
       "No stranger to these individuals, Kansai police begin the countdown to the public execution of an infamous Akudama \"Cutthroat,\" guilty of killing 999 people. However, a mysterious message is sent to several elite Akudama, enlisting them to free Cutthroat for a substantial amount of money. An invisible hand seeks to gather these dangerous personas in one place, ensuring that the execution is well underway to becoming a full-blown bloodbath.</p>\n",
       "        <p><b>Score:</b> 7.58</p>\n",
       "        <p><b>Type:</b> TV</p>\n",
       "        <p><b>Episodes:</b> 12.0</p>\n",
       "        <p><b>Genres:</b> Action, Sci-Fi, Suspense</p>\n",
       "        <p><b>Themes:</b> Adult Cast, Gore</p>\n",
       "        \n",
       "        <p><b>Season:</b> Fall 2020</p>\n",
       "        <p><b>MAL Page:</b> <a href=\"https://myanimelist.net/anime/41433/Akudama_Drive\" target=\"_blank\">Link to MyAnimeList</a></p>\n",
       "        "
      ],
      "text/plain": [
       "<IPython.core.display.HTML object>"
      ]
     },
     "metadata": {},
     "output_type": "display_data"
    },
    {
     "data": {
      "text/html": [
       "<p><b>Trailer:</b> <a href=\"https://www.youtube.com/watch?v=41k3bjceNIU\" target=\"_blank\">Watch Trailer</a></p>"
      ],
      "text/plain": [
       "<IPython.core.display.HTML object>"
      ]
     },
     "metadata": {},
     "output_type": "display_data"
    },
    {
     "data": {
      "text/html": [
       "<hr>"
      ],
      "text/plain": [
       "<IPython.core.display.HTML object>"
      ]
     },
     "metadata": {},
     "output_type": "display_data"
    },
    {
     "data": {
      "text/html": [
       "\n",
       "        <h1 style=\"font-family:Arial;\">Sora no Aosa wo Shiru Hito yo</h1>\n",
       "        <h3 style=\"font-family:Arial;\">Because you watched: Vivy: Fluorite Eye's Song</h3>\n",
       "        <img src=\"https://cdn.myanimelist.net/images/anime/1468/102527.jpg\" alt=\"Sora no Aosa wo Shiru Hito yo\" style=\"width:225px;height:auto;float:left;margin-right:15px;\">\n",
       "        <p><b>Synopsis:</b> High school student Aoi Aioi lives with her elder sister, Akane, after a tragic accident took their parents away 13 years ago. Because Akane has since been taking care of her single-handedly, Aoi wants to move to Tokyo after her graduation to relieve her sister's burden and pursue a musical career, inspired by Akane's ex-boyfriend Shinnosuke \"Shinno\" Kanamuro. Shinno was part of a band until he left for Tokyo to become a professional guitarist after the sisters' parents passed away, and he was never to be seen again.\n",
       "\n",
       "One afternoon, while Aoi practices her bass in a guest house, she gets startled by the 18-year-old version of Shinno from 13 years ago! As if by coincidence, the current 31-year-old Shinno also returns to the town, but he has changed drastically. There are now two Shinno's in existence, but why is the Shinno from the past present?\n",
       "\n",
       "Sora no Aosa wo Shiru Hito yo revolves around these four individuals as they confront their inner feelings toward each other and make decisions that will affect their lives from here on out.</p>\n",
       "        <p><b>Score:</b> 7.48</p>\n",
       "        <p><b>Type:</b> Movie</p>\n",
       "        <p><b>Episodes:</b> 1.0</p>\n",
       "        <p><b>Genres:</b> Drama, Romance, Supernatural</p>\n",
       "        <p><b>Themes:</b> Music, Time Travel</p>\n",
       "        \n",
       "        <p><b>Season:</b> Oct 11 2019</p>\n",
       "        <p><b>MAL Page:</b> <a href=\"https://myanimelist.net/anime/39569/Sora_no_Aosa_wo_Shiru_Hito_yo\" target=\"_blank\">Link to MyAnimeList</a></p>\n",
       "        "
      ],
      "text/plain": [
       "<IPython.core.display.HTML object>"
      ]
     },
     "metadata": {},
     "output_type": "display_data"
    },
    {
     "data": {
      "text/html": [
       "<p><b>Trailer:</b> <a href=\"https://www.youtube.com/watch?v=xhBQyCoE-dg\" target=\"_blank\">Watch Trailer</a></p>"
      ],
      "text/plain": [
       "<IPython.core.display.HTML object>"
      ]
     },
     "metadata": {},
     "output_type": "display_data"
    },
    {
     "data": {
      "text/html": [
       "<hr>"
      ],
      "text/plain": [
       "<IPython.core.display.HTML object>"
      ]
     },
     "metadata": {},
     "output_type": "display_data"
    },
    {
     "data": {
      "text/html": [
       "\n",
       "        <h1 style=\"font-family:Arial;\">Vivy: Fluorite Eye's Song - To Make Everyone Happy With My Singing</h1>\n",
       "        <h3 style=\"font-family:Arial;\">Because you watched: Vivy: Fluorite Eye's Song</h3>\n",
       "        <img src=\"https://cdn.myanimelist.net/images/anime/1100/116059.jpg\" alt=\"Vivy: Fluorite Eye's Song - To Make Everyone Happy With My Singing\" style=\"width:225px;height:auto;float:left;margin-right:15px;\">\n",
       "        <p><b>Synopsis:</b> Recap of all 13 episodes of Vivy: Fluorite Eye's Song.</p>\n",
       "        <p><b>Score:</b> 7.31</p>\n",
       "        <p><b>Type:</b> TV Special</p>\n",
       "        <p><b>Episodes:</b> 1.0</p>\n",
       "        <p><b>Genres:</b> Action, Sci-Fi, Suspense</p>\n",
       "        <p><b>Themes:</b> Music, Time Travel</p>\n",
       "        \n",
       "        <p><b>Season:</b> Jun 26 2021</p>\n",
       "        <p><b>MAL Page:</b> <a href=\"https://myanimelist.net/anime/49241/Vivy__Fluorite_Eyes_Song_-_To_Make_Everyone_Happy_With_My_Singing\" target=\"_blank\">Link to MyAnimeList</a></p>\n",
       "        "
      ],
      "text/plain": [
       "<IPython.core.display.HTML object>"
      ]
     },
     "metadata": {},
     "output_type": "display_data"
    },
    {
     "data": {
      "text/html": [
       "<p><b>Trailer:</b> <a href=\"nan\" target=\"_blank\">Watch Trailer</a></p>"
      ],
      "text/plain": [
       "<IPython.core.display.HTML object>"
      ]
     },
     "metadata": {},
     "output_type": "display_data"
    },
    {
     "data": {
      "text/html": [
       "<hr>"
      ],
      "text/plain": [
       "<IPython.core.display.HTML object>"
      ]
     },
     "metadata": {},
     "output_type": "display_data"
    },
    {
     "data": {
      "text/html": [
       "\n",
       "        <h1 style=\"font-family:Arial;\">Mardock Scramble: The First Compression</h1>\n",
       "        <h3 style=\"font-family:Arial;\">Because you watched: Vivy: Fluorite Eye's Song</h3>\n",
       "        <img src=\"https://cdn.myanimelist.net/images/anime/3/26215.jpg\" alt=\"Mardock Scramble: The First Compression\" style=\"width:225px;height:auto;float:left;margin-right:15px;\">\n",
       "        <p><b>Synopsis:</b> Rune Balot is a down-and-out teen prostitute in Mardock City. One day, she's picked up by an ambitious casino manager named Shell who gives her everything she could want. Renewed by a false innocence, a false past, and now the false life Shell has given her, Balot feels grateful. However, she can't help but be curious about why he's done so much for her, so she does some research about his past on a computer. This turns out to be a mistake which will change her life greatly. When Shell finds out what she's done, he attempts to burn her to death by blowing up her car.\n",
       "\n",
       "Due to the high crime rate in Mardock, a new law called \"Scramble 09\" has given police carte blanche to take extreme and otherwise illegal measures to revive crime witnesses. With this in mind, they allow a professor to bring Balot back from the brink of death by reassembling her entire body with reinforced synthetic fiber. When she finally wakes up, her confused mental state eventually turns toward revenge as Shell is revealed as her killer.\n",
       "\n",
       "(Source: Nippon Cinema)</p>\n",
       "        <p><b>Score:</b> 7.41</p>\n",
       "        <p><b>Type:</b> Movie</p>\n",
       "        <p><b>Episodes:</b> 1.0</p>\n",
       "        <p><b>Genres:</b> Action, Sci-Fi, Suspense</p>\n",
       "        <p><b>Themes:</b> Psychological</p>\n",
       "        \n",
       "        <p><b>Season:</b> Oct 8 2010</p>\n",
       "        <p><b>MAL Page:</b> <a href=\"https://myanimelist.net/anime/8100/Mardock_Scramble__The_First_Compression\" target=\"_blank\">Link to MyAnimeList</a></p>\n",
       "        "
      ],
      "text/plain": [
       "<IPython.core.display.HTML object>"
      ]
     },
     "metadata": {},
     "output_type": "display_data"
    },
    {
     "data": {
      "text/html": [
       "<p><b>Trailer:</b> <a href=\"https://www.youtube.com/watch?v=Rq63U8uMiIw\" target=\"_blank\">Watch Trailer</a></p>"
      ],
      "text/plain": [
       "<IPython.core.display.HTML object>"
      ]
     },
     "metadata": {},
     "output_type": "display_data"
    },
    {
     "data": {
      "text/html": [
       "<hr>"
      ],
      "text/plain": [
       "<IPython.core.display.HTML object>"
      ]
     },
     "metadata": {},
     "output_type": "display_data"
    },
    {
     "data": {
      "text/html": [
       "\n",
       "        <h1 style=\"font-family:Arial;\">Under the Dog</h1>\n",
       "        <h3 style=\"font-family:Arial;\">Because you watched: Vivy: Fluorite Eye's Song</h3>\n",
       "        <img src=\"https://cdn.myanimelist.net/images/anime/1793/112240.jpg\" alt=\"Under the Dog\" style=\"width:225px;height:auto;float:left;margin-right:15px;\">\n",
       "        <p><b>Synopsis:</b> The year is 2025. Five years have passed since the Tokyo Olympic Games were called off after deadly terrorist attacks. An international school run by the United Nations now stands in the former Olympic site on the edge of Tokyo Bay. Seven teenagers with special abilities, known as \"Flowers,\" are among the students.\n",
       "\n",
       "Their student identities are only a cover for their real identities as members of an intelligence organization run by the UN. Their objective is to assassinate other teenagers who have the same abilities. The Flowers have no choice but to complete their missions without fail. Their organization has taken their family members hostage to ensure this. For the Flowers, failure would mean death not only for themselves but also for their loved ones.\n",
       "\n",
       "This is the story of their struggle against cruel fate, and of how it is human nature to find hope, however bleak the outlook.\n",
       "\n",
       "(Source: Official site)</p>\n",
       "        <p><b>Score:</b> 6.25</p>\n",
       "        <p><b>Type:</b> OVA</p>\n",
       "        <p><b>Episodes:</b> 1.0</p>\n",
       "        <p><b>Genres:</b> Action, Sci-Fi, Suspense</p>\n",
       "        \n",
       "        \n",
       "        <p><b>Season:</b> Aug 1 2016</p>\n",
       "        <p><b>MAL Page:</b> <a href=\"https://myanimelist.net/anime/27387/Under_the_Dog\" target=\"_blank\">Link to MyAnimeList</a></p>\n",
       "        "
      ],
      "text/plain": [
       "<IPython.core.display.HTML object>"
      ]
     },
     "metadata": {},
     "output_type": "display_data"
    },
    {
     "data": {
      "text/html": [
       "<p><b>Trailer:</b> <a href=\"https://www.youtube.com/watch?v=EkN4apus2gA\" target=\"_blank\">Watch Trailer</a></p>"
      ],
      "text/plain": [
       "<IPython.core.display.HTML object>"
      ]
     },
     "metadata": {},
     "output_type": "display_data"
    },
    {
     "data": {
      "text/html": [
       "<hr>"
      ],
      "text/plain": [
       "<IPython.core.display.HTML object>"
      ]
     },
     "metadata": {},
     "output_type": "display_data"
    }
   ],
   "source": [
    "# Counter to track how many times each anime is recommended\n",
    "recommendation_count = Counter()\n",
    "\n",
    "# Count how many times each anime is recommended and store which anime recommended it\n",
    "recommendation_sources = {}\n",
    "\n",
    "# Iterate through the 'recommended' dictionary\n",
    "for anime_title, recs in recommended.items():\n",
    "    for rec in recs:\n",
    "        recommendation_count[rec] += 1\n",
    "        # Track which anime the recommendation came from\n",
    "        if rec not in recommendation_sources:\n",
    "            recommendation_sources[rec] = []\n",
    "        recommendation_sources[rec].append(anime_title)\n",
    "\n",
    "# Sort recommendations by the most frequent first\n",
    "most_recommended = recommendation_count.most_common()\n",
    "\n",
    "# Print the total number of recommendations\n",
    "print(f\"Total recommendations: {len(recommended)}\")\n",
    "\n",
    "# Iterate through the sorted recommendations and print the most recommended first\n",
    "for rec, count in most_recommended:\n",
    "    # Print which anime this recommendation came from\n",
    "    source_anime = recommendation_sources[rec]\n",
    "    sources = ', '.join(source_anime)\n",
    "    \n",
    "    # Check if the recommended anime exists in the 'anime_data' DataFrame\n",
    "    if rec in anime_data[\"title\"].values:\n",
    "        # Get the index of the recommended anime in the 'anime_data' DataFrame\n",
    "        idx = anime_data[anime_data[\"title\"] == rec].index[0]\n",
    "        # Display the details of the recommended anime using the index\n",
    "        display_anime_details(anime_data.iloc[idx][\"title\"], sources)  # Access the title for details\n",
    "    else:\n",
    "        print(f\"Recommended anime '{rec}' not found in the dataset.\")\n",
    "        "
   ]
  }
 ],
 "metadata": {
  "kernelspec": {
   "display_name": "Python 3",
   "language": "python",
   "name": "python3"
  },
  "language_info": {
   "codemirror_mode": {
    "name": "ipython",
    "version": 3
   },
   "file_extension": ".py",
   "mimetype": "text/x-python",
   "name": "python",
   "nbconvert_exporter": "python",
   "pygments_lexer": "ipython3",
   "version": "3.11.4"
  }
 },
 "nbformat": 4,
 "nbformat_minor": 2
}
